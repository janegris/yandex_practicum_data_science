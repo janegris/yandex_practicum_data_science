{
  "cells": [
    {
      "cell_type": "markdown",
      "metadata": {
        "id": "Ag-_BI2FdzYF"
      },
      "source": [
        "# Определение стоимости автомобилей"
      ]
    },
    {
      "cell_type": "markdown",
      "metadata": {
        "id": "PjBQNMKTdzYG"
      },
      "source": [
        "Сервис по продаже автомобилей с пробегом «Не бит, не крашен» разрабатывает приложение для привлечения новых клиентов. В нём можно быстро узнать рыночную стоимость своего автомобиля. В вашем распоряжении исторические данные: технические характеристики, комплектации и цены автомобилей. Вам нужно построить модель для определения стоимости. \n",
        "\n",
        "Заказчику важны:\n",
        "\n",
        "- качество предсказания;\n",
        "- скорость предсказания;\n",
        "- время обучения."
      ]
    },
    {
      "cell_type": "markdown",
      "metadata": {
        "id": "AkTldna_dzYJ"
      },
      "source": [
        "## Подготовка данных"
      ]
    },
    {
      "cell_type": "code",
      "execution_count": null,
      "metadata": {
        "id": "HlwJEGdfdzYJ"
      },
      "outputs": [],
      "source": [
        "import pandas as pd\n",
        "import numpy as np\n",
        "import seaborn as sns\n",
        "from sklearn.model_selection import train_test_split, cross_validate, GridSearchCV\n",
        "from sklearn.preprocessing import StandardScaler, OrdinalEncoder, OneHotEncoder\n",
        "from sklearn.compose import make_column_transformer\n",
        "from sklearn.linear_model import LinearRegression\n",
        "from sklearn.tree import DecisionTreeRegressor\n",
        "from sklearn.pipeline import make_pipeline, Pipeline\n",
        "from catboost import CatBoostRegressor\n",
        "import lightgbm as lgb\n",
        "from sklearn.metrics import mean_squared_error\n",
        "from sklearn.dummy import DummyRegressor"
      ]
    },
    {
      "cell_type": "code",
      "execution_count": null,
      "metadata": {
        "id": "SHRvXPTldzYN"
      },
      "outputs": [],
      "source": [
        "df = pd.read_csv('/datasets/autos.csv')\n",
        "display(df.head())\n",
        "df.info()\n",
        "df.hist(figsize=(10,15));"
      ]
    },
    {
      "cell_type": "markdown",
      "metadata": {
        "id": "ETmJSfwSdzYP"
      },
      "source": [
        "Файл содержит данные по 354369 технических характеристик и цен других автомобилей. Каждая строка данных описывается 16 признаками (7 количественных и 9 строчных).\n",
        "\n",
        "В признаках VehicleTypeб Gearbox, Model, FuelType, Repaired есть пропущенные значения. Их необходимо обработать.\n",
        "\n",
        "Также необходимо проверить данные на дублиткаты.\n",
        "\n",
        "В файле есть свойства, которые не только не важны для обучения модели, но и могут послужить причиной ошибок, если их учиывать: дата скачивания анкеты из базы, дата создания анкеты, количесвто картинок, почтовый индекс и дата последней активности пользователя. Эти столбцы нужно удалить.\n",
        "\n",
        "После удаления фамилии останутся 6 категориальных столбцов. Их необходимо закодировать с помощью OHE.\n",
        "\n",
        "Кроме того, в подготовку данных должно войти разбиение выборки на обучающую, валидационную и тестовую. А также масштабирование численных признаков."
      ]
    },
    {
      "cell_type": "code",
      "execution_count": null,
      "metadata": {
        "id": "uJUHUF-ndzYS"
      },
      "outputs": [],
      "source": [
        "#Удаление лишних столбцов \n",
        "data = df.drop(['DateCrawled','DateCreated','NumberOfPictures','PostalCode','LastSeen'], axis=1)"
      ]
    },
    {
      "cell_type": "code",
      "execution_count": null,
      "metadata": {
        "id": "0iUkD2r1dzYT"
      },
      "outputs": [],
      "source": [
        "#Подсчет пропусков в столбцах\n",
        "data.isna().sum()"
      ]
    },
    {
      "cell_type": "code",
      "execution_count": null,
      "metadata": {
        "scrolled": true,
        "id": "uQDcVtROdzYT"
      },
      "outputs": [],
      "source": [
        "#Просмотр уникальных значений в категориальных столбцах\n",
        "print('VehicleType:', data['VehicleType'].unique())\n",
        "print('Gearbox:', data['Gearbox'].unique())\n",
        "print('Model:', data['Model'].sort_values().unique())\n",
        "print('FuelType:', data['FuelType'].unique())\n",
        "print('Repaired:', data['Repaired'].unique())"
      ]
    },
    {
      "cell_type": "code",
      "execution_count": null,
      "metadata": {
        "id": "__TwLZpBdzYU"
      },
      "outputs": [],
      "source": [
        "data['Gearbox'].value_counts()"
      ]
    },
    {
      "cell_type": "markdown",
      "metadata": {
        "id": "KGl2ZJwmdzYU"
      },
      "source": [
        "В столбцах VehicleType, Model и FuelType целесообразно заполнить пропущенные значения вариантом 'other', т.к. мы сами его не можем указать в виду недостаточности обоснований. \n",
        "\n",
        "Больше всего значений в столбце Gearbox принадлежат значению \"manual\", пропуски предлагается заполнить им же. \n",
        "\n",
        "Пропуски в столбце Repaired будут заполнены значением 'no'."
      ]
    },
    {
      "cell_type": "code",
      "execution_count": null,
      "metadata": {
        "id": "SjNwTpO9dzYU"
      },
      "outputs": [],
      "source": [
        "#Заполнение пропусков выбранными раннее значениями\n",
        "data['VehicleType'] = data['VehicleType'].fillna('other')\n",
        "data['Model'] = data['Model'].fillna('other')\n",
        "data['FuelType'] = data['FuelType'].fillna('other')\n",
        "data['Gearbox'] = data['Gearbox'].fillna('manual')\n",
        "data['Repaired'] = data['Repaired'].fillna('no')\n",
        "data.isna().sum()"
      ]
    },
    {
      "cell_type": "markdown",
      "metadata": {
        "id": "esQI4w8vdzYV"
      },
      "source": [
        "При просмотре диаграмм с численными методами, можно обнаружить аномалии, которые необходимо обработать."
      ]
    },
    {
      "cell_type": "code",
      "execution_count": null,
      "metadata": {
        "id": "GHlC493jdzYW"
      },
      "outputs": [],
      "source": [
        "data['RegistrationYear'].hist(bins=100, figsize=(12,9))\n",
        "data['RegistrationYear'].describe()"
      ]
    },
    {
      "cell_type": "markdown",
      "metadata": {
        "id": "4g0yPBy5dzYW"
      },
      "source": [
        "В годе регистрации наблюдаются выбросы. Узнаем максимальную дату скачивания анкеты автомобиля, чтобы убрать правые даты."
      ]
    },
    {
      "cell_type": "code",
      "execution_count": null,
      "metadata": {
        "id": "uzovJzExdzYW"
      },
      "outputs": [],
      "source": [
        "date = pd.to_datetime(df['DateCrawled'])\n",
        "date.max()"
      ]
    },
    {
      "cell_type": "markdown",
      "metadata": {
        "id": "UaHYJdP6dzYX"
      },
      "source": [
        "Таким образом, даты регистрации после 2016 года некорректны. Машины появились не раньше 1900 года. Это дает возможность убрать ненужные года."
      ]
    },
    {
      "cell_type": "code",
      "execution_count": null,
      "metadata": {
        "scrolled": true,
        "id": "9aaZYpMIdzYX"
      },
      "outputs": [],
      "source": [
        "data = data.query('1899 < RegistrationYear < 2017')\n",
        "data['RegistrationYear'].hist(bins=100, figsize=(12,9))\n",
        "data['RegistrationYear'].describe()"
      ]
    },
    {
      "cell_type": "markdown",
      "metadata": {
        "id": "yIWCsXw6dzYY"
      },
      "source": [
        "По левой части гистограммы видно, что разумно использовать 1960 год как левую границу, так как это старые, но возможно еще работающие машины."
      ]
    },
    {
      "cell_type": "code",
      "execution_count": null,
      "metadata": {
        "id": "TaNMaTiydzYY"
      },
      "outputs": [],
      "source": [
        "data = data.query('1959 < RegistrationYear < 2017')"
      ]
    },
    {
      "cell_type": "markdown",
      "metadata": {
        "id": "6h2qOE7RdzYZ"
      },
      "source": [
        "Рассмотрим выбросы в столбце Мощности"
      ]
    },
    {
      "cell_type": "code",
      "execution_count": null,
      "metadata": {
        "id": "XVLwmJVHdzYZ"
      },
      "outputs": [],
      "source": [
        "data['Power'].hist(bins=100, figsize=(12,9))\n",
        "data['Power'].describe()"
      ]
    },
    {
      "cell_type": "code",
      "execution_count": null,
      "metadata": {
        "id": "n2C0jyQadzYZ"
      },
      "outputs": [],
      "source": [
        "data = data.query('Power < 1001')\n",
        "data['Power'].hist(bins=100, figsize=(12,9))\n",
        "data['Power'].describe()"
      ]
    },
    {
      "cell_type": "markdown",
      "metadata": {
        "id": "CbTcgKxedzYa"
      },
      "source": [
        "Из графика видно, что многие машины имеют мощность 0. Эти строки не подлежат восстановлению и будут удалены. После изучения материалов по машиннам, становится ясно, что минимальное количество лошадинных сил необходимых машине примрно равно 20. По правому отсечению возьмеп границу в 400 л.с."
      ]
    },
    {
      "cell_type": "code",
      "execution_count": null,
      "metadata": {
        "scrolled": false,
        "id": "of-ipp0ndzYa"
      },
      "outputs": [],
      "source": [
        "data = data.query('20 < Power < 401')\n",
        "data['Power'].hist(bins=100, figsize=(12,9))\n",
        "data['Power'].describe()"
      ]
    },
    {
      "cell_type": "code",
      "execution_count": null,
      "metadata": {
        "id": "h58MyEQSdzYc"
      },
      "outputs": [],
      "source": [
        "data['Price'].value_counts()"
      ]
    },
    {
      "cell_type": "markdown",
      "metadata": {
        "id": "2Zkpurl-dzYc"
      },
      "source": [
        "В данных есть 10772 записи, где цена равна 0. Так быть не может, их необходимо убрать. "
      ]
    },
    {
      "cell_type": "code",
      "execution_count": null,
      "metadata": {
        "id": "iz-cdTq6dzYd"
      },
      "outputs": [],
      "source": [
        "data = data.query('Price > 0')\n",
        "data['Price'].hist(bins=100, figsize=(12,9))\n",
        "data['Price'].describe()"
      ]
    },
    {
      "cell_type": "markdown",
      "metadata": {
        "id": "EUoHaavOdzYe"
      },
      "source": [
        "Выделим нижнюю границу с помощью квантиля 5%."
      ]
    },
    {
      "cell_type": "code",
      "execution_count": null,
      "metadata": {
        "id": "7_NY3d0_dzYe"
      },
      "outputs": [],
      "source": [
        "data['Price'].quantile([.05])"
      ]
    },
    {
      "cell_type": "markdown",
      "metadata": {
        "id": "HWIxyXOodzYf"
      },
      "source": [
        "Стоимость 450 евро по текущему курсу примерно равно 36 000 рублей. Это минимальная цена для продажи поддержанного автомобиля. "
      ]
    },
    {
      "cell_type": "code",
      "execution_count": null,
      "metadata": {
        "id": "zmlOsT7hdzYf"
      },
      "outputs": [],
      "source": [
        "data = data.query('450 <= Price')"
      ]
    },
    {
      "cell_type": "markdown",
      "metadata": {
        "id": "Jau-WAHpdzYh"
      },
      "source": [
        "**Вывод:** была произведена подготовка данных для дальнейшего обучения моделей."
      ]
    },
    {
      "cell_type": "markdown",
      "metadata": {
        "id": "tOH2i_R5dzYi"
      },
      "source": [
        "## Обучение моделей"
      ]
    },
    {
      "cell_type": "markdown",
      "metadata": {
        "id": "s-m2m7fPdzYj"
      },
      "source": [
        "Для работы были выбраны модели LightGBM, DecisionTreeRegressor, CatBoost и LinearRegression."
      ]
    },
    {
      "cell_type": "markdown",
      "metadata": {
        "id": "TmLl_kzedzYk"
      },
      "source": [
        "### Разбиение данных на выборки"
      ]
    },
    {
      "cell_type": "code",
      "execution_count": null,
      "metadata": {
        "id": "Xlv5k-29dzYm"
      },
      "outputs": [],
      "source": [
        "features = data.drop(['Price'], axis=1)\n",
        "target = data['Price']\n",
        "\n",
        "features_train, features_test, target_train, target_test = train_test_split(features, target, test_size=0.25, random_state=12345)\n",
        "\n",
        "#Прямое кодирование\n",
        "encoder = OrdinalEncoder()\n",
        "cat_columns = features_train.select_dtypes(include='object').columns.to_list()\n",
        "#print(cat_columns)\n",
        "cat_features = features_train[cat_columns]\n",
        "cat_features = pd.DataFrame(encoder.fit_transform(cat_features),\n",
        "                                columns=cat_features.columns, \n",
        "                                index=cat_features.index)\n",
        "features_train = features_train.copy()\n",
        "for column in cat_columns:\n",
        "    features_train[column] = cat_features[column]\n",
        "\n",
        "cat_features = features_test[cat_columns]\n",
        "cat_features = pd.DataFrame(encoder.transform(cat_features),\n",
        "                                columns=cat_features.columns, \n",
        "                                index=cat_features.index)\n",
        "features_test = features_test.copy()\n",
        "for column in cat_columns:\n",
        "    features_test[column] = cat_features[column]\n",
        "\n",
        "ohe_features_train = pd.get_dummies(features_train, drop_first=True)\n",
        "ohe_features_test = pd.get_dummies(features_test, drop_first=True)\n",
        "\n",
        "print(features_train.shape)\n",
        "print(features_test.shape)\n",
        "print(ohe_features_train.shape)\n",
        "print(ohe_features_test.shape)"
      ]
    },
    {
      "cell_type": "markdown",
      "metadata": {
        "id": "imctuD-DdzYn"
      },
      "source": [
        "### Обучение моделей"
      ]
    },
    {
      "cell_type": "markdown",
      "metadata": {
        "id": "99AqEpH5dzYo"
      },
      "source": [
        "#### Линейная регрессия"
      ]
    },
    {
      "cell_type": "code",
      "execution_count": null,
      "metadata": {
        "id": "gPJjhgppdzYo"
      },
      "outputs": [],
      "source": [
        "%%time\n",
        "\n",
        "slr = LinearRegression()\n",
        "pipeline = make_pipeline(StandardScaler(), slr)\n",
        "cv_results = cross_validate(pipeline, ohe_features_train, target_train, cv=5, \n",
        "                         scoring='neg_root_mean_squared_error')"
      ]
    },
    {
      "cell_type": "code",
      "execution_count": null,
      "metadata": {
        "id": "_k0-H9s5dzYo"
      },
      "outputs": [],
      "source": [
        "final_score_slr = cv_results['test_score'].mean()\n",
        "print('Final score:  {:.3f}'.format(final_score_slr))\n",
        "fit_time_slr = cv_results['fit_time'].mean()\n",
        "score_time_slr = cv_results['score_time'].mean()\n",
        "print('время обучения',cv_results['fit_time'].mean())\n",
        "print('время предсказания',cv_results['score_time'].mean())\n"
      ]
    },
    {
      "cell_type": "markdown",
      "metadata": {
        "id": "02fKIMWrdzYp"
      },
      "source": [
        "#### Дерево решений"
      ]
    },
    {
      "cell_type": "code",
      "execution_count": null,
      "metadata": {
        "id": "h_h2uoWedzYp"
      },
      "outputs": [],
      "source": [
        "%%time\n",
        "\n",
        "#Дерево решений\n",
        "dtr = DecisionTreeRegressor(random_state=12345)\n",
        "parametrs = { 'min_samples_leaf': [1, 2, 3],\n",
        "              'max_depth': [1,3,5]}\n",
        "grid_dtr = GridSearchCV(dtr, parametrs, cv=5, scoring='neg_root_mean_squared_error', n_jobs=2)\n",
        "grid_dtr.fit(features_train, target_train)"
      ]
    },
    {
      "cell_type": "code",
      "execution_count": null,
      "metadata": {
        "id": "1Ds07X46dzYp"
      },
      "outputs": [],
      "source": [
        "print(grid_dtr.best_params_)\n",
        "final_score_dtr = grid_dtr.best_score_\n",
        "print(grid_dtr.best_score_)\n",
        "fit_time_dtr = grid_dtr.cv_results_['mean_fit_time'].mean()\n",
        "print('Сренее время обучения:',grid_dtr.cv_results_['mean_fit_time'].mean())\n",
        "score_time_dtr = grid_dtr.cv_results_['mean_score_time'].mean()\n",
        "print('Сренее время предсказания:',grid_dtr.cv_results_['mean_score_time'].mean())"
      ]
    },
    {
      "cell_type": "markdown",
      "metadata": {
        "id": "SyeIRyLGdzYq"
      },
      "source": [
        "#### CatBoost"
      ]
    },
    {
      "cell_type": "code",
      "execution_count": null,
      "metadata": {
        "scrolled": true,
        "id": "0LQS1s-zdzYq"
      },
      "outputs": [],
      "source": [
        "%%time\n",
        "\n",
        "\n",
        "cbr = CatBoostRegressor(random_state=12345)\n",
        "parametrs = { 'learning_rate':[0.1, 0.5, 0.8],\n",
        "              'depth': [1,3,5]}\n",
        "grid_cbr = GridSearchCV(cbr,parametrs, cv=5, scoring='neg_root_mean_squared_error', n_jobs=2)\n",
        "grid_cbr.fit(features_train, target_train)"
      ]
    },
    {
      "cell_type": "code",
      "execution_count": null,
      "metadata": {
        "id": "ZvO1vR8RdzYu"
      },
      "outputs": [],
      "source": [
        "print(grid_cbr.best_params_)\n",
        "final_score_cbr = grid_cbr.best_score_\n",
        "print(grid_cbr.best_score_)\n",
        "fit_time_cbr = grid_cbr.cv_results_['mean_fit_time'].mean()\n",
        "print('Сренее время обучения:',grid_cbr.cv_results_['mean_fit_time'].mean())\n",
        "score_time_cbr = grid_cbr.cv_results_['mean_score_time'].mean()\n",
        "print('Сренее время предсказания:',grid_cbr.cv_results_['mean_score_time'].mean())"
      ]
    },
    {
      "cell_type": "markdown",
      "metadata": {
        "id": "mz6YhQJqdzYv"
      },
      "source": [
        "#### LightGBM"
      ]
    },
    {
      "cell_type": "code",
      "execution_count": null,
      "metadata": {
        "scrolled": false,
        "id": "hJDMr1isdzYw"
      },
      "outputs": [],
      "source": [
        "%%time\n",
        "\n",
        "lgbm = lgb.LGBMRegressor(objective ='regression',metric = 'mae',random_state = 12345)\n",
        "parametrs = {\n",
        "    'num_leaves':[26,36] ,  \n",
        "    'n_estimators':[500,1000]} \n",
        "\n",
        "grid_lgbm = GridSearchCV(lgbm,parametrs, cv=5, scoring='neg_root_mean_squared_error', n_jobs=2)\n",
        "grid_lgbm.fit(features_train, target_train)"
      ]
    },
    {
      "cell_type": "code",
      "execution_count": null,
      "metadata": {
        "id": "pszkUo0YdzYw"
      },
      "outputs": [],
      "source": [
        "print(grid_lgbm.best_params_)\n",
        "final_score_lgbm = grid_lgbm.best_score_\n",
        "print(grid_lgbm.best_score_)\n",
        "fit_time_lgbm = grid_lgbm.cv_results_['mean_fit_time'].mean()\n",
        "print('Сренее время обучения:',grid_lgbm.cv_results_['mean_fit_time'].mean())\n",
        "score_time_lgbm = grid_lgbm.cv_results_['mean_score_time'].mean()\n",
        "print('Сренее время предсказания:',grid_lgbm.cv_results_['mean_score_time'].mean())"
      ]
    },
    {
      "cell_type": "markdown",
      "metadata": {
        "id": "Ndxp9TffdzYz"
      },
      "source": [
        "### Анализ моделей"
      ]
    },
    {
      "cell_type": "code",
      "execution_count": null,
      "metadata": {
        "id": "XYjUu9pmdzYz"
      },
      "outputs": [],
      "source": [
        "index = ['LinearRegression',\n",
        "         'DecisionTreeRegressor',\n",
        "         'CatBoostRegressor',\n",
        "         'LGBMRegressor']\n",
        "data = {'RMSE на обучающей выборке, евро':['{:4.0f}'.format(final_score_slr * -1),\n",
        "                            '{:4.0f}'.format(final_score_dtr * -1),\n",
        "                            '{:4.0f}'.format(final_score_cbr * -1),\n",
        "                            '{:4.0f}'.format(final_score_lgbm * -1)],\n",
        "        'Время обучения модели, сек':[fit_time_slr,\n",
        "                                          fit_time_dtr,\n",
        "                                          fit_time_cbr,\n",
        "                                          fit_time_lgbm],\n",
        "        'Время предсказания модели, сек':[score_time_slr,\n",
        "                                      score_time_dtr,\n",
        "                                      score_time_cbr,\n",
        "                                      score_time_lgbm],\n",
        "        }\n",
        "\n",
        "scores_data = pd.DataFrame(data=data, index=index)\n",
        "scores_data"
      ]
    },
    {
      "cell_type": "markdown",
      "metadata": {
        "id": "qJtOYOPkdzY0"
      },
      "source": [
        "Из таблицы видно, что Линейная регрессия не достигла необходимого минимума в метрике. У CatBoost хорошая метрика, но самое большое время обучения. Из оставшихся двух выберем LGBM, т.к. у нее лучше метрика, и не очень большое время обучения и предсказания."
      ]
    },
    {
      "cell_type": "markdown",
      "metadata": {
        "id": "lH2sRl1HdzY0"
      },
      "source": [
        "**Вывод:** были подобраны лучшие параметры для моделей LightGBM, DesicinTreeRegressor, CatBoost и LinearRegression, они были обучены на лучших параметрах, также с помощью них были получены предсказания; было измерено время их обучения и предсказания; получены метрики в каждом случае."
      ]
    },
    {
      "cell_type": "markdown",
      "metadata": {
        "id": "hvPrdvjRdzY1"
      },
      "source": [
        "## Тестирование лучшей модели"
      ]
    },
    {
      "cell_type": "code",
      "execution_count": null,
      "metadata": {
        "id": "bBr9RCaCdzY2"
      },
      "outputs": [],
      "source": [
        "best_model = lgb.LGBMRegressor(objective ='regression',metric = 'mae',random_state = 12345, n_estimators=1000, num_leaves=36)\n",
        "best_model.fit(features_train, target_train)\n",
        "predictions = best_model.predict(features_test)\n",
        "print('RMSE для тестовой выборке',mean_squared_error(target_test, predictions)**0.5)"
      ]
    },
    {
      "cell_type": "code",
      "execution_count": null,
      "metadata": {
        "id": "JepUuvMSdzY2"
      },
      "outputs": [],
      "source": [
        "model_dummy_regressor = DummyRegressor()\n",
        "model_dummy_regressor.fit(features_train, target_train)\n",
        "predictions_test_dummy = model_dummy_regressor.predict(features_test)\n",
        "print(\"Тестовая выборка для сырья:\", mean_squared_error(target_test, predictions_test_dummy)**0.5)"
      ]
    },
    {
      "cell_type": "markdown",
      "metadata": {
        "id": "WAAwN8CFdzY3"
      },
      "source": [
        "**Вывод:** Лучшая модель CatBoost была проестирована на тестовой выборке.\n",
        "\n",
        "Модель проверена на адекватность. Модель показала меньшие показатели RMSE, чем простейшая."
      ]
    },
    {
      "cell_type": "markdown",
      "metadata": {
        "id": "8Ko3-TCLdzY3"
      },
      "source": [
        "## Вывод\n",
        "\n",
        "Данная работа выполнялась для сервиса по продаже автомобилей с пробегом «Не бит, не крашен». разрабатывает приложение для привлечения новых клиентов. В нём можно быстро узнать рыночную стоимость своего автомобиля. Было необходимо построить модель для определения стоимости, учитывая качество предсказания, скорость предсказания и время обучения.\n",
        "\n",
        "Файл содержит данные по 354369 историческим данным: технические характеристики, комплектации и цены автомобилей. Каждая строка данных описывается 16 признаками (7 количественных и 9 строчных). \n",
        "\n",
        "В признаках VehicleType, Gearbox, Model, FuelType, Repaired были пропущенные значения. Они были обработаны. В столбцах VehicleType, Model и FuelType пропущенные значения были заполнены вариантом 'other'. Больше всего значений в столбце Gearbox содержат значение \"manual\", пропуски заполнили им же. Пропуски в столбце Repaired заполнены значением 'no'.\n",
        "\n",
        "В файле содержались свойства, которые не только не важны для обучения модели, но и могли послужить причиной ошибок, если их учиывать: дата скачивания анкеты из базы, дата создания анкеты, количесвто картинок, почтовый индекс и дата последней активности пользователя. Эти столбцы были удалены.\n",
        "\n",
        "При просмотре диаграмм с численными методами, были обнаружены аномалии в столбцах год регистрации и мощность, которые были обработаны. \n",
        "\n",
        "После удаления остались 6 категориальных столбцов. Они были закодированы с помощью OHE для линейной модели. Для остальных моделей было использовно порядковое кодирование.\n",
        "\n",
        "Данные были разбиты на обучающую и тестовую выборки.\n",
        "\n",
        "\n",
        "Были подобраны лучшие параметры для моделей LightGBM, DesicinTreeRegressor, CatBoost и LinearRegression, они были обучены на лучших параметрах, также с помощью них были получены предсказания; было измерено время их обучения и предсказания; получены метрики в каждом случае.\n",
        "\n",
        "Из таблицы выше видно, что Линейная регрессия не достигла необходимого минимума в метрике. У CatBoost хорошая метрика, но самое большое время обучения. Из оставшихся двух была выбрана LGBM, т.к. у нее лучше метрика, и не очень большое время обучения и предсказания."
      ]
    },
    {
      "cell_type": "code",
      "execution_count": null,
      "metadata": {
        "id": "LZ7Ld-5BdzY8"
      },
      "outputs": [],
      "source": []
    }
  ],
  "metadata": {
    "ExecuteTimeLog": [
      {
        "duration": 424,
        "start_time": "2023-02-09T03:30:36.007Z"
      },
      {
        "duration": 2910,
        "start_time": "2023-02-09T03:31:32.787Z"
      },
      {
        "duration": 2297,
        "start_time": "2023-02-09T03:32:37.508Z"
      },
      {
        "duration": 75,
        "start_time": "2023-02-09T03:43:02.682Z"
      },
      {
        "duration": 131,
        "start_time": "2023-02-09T03:45:08.170Z"
      },
      {
        "duration": 21,
        "start_time": "2023-02-09T03:46:20.206Z"
      },
      {
        "duration": 154,
        "start_time": "2023-02-09T03:48:17.565Z"
      },
      {
        "duration": 478,
        "start_time": "2023-02-09T03:49:01.075Z"
      },
      {
        "duration": 99,
        "start_time": "2023-02-09T03:58:24.700Z"
      },
      {
        "duration": 33,
        "start_time": "2023-02-09T03:58:31.134Z"
      },
      {
        "duration": 33,
        "start_time": "2023-02-09T03:59:10.383Z"
      },
      {
        "duration": 160,
        "start_time": "2023-02-09T04:05:28.825Z"
      },
      {
        "duration": 712,
        "start_time": "2023-02-09T04:07:59.982Z"
      },
      {
        "duration": 524,
        "start_time": "2023-02-09T04:12:27.102Z"
      },
      {
        "duration": 893,
        "start_time": "2023-02-09T04:13:01.454Z"
      },
      {
        "duration": 430,
        "start_time": "2023-02-09T04:13:10.468Z"
      },
      {
        "duration": 886,
        "start_time": "2023-02-09T04:13:38.032Z"
      },
      {
        "duration": 556,
        "start_time": "2023-02-09T04:13:55.316Z"
      },
      {
        "duration": 248,
        "start_time": "2023-02-09T04:20:16.444Z"
      },
      {
        "duration": 205,
        "start_time": "2023-02-09T04:20:26.102Z"
      },
      {
        "duration": 141,
        "start_time": "2023-02-09T17:37:00.181Z"
      },
      {
        "duration": 12,
        "start_time": "2023-02-09T17:42:23.372Z"
      },
      {
        "duration": 302,
        "start_time": "2023-02-09T17:42:34.991Z"
      },
      {
        "duration": 10,
        "start_time": "2023-02-09T17:47:15.963Z"
      },
      {
        "duration": 338,
        "start_time": "2023-02-09T17:47:23.451Z"
      },
      {
        "duration": 49,
        "start_time": "2023-02-09T17:48:07.204Z"
      },
      {
        "duration": 138,
        "start_time": "2023-02-09T17:48:13.498Z"
      },
      {
        "duration": 1109,
        "start_time": "2023-02-09T17:51:15.294Z"
      },
      {
        "duration": 1852,
        "start_time": "2023-02-09T17:51:16.405Z"
      },
      {
        "duration": 26,
        "start_time": "2023-02-09T17:51:18.259Z"
      },
      {
        "duration": 113,
        "start_time": "2023-02-09T17:51:18.288Z"
      },
      {
        "duration": 391,
        "start_time": "2023-02-09T17:51:18.403Z"
      },
      {
        "duration": 30,
        "start_time": "2023-02-09T17:51:18.795Z"
      },
      {
        "duration": 160,
        "start_time": "2023-02-09T17:51:18.837Z"
      },
      {
        "duration": 728,
        "start_time": "2023-02-09T17:51:19.004Z"
      },
      {
        "duration": 315,
        "start_time": "2023-02-09T17:51:19.734Z"
      },
      {
        "duration": 467,
        "start_time": "2023-02-09T17:51:20.052Z"
      },
      {
        "duration": 146,
        "start_time": "2023-02-09T17:51:20.522Z"
      },
      {
        "duration": 76,
        "start_time": "2023-02-09T17:52:13.334Z"
      },
      {
        "duration": 337,
        "start_time": "2023-02-09T17:53:11.530Z"
      },
      {
        "duration": 35,
        "start_time": "2023-02-09T17:54:53.279Z"
      },
      {
        "duration": 435,
        "start_time": "2023-02-09T17:55:53.372Z"
      },
      {
        "duration": 413,
        "start_time": "2023-02-09T17:58:08.944Z"
      },
      {
        "duration": 1481,
        "start_time": "2023-02-10T02:59:06.091Z"
      },
      {
        "duration": 1850,
        "start_time": "2023-02-10T02:59:07.575Z"
      },
      {
        "duration": 25,
        "start_time": "2023-02-10T02:59:09.427Z"
      },
      {
        "duration": 66,
        "start_time": "2023-02-10T02:59:09.454Z"
      },
      {
        "duration": 316,
        "start_time": "2023-02-10T02:59:09.522Z"
      },
      {
        "duration": 26,
        "start_time": "2023-02-10T02:59:09.840Z"
      },
      {
        "duration": 142,
        "start_time": "2023-02-10T02:59:09.868Z"
      },
      {
        "duration": 664,
        "start_time": "2023-02-10T02:59:10.012Z"
      },
      {
        "duration": 272,
        "start_time": "2023-02-10T02:59:10.678Z"
      },
      {
        "duration": 58,
        "start_time": "2023-02-10T02:59:10.952Z"
      },
      {
        "duration": 297,
        "start_time": "2023-02-10T02:59:11.011Z"
      },
      {
        "duration": 37,
        "start_time": "2023-02-10T02:59:11.309Z"
      },
      {
        "duration": 280,
        "start_time": "2023-02-10T02:59:11.348Z"
      },
      {
        "duration": 286,
        "start_time": "2023-02-10T02:59:11.629Z"
      },
      {
        "duration": 110,
        "start_time": "2023-02-10T02:59:11.917Z"
      },
      {
        "duration": 0,
        "start_time": "2023-02-10T02:59:12.028Z"
      },
      {
        "duration": 0,
        "start_time": "2023-02-10T02:59:12.030Z"
      },
      {
        "duration": 0,
        "start_time": "2023-02-10T02:59:12.037Z"
      },
      {
        "duration": 278,
        "start_time": "2023-02-10T02:59:20.571Z"
      },
      {
        "duration": 70,
        "start_time": "2023-02-10T02:59:25.591Z"
      },
      {
        "duration": 10777,
        "start_time": "2023-02-10T03:04:46.660Z"
      },
      {
        "duration": 10448,
        "start_time": "2023-02-10T03:05:21.043Z"
      },
      {
        "duration": 1512,
        "start_time": "2023-02-10T03:06:47.927Z"
      },
      {
        "duration": 4312,
        "start_time": "2023-02-10T03:07:44.338Z"
      },
      {
        "duration": 4130,
        "start_time": "2023-02-10T03:08:12.435Z"
      },
      {
        "duration": 554,
        "start_time": "2023-02-10T03:12:40.140Z"
      },
      {
        "duration": 9783,
        "start_time": "2023-02-10T03:15:51.792Z"
      },
      {
        "duration": 6,
        "start_time": "2023-02-10T03:22:37.043Z"
      },
      {
        "duration": 11197,
        "start_time": "2023-02-10T03:24:46.313Z"
      },
      {
        "duration": 53,
        "start_time": "2023-02-10T03:27:51.902Z"
      },
      {
        "duration": 10948,
        "start_time": "2023-02-10T03:28:31.229Z"
      },
      {
        "duration": 574,
        "start_time": "2023-02-10T03:30:13.118Z"
      },
      {
        "duration": 11,
        "start_time": "2023-02-10T03:33:59.076Z"
      },
      {
        "duration": 18,
        "start_time": "2023-02-10T03:34:20.111Z"
      },
      {
        "duration": 642,
        "start_time": "2023-02-10T03:34:24.387Z"
      },
      {
        "duration": 1566,
        "start_time": "2023-02-11T15:21:46.303Z"
      },
      {
        "duration": 3774,
        "start_time": "2023-02-11T15:21:47.871Z"
      },
      {
        "duration": 26,
        "start_time": "2023-02-11T15:21:51.647Z"
      },
      {
        "duration": 82,
        "start_time": "2023-02-11T15:21:51.675Z"
      },
      {
        "duration": 335,
        "start_time": "2023-02-11T15:21:51.759Z"
      },
      {
        "duration": 29,
        "start_time": "2023-02-11T15:21:52.096Z"
      },
      {
        "duration": 152,
        "start_time": "2023-02-11T15:21:52.137Z"
      },
      {
        "duration": 725,
        "start_time": "2023-02-11T15:21:52.291Z"
      },
      {
        "duration": 285,
        "start_time": "2023-02-11T15:21:53.018Z"
      },
      {
        "duration": 74,
        "start_time": "2023-02-11T15:21:53.305Z"
      },
      {
        "duration": 356,
        "start_time": "2023-02-11T15:21:53.380Z"
      },
      {
        "duration": 31,
        "start_time": "2023-02-11T15:21:53.738Z"
      },
      {
        "duration": 307,
        "start_time": "2023-02-11T15:21:53.770Z"
      },
      {
        "duration": 314,
        "start_time": "2023-02-11T15:21:54.079Z"
      },
      {
        "duration": 442,
        "start_time": "2023-02-11T15:21:54.395Z"
      },
      {
        "duration": 64,
        "start_time": "2023-02-11T15:21:54.839Z"
      },
      {
        "duration": 765,
        "start_time": "2023-02-11T15:21:54.905Z"
      },
      {
        "duration": 489,
        "start_time": "2023-02-11T15:21:55.672Z"
      },
      {
        "duration": 113,
        "start_time": "2023-02-11T15:21:56.163Z"
      },
      {
        "duration": 47,
        "start_time": "2023-02-11T15:23:12.182Z"
      },
      {
        "duration": 417,
        "start_time": "2023-02-11T15:23:32.736Z"
      },
      {
        "duration": 36,
        "start_time": "2023-02-11T15:43:26.512Z"
      },
      {
        "duration": 67,
        "start_time": "2023-02-11T15:43:53.125Z"
      },
      {
        "duration": 65,
        "start_time": "2023-02-11T15:51:33.422Z"
      },
      {
        "duration": 5,
        "start_time": "2023-02-11T15:51:48.051Z"
      },
      {
        "duration": 112207,
        "start_time": "2023-02-11T15:51:53.330Z"
      },
      {
        "duration": 11787448,
        "start_time": "2023-02-11T16:36:04.195Z"
      },
      {
        "duration": 224,
        "start_time": "2023-02-11T19:52:31.646Z"
      },
      {
        "duration": 1486462,
        "start_time": "2023-02-11T20:37:13.046Z"
      },
      {
        "duration": 1758,
        "start_time": "2023-02-12T06:26:52.263Z"
      },
      {
        "duration": 2317,
        "start_time": "2023-02-12T06:26:54.023Z"
      },
      {
        "duration": 27,
        "start_time": "2023-02-12T06:26:56.342Z"
      },
      {
        "duration": 124,
        "start_time": "2023-02-12T06:26:56.374Z"
      },
      {
        "duration": 356,
        "start_time": "2023-02-12T06:26:56.500Z"
      },
      {
        "duration": 30,
        "start_time": "2023-02-12T06:26:56.858Z"
      },
      {
        "duration": 246,
        "start_time": "2023-02-12T06:26:56.890Z"
      },
      {
        "duration": 664,
        "start_time": "2023-02-12T06:26:57.138Z"
      },
      {
        "duration": 349,
        "start_time": "2023-02-12T06:26:57.804Z"
      },
      {
        "duration": 76,
        "start_time": "2023-02-12T06:26:58.156Z"
      },
      {
        "duration": 372,
        "start_time": "2023-02-12T06:26:58.234Z"
      },
      {
        "duration": 47,
        "start_time": "2023-02-12T06:26:58.608Z"
      },
      {
        "duration": 334,
        "start_time": "2023-02-12T06:26:58.657Z"
      },
      {
        "duration": 340,
        "start_time": "2023-02-12T06:26:58.994Z"
      },
      {
        "duration": 466,
        "start_time": "2023-02-12T06:26:59.335Z"
      },
      {
        "duration": 126,
        "start_time": "2023-02-12T06:26:59.804Z"
      },
      {
        "duration": 945,
        "start_time": "2023-02-12T06:26:59.932Z"
      },
      {
        "duration": 490,
        "start_time": "2023-02-12T06:27:00.879Z"
      },
      {
        "duration": 155770,
        "start_time": "2023-02-12T06:27:01.371Z"
      },
      {
        "duration": 334016,
        "start_time": "2023-02-12T06:29:37.143Z"
      },
      {
        "duration": 1420223,
        "start_time": "2023-02-12T06:57:40.537Z"
      },
      {
        "duration": 1562,
        "start_time": "2023-02-12T17:55:00.432Z"
      },
      {
        "duration": 2018,
        "start_time": "2023-02-12T17:55:05.807Z"
      },
      {
        "duration": 25,
        "start_time": "2023-02-12T17:55:10.435Z"
      },
      {
        "duration": 84,
        "start_time": "2023-02-12T17:55:11.357Z"
      },
      {
        "duration": 356,
        "start_time": "2023-02-12T17:55:13.249Z"
      },
      {
        "duration": 31,
        "start_time": "2023-02-12T17:55:15.571Z"
      },
      {
        "duration": 168,
        "start_time": "2023-02-12T17:55:17.209Z"
      },
      {
        "duration": 651,
        "start_time": "2023-02-12T17:55:18.444Z"
      },
      {
        "duration": 259,
        "start_time": "2023-02-12T17:55:23.509Z"
      },
      {
        "duration": 57,
        "start_time": "2023-02-12T17:55:25.682Z"
      },
      {
        "duration": 307,
        "start_time": "2023-02-12T17:55:26.872Z"
      },
      {
        "duration": 31,
        "start_time": "2023-02-12T17:55:29.195Z"
      },
      {
        "duration": 277,
        "start_time": "2023-02-12T17:55:31.018Z"
      },
      {
        "duration": 296,
        "start_time": "2023-02-12T17:55:33.687Z"
      },
      {
        "duration": 392,
        "start_time": "2023-02-12T17:55:36.020Z"
      },
      {
        "duration": 73,
        "start_time": "2023-02-12T17:55:39.033Z"
      },
      {
        "duration": 626,
        "start_time": "2023-02-12T17:55:41.585Z"
      },
      {
        "duration": 455,
        "start_time": "2023-02-12T17:55:52.712Z"
      },
      {
        "duration": 84683,
        "start_time": "2023-02-12T17:55:57.410Z"
      },
      {
        "duration": 2659,
        "start_time": "2023-02-12T17:57:22.100Z"
      },
      {
        "duration": 22,
        "start_time": "2023-02-12T17:57:30.213Z"
      },
      {
        "duration": 71480,
        "start_time": "2023-02-12T17:58:46.252Z"
      },
      {
        "duration": 213597,
        "start_time": "2023-02-12T18:01:32.193Z"
      },
      {
        "duration": 73,
        "start_time": "2023-02-12T18:06:50.909Z"
      },
      {
        "duration": 895511,
        "start_time": "2023-02-12T18:07:37.652Z"
      },
      {
        "duration": 1793,
        "start_time": "2023-02-13T03:06:18.116Z"
      },
      {
        "duration": 4169,
        "start_time": "2023-02-13T03:06:19.911Z"
      },
      {
        "duration": 27,
        "start_time": "2023-02-13T03:06:24.082Z"
      },
      {
        "duration": 96,
        "start_time": "2023-02-13T03:06:24.112Z"
      },
      {
        "duration": 486,
        "start_time": "2023-02-13T03:06:24.210Z"
      },
      {
        "duration": 52,
        "start_time": "2023-02-13T03:06:24.698Z"
      },
      {
        "duration": 254,
        "start_time": "2023-02-13T03:06:24.755Z"
      },
      {
        "duration": 713,
        "start_time": "2023-02-13T03:06:25.011Z"
      },
      {
        "duration": 331,
        "start_time": "2023-02-13T03:06:25.726Z"
      },
      {
        "duration": 66,
        "start_time": "2023-02-13T03:06:26.060Z"
      },
      {
        "duration": 385,
        "start_time": "2023-02-13T03:06:26.128Z"
      },
      {
        "duration": 47,
        "start_time": "2023-02-13T03:06:26.515Z"
      },
      {
        "duration": 331,
        "start_time": "2023-02-13T03:06:26.564Z"
      },
      {
        "duration": 363,
        "start_time": "2023-02-13T03:06:26.896Z"
      },
      {
        "duration": 488,
        "start_time": "2023-02-13T03:06:27.260Z"
      },
      {
        "duration": 65,
        "start_time": "2023-02-13T03:06:27.750Z"
      },
      {
        "duration": 1056,
        "start_time": "2023-02-13T03:06:27.816Z"
      },
      {
        "duration": 1001,
        "start_time": "2023-02-13T03:06:28.874Z"
      },
      {
        "duration": 229367,
        "start_time": "2023-02-13T03:06:29.878Z"
      },
      {
        "duration": 92728,
        "start_time": "2023-02-13T03:10:19.251Z"
      },
      {
        "duration": 1143811,
        "start_time": "2023-02-13T03:13:45.514Z"
      },
      {
        "duration": 136,
        "start_time": "2023-02-13T03:32:49.328Z"
      },
      {
        "duration": 2538784,
        "start_time": "2023-02-13T03:32:49.466Z"
      },
      {
        "duration": 1677,
        "start_time": "2023-02-14T16:48:22.321Z"
      },
      {
        "duration": 4196,
        "start_time": "2023-02-14T16:48:24.000Z"
      },
      {
        "duration": 33,
        "start_time": "2023-02-14T16:48:28.198Z"
      },
      {
        "duration": 99,
        "start_time": "2023-02-14T16:48:28.232Z"
      },
      {
        "duration": 405,
        "start_time": "2023-02-14T16:48:28.334Z"
      },
      {
        "duration": 34,
        "start_time": "2023-02-14T16:48:28.748Z"
      },
      {
        "duration": 187,
        "start_time": "2023-02-14T16:48:28.784Z"
      },
      {
        "duration": 719,
        "start_time": "2023-02-14T16:48:28.973Z"
      },
      {
        "duration": 291,
        "start_time": "2023-02-14T16:48:29.694Z"
      },
      {
        "duration": 71,
        "start_time": "2023-02-14T16:48:29.986Z"
      },
      {
        "duration": 354,
        "start_time": "2023-02-14T16:48:30.059Z"
      },
      {
        "duration": 40,
        "start_time": "2023-02-14T16:48:30.415Z"
      },
      {
        "duration": 310,
        "start_time": "2023-02-14T16:48:30.457Z"
      },
      {
        "duration": 435,
        "start_time": "2023-02-14T16:48:30.770Z"
      },
      {
        "duration": 332,
        "start_time": "2023-02-14T16:48:31.207Z"
      },
      {
        "duration": 83,
        "start_time": "2023-02-14T16:48:31.540Z"
      },
      {
        "duration": 619,
        "start_time": "2023-02-14T16:48:31.625Z"
      },
      {
        "duration": 472,
        "start_time": "2023-02-14T16:48:32.246Z"
      },
      {
        "duration": 112441,
        "start_time": "2023-02-14T16:48:32.720Z"
      },
      {
        "duration": 75330,
        "start_time": "2023-02-14T16:50:25.163Z"
      },
      {
        "duration": 1077733,
        "start_time": "2023-02-14T16:51:40.495Z"
      },
      {
        "duration": 1504930,
        "start_time": "2023-02-14T17:09:38.230Z"
      },
      {
        "duration": 24747,
        "start_time": "2023-02-14T18:06:12.427Z"
      },
      {
        "duration": 4,
        "start_time": "2023-02-14T18:07:39.582Z"
      },
      {
        "duration": 29679,
        "start_time": "2023-02-14T18:07:48.481Z"
      },
      {
        "duration": 24118,
        "start_time": "2023-02-14T18:09:01.940Z"
      },
      {
        "duration": 3,
        "start_time": "2023-02-14T18:09:26.060Z"
      },
      {
        "duration": 0,
        "start_time": "2023-02-14T18:09:26.064Z"
      },
      {
        "duration": 247,
        "start_time": "2023-02-14T18:11:38.809Z"
      },
      {
        "duration": 5,
        "start_time": "2023-02-14T18:11:42.932Z"
      },
      {
        "duration": 2414,
        "start_time": "2023-02-14T18:17:03.602Z"
      },
      {
        "duration": 139,
        "start_time": "2023-02-14T18:17:23.220Z"
      },
      {
        "duration": 6,
        "start_time": "2023-02-14T18:17:41.425Z"
      },
      {
        "duration": 30044,
        "start_time": "2023-02-14T18:19:40.866Z"
      },
      {
        "duration": 135,
        "start_time": "2023-02-14T18:20:10.914Z"
      },
      {
        "duration": 6,
        "start_time": "2023-02-14T18:20:11.052Z"
      },
      {
        "duration": 169,
        "start_time": "2023-02-14T18:22:03.958Z"
      },
      {
        "duration": 5,
        "start_time": "2023-02-14T18:22:06.719Z"
      },
      {
        "duration": 1639,
        "start_time": "2023-02-15T03:05:41.064Z"
      },
      {
        "duration": 3881,
        "start_time": "2023-02-15T03:05:42.705Z"
      },
      {
        "duration": 22,
        "start_time": "2023-02-15T03:05:46.587Z"
      },
      {
        "duration": 86,
        "start_time": "2023-02-15T03:05:46.612Z"
      },
      {
        "duration": 336,
        "start_time": "2023-02-15T03:05:46.700Z"
      },
      {
        "duration": 28,
        "start_time": "2023-02-15T03:05:47.038Z"
      },
      {
        "duration": 180,
        "start_time": "2023-02-15T03:05:47.068Z"
      },
      {
        "duration": 281,
        "start_time": "2023-02-15T03:05:47.250Z"
      },
      {
        "duration": 67,
        "start_time": "2023-02-15T03:05:47.533Z"
      },
      {
        "duration": 335,
        "start_time": "2023-02-15T03:05:47.602Z"
      },
      {
        "duration": 56,
        "start_time": "2023-02-15T03:05:47.939Z"
      },
      {
        "duration": 301,
        "start_time": "2023-02-15T03:05:47.997Z"
      },
      {
        "duration": 307,
        "start_time": "2023-02-15T03:05:48.300Z"
      },
      {
        "duration": 297,
        "start_time": "2023-02-15T03:05:48.609Z"
      },
      {
        "duration": 597,
        "start_time": "2023-02-15T03:05:48.908Z"
      },
      {
        "duration": 466,
        "start_time": "2023-02-15T03:05:49.507Z"
      },
      {
        "duration": 109423,
        "start_time": "2023-02-15T03:05:49.974Z"
      },
      {
        "duration": 72190,
        "start_time": "2023-02-15T03:07:39.399Z"
      },
      {
        "duration": 994723,
        "start_time": "2023-02-15T03:08:51.592Z"
      },
      {
        "duration": 3658726,
        "start_time": "2023-02-15T03:25:26.317Z"
      },
      {
        "duration": 76596,
        "start_time": "2023-02-15T04:26:25.045Z"
      },
      {
        "duration": 376,
        "start_time": "2023-02-15T04:27:41.644Z"
      },
      {
        "duration": 18,
        "start_time": "2023-02-15T04:27:42.091Z"
      },
      {
        "duration": 2718,
        "start_time": "2023-02-15T04:27:42.119Z"
      },
      {
        "duration": 143,
        "start_time": "2023-02-15T04:27:44.839Z"
      },
      {
        "duration": 11,
        "start_time": "2023-02-15T04:27:44.984Z"
      },
      {
        "duration": 32990,
        "start_time": "2023-02-15T04:27:44.997Z"
      },
      {
        "duration": 180,
        "start_time": "2023-02-15T04:28:17.990Z"
      },
      {
        "duration": 6,
        "start_time": "2023-02-15T04:28:18.172Z"
      },
      {
        "duration": 1652524,
        "start_time": "2023-02-15T04:28:18.179Z"
      },
      {
        "duration": 9110,
        "start_time": "2023-02-15T04:55:50.708Z"
      },
      {
        "duration": 5,
        "start_time": "2023-02-15T04:55:59.820Z"
      },
      {
        "duration": 54,
        "start_time": "2023-02-15T04:55:59.826Z"
      },
      {
        "duration": 0,
        "start_time": "2023-02-15T04:55:59.893Z"
      },
      {
        "duration": 1060621,
        "start_time": "2023-02-15T05:00:04.478Z"
      },
      {
        "duration": 22,
        "start_time": "2023-02-15T05:38:54.546Z"
      },
      {
        "duration": 17,
        "start_time": "2023-02-15T05:39:29.262Z"
      },
      {
        "duration": 13,
        "start_time": "2023-02-15T08:01:48.119Z"
      },
      {
        "duration": 14,
        "start_time": "2023-02-15T08:03:34.819Z"
      },
      {
        "duration": 1757,
        "start_time": "2023-02-20T15:16:05.021Z"
      },
      {
        "duration": 4255,
        "start_time": "2023-02-20T15:16:06.780Z"
      },
      {
        "duration": 23,
        "start_time": "2023-02-20T15:16:11.036Z"
      },
      {
        "duration": 100,
        "start_time": "2023-02-20T15:16:11.061Z"
      },
      {
        "duration": 431,
        "start_time": "2023-02-20T15:16:11.163Z"
      },
      {
        "duration": 43,
        "start_time": "2023-02-20T15:16:11.596Z"
      },
      {
        "duration": 215,
        "start_time": "2023-02-20T15:16:11.641Z"
      },
      {
        "duration": 321,
        "start_time": "2023-02-20T15:16:11.857Z"
      },
      {
        "duration": 68,
        "start_time": "2023-02-20T15:16:12.180Z"
      },
      {
        "duration": 431,
        "start_time": "2023-02-20T15:16:12.250Z"
      },
      {
        "duration": 38,
        "start_time": "2023-02-20T15:16:12.684Z"
      },
      {
        "duration": 339,
        "start_time": "2023-02-20T15:16:12.724Z"
      },
      {
        "duration": 339,
        "start_time": "2023-02-20T15:16:13.065Z"
      },
      {
        "duration": 338,
        "start_time": "2023-02-20T15:16:13.406Z"
      },
      {
        "duration": 10,
        "start_time": "2023-02-20T15:16:20.921Z"
      },
      {
        "duration": 584,
        "start_time": "2023-02-20T15:18:21.137Z"
      },
      {
        "duration": 345,
        "start_time": "2023-02-20T15:18:26.579Z"
      },
      {
        "duration": 10,
        "start_time": "2023-02-20T15:19:25.447Z"
      },
      {
        "duration": 12,
        "start_time": "2023-02-20T15:19:30.042Z"
      },
      {
        "duration": 12,
        "start_time": "2023-02-20T15:21:27.018Z"
      },
      {
        "duration": 13,
        "start_time": "2023-02-20T15:22:01.549Z"
      },
      {
        "duration": 1616,
        "start_time": "2023-02-23T07:42:52.974Z"
      },
      {
        "duration": 1958,
        "start_time": "2023-02-23T07:42:54.592Z"
      },
      {
        "duration": 21,
        "start_time": "2023-02-23T07:42:59.410Z"
      },
      {
        "duration": 73,
        "start_time": "2023-02-23T07:43:00.421Z"
      },
      {
        "duration": 360,
        "start_time": "2023-02-23T07:43:01.872Z"
      },
      {
        "duration": 30,
        "start_time": "2023-02-23T07:43:02.807Z"
      },
      {
        "duration": 150,
        "start_time": "2023-02-23T07:43:04.366Z"
      },
      {
        "duration": 274,
        "start_time": "2023-02-23T07:43:06.778Z"
      },
      {
        "duration": 63,
        "start_time": "2023-02-23T07:43:10.030Z"
      },
      {
        "duration": 313,
        "start_time": "2023-02-23T07:43:11.114Z"
      },
      {
        "duration": 31,
        "start_time": "2023-02-23T07:43:13.119Z"
      },
      {
        "duration": 266,
        "start_time": "2023-02-23T07:43:14.137Z"
      },
      {
        "duration": 280,
        "start_time": "2023-02-23T07:43:16.755Z"
      },
      {
        "duration": 352,
        "start_time": "2023-02-23T07:43:19.401Z"
      },
      {
        "duration": 9,
        "start_time": "2023-02-23T07:43:27.863Z"
      },
      {
        "duration": 302,
        "start_time": "2023-02-23T07:43:29.765Z"
      },
      {
        "duration": 11,
        "start_time": "2023-02-23T07:43:33.907Z"
      },
      {
        "duration": 26,
        "start_time": "2023-02-23T07:43:35.269Z"
      },
      {
        "duration": 138,
        "start_time": "2023-02-23T07:44:51.905Z"
      },
      {
        "duration": 67,
        "start_time": "2023-02-23T07:45:03.758Z"
      },
      {
        "duration": 14,
        "start_time": "2023-02-23T07:45:22.174Z"
      },
      {
        "duration": 24,
        "start_time": "2023-02-23T07:49:21.543Z"
      },
      {
        "duration": 20,
        "start_time": "2023-02-23T07:49:33.303Z"
      },
      {
        "duration": 18,
        "start_time": "2023-02-23T07:50:40.635Z"
      },
      {
        "duration": 6,
        "start_time": "2023-02-23T07:51:16.022Z"
      },
      {
        "duration": 25,
        "start_time": "2023-02-23T07:51:21.639Z"
      },
      {
        "duration": 4,
        "start_time": "2023-02-23T07:51:55.473Z"
      },
      {
        "duration": 20,
        "start_time": "2023-02-23T07:52:00.554Z"
      },
      {
        "duration": 21,
        "start_time": "2023-02-23T07:54:22.637Z"
      },
      {
        "duration": 19,
        "start_time": "2023-02-23T07:57:33.263Z"
      },
      {
        "duration": 18,
        "start_time": "2023-02-23T07:58:01.174Z"
      },
      {
        "duration": 18,
        "start_time": "2023-02-23T07:58:22.401Z"
      },
      {
        "duration": 19,
        "start_time": "2023-02-23T07:59:00.308Z"
      },
      {
        "duration": 18,
        "start_time": "2023-02-23T07:59:10.279Z"
      },
      {
        "duration": 47,
        "start_time": "2023-02-23T08:00:51.304Z"
      },
      {
        "duration": 20,
        "start_time": "2023-02-23T08:02:48.769Z"
      },
      {
        "duration": 19,
        "start_time": "2023-02-23T08:04:06.228Z"
      },
      {
        "duration": 21,
        "start_time": "2023-02-23T08:05:30.465Z"
      },
      {
        "duration": 19,
        "start_time": "2023-02-23T08:05:48.906Z"
      },
      {
        "duration": 18,
        "start_time": "2023-02-23T08:06:38.506Z"
      },
      {
        "duration": 19,
        "start_time": "2023-02-23T08:06:47.841Z"
      },
      {
        "duration": 18,
        "start_time": "2023-02-23T08:07:02.736Z"
      },
      {
        "duration": 37,
        "start_time": "2023-02-23T08:21:10.375Z"
      },
      {
        "duration": 22,
        "start_time": "2023-02-23T08:21:34.720Z"
      },
      {
        "duration": 18,
        "start_time": "2023-02-23T08:23:57.500Z"
      },
      {
        "duration": 1613,
        "start_time": "2023-02-24T07:30:03.929Z"
      },
      {
        "duration": 3829,
        "start_time": "2023-02-24T07:30:05.544Z"
      },
      {
        "duration": 26,
        "start_time": "2023-02-24T07:30:09.375Z"
      },
      {
        "duration": 69,
        "start_time": "2023-02-24T07:30:09.403Z"
      },
      {
        "duration": 345,
        "start_time": "2023-02-24T07:30:09.473Z"
      },
      {
        "duration": 29,
        "start_time": "2023-02-24T07:30:09.819Z"
      },
      {
        "duration": 167,
        "start_time": "2023-02-24T07:30:09.850Z"
      },
      {
        "duration": 309,
        "start_time": "2023-02-24T07:30:10.018Z"
      },
      {
        "duration": 65,
        "start_time": "2023-02-24T07:30:10.329Z"
      },
      {
        "duration": 333,
        "start_time": "2023-02-24T07:30:10.397Z"
      },
      {
        "duration": 36,
        "start_time": "2023-02-24T07:30:10.732Z"
      },
      {
        "duration": 322,
        "start_time": "2023-02-24T07:30:10.770Z"
      },
      {
        "duration": 361,
        "start_time": "2023-02-24T07:30:11.093Z"
      },
      {
        "duration": 345,
        "start_time": "2023-02-24T07:30:11.455Z"
      },
      {
        "duration": 10,
        "start_time": "2023-02-24T07:30:11.802Z"
      },
      {
        "duration": 473,
        "start_time": "2023-02-24T07:30:11.814Z"
      },
      {
        "duration": 11,
        "start_time": "2023-02-24T07:30:12.291Z"
      },
      {
        "duration": 22,
        "start_time": "2023-02-24T07:30:12.304Z"
      },
      {
        "duration": 2,
        "start_time": "2023-02-24T07:30:12.328Z"
      },
      {
        "duration": 83,
        "start_time": "2023-02-24T07:30:12.331Z"
      },
      {
        "duration": 130,
        "start_time": "2023-02-24T07:32:16.732Z"
      },
      {
        "duration": 1106,
        "start_time": "2023-02-24T07:34:22.565Z"
      },
      {
        "duration": 837,
        "start_time": "2023-02-24T07:35:03.501Z"
      },
      {
        "duration": 12539,
        "start_time": "2023-02-24T07:36:12.983Z"
      },
      {
        "duration": 28,
        "start_time": "2023-02-24T07:36:33.871Z"
      },
      {
        "duration": 2417,
        "start_time": "2023-02-24T07:37:17.433Z"
      },
      {
        "duration": 27,
        "start_time": "2023-02-24T07:37:27.521Z"
      },
      {
        "duration": 18,
        "start_time": "2023-02-24T07:37:41.076Z"
      },
      {
        "duration": 3929,
        "start_time": "2023-02-24T07:37:59.757Z"
      },
      {
        "duration": 2154,
        "start_time": "2023-02-24T07:38:03.688Z"
      },
      {
        "duration": 18,
        "start_time": "2023-02-24T07:38:05.845Z"
      },
      {
        "duration": 314,
        "start_time": "2023-02-24T07:38:05.865Z"
      },
      {
        "duration": 326,
        "start_time": "2023-02-24T07:38:06.181Z"
      },
      {
        "duration": 22,
        "start_time": "2023-02-24T07:38:06.509Z"
      },
      {
        "duration": 347,
        "start_time": "2023-02-24T07:38:06.532Z"
      },
      {
        "duration": 315,
        "start_time": "2023-02-24T07:38:06.881Z"
      },
      {
        "duration": 76,
        "start_time": "2023-02-24T07:38:07.199Z"
      },
      {
        "duration": 391,
        "start_time": "2023-02-24T07:38:07.291Z"
      },
      {
        "duration": 27,
        "start_time": "2023-02-24T07:38:07.684Z"
      },
      {
        "duration": 308,
        "start_time": "2023-02-24T07:38:07.713Z"
      },
      {
        "duration": 417,
        "start_time": "2023-02-24T07:38:08.023Z"
      },
      {
        "duration": 306,
        "start_time": "2023-02-24T07:38:08.442Z"
      },
      {
        "duration": 8,
        "start_time": "2023-02-24T07:38:08.750Z"
      },
      {
        "duration": 336,
        "start_time": "2023-02-24T07:38:08.760Z"
      },
      {
        "duration": 11,
        "start_time": "2023-02-24T07:38:09.099Z"
      },
      {
        "duration": 22,
        "start_time": "2023-02-24T07:38:09.112Z"
      },
      {
        "duration": 3,
        "start_time": "2023-02-24T07:38:09.136Z"
      },
      {
        "duration": 89,
        "start_time": "2023-02-24T07:38:09.141Z"
      },
      {
        "duration": 132,
        "start_time": "2023-02-24T07:38:09.233Z"
      },
      {
        "duration": 0,
        "start_time": "2023-02-24T07:38:09.367Z"
      },
      {
        "duration": 0,
        "start_time": "2023-02-24T07:38:09.368Z"
      },
      {
        "duration": 0,
        "start_time": "2023-02-24T07:38:09.370Z"
      },
      {
        "duration": 0,
        "start_time": "2023-02-24T07:38:09.371Z"
      },
      {
        "duration": 0,
        "start_time": "2023-02-24T07:38:09.373Z"
      },
      {
        "duration": 0,
        "start_time": "2023-02-24T07:38:09.392Z"
      },
      {
        "duration": 0,
        "start_time": "2023-02-24T07:38:09.394Z"
      },
      {
        "duration": 0,
        "start_time": "2023-02-24T07:38:09.396Z"
      },
      {
        "duration": 0,
        "start_time": "2023-02-24T07:38:09.397Z"
      },
      {
        "duration": 0,
        "start_time": "2023-02-24T07:38:09.399Z"
      },
      {
        "duration": 0,
        "start_time": "2023-02-24T07:38:09.401Z"
      },
      {
        "duration": 0,
        "start_time": "2023-02-24T07:38:09.402Z"
      },
      {
        "duration": 0,
        "start_time": "2023-02-24T07:38:09.404Z"
      },
      {
        "duration": 0,
        "start_time": "2023-02-24T07:38:09.405Z"
      },
      {
        "duration": 0,
        "start_time": "2023-02-24T07:38:09.407Z"
      },
      {
        "duration": 0,
        "start_time": "2023-02-24T07:38:09.408Z"
      },
      {
        "duration": 0,
        "start_time": "2023-02-24T07:38:09.410Z"
      },
      {
        "duration": 0,
        "start_time": "2023-02-24T07:38:09.411Z"
      },
      {
        "duration": 24,
        "start_time": "2023-02-24T07:38:43.760Z"
      },
      {
        "duration": 2852,
        "start_time": "2023-02-24T07:39:38.432Z"
      },
      {
        "duration": 23,
        "start_time": "2023-02-24T07:39:49.854Z"
      },
      {
        "duration": 8323,
        "start_time": "2023-02-24T07:40:25.521Z"
      },
      {
        "duration": 25,
        "start_time": "2023-02-24T07:40:40.697Z"
      },
      {
        "duration": 19,
        "start_time": "2023-02-24T07:40:46.231Z"
      },
      {
        "duration": 4,
        "start_time": "2023-02-24T07:53:46.357Z"
      },
      {
        "duration": 66,
        "start_time": "2023-02-24T08:03:52.418Z"
      },
      {
        "duration": 203,
        "start_time": "2023-02-24T08:03:54.236Z"
      },
      {
        "duration": 329,
        "start_time": "2023-02-24T08:03:56.371Z"
      },
      {
        "duration": 203,
        "start_time": "2023-02-24T08:04:13.921Z"
      },
      {
        "duration": 548,
        "start_time": "2023-02-24T08:14:20.048Z"
      },
      {
        "duration": 531,
        "start_time": "2023-02-24T08:14:29.661Z"
      },
      {
        "duration": 276,
        "start_time": "2023-02-24T08:16:40.253Z"
      },
      {
        "duration": 267,
        "start_time": "2023-02-24T08:16:48.596Z"
      },
      {
        "duration": 276,
        "start_time": "2023-02-24T08:17:20.889Z"
      },
      {
        "duration": 4,
        "start_time": "2023-02-24T08:29:36.258Z"
      },
      {
        "duration": 76159,
        "start_time": "2023-02-24T08:32:59.049Z"
      },
      {
        "duration": 94,
        "start_time": "2023-02-24T08:34:15.210Z"
      },
      {
        "duration": 0,
        "start_time": "2023-02-24T08:34:15.306Z"
      },
      {
        "duration": 0,
        "start_time": "2023-02-24T08:34:15.307Z"
      },
      {
        "duration": 0,
        "start_time": "2023-02-24T08:34:15.308Z"
      },
      {
        "duration": 0,
        "start_time": "2023-02-24T08:34:15.309Z"
      },
      {
        "duration": 0,
        "start_time": "2023-02-24T08:34:15.310Z"
      },
      {
        "duration": 0,
        "start_time": "2023-02-24T08:34:15.312Z"
      },
      {
        "duration": 4,
        "start_time": "2023-02-24T08:35:22.630Z"
      },
      {
        "duration": 4,
        "start_time": "2023-02-24T08:35:33.959Z"
      },
      {
        "duration": 9858,
        "start_time": "2023-02-24T08:35:37.665Z"
      },
      {
        "duration": 10,
        "start_time": "2023-02-24T08:35:47.525Z"
      },
      {
        "duration": 0,
        "start_time": "2023-02-24T08:35:47.537Z"
      },
      {
        "duration": 0,
        "start_time": "2023-02-24T08:35:47.538Z"
      },
      {
        "duration": 0,
        "start_time": "2023-02-24T08:35:47.539Z"
      },
      {
        "duration": 0,
        "start_time": "2023-02-24T08:35:47.540Z"
      },
      {
        "duration": 6564,
        "start_time": "2023-02-24T08:36:34.789Z"
      },
      {
        "duration": 758497,
        "start_time": "2023-02-24T08:37:07.159Z"
      },
      {
        "duration": 6,
        "start_time": "2023-02-24T08:49:45.658Z"
      },
      {
        "duration": 8,
        "start_time": "2023-02-24T08:51:50.502Z"
      },
      {
        "duration": 12,
        "start_time": "2023-02-24T08:56:06.818Z"
      },
      {
        "duration": 6,
        "start_time": "2023-02-24T08:56:33.410Z"
      },
      {
        "duration": 4,
        "start_time": "2023-02-24T08:57:26.634Z"
      },
      {
        "duration": 2870094,
        "start_time": "2023-02-24T08:57:57.332Z"
      },
      {
        "duration": 4,
        "start_time": "2023-02-24T09:45:47.429Z"
      },
      {
        "duration": 4,
        "start_time": "2023-02-24T10:29:46.762Z"
      },
      {
        "duration": 5,
        "start_time": "2023-02-24T10:30:06.346Z"
      },
      {
        "duration": 5,
        "start_time": "2023-02-24T10:30:41.586Z"
      },
      {
        "duration": 4,
        "start_time": "2023-02-24T10:31:01.459Z"
      },
      {
        "duration": 8,
        "start_time": "2023-02-24T10:31:11.405Z"
      },
      {
        "duration": 108,
        "start_time": "2023-02-24T10:31:45.225Z"
      },
      {
        "duration": 12,
        "start_time": "2023-02-24T10:32:46.339Z"
      },
      {
        "duration": 13,
        "start_time": "2023-02-24T10:32:52.217Z"
      },
      {
        "duration": 5,
        "start_time": "2023-02-24T10:33:22.540Z"
      },
      {
        "duration": 4,
        "start_time": "2023-02-24T10:33:34.778Z"
      },
      {
        "duration": 14,
        "start_time": "2023-02-24T10:33:37.918Z"
      },
      {
        "duration": 11,
        "start_time": "2023-02-24T10:33:57.875Z"
      },
      {
        "duration": 49,
        "start_time": "2023-02-24T10:36:07.590Z"
      },
      {
        "duration": 223034,
        "start_time": "2023-02-24T10:36:39.163Z"
      },
      {
        "duration": 10,
        "start_time": "2023-02-24T10:40:22.202Z"
      },
      {
        "duration": 223088,
        "start_time": "2023-02-24T10:43:54.615Z"
      },
      {
        "duration": 7,
        "start_time": "2023-02-24T10:47:37.706Z"
      },
      {
        "duration": 38,
        "start_time": "2023-02-24T10:48:52.743Z"
      },
      {
        "duration": 23511,
        "start_time": "2023-02-24T11:19:29.120Z"
      },
      {
        "duration": 23785,
        "start_time": "2023-02-24T11:24:03.753Z"
      },
      {
        "duration": 6,
        "start_time": "2023-02-24T11:24:27.540Z"
      },
      {
        "duration": 12,
        "start_time": "2023-02-24T11:24:48.611Z"
      },
      {
        "duration": 23589,
        "start_time": "2023-02-24T11:25:34.266Z"
      },
      {
        "duration": 74,
        "start_time": "2023-02-24T11:25:58.056Z"
      },
      {
        "duration": 1974,
        "start_time": "2023-02-25T08:32:05.067Z"
      },
      {
        "duration": 4126,
        "start_time": "2023-02-25T08:32:07.044Z"
      },
      {
        "duration": 28,
        "start_time": "2023-02-25T08:32:11.171Z"
      },
      {
        "duration": 96,
        "start_time": "2023-02-25T08:32:11.202Z"
      },
      {
        "duration": 370,
        "start_time": "2023-02-25T08:32:11.300Z"
      },
      {
        "duration": 34,
        "start_time": "2023-02-25T08:32:11.673Z"
      },
      {
        "duration": 162,
        "start_time": "2023-02-25T08:32:11.709Z"
      },
      {
        "duration": 292,
        "start_time": "2023-02-25T08:32:11.872Z"
      },
      {
        "duration": 64,
        "start_time": "2023-02-25T08:32:12.166Z"
      },
      {
        "duration": 334,
        "start_time": "2023-02-25T08:32:12.233Z"
      },
      {
        "duration": 49,
        "start_time": "2023-02-25T08:32:12.569Z"
      },
      {
        "duration": 320,
        "start_time": "2023-02-25T08:32:12.620Z"
      },
      {
        "duration": 420,
        "start_time": "2023-02-25T08:32:12.941Z"
      },
      {
        "duration": 302,
        "start_time": "2023-02-25T08:32:13.362Z"
      },
      {
        "duration": 9,
        "start_time": "2023-02-25T08:32:13.666Z"
      },
      {
        "duration": 452,
        "start_time": "2023-02-25T08:32:13.677Z"
      },
      {
        "duration": 11,
        "start_time": "2023-02-25T08:32:14.131Z"
      },
      {
        "duration": 49,
        "start_time": "2023-02-25T08:32:14.143Z"
      },
      {
        "duration": 940,
        "start_time": "2023-02-25T08:32:14.193Z"
      },
      {
        "duration": 676,
        "start_time": "2023-02-25T08:32:15.134Z"
      },
      {
        "duration": 42351,
        "start_time": "2023-02-25T08:32:15.812Z"
      },
      {
        "duration": 16,
        "start_time": "2023-02-25T08:32:58.164Z"
      },
      {
        "duration": 0,
        "start_time": "2023-02-25T08:32:58.182Z"
      },
      {
        "duration": 0,
        "start_time": "2023-02-25T08:32:58.183Z"
      },
      {
        "duration": 0,
        "start_time": "2023-02-25T08:32:58.184Z"
      },
      {
        "duration": 0,
        "start_time": "2023-02-25T08:32:58.185Z"
      },
      {
        "duration": 0,
        "start_time": "2023-02-25T08:32:58.187Z"
      },
      {
        "duration": 0,
        "start_time": "2023-02-25T08:32:58.187Z"
      },
      {
        "duration": 0,
        "start_time": "2023-02-25T08:32:58.189Z"
      },
      {
        "duration": 0,
        "start_time": "2023-02-25T08:32:58.190Z"
      },
      {
        "duration": 0,
        "start_time": "2023-02-25T08:32:58.191Z"
      },
      {
        "duration": 12,
        "start_time": "2023-02-25T08:33:18.360Z"
      },
      {
        "duration": 1539,
        "start_time": "2023-02-25T10:57:51.113Z"
      },
      {
        "duration": 4033,
        "start_time": "2023-02-25T10:57:52.654Z"
      },
      {
        "duration": 25,
        "start_time": "2023-02-25T10:57:56.691Z"
      },
      {
        "duration": 81,
        "start_time": "2023-02-25T10:57:56.718Z"
      },
      {
        "duration": 330,
        "start_time": "2023-02-25T10:57:56.801Z"
      },
      {
        "duration": 29,
        "start_time": "2023-02-25T10:57:57.368Z"
      },
      {
        "duration": 146,
        "start_time": "2023-02-25T10:57:58.768Z"
      },
      {
        "duration": 290,
        "start_time": "2023-02-25T10:58:00.904Z"
      },
      {
        "duration": 72,
        "start_time": "2023-02-25T10:58:02.527Z"
      },
      {
        "duration": 334,
        "start_time": "2023-02-25T10:58:03.830Z"
      },
      {
        "duration": 31,
        "start_time": "2023-02-25T10:58:05.467Z"
      },
      {
        "duration": 279,
        "start_time": "2023-02-25T10:58:07.567Z"
      },
      {
        "duration": 296,
        "start_time": "2023-02-25T10:58:08.208Z"
      },
      {
        "duration": 296,
        "start_time": "2023-02-25T10:58:13.820Z"
      },
      {
        "duration": 8,
        "start_time": "2023-02-25T10:58:19.542Z"
      },
      {
        "duration": 435,
        "start_time": "2023-02-25T10:58:23.365Z"
      },
      {
        "duration": 12,
        "start_time": "2023-02-25T10:58:37.018Z"
      },
      {
        "duration": 23,
        "start_time": "2023-02-25T10:59:54.872Z"
      },
      {
        "duration": 24,
        "start_time": "2023-02-25T11:01:03.237Z"
      },
      {
        "duration": 10,
        "start_time": "2023-02-25T11:01:10.567Z"
      },
      {
        "duration": 4,
        "start_time": "2023-02-25T11:01:34.119Z"
      },
      {
        "duration": 1769,
        "start_time": "2023-02-25T11:01:34.127Z"
      },
      {
        "duration": 19,
        "start_time": "2023-02-25T11:01:35.898Z"
      },
      {
        "duration": 83,
        "start_time": "2023-02-25T11:01:35.919Z"
      },
      {
        "duration": 399,
        "start_time": "2023-02-25T11:01:36.004Z"
      },
      {
        "duration": 31,
        "start_time": "2023-02-25T11:01:36.404Z"
      },
      {
        "duration": 158,
        "start_time": "2023-02-25T11:01:36.437Z"
      },
      {
        "duration": 296,
        "start_time": "2023-02-25T11:01:36.597Z"
      },
      {
        "duration": 60,
        "start_time": "2023-02-25T11:01:36.895Z"
      },
      {
        "duration": 361,
        "start_time": "2023-02-25T11:01:36.957Z"
      },
      {
        "duration": 27,
        "start_time": "2023-02-25T11:01:37.321Z"
      },
      {
        "duration": 412,
        "start_time": "2023-02-25T11:01:37.350Z"
      },
      {
        "duration": 309,
        "start_time": "2023-02-25T11:01:37.764Z"
      },
      {
        "duration": 308,
        "start_time": "2023-02-25T11:01:38.074Z"
      },
      {
        "duration": 13,
        "start_time": "2023-02-25T11:01:38.384Z"
      },
      {
        "duration": 318,
        "start_time": "2023-02-25T11:01:38.399Z"
      },
      {
        "duration": 10,
        "start_time": "2023-02-25T11:01:38.718Z"
      },
      {
        "duration": 24,
        "start_time": "2023-02-25T11:01:45.367Z"
      },
      {
        "duration": 129,
        "start_time": "2023-02-25T11:15:23.772Z"
      },
      {
        "duration": 307,
        "start_time": "2023-02-25T11:15:38.572Z"
      },
      {
        "duration": 323,
        "start_time": "2023-02-25T11:16:08.070Z"
      },
      {
        "duration": 476,
        "start_time": "2023-02-25T11:17:26.596Z"
      },
      {
        "duration": 452,
        "start_time": "2023-02-25T11:17:43.573Z"
      },
      {
        "duration": 538,
        "start_time": "2023-02-25T11:18:55.710Z"
      },
      {
        "duration": 581,
        "start_time": "2023-02-25T11:24:29.350Z"
      },
      {
        "duration": 533,
        "start_time": "2023-02-25T11:24:57.621Z"
      },
      {
        "duration": 557,
        "start_time": "2023-02-25T11:27:26.458Z"
      },
      {
        "duration": 1080,
        "start_time": "2023-02-25T11:27:38.727Z"
      },
      {
        "duration": 4,
        "start_time": "2023-02-25T11:27:42.119Z"
      },
      {
        "duration": 5,
        "start_time": "2023-02-25T11:30:42.507Z"
      },
      {
        "duration": 6,
        "start_time": "2023-02-25T11:31:05.409Z"
      },
      {
        "duration": 1078,
        "start_time": "2023-02-25T11:31:51.518Z"
      },
      {
        "duration": 5,
        "start_time": "2023-02-25T11:31:57.006Z"
      },
      {
        "duration": 57,
        "start_time": "2023-02-25T11:34:26.312Z"
      },
      {
        "duration": 12056,
        "start_time": "2023-02-25T11:34:35.381Z"
      },
      {
        "duration": 5,
        "start_time": "2023-02-25T11:34:47.440Z"
      },
      {
        "duration": 62,
        "start_time": "2023-02-25T11:35:39.530Z"
      },
      {
        "duration": 974054,
        "start_time": "2023-02-25T11:35:43.368Z"
      },
      {
        "duration": 5,
        "start_time": "2023-02-25T11:51:57.425Z"
      },
      {
        "duration": 4354095,
        "start_time": "2023-02-25T11:51:57.433Z"
      },
      {
        "duration": 67,
        "start_time": "2023-02-25T13:04:31.530Z"
      },
      {
        "duration": 23,
        "start_time": "2023-02-25T13:04:31.599Z"
      },
      {
        "duration": 11,
        "start_time": "2023-02-25T13:11:08.980Z"
      },
      {
        "duration": 12,
        "start_time": "2023-02-25T13:11:28.463Z"
      },
      {
        "duration": 2055772,
        "start_time": "2023-02-25T13:13:54.634Z"
      },
      {
        "duration": 6,
        "start_time": "2023-02-25T13:48:10.408Z"
      }
    ],
    "kernelspec": {
      "display_name": "Python 3 (ipykernel)",
      "language": "python",
      "name": "python3"
    },
    "language_info": {
      "codemirror_mode": {
        "name": "ipython",
        "version": 3
      },
      "file_extension": ".py",
      "mimetype": "text/x-python",
      "name": "python",
      "nbconvert_exporter": "python",
      "pygments_lexer": "ipython3",
      "version": "3.9.5"
    },
    "toc": {
      "base_numbering": 1,
      "nav_menu": {
        "height": "109px",
        "width": "174px"
      },
      "number_sections": true,
      "sideBar": true,
      "skip_h1_title": true,
      "title_cell": "Table of Contents",
      "title_sidebar": "Contents",
      "toc_cell": false,
      "toc_position": {
        "height": "calc(100% - 180px)",
        "left": "10px",
        "top": "150px",
        "width": "242.653px"
      },
      "toc_section_display": true,
      "toc_window_display": true
    },
    "colab": {
      "provenance": []
    }
  },
  "nbformat": 4,
  "nbformat_minor": 0
}