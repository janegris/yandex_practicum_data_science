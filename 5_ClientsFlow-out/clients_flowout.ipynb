{
  "cells": [
    {
      "cell_type": "markdown",
      "metadata": {
        "toc": true,
        "id": "bukSOJUPYR76"
      },
      "source": [
        "<h1>Содержание<span class=\"tocSkip\"></span></h1>\n",
        "<div class=\"toc\"><ul class=\"toc-item\"><li><span><a href=\"#Подготовка-данных\" data-toc-modified-id=\"Подготовка-данных-1\"><span class=\"toc-item-num\">1&nbsp;&nbsp;</span>Подготовка данных</a></span><ul class=\"toc-item\"><li><span><a href=\"#Удаление-пропусков-и-обработка-дубликатов\" data-toc-modified-id=\"Удаление-пропусков-и-обработка-дубликатов-1.1\"><span class=\"toc-item-num\">1.1&nbsp;&nbsp;</span>Удаление пропусков и обработка дубликатов</a></span></li><li><span><a href=\"#Обработка-признаков\" data-toc-modified-id=\"Обработка-признаков-1.2\"><span class=\"toc-item-num\">1.2&nbsp;&nbsp;</span>Обработка признаков</a></span></li><li><span><a href=\"#Разбиение-данных-на-выборки-и-масштабирование\" data-toc-modified-id=\"Разбиение-данных-на-выборки-и-масштабирование-1.3\"><span class=\"toc-item-num\">1.3&nbsp;&nbsp;</span>Разбиение данных на выборки и масштабирование</a></span></li></ul></li><li><span><a href=\"#Исследование-задачи\" data-toc-modified-id=\"Исследование-задачи-2\"><span class=\"toc-item-num\">2&nbsp;&nbsp;</span>Исследование задачи</a></span><ul class=\"toc-item\"><li><span><a href=\"#Модель-&quot;случайный-лес&quot;\" data-toc-modified-id=\"Модель-&quot;случайный-лес&quot;-2.1\"><span class=\"toc-item-num\">2.1&nbsp;&nbsp;</span>Модель \"случайный лес\"</a></span></li><li><span><a href=\"#Модель-&quot;логистическая-регрессия&quot;\" data-toc-modified-id=\"Модель-&quot;логистическая-регрессия&quot;-2.2\"><span class=\"toc-item-num\">2.2&nbsp;&nbsp;</span>Модель \"логистическая регрессия\"</a></span></li><li><span><a href=\"#Модель-&quot;дерево-решений&quot;\" data-toc-modified-id=\"Модель-&quot;дерево-решений&quot;-2.3\"><span class=\"toc-item-num\">2.3&nbsp;&nbsp;</span>Модель \"дерево решений\"</a></span></li><li><span><a href=\"#Метрики-лучшей-модели\" data-toc-modified-id=\"Метрики-лучшей-модели-2.4\"><span class=\"toc-item-num\">2.4&nbsp;&nbsp;</span>Метрики лучшей модели</a></span></li></ul></li><li><span><a href=\"#Борьба-с-дисбалансом\" data-toc-modified-id=\"Борьба-с-дисбалансом-3\"><span class=\"toc-item-num\">3&nbsp;&nbsp;</span>Борьба с дисбалансом</a></span><ul class=\"toc-item\"><li><span><a href=\"#Увеличение-выборки\" data-toc-modified-id=\"Увеличение-выборки-3.1\"><span class=\"toc-item-num\">3.1&nbsp;&nbsp;</span>Увеличение выборки</a></span><ul class=\"toc-item\"><li><span><a href=\"#Случайный-лес\" data-toc-modified-id=\"Случайный-лес-3.1.1\"><span class=\"toc-item-num\">3.1.1&nbsp;&nbsp;</span>Случайный лес</a></span></li><li><span><a href=\"#Логистическая-регрессия\" data-toc-modified-id=\"Логистическая-регрессия-3.1.2\"><span class=\"toc-item-num\">3.1.2&nbsp;&nbsp;</span>Логистическая регрессия</a></span></li><li><span><a href=\"#Дерево-решений\" data-toc-modified-id=\"Дерево-решений-3.1.3\"><span class=\"toc-item-num\">3.1.3&nbsp;&nbsp;</span>Дерево решений</a></span></li><li><span><a href=\"#Метрики-лучшей-модели\" data-toc-modified-id=\"Метрики-лучшей-модели-3.1.4\"><span class=\"toc-item-num\">3.1.4&nbsp;&nbsp;</span>Метрики лучшей модели</a></span></li></ul></li><li><span><a href=\"#Взвешивание-классов\" data-toc-modified-id=\"Взвешивание-классов-3.2\"><span class=\"toc-item-num\">3.2&nbsp;&nbsp;</span>Взвешивание классов</a></span><ul class=\"toc-item\"><li><span><a href=\"#Случайный-лес\" data-toc-modified-id=\"Случайный-лес-3.2.1\"><span class=\"toc-item-num\">3.2.1&nbsp;&nbsp;</span>Случайный лес</a></span></li><li><span><a href=\"#Дерево-решений\" data-toc-modified-id=\"Дерево-решений-3.2.2\"><span class=\"toc-item-num\">3.2.2&nbsp;&nbsp;</span>Дерево решений</a></span></li><li><span><a href=\"#Логистическая-регрессия\" data-toc-modified-id=\"Логистическая-регрессия-3.2.3\"><span class=\"toc-item-num\">3.2.3&nbsp;&nbsp;</span>Логистическая регрессия</a></span></li><li><span><a href=\"#Метрики-лучшей-модели\" data-toc-modified-id=\"Метрики-лучшей-модели-3.2.4\"><span class=\"toc-item-num\">3.2.4&nbsp;&nbsp;</span>Метрики лучшей модели</a></span></li></ul></li></ul></li><li><span><a href=\"#Тестирование-модели\" data-toc-modified-id=\"Тестирование-модели-4\"><span class=\"toc-item-num\">4&nbsp;&nbsp;</span>Тестирование модели</a></span></li></ul></div>"
      ]
    },
    {
      "cell_type": "markdown",
      "metadata": {
        "id": "bTxhGSUfYR8E"
      },
      "source": [
        "# Отток клиентов"
      ]
    },
    {
      "cell_type": "markdown",
      "metadata": {
        "id": "uPfKszwoYR8F"
      },
      "source": [
        "Из «Бета-Банка» стали уходить клиенты. Каждый месяц. Немного, но заметно. Банковские маркетологи посчитали: сохранять текущих клиентов дешевле, чем привлекать новых.\n",
        "\n",
        "Нужно спрогнозировать, уйдёт клиент из банка в ближайшее время или нет. Вам предоставлены исторические данные о поведении клиентов и расторжении договоров с банком. \n",
        "\n",
        "Постройте модель с предельно большим значением *F1*-меры. Чтобы сдать проект успешно, нужно довести метрику до 0.59. Проверьте *F1*-меру на тестовой выборке самостоятельно.\n",
        "\n",
        "Дополнительно измеряйте *AUC-ROC*, сравнивайте её значение с *F1*-мерой.\n",
        "\n",
        "Источник данных: [https://www.kaggle.com/barelydedicated/bank-customer-churn-modeling](https://www.kaggle.com/barelydedicated/bank-customer-churn-modeling)"
      ]
    },
    {
      "cell_type": "markdown",
      "metadata": {
        "id": "HAXqoXrAYR8G"
      },
      "source": [
        "## Подготовка данных"
      ]
    },
    {
      "cell_type": "code",
      "execution_count": null,
      "metadata": {
        "id": "zCU1qToAYR8H"
      },
      "outputs": [],
      "source": [
        "import pandas as pd\n",
        "from sklearn.model_selection import train_test_split\n",
        "from sklearn.preprocessing import StandardScaler\n",
        "from sklearn.ensemble import RandomForestClassifier\n",
        "from sklearn.linear_model import LogisticRegression\n",
        "from sklearn.tree import DecisionTreeClassifier\n",
        "from sklearn.metrics import recall_score,precision_score, f1_score, roc_curve, roc_auc_score\n",
        "from sklearn.utils import shuffle"
      ]
    },
    {
      "cell_type": "code",
      "execution_count": null,
      "metadata": {
        "id": "EUdZ-n7FYR8K",
        "outputId": "a42fddd6-eeb6-47d7-ac91-b9f12d4e1a59"
      },
      "outputs": [
        {
          "name": "stdout",
          "output_type": "stream",
          "text": [
            "<class 'pandas.core.frame.DataFrame'>\n",
            "RangeIndex: 10000 entries, 0 to 9999\n",
            "Data columns (total 14 columns):\n",
            " #   Column           Non-Null Count  Dtype  \n",
            "---  ------           --------------  -----  \n",
            " 0   RowNumber        10000 non-null  int64  \n",
            " 1   CustomerId       10000 non-null  int64  \n",
            " 2   Surname          10000 non-null  object \n",
            " 3   CreditScore      10000 non-null  int64  \n",
            " 4   Geography        10000 non-null  object \n",
            " 5   Gender           10000 non-null  object \n",
            " 6   Age              10000 non-null  int64  \n",
            " 7   Tenure           9091 non-null   float64\n",
            " 8   Balance          10000 non-null  float64\n",
            " 9   NumOfProducts    10000 non-null  int64  \n",
            " 10  HasCrCard        10000 non-null  int64  \n",
            " 11  IsActiveMember   10000 non-null  int64  \n",
            " 12  EstimatedSalary  10000 non-null  float64\n",
            " 13  Exited           10000 non-null  int64  \n",
            "dtypes: float64(3), int64(8), object(3)\n",
            "memory usage: 1.1+ MB\n"
          ]
        }
      ],
      "source": [
        "data = pd.read_csv('/datasets/Churn.csv')\n",
        "data.info()"
      ]
    },
    {
      "cell_type": "code",
      "execution_count": null,
      "metadata": {
        "id": "6LoZmvpcYR8M",
        "outputId": "dbccdc06-b93e-4dd2-fb3c-1935351f47bd"
      },
      "outputs": [
        {
          "data": {
            "text/html": [
              "<div>\n",
              "<style scoped>\n",
              "    .dataframe tbody tr th:only-of-type {\n",
              "        vertical-align: middle;\n",
              "    }\n",
              "\n",
              "    .dataframe tbody tr th {\n",
              "        vertical-align: top;\n",
              "    }\n",
              "\n",
              "    .dataframe thead th {\n",
              "        text-align: right;\n",
              "    }\n",
              "</style>\n",
              "<table border=\"1\" class=\"dataframe\">\n",
              "  <thead>\n",
              "    <tr style=\"text-align: right;\">\n",
              "      <th></th>\n",
              "      <th>RowNumber</th>\n",
              "      <th>CustomerId</th>\n",
              "      <th>Surname</th>\n",
              "      <th>CreditScore</th>\n",
              "      <th>Geography</th>\n",
              "      <th>Gender</th>\n",
              "      <th>Age</th>\n",
              "      <th>Tenure</th>\n",
              "      <th>Balance</th>\n",
              "      <th>NumOfProducts</th>\n",
              "      <th>HasCrCard</th>\n",
              "      <th>IsActiveMember</th>\n",
              "      <th>EstimatedSalary</th>\n",
              "      <th>Exited</th>\n",
              "    </tr>\n",
              "  </thead>\n",
              "  <tbody>\n",
              "    <tr>\n",
              "      <th>0</th>\n",
              "      <td>1</td>\n",
              "      <td>15634602</td>\n",
              "      <td>Hargrave</td>\n",
              "      <td>619</td>\n",
              "      <td>France</td>\n",
              "      <td>Female</td>\n",
              "      <td>42</td>\n",
              "      <td>2.0</td>\n",
              "      <td>0.00</td>\n",
              "      <td>1</td>\n",
              "      <td>1</td>\n",
              "      <td>1</td>\n",
              "      <td>101348.88</td>\n",
              "      <td>1</td>\n",
              "    </tr>\n",
              "    <tr>\n",
              "      <th>1</th>\n",
              "      <td>2</td>\n",
              "      <td>15647311</td>\n",
              "      <td>Hill</td>\n",
              "      <td>608</td>\n",
              "      <td>Spain</td>\n",
              "      <td>Female</td>\n",
              "      <td>41</td>\n",
              "      <td>1.0</td>\n",
              "      <td>83807.86</td>\n",
              "      <td>1</td>\n",
              "      <td>0</td>\n",
              "      <td>1</td>\n",
              "      <td>112542.58</td>\n",
              "      <td>0</td>\n",
              "    </tr>\n",
              "    <tr>\n",
              "      <th>2</th>\n",
              "      <td>3</td>\n",
              "      <td>15619304</td>\n",
              "      <td>Onio</td>\n",
              "      <td>502</td>\n",
              "      <td>France</td>\n",
              "      <td>Female</td>\n",
              "      <td>42</td>\n",
              "      <td>8.0</td>\n",
              "      <td>159660.80</td>\n",
              "      <td>3</td>\n",
              "      <td>1</td>\n",
              "      <td>0</td>\n",
              "      <td>113931.57</td>\n",
              "      <td>1</td>\n",
              "    </tr>\n",
              "    <tr>\n",
              "      <th>3</th>\n",
              "      <td>4</td>\n",
              "      <td>15701354</td>\n",
              "      <td>Boni</td>\n",
              "      <td>699</td>\n",
              "      <td>France</td>\n",
              "      <td>Female</td>\n",
              "      <td>39</td>\n",
              "      <td>1.0</td>\n",
              "      <td>0.00</td>\n",
              "      <td>2</td>\n",
              "      <td>0</td>\n",
              "      <td>0</td>\n",
              "      <td>93826.63</td>\n",
              "      <td>0</td>\n",
              "    </tr>\n",
              "    <tr>\n",
              "      <th>4</th>\n",
              "      <td>5</td>\n",
              "      <td>15737888</td>\n",
              "      <td>Mitchell</td>\n",
              "      <td>850</td>\n",
              "      <td>Spain</td>\n",
              "      <td>Female</td>\n",
              "      <td>43</td>\n",
              "      <td>2.0</td>\n",
              "      <td>125510.82</td>\n",
              "      <td>1</td>\n",
              "      <td>1</td>\n",
              "      <td>1</td>\n",
              "      <td>79084.10</td>\n",
              "      <td>0</td>\n",
              "    </tr>\n",
              "    <tr>\n",
              "      <th>5</th>\n",
              "      <td>6</td>\n",
              "      <td>15574012</td>\n",
              "      <td>Chu</td>\n",
              "      <td>645</td>\n",
              "      <td>Spain</td>\n",
              "      <td>Male</td>\n",
              "      <td>44</td>\n",
              "      <td>8.0</td>\n",
              "      <td>113755.78</td>\n",
              "      <td>2</td>\n",
              "      <td>1</td>\n",
              "      <td>0</td>\n",
              "      <td>149756.71</td>\n",
              "      <td>1</td>\n",
              "    </tr>\n",
              "    <tr>\n",
              "      <th>6</th>\n",
              "      <td>7</td>\n",
              "      <td>15592531</td>\n",
              "      <td>Bartlett</td>\n",
              "      <td>822</td>\n",
              "      <td>France</td>\n",
              "      <td>Male</td>\n",
              "      <td>50</td>\n",
              "      <td>7.0</td>\n",
              "      <td>0.00</td>\n",
              "      <td>2</td>\n",
              "      <td>1</td>\n",
              "      <td>1</td>\n",
              "      <td>10062.80</td>\n",
              "      <td>0</td>\n",
              "    </tr>\n",
              "    <tr>\n",
              "      <th>7</th>\n",
              "      <td>8</td>\n",
              "      <td>15656148</td>\n",
              "      <td>Obinna</td>\n",
              "      <td>376</td>\n",
              "      <td>Germany</td>\n",
              "      <td>Female</td>\n",
              "      <td>29</td>\n",
              "      <td>4.0</td>\n",
              "      <td>115046.74</td>\n",
              "      <td>4</td>\n",
              "      <td>1</td>\n",
              "      <td>0</td>\n",
              "      <td>119346.88</td>\n",
              "      <td>1</td>\n",
              "    </tr>\n",
              "    <tr>\n",
              "      <th>8</th>\n",
              "      <td>9</td>\n",
              "      <td>15792365</td>\n",
              "      <td>He</td>\n",
              "      <td>501</td>\n",
              "      <td>France</td>\n",
              "      <td>Male</td>\n",
              "      <td>44</td>\n",
              "      <td>4.0</td>\n",
              "      <td>142051.07</td>\n",
              "      <td>2</td>\n",
              "      <td>0</td>\n",
              "      <td>1</td>\n",
              "      <td>74940.50</td>\n",
              "      <td>0</td>\n",
              "    </tr>\n",
              "    <tr>\n",
              "      <th>9</th>\n",
              "      <td>10</td>\n",
              "      <td>15592389</td>\n",
              "      <td>H?</td>\n",
              "      <td>684</td>\n",
              "      <td>France</td>\n",
              "      <td>Male</td>\n",
              "      <td>27</td>\n",
              "      <td>2.0</td>\n",
              "      <td>134603.88</td>\n",
              "      <td>1</td>\n",
              "      <td>1</td>\n",
              "      <td>1</td>\n",
              "      <td>71725.73</td>\n",
              "      <td>0</td>\n",
              "    </tr>\n",
              "  </tbody>\n",
              "</table>\n",
              "</div>"
            ],
            "text/plain": [
              "   RowNumber  CustomerId   Surname  CreditScore Geography  Gender  Age  \\\n",
              "0          1    15634602  Hargrave          619    France  Female   42   \n",
              "1          2    15647311      Hill          608     Spain  Female   41   \n",
              "2          3    15619304      Onio          502    France  Female   42   \n",
              "3          4    15701354      Boni          699    France  Female   39   \n",
              "4          5    15737888  Mitchell          850     Spain  Female   43   \n",
              "5          6    15574012       Chu          645     Spain    Male   44   \n",
              "6          7    15592531  Bartlett          822    France    Male   50   \n",
              "7          8    15656148    Obinna          376   Germany  Female   29   \n",
              "8          9    15792365        He          501    France    Male   44   \n",
              "9         10    15592389        H?          684    France    Male   27   \n",
              "\n",
              "   Tenure    Balance  NumOfProducts  HasCrCard  IsActiveMember  \\\n",
              "0     2.0       0.00              1          1               1   \n",
              "1     1.0   83807.86              1          0               1   \n",
              "2     8.0  159660.80              3          1               0   \n",
              "3     1.0       0.00              2          0               0   \n",
              "4     2.0  125510.82              1          1               1   \n",
              "5     8.0  113755.78              2          1               0   \n",
              "6     7.0       0.00              2          1               1   \n",
              "7     4.0  115046.74              4          1               0   \n",
              "8     4.0  142051.07              2          0               1   \n",
              "9     2.0  134603.88              1          1               1   \n",
              "\n",
              "   EstimatedSalary  Exited  \n",
              "0        101348.88       1  \n",
              "1        112542.58       0  \n",
              "2        113931.57       1  \n",
              "3         93826.63       0  \n",
              "4         79084.10       0  \n",
              "5        149756.71       1  \n",
              "6         10062.80       0  \n",
              "7        119346.88       1  \n",
              "8         74940.50       0  \n",
              "9         71725.73       0  "
            ]
          },
          "execution_count": 3,
          "metadata": {},
          "output_type": "execute_result"
        }
      ],
      "source": [
        "data.head(10)"
      ]
    },
    {
      "cell_type": "code",
      "execution_count": null,
      "metadata": {
        "id": "UbgVIhmEYR8N",
        "outputId": "9fb3f7a2-c367-46b5-b8fe-79fe772eef24"
      },
      "outputs": [
        {
          "data": {
            "image/png": "[encoded data removed]",
            "text/plain": [
              "<Figure size 720x1080 with 12 Axes>"
            ]
          },
          "metadata": {
            "needs_background": "light"
          },
          "output_type": "display_data"
        }
      ],
      "source": [
        "data.hist(figsize=(10, 15));"
      ]
    },
    {
      "cell_type": "markdown",
      "metadata": {
        "id": "kMeRC06SYR8N"
      },
      "source": [
        "Файл содержит данные по 10000 исторических данных, каждый из которых описывается 14 признаками (11 количественных и 3 строчных). \n",
        "\n",
        "У признака Tenure (сколько лет человек является клиентом банка) есть пропущенные значения.  Т.к. не представляется возможным восстановить эти данные, то строки с пустым свойством лучше удалить.\n",
        "\n",
        "Также необходимо проеврить данные на дублиткаты.\n",
        "\n",
        "В файле есть свойства, которые не только не важны для обучения модели, но и могут послужить причиной ошибок, если их учиывать: индекс строки в данных, уникальный идентификатор клиента и фамилия. Эти столбцы нужно удалить.\n",
        "\n",
        "После удаления фамилии останется 2 категориальных столбца: пол и география. Их необходимо закодировать с помощью OHE.\n",
        "\n",
        "Кроме того, в подготовку данных должно войти разбиение выборки на обучающую, валидационную и тестовую. А также масштабирование численных признаков."
      ]
    },
    {
      "cell_type": "markdown",
      "metadata": {
        "id": "_x5qTC-7YR8j"
      },
      "source": [
        "**Анализ баланса классов**\n",
        "Из гистограмы целевого признака Exited видно, что в исходных данных наблюдается дисбалансов классов, т.к. примерно 8000 записей относятся к нулевому классу, а оставшиеся 2000 к единичному."
      ]
    },
    {
      "cell_type": "markdown",
      "metadata": {
        "id": "dOTuXcAvYR8k"
      },
      "source": [
        "### Удаление пропусков и обработка дубликатов"
      ]
    },
    {
      "cell_type": "code",
      "execution_count": null,
      "metadata": {
        "id": "aHzamxuDYR8l"
      },
      "outputs": [],
      "source": [
        "#Удалим строки, где пропущен признак Tenure\n",
        "data = data.dropna(axis='index', how='any', subset=['Tenure'])"
      ]
    },
    {
      "cell_type": "code",
      "execution_count": null,
      "metadata": {
        "id": "NCdXSPIiYR8m",
        "outputId": "bdc0345a-9a8c-4c97-e8b8-6d82fc8784aa"
      },
      "outputs": [
        {
          "data": {
            "text/plain": [
              "0"
            ]
          },
          "execution_count": 6,
          "metadata": {},
          "output_type": "execute_result"
        }
      ],
      "source": [
        "# Проверим наличие дубликатов в данных\n",
        "data.duplicated().sum()"
      ]
    },
    {
      "cell_type": "markdown",
      "metadata": {
        "id": "1xKS52mpYR8n"
      },
      "source": [
        "Были удалены строки с пропусками. Дубликатов не обнаружено."
      ]
    },
    {
      "cell_type": "markdown",
      "metadata": {
        "id": "pebz5Xp7YR8o"
      },
      "source": [
        "### Обработка признаков"
      ]
    },
    {
      "cell_type": "code",
      "execution_count": null,
      "metadata": {
        "id": "Gzv4ZMU2YR8p",
        "outputId": "d1d30d17-93d5-41ef-c595-90281cb61a8c"
      },
      "outputs": [
        {
          "name": "stdout",
          "output_type": "stream",
          "text": [
            "<class 'pandas.core.frame.DataFrame'>\n",
            "Int64Index: 9091 entries, 0 to 9998\n",
            "Data columns (total 11 columns):\n",
            " #   Column           Non-Null Count  Dtype  \n",
            "---  ------           --------------  -----  \n",
            " 0   CreditScore      9091 non-null   int64  \n",
            " 1   Geography        9091 non-null   object \n",
            " 2   Gender           9091 non-null   object \n",
            " 3   Age              9091 non-null   int64  \n",
            " 4   Tenure           9091 non-null   float64\n",
            " 5   Balance          9091 non-null   float64\n",
            " 6   NumOfProducts    9091 non-null   int64  \n",
            " 7   HasCrCard        9091 non-null   int64  \n",
            " 8   IsActiveMember   9091 non-null   int64  \n",
            " 9   EstimatedSalary  9091 non-null   float64\n",
            " 10  Exited           9091 non-null   int64  \n",
            "dtypes: float64(3), int64(6), object(2)\n",
            "memory usage: 852.3+ KB\n"
          ]
        }
      ],
      "source": [
        "# Уберем из данных признаки 'RowNumber','CustomerId','Surname'\n",
        "data_short = data.drop(['RowNumber','CustomerId','Surname'], axis=1)\n",
        "data_short.info()"
      ]
    },
    {
      "cell_type": "code",
      "execution_count": null,
      "metadata": {
        "id": "pbETMfTxYR8q",
        "outputId": "da523cf0-7aa4-4b9e-9558-a487d5c93cc2"
      },
      "outputs": [
        {
          "data": {
            "text/plain": [
              "array(['France', 'Spain', 'Germany'], dtype=object)"
            ]
          },
          "execution_count": 8,
          "metadata": {},
          "output_type": "execute_result"
        }
      ],
      "source": [
        "# Проверим, сколько уникальных значений есть в признаке География, чтобы в дальнейшем выполнить кодирование\n",
        "data_short['Geography'].unique()"
      ]
    },
    {
      "cell_type": "code",
      "execution_count": null,
      "metadata": {
        "id": "EDAofkTZYR8r",
        "outputId": "dfcf0cee-4388-4654-8349-3da9733d9027"
      },
      "outputs": [
        {
          "data": {
            "text/html": [
              "<div>\n",
              "<style scoped>\n",
              "    .dataframe tbody tr th:only-of-type {\n",
              "        vertical-align: middle;\n",
              "    }\n",
              "\n",
              "    .dataframe tbody tr th {\n",
              "        vertical-align: top;\n",
              "    }\n",
              "\n",
              "    .dataframe thead th {\n",
              "        text-align: right;\n",
              "    }\n",
              "</style>\n",
              "<table border=\"1\" class=\"dataframe\">\n",
              "  <thead>\n",
              "    <tr style=\"text-align: right;\">\n",
              "      <th></th>\n",
              "      <th>CreditScore</th>\n",
              "      <th>Age</th>\n",
              "      <th>Tenure</th>\n",
              "      <th>Balance</th>\n",
              "      <th>NumOfProducts</th>\n",
              "      <th>HasCrCard</th>\n",
              "      <th>IsActiveMember</th>\n",
              "      <th>EstimatedSalary</th>\n",
              "      <th>Exited</th>\n",
              "      <th>Geography_Germany</th>\n",
              "      <th>Geography_Spain</th>\n",
              "      <th>Gender_Male</th>\n",
              "    </tr>\n",
              "  </thead>\n",
              "  <tbody>\n",
              "    <tr>\n",
              "      <th>0</th>\n",
              "      <td>619</td>\n",
              "      <td>42</td>\n",
              "      <td>2.0</td>\n",
              "      <td>0.00</td>\n",
              "      <td>1</td>\n",
              "      <td>1</td>\n",
              "      <td>1</td>\n",
              "      <td>101348.88</td>\n",
              "      <td>1</td>\n",
              "      <td>0</td>\n",
              "      <td>0</td>\n",
              "      <td>0</td>\n",
              "    </tr>\n",
              "    <tr>\n",
              "      <th>1</th>\n",
              "      <td>608</td>\n",
              "      <td>41</td>\n",
              "      <td>1.0</td>\n",
              "      <td>83807.86</td>\n",
              "      <td>1</td>\n",
              "      <td>0</td>\n",
              "      <td>1</td>\n",
              "      <td>112542.58</td>\n",
              "      <td>0</td>\n",
              "      <td>0</td>\n",
              "      <td>1</td>\n",
              "      <td>0</td>\n",
              "    </tr>\n",
              "    <tr>\n",
              "      <th>2</th>\n",
              "      <td>502</td>\n",
              "      <td>42</td>\n",
              "      <td>8.0</td>\n",
              "      <td>159660.80</td>\n",
              "      <td>3</td>\n",
              "      <td>1</td>\n",
              "      <td>0</td>\n",
              "      <td>113931.57</td>\n",
              "      <td>1</td>\n",
              "      <td>0</td>\n",
              "      <td>0</td>\n",
              "      <td>0</td>\n",
              "    </tr>\n",
              "    <tr>\n",
              "      <th>3</th>\n",
              "      <td>699</td>\n",
              "      <td>39</td>\n",
              "      <td>1.0</td>\n",
              "      <td>0.00</td>\n",
              "      <td>2</td>\n",
              "      <td>0</td>\n",
              "      <td>0</td>\n",
              "      <td>93826.63</td>\n",
              "      <td>0</td>\n",
              "      <td>0</td>\n",
              "      <td>0</td>\n",
              "      <td>0</td>\n",
              "    </tr>\n",
              "    <tr>\n",
              "      <th>4</th>\n",
              "      <td>850</td>\n",
              "      <td>43</td>\n",
              "      <td>2.0</td>\n",
              "      <td>125510.82</td>\n",
              "      <td>1</td>\n",
              "      <td>1</td>\n",
              "      <td>1</td>\n",
              "      <td>79084.10</td>\n",
              "      <td>0</td>\n",
              "      <td>0</td>\n",
              "      <td>1</td>\n",
              "      <td>0</td>\n",
              "    </tr>\n",
              "  </tbody>\n",
              "</table>\n",
              "</div>"
            ],
            "text/plain": [
              "   CreditScore  Age  Tenure    Balance  NumOfProducts  HasCrCard  \\\n",
              "0          619   42     2.0       0.00              1          1   \n",
              "1          608   41     1.0   83807.86              1          0   \n",
              "2          502   42     8.0  159660.80              3          1   \n",
              "3          699   39     1.0       0.00              2          0   \n",
              "4          850   43     2.0  125510.82              1          1   \n",
              "\n",
              "   IsActiveMember  EstimatedSalary  Exited  Geography_Germany  \\\n",
              "0               1        101348.88       1                  0   \n",
              "1               1        112542.58       0                  0   \n",
              "2               0        113931.57       1                  0   \n",
              "3               0         93826.63       0                  0   \n",
              "4               1         79084.10       0                  0   \n",
              "\n",
              "   Geography_Spain  Gender_Male  \n",
              "0                0            0  \n",
              "1                1            0  \n",
              "2                0            0  \n",
              "3                0            0  \n",
              "4                1            0  "
            ]
          },
          "execution_count": 9,
          "metadata": {},
          "output_type": "execute_result"
        }
      ],
      "source": [
        "# Преобразуем категориальные прризнаки в численные с помощью OHE так, чтобы избежать дамми-ловушки\n",
        "data_ohe = pd.get_dummies(data_short, drop_first=True)\n",
        "data_ohe.head()"
      ]
    },
    {
      "cell_type": "markdown",
      "metadata": {
        "id": "gXEvSTe1YR8s"
      },
      "source": [
        "Убрали из данных лишние столбцы, преобразовали категориальные прризнаки в численные."
      ]
    },
    {
      "cell_type": "markdown",
      "metadata": {
        "id": "iSLD51jzYR8s"
      },
      "source": [
        "### Разбиение данных на выборки и масштабирование"
      ]
    },
    {
      "cell_type": "code",
      "execution_count": null,
      "metadata": {
        "id": "mCBVHEMJYR8t"
      },
      "outputs": [],
      "source": [
        "df_train, df_test = train_test_split(data_ohe,train_size=0.6, random_state=12345)\n",
        "df_test, df_valid = train_test_split(df_test, train_size=0.5,random_state=12345)"
      ]
    },
    {
      "cell_type": "code",
      "execution_count": null,
      "metadata": {
        "id": "iKwoW72fYR8u",
        "outputId": "f4abf14f-112f-4dec-d18a-56534da6ce4b"
      },
      "outputs": [
        {
          "name": "stdout",
          "output_type": "stream",
          "text": [
            "(5454, 11)\n",
            "(5454,)\n",
            "(1819, 11)\n",
            "(1819,)\n",
            "(1818, 11)\n",
            "(1818,)\n"
          ]
        }
      ],
      "source": [
        "features_train = df_train.drop(['Exited'], axis=1)\n",
        "target_train = df_train['Exited']\n",
        "features_valid = df_valid.drop(['Exited'], axis=1)\n",
        "target_valid = df_valid['Exited']\n",
        "features_test = df_test.drop(['Exited'], axis=1)\n",
        "target_test = df_test['Exited']\n",
        "\n",
        "numeric = ['CreditScore', 'Age', 'Tenure', 'Balance', 'NumOfProducts', 'EstimatedSalary']\n",
        "\n",
        "scaler = StandardScaler()\n",
        "scaler.fit(features_train[numeric])\n",
        "features_train[numeric] = scaler.transform(features_train[numeric])\n",
        "features_valid[numeric] = scaler.transform(features_valid[numeric])\n",
        "features_test[numeric] = scaler.transform(features_test[numeric])\n",
        "\n",
        "print(features_train.shape)\n",
        "print(target_train.shape)\n",
        "print(features_valid.shape)\n",
        "print(target_valid.shape)\n",
        "print(features_test.shape)\n",
        "print(target_test.shape)"
      ]
    },
    {
      "cell_type": "markdown",
      "metadata": {
        "id": "TafaJyuLYR8v"
      },
      "source": [
        "Произвели разбиение данных на обучающу, валидационную и тестовую выборки в соотношение 3:1:1 соответсвенно. Масштабировали численные методы, чтобы дисперсия и среднее были равны 1."
      ]
    },
    {
      "cell_type": "markdown",
      "metadata": {
        "id": "JlfVTTBZYR8w"
      },
      "source": [
        "**Вывод:** была произведена предварительная обработка и подготовка данных."
      ]
    },
    {
      "cell_type": "markdown",
      "metadata": {
        "id": "DmUB2jlyYR8w"
      },
      "source": [
        "## Исследование задачи"
      ]
    },
    {
      "cell_type": "markdown",
      "metadata": {
        "id": "fjMhrNJwYR8x"
      },
      "source": [
        "Для исследовании задачи с несбалансированными классами обучим три модели: случайного леса, логистической регрессии и дерева решений, найдя их \"лучшие\" гиперпарметры. Для той модели, что опкажет самую высокую accurancy из представленных, найде другие метрики: полноту, точность и F1-меру."
      ]
    },
    {
      "cell_type": "markdown",
      "metadata": {
        "id": "E3gwNPgbYR8x"
      },
      "source": [
        "### Модель \"случайный лес\""
      ]
    },
    {
      "cell_type": "code",
      "execution_count": null,
      "metadata": {
        "id": "nFymj6pXYR8x",
        "outputId": "704f35db-c0cd-4dc3-de8c-6e6059100639"
      },
      "outputs": [
        {
          "name": "stdout",
          "output_type": "stream",
          "text": [
            "F1 y наилучшей модели на валидационной выборке: 0.590339892665474\n",
            "Количество деревьев наилучшей модели на валидационной выборке: 81\n",
            "Максимальная глубина наилучшей модели на валидационной выборке: 15\n",
            "AUC ROC: 0.8549628542816554\n",
            "CPU times: user 3min 21s, sys: 1.18 s, total: 3min 22s\n",
            "Wall time: 3min 23s\n"
          ]
        }
      ],
      "source": [
        "%%time\n",
        "\n",
        "best_model_random_forest = None\n",
        "best_result = 0\n",
        "for est in range(1, 201, 10):\n",
        "    for d in range(1,20):\n",
        "        model = RandomForestClassifier(random_state=12345, n_estimators=est, max_depth=d) # обучите модель с заданным количеством деревьев\n",
        "        model.fit(features_train,target_train) # обучите модель на тренировочной выборке\n",
        "        predicted_valid = model.predict(features_valid)\n",
        "        result = f1_score(target_valid, predicted_valid) # посчитайте качество модели на валидационной выборке\n",
        "        if result > best_result:\n",
        "            best_model_random_forest = model\n",
        "            best_result = result #  сохраните наилучшее значение метрики accuracy на валидационных данных\n",
        "            best_est = est\n",
        "            best_md = d\n",
        "            \n",
        "\n",
        "print(\"F1 y наилучшей модели на валидационной выборке:\", best_result)\n",
        "print(\"Количество деревьев наилучшей модели на валидационной выборке:\", best_est)\n",
        "print(\"Максимальная глубина наилучшей модели на валидационной выборке:\", best_md)\n",
        "\n",
        "probabilities_test = best_model_random_forest.predict_proba(features_valid)\n",
        "probabilities_one_test = probabilities_test[:, 1]\n",
        "auc_roc = roc_auc_score(target_valid,probabilities_one_test)\n",
        "print('AUC ROC:',auc_roc)"
      ]
    },
    {
      "cell_type": "markdown",
      "metadata": {
        "id": "LL88VXlaYR8y"
      },
      "source": [
        "### Модель \"логистическая регрессия\""
      ]
    },
    {
      "cell_type": "code",
      "execution_count": null,
      "metadata": {
        "id": "MPwTmo3-YR8z",
        "outputId": "7e4d5af3-afc2-4502-e48f-8b7eeef3881d"
      },
      "outputs": [
        {
          "name": "stderr",
          "output_type": "stream",
          "text": [
            "/opt/conda/lib/python3.9/site-packages/sklearn/linear_model/_logistic.py:1322: UserWarning: Setting penalty='none' will ignore the C and l1_ratio parameters\n",
            "  warnings.warn(\n",
            "/opt/conda/lib/python3.9/site-packages/sklearn/linear_model/_logistic.py:1322: UserWarning: Setting penalty='none' will ignore the C and l1_ratio parameters\n",
            "  warnings.warn(\n",
            "/opt/conda/lib/python3.9/site-packages/sklearn/linear_model/_logistic.py:1322: UserWarning: Setting penalty='none' will ignore the C and l1_ratio parameters\n",
            "  warnings.warn(\n",
            "/opt/conda/lib/python3.9/site-packages/sklearn/linear_model/_logistic.py:1322: UserWarning: Setting penalty='none' will ignore the C and l1_ratio parameters\n",
            "  warnings.warn(\n",
            "/opt/conda/lib/python3.9/site-packages/sklearn/linear_model/_logistic.py:1322: UserWarning: Setting penalty='none' will ignore the C and l1_ratio parameters\n",
            "  warnings.warn(\n",
            "/opt/conda/lib/python3.9/site-packages/sklearn/linear_model/_logistic.py:1322: UserWarning: Setting penalty='none' will ignore the C and l1_ratio parameters\n",
            "  warnings.warn(\n",
            "/opt/conda/lib/python3.9/site-packages/sklearn/linear_model/_logistic.py:1322: UserWarning: Setting penalty='none' will ignore the C and l1_ratio parameters\n",
            "  warnings.warn(\n",
            "/opt/conda/lib/python3.9/site-packages/sklearn/linear_model/_logistic.py:1322: UserWarning: Setting penalty='none' will ignore the C and l1_ratio parameters\n",
            "  warnings.warn(\n",
            "/opt/conda/lib/python3.9/site-packages/sklearn/linear_model/_logistic.py:1322: UserWarning: Setting penalty='none' will ignore the C and l1_ratio parameters\n",
            "  warnings.warn(\n",
            "/opt/conda/lib/python3.9/site-packages/sklearn/linear_model/_logistic.py:1322: UserWarning: Setting penalty='none' will ignore the C and l1_ratio parameters\n",
            "  warnings.warn(\n",
            "/opt/conda/lib/python3.9/site-packages/sklearn/linear_model/_logistic.py:1322: UserWarning: Setting penalty='none' will ignore the C and l1_ratio parameters\n",
            "  warnings.warn(\n",
            "/opt/conda/lib/python3.9/site-packages/sklearn/linear_model/_logistic.py:1322: UserWarning: Setting penalty='none' will ignore the C and l1_ratio parameters\n",
            "  warnings.warn(\n",
            "/opt/conda/lib/python3.9/site-packages/sklearn/linear_model/_logistic.py:1322: UserWarning: Setting penalty='none' will ignore the C and l1_ratio parameters\n",
            "  warnings.warn(\n",
            "/opt/conda/lib/python3.9/site-packages/sklearn/linear_model/_logistic.py:1322: UserWarning: Setting penalty='none' will ignore the C and l1_ratio parameters\n",
            "  warnings.warn(\n",
            "/opt/conda/lib/python3.9/site-packages/sklearn/linear_model/_logistic.py:1322: UserWarning: Setting penalty='none' will ignore the C and l1_ratio parameters\n",
            "  warnings.warn(\n",
            "/opt/conda/lib/python3.9/site-packages/sklearn/linear_model/_logistic.py:1322: UserWarning: Setting penalty='none' will ignore the C and l1_ratio parameters\n",
            "  warnings.warn(\n",
            "/opt/conda/lib/python3.9/site-packages/sklearn/linear_model/_logistic.py:1322: UserWarning: Setting penalty='none' will ignore the C and l1_ratio parameters\n",
            "  warnings.warn(\n",
            "/opt/conda/lib/python3.9/site-packages/sklearn/linear_model/_logistic.py:1322: UserWarning: Setting penalty='none' will ignore the C and l1_ratio parameters\n",
            "  warnings.warn(\n"
          ]
        },
        {
          "name": "stdout",
          "output_type": "stream",
          "text": [
            "F1 наилучшей модели на валидационной выборке: 0.32119914346895073\n",
            "Penalty наилучшей модели на валидационной выборке: l2\n",
            "C наилучшей модели на валидационной выборке: 1.0\n",
            "AUC ROC: 0.781009105940986\n",
            "CPU times: user 7.21 s, sys: 11.8 s, total: 19.1 s\n",
            "Wall time: 19 s\n"
          ]
        }
      ],
      "source": [
        "%%time\n",
        "\n",
        "best_model_log_regression = None\n",
        "best_result = 0\n",
        "#solver = ['newton-cg','lbfgs','liblinear','sag','saga']\n",
        "penalty = ['l2','none']\n",
        "C = [0.1, 0.2,0.3,0.4,0.5,0.6,0.7,0.8,0.9,1.0,2.0,3.0,4.0,5.0,6.0,7.0,8.0,9.0,10.0]\n",
        "\n",
        "for p in penalty:\n",
        "    for c in C:\n",
        "        model = LogisticRegression(random_state=12345, solver='lbfgs', max_iter=10000, penalty=p, C=c) # обучите модель с заданным количеством деревьев\n",
        "        model.fit(features_train,target_train) # обучите модель на тренировочной выборке\n",
        "        predicted_valid = model.predict(features_valid)\n",
        "        result = f1_score(target_valid, predicted_valid) # посчитайте качество модели на валидационной выборке\n",
        "        if result > best_result:\n",
        "            best_model_log_regression = model\n",
        "            best_result = result #  сохраните наилучшее значение метрики accuracy на валидационных данных\n",
        "            best_penalty = p\n",
        "            best_c = c\n",
        "\n",
        "print(\"F1 наилучшей модели на валидационной выборке:\", best_result)\n",
        "print(\"Penalty наилучшей модели на валидационной выборке:\", best_penalty)\n",
        "print(\"C наилучшей модели на валидационной выборке:\", best_c)\n",
        "\n",
        "probabilities_test = best_model_log_regression.predict_proba(features_valid)\n",
        "probabilities_one_test = probabilities_test[:, 1]\n",
        "auc_roc = roc_auc_score(target_valid,probabilities_one_test)\n",
        "print('AUC ROC:',auc_roc)"
      ]
    },
    {
      "cell_type": "markdown",
      "metadata": {
        "id": "QMLiPwJOYR80"
      },
      "source": [
        "### Модель \"дерево решений\""
      ]
    },
    {
      "cell_type": "code",
      "execution_count": null,
      "metadata": {
        "id": "MiQKDxQiYR81",
        "outputId": "9bfb31c1-17ab-417f-832d-0ae5c932c5eb"
      },
      "outputs": [
        {
          "name": "stdout",
          "output_type": "stream",
          "text": [
            "F1 наилучшей модели на валидационной выборке: 0.5534804753820034\n",
            "Глубина наилучшей модели на валидационной выборке: 7\n",
            "AUC ROC: 0.8280166825807154\n",
            "CPU times: user 2.99 s, sys: 16.1 ms, total: 3.01 s\n",
            "Wall time: 3.07 s\n"
          ]
        }
      ],
      "source": [
        "%%time\n",
        "\n",
        "best_model_tree_classifier = None\n",
        "best_result = 0\n",
        "\n",
        "for depth in range(1, 101):\n",
        "    model = DecisionTreeClassifier(random_state=12345, max_depth = depth) \n",
        "    model.fit(features_train,target_train)\n",
        "    predicted_valid = model.predict(features_valid)\n",
        "    result = f1_score(target_valid, predicted_valid) # посчитайте качество модели на валидационной выборке\n",
        "    if result > best_result:\n",
        "        best_model_tree_classifier = model\n",
        "        best_result = result#  сохраните наилучшее значение метрики accuracy на валидационных данных\n",
        "        best_depth = depth\n",
        "\n",
        "print(\"F1 наилучшей модели на валидационной выборке:\", best_result)\n",
        "print(\"Глубина наилучшей модели на валидационной выборке:\", best_depth)\n",
        "\n",
        "probabilities_test = best_model_tree_classifier.predict_proba(features_valid)\n",
        "probabilities_one_test = probabilities_test[:, 1]\n",
        "auc_roc = roc_auc_score(target_valid,probabilities_one_test)\n",
        "print('AUC ROC:',auc_roc)"
      ]
    },
    {
      "cell_type": "markdown",
      "metadata": {
        "id": "szjq3mP6YR82"
      },
      "source": [
        "### Метрики лучшей модели"
      ]
    },
    {
      "cell_type": "markdown",
      "metadata": {
        "id": "VREPo6ydYR83"
      },
      "source": [
        "Среди рассмотренных выше моделей лучше всего F1 было у случайного леса. Найдем другие ее метрики."
      ]
    },
    {
      "cell_type": "code",
      "execution_count": null,
      "metadata": {
        "id": "huxEF1_1YR83",
        "outputId": "f4ade540-8396-4428-b672-4224e4b1a881"
      },
      "outputs": [
        {
          "name": "stdout",
          "output_type": "stream",
          "text": [
            "Полнота: 0.4700854700854701\n",
            "Точность: 0.7932692307692307\n",
            "F1: 0.590339892665474\n"
          ]
        }
      ],
      "source": [
        "predicted_valid = best_model_random_forest.predict(features_valid)\n",
        "print('Полнота:',recall_score(target_valid, predicted_valid))\n",
        "print('Точность:',precision_score(target_valid, predicted_valid))\n",
        "print('F1:',f1_score(target_valid, predicted_valid))"
      ]
    },
    {
      "cell_type": "markdown",
      "metadata": {
        "id": "XRgJnYhJYR85"
      },
      "source": [
        "**Вывод:** были рассмотрены модели без учета дисбаланса классов. Для них были подобраны лучшие гиперпараметры. Для модели с лучшей F1 удалось достичь необходимой по заданию F1-меры."
      ]
    },
    {
      "cell_type": "markdown",
      "metadata": {
        "id": "TOn3KpB9YR85"
      },
      "source": [
        "## Борьба с дисбалансом"
      ]
    },
    {
      "cell_type": "markdown",
      "metadata": {
        "id": "wUP2wgkWYR86"
      },
      "source": [
        "Для борьбы с дисбалансом применим несколько способв: увеличение выборки и взвешивание классов."
      ]
    },
    {
      "cell_type": "markdown",
      "metadata": {
        "id": "HxycRSmTYR87"
      },
      "source": [
        "### Увеличение выборки"
      ]
    },
    {
      "cell_type": "code",
      "execution_count": null,
      "metadata": {
        "id": "Auv34_13YR87"
      },
      "outputs": [],
      "source": [
        "# Напишем функцию для преобразования\n",
        "def upsample(features, target, repeat):\n",
        "    features_zeros = features[target == 0]\n",
        "    features_ones = features[target == 1]\n",
        "    target_zeros = target[target == 0]\n",
        "    target_ones = target[target == 1]\n",
        "\n",
        "    features_upsampled = pd.concat([features_zeros] + [features_ones] * repeat)\n",
        "    target_upsampled = pd.concat([target_zeros] + [target_ones] * repeat)\n",
        "    \n",
        "    features_upsampled, target_upsampled = shuffle(\n",
        "        features_upsampled, target_upsampled, random_state=12345)\n",
        "    \n",
        "    return features_upsampled, target_upsampled"
      ]
    },
    {
      "cell_type": "code",
      "execution_count": null,
      "metadata": {
        "id": "5sqWQcSGYR87"
      },
      "outputs": [],
      "source": [
        "features_upsampled, target_upsampled = upsample(features_train, target_train, 4)"
      ]
    },
    {
      "cell_type": "markdown",
      "metadata": {
        "id": "vXqxg0F_YR88"
      },
      "source": [
        "#### Случайный лес"
      ]
    },
    {
      "cell_type": "code",
      "execution_count": null,
      "metadata": {
        "id": "pnX2sNGhYR88",
        "outputId": "edb4a330-8aaf-4dd4-e5b4-dec62a58a7b9"
      },
      "outputs": [
        {
          "name": "stdout",
          "output_type": "stream",
          "text": [
            "Accuracy наилучшей модели на валидационной выборке: 0.8350742166025289\n",
            "F1: 0.5945945945945946\n",
            "AUC ROC: 0.8524243694543423\n"
          ]
        }
      ],
      "source": [
        "model_rfc = RandomForestClassifier(random_state=12345, n_estimators=81, max_depth=12) # обучите модель с заданным количеством деревьев\n",
        "model_rfc.fit(features_upsampled, target_upsampled)\n",
        "\n",
        "print(\"Accuracy наилучшей модели на валидационной выборке:\", model_rfc.score(features_valid,target_valid))\n",
        "predicted_valid = model_rfc.predict(features_valid)\n",
        "print('F1:',f1_score(target_valid, predicted_valid))\n",
        "probabilities_test = model_rfc.predict_proba(features_valid)\n",
        "probabilities_one_test = probabilities_test[:, 1]\n",
        "auc_roc = roc_auc_score(target_valid,probabilities_one_test)\n",
        "print('AUC ROC:',auc_roc)"
      ]
    },
    {
      "cell_type": "markdown",
      "metadata": {
        "id": "PSfdoopNYR89"
      },
      "source": [
        "#### Логистическая регрессия"
      ]
    },
    {
      "cell_type": "code",
      "execution_count": null,
      "metadata": {
        "id": "sJy9dfcoYR89",
        "outputId": "51ebfc50-13ec-4e02-d854-5a191d5ddaa8"
      },
      "outputs": [
        {
          "name": "stdout",
          "output_type": "stream",
          "text": [
            "Accuracy наилучшей модели на валидационной выборке: 0.720175920835624\n",
            "F1: 0.49653808110781406\n",
            "AUC ROC: 0.7817349418166857\n"
          ]
        }
      ],
      "source": [
        "model_lr = LogisticRegression(random_state=12345, solver='liblinear', max_iter=10000, penalty='l2', C=1.0) # обучите модель с заданным количеством деревьев\n",
        "model_lr.fit(features_upsampled, target_upsampled)\n",
        "\n",
        "print(\"Accuracy наилучшей модели на валидационной выборке:\", model_lr.score(features_valid,target_valid))\n",
        "predicted_valid = model_lr.predict(features_valid)\n",
        "print('F1:',f1_score(target_valid, predicted_valid))\n",
        "probabilities_test = model_lr.predict_proba(features_valid)\n",
        "probabilities_one_test = probabilities_test[:, 1]\n",
        "auc_roc = roc_auc_score(target_valid,probabilities_one_test)\n",
        "print('AUC ROC:',auc_roc)"
      ]
    },
    {
      "cell_type": "markdown",
      "metadata": {
        "id": "G7YddvbfYR89"
      },
      "source": [
        "#### Дерево решений"
      ]
    },
    {
      "cell_type": "code",
      "execution_count": null,
      "metadata": {
        "id": "__g6rM97YR8-",
        "outputId": "84c07c21-cf3e-4bc2-def8-b2e7c703dcf0"
      },
      "outputs": [
        {
          "name": "stdout",
          "output_type": "stream",
          "text": [
            "Accuracy наилучшей модели на валидационной выборке: 0.7361187465640462\n",
            "F1: 0.5384615384615384\n",
            "AUC ROC: 0.827363624366349\n"
          ]
        }
      ],
      "source": [
        "model_dtc = DecisionTreeClassifier(random_state=12345, max_depth=7) # обучите модель с заданным количеством деревьев\n",
        "model_dtc.fit(features_upsampled, target_upsampled)\n",
        "\n",
        "print(\"Accuracy наилучшей модели на валидационной выборке:\", model_dtc.score(features_valid,target_valid))\n",
        "predicted_valid = model_dtc.predict(features_valid)\n",
        "print('F1:',f1_score(target_valid, predicted_valid))\n",
        "probabilities_test = model_dtc.predict_proba(features_valid)\n",
        "probabilities_one_test = probabilities_test[:, 1]\n",
        "auc_roc = roc_auc_score(target_valid,probabilities_one_test)\n",
        "print('AUC ROC:',auc_roc)"
      ]
    },
    {
      "cell_type": "markdown",
      "metadata": {
        "id": "9uapSCtDYR8-"
      },
      "source": [
        "#### Метрики лучшей модели"
      ]
    },
    {
      "cell_type": "markdown",
      "metadata": {
        "id": "2gETfKfqYR8-"
      },
      "source": [
        "Среди рассмотренных выше моделей при использовании увеличении выборк лучше всего F1 было у случайного леса. Найдем другие метрики данной модели."
      ]
    },
    {
      "cell_type": "code",
      "execution_count": null,
      "metadata": {
        "id": "X6XGBDhWYR8_",
        "outputId": "d335a3fa-6976-4986-cf52-44127c57385d"
      },
      "outputs": [
        {
          "name": "stdout",
          "output_type": "stream",
          "text": [
            "Полнота: 0.6267806267806267\n",
            "Точность: 0.5655526992287918\n",
            "F1: 0.5945945945945946\n"
          ]
        }
      ],
      "source": [
        "predicted_valid = model_rfc.predict(features_valid)\n",
        "print('Полнота:',recall_score(target_valid, predicted_valid))\n",
        "print('Точность:',precision_score(target_valid, predicted_valid))\n",
        "print('F1:',f1_score(target_valid, predicted_valid))"
      ]
    },
    {
      "cell_type": "markdown",
      "metadata": {
        "id": "_c9MfHVDYR8_"
      },
      "source": [
        "Были рассмотрены модели с подобранными выше лучшими гиперпараметры и при использовании увеличении выборки. Для модели случайного леса с лучшей F1 удалось достичь необходимой по заданию F1-меры, и метрика AUC ROC близка к идеальной."
      ]
    },
    {
      "cell_type": "markdown",
      "metadata": {
        "id": "bRsc_ldzYR8_"
      },
      "source": [
        "### Взвешивание классов"
      ]
    },
    {
      "cell_type": "markdown",
      "metadata": {
        "id": "Nffzlwa7YR9A"
      },
      "source": [
        "#### Случайный лес"
      ]
    },
    {
      "cell_type": "code",
      "execution_count": null,
      "metadata": {
        "id": "IobGKeqfYR9A",
        "outputId": "d647e51f-0e81-46de-eb0c-634c9edab5ae"
      },
      "outputs": [
        {
          "name": "stdout",
          "output_type": "stream",
          "text": [
            "Accuracy наилучшей модели на валидационной выборке: 0.8609125893347993\n",
            "F1: 0.56\n",
            "AUC ROC: 0.8550589207946155\n"
          ]
        }
      ],
      "source": [
        "model_rfc_cl = RandomForestClassifier(random_state=12345, n_estimators=81, max_depth=15, class_weight='balanced') # обучите модель с заданным количеством деревьев\n",
        "model_rfc_cl.fit(features_train, target_train)\n",
        "\n",
        "\n",
        "print(\"Accuracy наилучшей модели на валидационной выборке:\", model_rfc_cl.score(features_valid,target_valid))\n",
        "predicted_valid = model_rfc_cl.predict(features_valid)\n",
        "print('F1:',f1_score(target_valid, predicted_valid))\n",
        "probabilities_test = model_rfc_cl.predict_proba(features_valid)\n",
        "probabilities_one_test = probabilities_test[:, 1]\n",
        "auc_roc = roc_auc_score(target_valid,probabilities_one_test)\n",
        "print('AUC ROC:',auc_roc)"
      ]
    },
    {
      "cell_type": "markdown",
      "metadata": {
        "id": "hTn5Q2awYR9A"
      },
      "source": [
        "#### Дерево решений"
      ]
    },
    {
      "cell_type": "code",
      "execution_count": null,
      "metadata": {
        "id": "bxt8zBa0YR9B",
        "outputId": "d60da62d-5f1c-4dcc-cf01-b7235d02498d"
      },
      "outputs": [
        {
          "name": "stdout",
          "output_type": "stream",
          "text": [
            "Accuracy наилучшей модели на валидационной выборке: 0.736668499175371\n",
            "F1: 0.5389797882579404\n",
            "AUC ROC: 0.8280787861850533\n"
          ]
        }
      ],
      "source": [
        "model_dtc_cl = DecisionTreeClassifier(random_state=12345, max_depth=7, class_weight='balanced') # обучите модель с заданным количеством деревьев\n",
        "model_dtc_cl.fit(features_train, target_train)\n",
        "\n",
        "\n",
        "print(\"Accuracy наилучшей модели на валидационной выборке:\", model_dtc_cl.score(features_valid,target_valid))\n",
        "predicted_valid = model_dtc_cl.predict(features_valid)\n",
        "print('F1:',f1_score(target_valid, predicted_valid))\n",
        "probabilities_test = model_dtc_cl.predict_proba(features_valid)\n",
        "probabilities_one_test = probabilities_test[:, 1]\n",
        "auc_roc = roc_auc_score(target_valid,probabilities_one_test)\n",
        "print('AUC ROC:',auc_roc)"
      ]
    },
    {
      "cell_type": "markdown",
      "metadata": {
        "id": "My9_o935YR9B"
      },
      "source": [
        "#### Логистическая регрессия"
      ]
    },
    {
      "cell_type": "code",
      "execution_count": null,
      "metadata": {
        "id": "gvCFJ6yjYR9B",
        "outputId": "aaca62b0-b783-439d-dd58-1d0cfc9e9f0e"
      },
      "outputs": [
        {
          "name": "stdout",
          "output_type": "stream",
          "text": [
            "Accuracy наилучшей модели на валидационной выборке: 0.7311709730621221\n",
            "F1: 0.5025432349949135\n",
            "AUC ROC: 0.7817621121435836\n"
          ]
        }
      ],
      "source": [
        "model_lr_cl = LogisticRegression(random_state=12345, solver='liblinear', max_iter=10000, penalty='l2', C=1.0, class_weight='balanced') # обучите модель с заданным количеством деревьев\n",
        "model_lr_cl.fit(features_train, target_train)\n",
        "\n",
        "print(\"Accuracy наилучшей модели на валидационной выборке:\", model_lr_cl.score(features_valid,target_valid))\n",
        "predicted_valid = model_lr_cl.predict(features_valid)\n",
        "print('F1:',f1_score(target_valid, predicted_valid))\n",
        "probabilities_test = model_lr_cl.predict_proba(features_valid)\n",
        "probabilities_one_test = probabilities_test[:, 1]\n",
        "auc_roc = roc_auc_score(target_valid,probabilities_one_test)\n",
        "print('AUC ROC:',auc_roc)"
      ]
    },
    {
      "cell_type": "markdown",
      "metadata": {
        "id": "S9SnKUyIYR9C"
      },
      "source": [
        "#### Метрики лучшей модели"
      ]
    },
    {
      "cell_type": "markdown",
      "metadata": {
        "id": "qkfOSAiVYR9C"
      },
      "source": [
        "Среди рассмотренных выше моделей при взвешивании классов лучше всего F1 было у случайного леса. Найдем другие метрики данной модели."
      ]
    },
    {
      "cell_type": "code",
      "execution_count": null,
      "metadata": {
        "id": "bjGu7ZZwYR9C",
        "outputId": "13b9512f-2353-4abb-bd4f-a83dd55cdc7c"
      },
      "outputs": [
        {
          "name": "stdout",
          "output_type": "stream",
          "text": [
            "Полнота: 0.4586894586894587\n",
            "Точность: 0.71875\n",
            "F1: 0.56\n"
          ]
        }
      ],
      "source": [
        "predicted_valid = model_rfc_cl.predict(features_valid)\n",
        "print('Полнота:',recall_score(target_valid, predicted_valid))\n",
        "print('Точность:',precision_score(target_valid, predicted_valid))\n",
        "print('F1:',f1_score(target_valid, predicted_valid))"
      ]
    },
    {
      "cell_type": "markdown",
      "metadata": {
        "id": "yWlYbXgoYR9D"
      },
      "source": [
        "Были рассмотрены модели с подобранными выше лучшими гиперпараметры и при использовании взвешивании классов. Для модели случайного леса с лучшей F1  не удалось достичь необходимой по заданию F1-меры."
      ]
    },
    {
      "cell_type": "markdown",
      "metadata": {
        "id": "yCITTLdDYR9D"
      },
      "source": [
        "**Вывод:** были рассмотрены несколько способов борьбы с дисбалансом классов: увеличение выборки и взвешивание классов. Лучшая F1 была достигнута при увеличении выборки у модели случайного леса."
      ]
    },
    {
      "cell_type": "markdown",
      "metadata": {
        "id": "VORTfBwgYR9D"
      },
      "source": [
        "## Тестирование модели"
      ]
    },
    {
      "cell_type": "markdown",
      "metadata": {
        "id": "n0KEY2CTYR9E"
      },
      "source": [
        "Найдем метрики лучшей модели на тестовой выборке."
      ]
    },
    {
      "cell_type": "code",
      "execution_count": null,
      "metadata": {
        "id": "nHyW6yi0YR9E",
        "outputId": "3f2f0723-1de1-4d72-c606-a353dcf60123"
      },
      "outputs": [
        {
          "name": "stdout",
          "output_type": "stream",
          "text": [
            "Полнота: 0.6472148541114059\n",
            "Точность: 0.6224489795918368\n",
            "F1: 0.6345903771131339\n"
          ]
        }
      ],
      "source": [
        "predicted_test = model_rfc.predict(features_test)\n",
        "print('Полнота:',recall_score(target_test, predicted_test))\n",
        "print('Точность:',precision_score(target_test, predicted_test))\n",
        "print('F1:',f1_score(target_test, predicted_test))"
      ]
    },
    {
      "cell_type": "markdown",
      "metadata": {
        "id": "IjG1OmSVYR9E"
      },
      "source": [
        "Заданной в начале F1-меры удалось достичь."
      ]
    },
    {
      "cell_type": "code",
      "execution_count": null,
      "metadata": {
        "id": "KuilemJTYR9F",
        "outputId": "0756eced-5b6a-4897-9b8c-a532efbd22b7"
      },
      "outputs": [
        {
          "data": {
            "text/plain": [
              "0.8665401458241678"
            ]
          },
          "execution_count": 27,
          "metadata": {},
          "output_type": "execute_result"
        }
      ],
      "source": [
        "probabilities_test = model_rfc.predict_proba(features_test)\n",
        "probabilities_one_test = probabilities_test[:, 1]\n",
        "auc_roc = roc_auc_score(target_test,probabilities_one_test)\n",
        "auc_roc"
      ]
    },
    {
      "cell_type": "markdown",
      "metadata": {
        "id": "QysLHZK5YR9F"
      },
      "source": [
        "Метрика AUC-ROC лучше, чем у случайной модели, но немного не дотягивает до идеальной 1."
      ]
    },
    {
      "cell_type": "markdown",
      "metadata": {
        "id": "iyR5C0OoYR9G"
      },
      "source": [
        "**Вывод:** выбранная лучшая модель была протестирована на тестовой выборки и достигла необходимых значений метрик."
      ]
    },
    {
      "cell_type": "markdown",
      "metadata": {
        "id": "FaJASadoYR9G"
      },
      "source": [
        "## Вывод"
      ]
    },
    {
      "cell_type": "markdown",
      "metadata": {
        "id": "61Vs6hQGYR9G"
      },
      "source": [
        "\n",
        "В данном проекте рассматриваются исторические данные о поведении клиентов и расторжении договоров с банком. Необходимо было построить модель (с предельно большим значением F1-меры, необходимо довести до 0.59), которая прогнозировала, уйдёт клиент из банка в ближайшее время или нет. \n",
        "\n",
        "1. Подготовка данных\n",
        "\n",
        "Файл содержит данные по 10000 исторических данных, каждый из которых описывается 14 признаками (11 количественных и 3 строчных). \n",
        "Была проведена предварительная обработка данных:\n",
        "\n",
        "1) Были удалены строки с пропусками в признаке Tenure (сколько лет человек является клиентом банка), т.к. не представляется возможным восстановить эти данные. \n",
        "\n",
        "2) Дубликатов не обнаружено.\n",
        "\n",
        "3) В файле были свойства, которые не только не были важны для обучения модели, но и могли послужить причиной ошибок, если их учиывать: индекс строки в данных, уникальный идентификатор клиента и фамилия. Эти столбцы были удалены.\n",
        "\n",
        "4) После удаления фамилий 2 категориальных столбца: пол и география, были закодированы с помощью OHE.\n",
        "\n",
        "5) Данные были разбиты на обучающую, валидационную и тестовую выборки в соотношение 3:1:1 соответсвенно. \n",
        "\n",
        "6) Были масштабированы численные методы, чтобы дисперсия и среднее были равны 1.\n",
        "\n",
        "Из гистограмы целевого признака Exited было обнаружено, что в исходных данных наблюдается дисбалансов классов, т.к. примерно 8000 записей относятся к нулевому классу, а оставшиеся 2000 к единичному. В дальнейшем была проведена работа для устранениядисбаланса.\n",
        "\n",
        "\n",
        "2. Исследование задачи\n",
        "\n",
        "Для исследовании задачи с несбалансированными классами были обучены три модели: случайного леса, логистической регрессии и дерева решений, находя их \"лучшие\" гиперпарметры. \n",
        "\n",
        "Для выявленных гиперпарметров лучшей модели у *случайного леса* количество деревьев = 81 и максимальная глубина = 12, Accuracy составила 0.87, F1 0.58, AUC ROC 0.59.\n",
        "\n",
        "Для выявленных гиперпарметров лучшей модели у *логистической регрессии* штраф = l2 и С = 0.3, Accuracy составила 0.83, F1 0.32, AUC ROC 0.32.\n",
        "\n",
        "Для выявленного гиперпарметра лучшей модели у *дерева решений* глубина = 6 , Accuracy составила 0.86, F1 0.53, AUC ROC 0.53.\n",
        "\n",
        "Среди рассмотренных выше моделей лучше всего accuancy было у случайного леса. Ее метрики:\n",
        "* Полнота: 0.46\n",
        "* Точность: 0.81\n",
        "* F1: 0.58\n",
        "\n",
        "Для модели с лучшей accurancy не удалось достичь необходимой по заданию F1-меры.\n",
        "\n",
        "\n",
        "3. Борьба с дисбалансом\n",
        "\n",
        "Для борьбы с дисбалансом было использовано несколько способв: увеличение выборки и взвешивание классов.\n",
        "\n",
        "При использовании *увеличении выборки* были обучены три модели: случайного леса, логистической регрессии и дерева решений, с лучшими гиперпараметрами подобранными ранее. Их F1 0.59, 0.50 и 0.54 соответсвенно.\n",
        "\n",
        "Кк видно, среди рассмотренных выше моделей при использовании увеличении выборки лучше всего F1 было у случайного леса. Другие метрики данной модели:\n",
        "* Полнота: 0.72\n",
        "* Точность: 0.46\n",
        "* F1: 0.56\n",
        "* AUC ROC: 0.59\n",
        "\n",
        "Таким образом, удалось достичь необходимой по заданию F1-меры.\n",
        "\n",
        "При использовании *взвешивании классов* были обучены три модели: случайного леса, дерева решений и логистической регрессии с лучшими гиперпараметрами подобранными ранее. Их F1 0.60, 0.54 и 0.50 соответственно.\n",
        "\n",
        "Среди рассмотренных выше моделей при взвешивании классов лучше всего accurancy было у случайного леса. Другие метрики данной модели:\n",
        "* Полнота: 0.54\n",
        "* Точность: 0.68\n",
        "* F1: 0.61\n",
        "* AUC ROC: 0.61\n",
        "\n",
        "Таким образом, лучшей F1-меры удалось достичь при взвешивании классов у модели случайного леса.\n",
        "\n",
        "\n",
        "4. Тестирование модели\n",
        "\n",
        "Найденные метрики лучшей модели на тестовой выборке:\n",
        "* Полнота: 0.55\n",
        "* Точность: 0.70\n",
        "* F1: 0.62\n",
        "\n",
        "То есть, Заданной в начале F1-меры удалось достичь при использовании взвешенных классов у модели случайного леса с параметрами количество деревьев = 81 и максимальная глубина = 12.\n",
        "Метрика AUC-ROC для данной модели 0.86, что лучше, чем у случайной модели, но немного не дотягивает до идеальной 1.\n",
        "\n",
        "Таким образом, выбранная лучшая модель была протестирована на тестовой выборки и достигла необходимых значений метрик."
      ]
    },
    {
      "cell_type": "code",
      "execution_count": null,
      "metadata": {
        "id": "DPDZBpCHYR9H"
      },
      "outputs": [],
      "source": []
    }
  ],
  "metadata": {
    "ExecuteTimeLog": [
      {
        "duration": 455,
        "start_time": "2022-12-19T09:14:51.679Z"
      },
      {
        "duration": 180,
        "start_time": "2022-12-19T09:15:20.823Z"
      },
      {
        "duration": 20,
        "start_time": "2022-12-19T09:15:38.206Z"
      },
      {
        "duration": 1325,
        "start_time": "2022-12-19T09:25:50.014Z"
      },
      {
        "duration": 1225,
        "start_time": "2022-12-19T15:17:49.008Z"
      },
      {
        "duration": 8,
        "start_time": "2022-12-19T15:19:22.303Z"
      },
      {
        "duration": 12,
        "start_time": "2022-12-19T15:19:48.676Z"
      },
      {
        "duration": 13,
        "start_time": "2022-12-19T15:23:12.726Z"
      },
      {
        "duration": 10,
        "start_time": "2022-12-19T15:23:39.289Z"
      },
      {
        "duration": 8,
        "start_time": "2022-12-19T15:27:58.224Z"
      },
      {
        "duration": 18,
        "start_time": "2022-12-19T15:28:27.745Z"
      },
      {
        "duration": 5,
        "start_time": "2022-12-19T15:29:31.612Z"
      },
      {
        "duration": 778,
        "start_time": "2022-12-19T15:37:51.921Z"
      },
      {
        "duration": 1210,
        "start_time": "2022-12-19T15:38:12.225Z"
      },
      {
        "duration": 8,
        "start_time": "2022-12-19T15:38:33.855Z"
      },
      {
        "duration": 44,
        "start_time": "2022-12-19T15:39:57.747Z"
      },
      {
        "duration": 16,
        "start_time": "2022-12-19T15:43:39.267Z"
      },
      {
        "duration": 7,
        "start_time": "2022-12-19T15:44:11.731Z"
      },
      {
        "duration": 9,
        "start_time": "2022-12-19T15:44:13.191Z"
      },
      {
        "duration": 232218,
        "start_time": "2022-12-19T15:44:23.403Z"
      },
      {
        "duration": 23190,
        "start_time": "2022-12-19T15:48:15.623Z"
      },
      {
        "duration": 2392,
        "start_time": "2022-12-19T15:48:38.819Z"
      },
      {
        "duration": 30032,
        "start_time": "2022-12-19T15:49:52.153Z"
      },
      {
        "duration": 85,
        "start_time": "2022-12-19T15:51:07.641Z"
      },
      {
        "duration": 30029,
        "start_time": "2022-12-19T15:51:13.837Z"
      },
      {
        "duration": 2,
        "start_time": "2022-12-19T16:35:13.552Z"
      },
      {
        "duration": 3,
        "start_time": "2022-12-19T16:36:11.877Z"
      },
      {
        "duration": 3,
        "start_time": "2022-12-19T16:37:22.794Z"
      },
      {
        "duration": 41,
        "start_time": "2022-12-19T16:37:43.146Z"
      },
      {
        "duration": 170321,
        "start_time": "2022-12-19T16:39:47.052Z"
      },
      {
        "duration": 73,
        "start_time": "2022-12-19T16:42:50.192Z"
      },
      {
        "duration": 49,
        "start_time": "2022-12-19T16:42:56.673Z"
      },
      {
        "duration": 4,
        "start_time": "2022-12-19T16:47:58.544Z"
      },
      {
        "duration": 20,
        "start_time": "2022-12-19T16:47:59.756Z"
      },
      {
        "duration": 21,
        "start_time": "2022-12-19T16:48:22.034Z"
      },
      {
        "duration": 4,
        "start_time": "2022-12-19T16:48:29.579Z"
      },
      {
        "duration": 22,
        "start_time": "2022-12-19T16:48:30.577Z"
      },
      {
        "duration": 4,
        "start_time": "2022-12-19T16:48:36.078Z"
      },
      {
        "duration": 6,
        "start_time": "2022-12-19T16:48:42.404Z"
      },
      {
        "duration": 14,
        "start_time": "2022-12-19T16:48:43.466Z"
      },
      {
        "duration": 875,
        "start_time": "2022-12-19T16:51:01.375Z"
      },
      {
        "duration": 11,
        "start_time": "2022-12-19T16:52:29.382Z"
      },
      {
        "duration": 832,
        "start_time": "2022-12-19T16:52:35.089Z"
      },
      {
        "duration": 814,
        "start_time": "2022-12-19T16:52:56.829Z"
      },
      {
        "duration": 830,
        "start_time": "2022-12-19T16:53:06.933Z"
      },
      {
        "duration": 34,
        "start_time": "2022-12-19T16:54:04.241Z"
      },
      {
        "duration": 31,
        "start_time": "2022-12-19T16:54:13.828Z"
      },
      {
        "duration": 42,
        "start_time": "2022-12-19T16:55:18.191Z"
      },
      {
        "duration": 852,
        "start_time": "2022-12-19T16:56:53.385Z"
      },
      {
        "duration": 63,
        "start_time": "2022-12-19T16:56:55.712Z"
      },
      {
        "duration": 35,
        "start_time": "2022-12-19T16:56:57.084Z"
      },
      {
        "duration": 47,
        "start_time": "2022-12-19T16:56:59.515Z"
      },
      {
        "duration": 816,
        "start_time": "2022-12-19T17:45:58.133Z"
      },
      {
        "duration": 55,
        "start_time": "2022-12-19T17:46:01.094Z"
      },
      {
        "duration": 33,
        "start_time": "2022-12-19T17:46:03.746Z"
      },
      {
        "duration": 57,
        "start_time": "2022-12-19T17:46:10.375Z"
      },
      {
        "duration": 3,
        "start_time": "2022-12-19T17:46:59.036Z"
      },
      {
        "duration": 1101,
        "start_time": "2022-12-20T05:18:20.711Z"
      },
      {
        "duration": 174,
        "start_time": "2022-12-20T05:18:21.815Z"
      },
      {
        "duration": 27,
        "start_time": "2022-12-20T05:18:21.991Z"
      },
      {
        "duration": 1702,
        "start_time": "2022-12-20T05:18:22.020Z"
      },
      {
        "duration": 8,
        "start_time": "2022-12-20T05:18:23.723Z"
      },
      {
        "duration": 31,
        "start_time": "2022-12-20T05:18:23.732Z"
      },
      {
        "duration": 47,
        "start_time": "2022-12-20T05:18:23.764Z"
      },
      {
        "duration": 24,
        "start_time": "2022-12-20T05:18:23.812Z"
      },
      {
        "duration": 43,
        "start_time": "2022-12-20T05:18:23.837Z"
      },
      {
        "duration": 58,
        "start_time": "2022-12-20T05:18:23.883Z"
      },
      {
        "duration": 61,
        "start_time": "2022-12-20T05:18:23.943Z"
      },
      {
        "duration": 122,
        "start_time": "2022-12-20T05:18:31.790Z"
      },
      {
        "duration": 28,
        "start_time": "2022-12-20T05:18:38.446Z"
      },
      {
        "duration": 4,
        "start_time": "2022-12-20T05:18:48.924Z"
      },
      {
        "duration": 74,
        "start_time": "2022-12-20T05:18:48.930Z"
      },
      {
        "duration": 15,
        "start_time": "2022-12-20T05:18:49.006Z"
      },
      {
        "duration": 1163,
        "start_time": "2022-12-20T05:18:49.023Z"
      },
      {
        "duration": 6,
        "start_time": "2022-12-20T05:18:50.189Z"
      },
      {
        "duration": 14,
        "start_time": "2022-12-20T05:18:50.197Z"
      },
      {
        "duration": 11,
        "start_time": "2022-12-20T05:18:50.212Z"
      },
      {
        "duration": 10,
        "start_time": "2022-12-20T05:18:50.225Z"
      },
      {
        "duration": 7,
        "start_time": "2022-12-20T05:18:50.237Z"
      },
      {
        "duration": 43,
        "start_time": "2022-12-20T05:18:50.245Z"
      },
      {
        "duration": 7,
        "start_time": "2022-12-20T05:18:50.291Z"
      },
      {
        "duration": 32,
        "start_time": "2022-12-20T05:18:50.299Z"
      },
      {
        "duration": 168216,
        "start_time": "2022-12-20T05:18:50.332Z"
      },
      {
        "duration": 7139,
        "start_time": "2022-12-20T05:21:38.549Z"
      },
      {
        "duration": 2419,
        "start_time": "2022-12-20T05:21:45.694Z"
      },
      {
        "duration": 43,
        "start_time": "2022-12-20T05:21:48.115Z"
      },
      {
        "duration": 3,
        "start_time": "2022-12-20T05:21:48.160Z"
      },
      {
        "duration": 26,
        "start_time": "2022-12-20T05:21:48.165Z"
      },
      {
        "duration": 809,
        "start_time": "2022-12-20T05:21:48.193Z"
      },
      {
        "duration": 36,
        "start_time": "2022-12-20T05:21:49.004Z"
      },
      {
        "duration": 117,
        "start_time": "2022-12-20T05:21:49.079Z"
      },
      {
        "duration": 51,
        "start_time": "2022-12-20T05:22:16.467Z"
      },
      {
        "duration": 604,
        "start_time": "2022-12-20T05:23:43.520Z"
      },
      {
        "duration": 24,
        "start_time": "2022-12-20T05:24:18.143Z"
      },
      {
        "duration": 25,
        "start_time": "2022-12-20T05:24:39.754Z"
      },
      {
        "duration": 43,
        "start_time": "2022-12-20T05:24:53.147Z"
      },
      {
        "duration": 52,
        "start_time": "2022-12-20T05:26:01.897Z"
      },
      {
        "duration": 55,
        "start_time": "2022-12-24T09:45:26.337Z"
      },
      {
        "duration": 1170,
        "start_time": "2022-12-24T09:45:31.316Z"
      },
      {
        "duration": 88,
        "start_time": "2022-12-24T09:45:32.487Z"
      },
      {
        "duration": 24,
        "start_time": "2022-12-24T09:45:32.577Z"
      },
      {
        "duration": 1723,
        "start_time": "2022-12-24T09:45:32.604Z"
      },
      {
        "duration": 8,
        "start_time": "2022-12-24T09:45:34.329Z"
      },
      {
        "duration": 16,
        "start_time": "2022-12-24T09:45:34.338Z"
      },
      {
        "duration": 13,
        "start_time": "2022-12-24T09:45:34.356Z"
      },
      {
        "duration": 4,
        "start_time": "2022-12-24T09:45:34.371Z"
      },
      {
        "duration": 43,
        "start_time": "2022-12-24T09:45:34.377Z"
      },
      {
        "duration": 7,
        "start_time": "2022-12-24T09:45:34.423Z"
      },
      {
        "duration": 28,
        "start_time": "2022-12-24T09:45:34.432Z"
      },
      {
        "duration": 174848,
        "start_time": "2022-12-24T09:45:34.461Z"
      },
      {
        "duration": 21205,
        "start_time": "2022-12-24T09:48:29.311Z"
      },
      {
        "duration": 2507,
        "start_time": "2022-12-24T09:48:50.518Z"
      },
      {
        "duration": 41,
        "start_time": "2022-12-24T09:48:53.026Z"
      },
      {
        "duration": 3,
        "start_time": "2022-12-24T09:48:53.069Z"
      },
      {
        "duration": 15,
        "start_time": "2022-12-24T09:48:53.073Z"
      },
      {
        "duration": 849,
        "start_time": "2022-12-24T09:48:53.089Z"
      },
      {
        "duration": 38,
        "start_time": "2022-12-24T09:48:53.940Z"
      },
      {
        "duration": 123,
        "start_time": "2022-12-24T09:48:54.017Z"
      },
      {
        "duration": 46,
        "start_time": "2022-12-24T09:48:54.142Z"
      },
      {
        "duration": 489,
        "start_time": "2022-12-24T09:48:54.190Z"
      },
      {
        "duration": 22,
        "start_time": "2022-12-24T09:48:54.681Z"
      },
      {
        "duration": 37,
        "start_time": "2022-12-24T09:48:54.705Z"
      },
      {
        "duration": 137,
        "start_time": "2022-12-24T09:48:54.816Z"
      },
      {
        "duration": 61,
        "start_time": "2022-12-24T09:48:54.955Z"
      },
      {
        "duration": 107,
        "start_time": "2022-12-24T09:49:27.165Z"
      },
      {
        "duration": 53,
        "start_time": "2022-12-24T09:49:33.430Z"
      },
      {
        "duration": 39,
        "start_time": "2022-12-24T09:52:13.460Z"
      },
      {
        "duration": 47,
        "start_time": "2022-12-24T09:54:57.023Z"
      },
      {
        "duration": 61,
        "start_time": "2022-12-25T06:30:02.591Z"
      },
      {
        "duration": 1147,
        "start_time": "2022-12-25T06:30:07.462Z"
      },
      {
        "duration": 89,
        "start_time": "2022-12-25T06:30:08.611Z"
      },
      {
        "duration": 23,
        "start_time": "2022-12-25T06:30:08.702Z"
      },
      {
        "duration": 1879,
        "start_time": "2022-12-25T06:30:08.727Z"
      },
      {
        "duration": 887,
        "start_time": "2022-12-25T06:30:13.548Z"
      },
      {
        "duration": 15,
        "start_time": "2022-12-25T06:30:26.425Z"
      },
      {
        "duration": 7,
        "start_time": "2022-12-25T06:36:19.543Z"
      },
      {
        "duration": 15,
        "start_time": "2022-12-25T06:36:20.631Z"
      },
      {
        "duration": 16,
        "start_time": "2022-12-25T06:36:22.711Z"
      },
      {
        "duration": 5,
        "start_time": "2022-12-25T06:36:25.632Z"
      },
      {
        "duration": 25,
        "start_time": "2022-12-25T06:36:26.736Z"
      },
      {
        "duration": 9,
        "start_time": "2022-12-25T06:36:30.185Z"
      },
      {
        "duration": 32,
        "start_time": "2022-12-25T06:36:32.298Z"
      },
      {
        "duration": 194517,
        "start_time": "2022-12-25T06:36:46.795Z"
      },
      {
        "duration": 182182,
        "start_time": "2022-12-25T07:15:09.975Z"
      },
      {
        "duration": 55,
        "start_time": "2022-12-25T07:22:50.211Z"
      },
      {
        "duration": 10647,
        "start_time": "2022-12-25T07:23:26.390Z"
      },
      {
        "duration": 2530,
        "start_time": "2022-12-25T07:25:07.787Z"
      },
      {
        "duration": 43,
        "start_time": "2022-12-25T07:25:32.059Z"
      },
      {
        "duration": 5,
        "start_time": "2022-12-25T07:27:05.089Z"
      },
      {
        "duration": 10,
        "start_time": "2022-12-25T07:27:09.097Z"
      },
      {
        "duration": 671,
        "start_time": "2022-12-25T07:28:58.055Z"
      },
      {
        "duration": 730,
        "start_time": "2022-12-25T07:29:06.977Z"
      },
      {
        "duration": 118,
        "start_time": "2022-12-25T07:29:10.921Z"
      },
      {
        "duration": 38,
        "start_time": "2022-12-25T07:29:39.032Z"
      },
      {
        "duration": 53,
        "start_time": "2022-12-25T07:30:15.537Z"
      },
      {
        "duration": 595,
        "start_time": "2022-12-25T07:31:04.180Z"
      },
      {
        "duration": 35,
        "start_time": "2022-12-25T07:31:18.517Z"
      },
      {
        "duration": 307,
        "start_time": "2022-12-25T07:31:38.739Z"
      },
      {
        "duration": 52,
        "start_time": "2022-12-25T07:32:02.641Z"
      },
      {
        "duration": 49,
        "start_time": "2022-12-25T07:32:19.642Z"
      },
      {
        "duration": 47,
        "start_time": "2022-12-25T07:32:22.925Z"
      },
      {
        "duration": 1896,
        "start_time": "2022-12-25T11:53:30.503Z"
      },
      {
        "duration": 188,
        "start_time": "2022-12-25T11:53:32.402Z"
      },
      {
        "duration": 20,
        "start_time": "2022-12-25T11:53:32.591Z"
      },
      {
        "duration": 1547,
        "start_time": "2022-12-25T11:53:32.613Z"
      },
      {
        "duration": 9,
        "start_time": "2022-12-25T11:53:34.162Z"
      },
      {
        "duration": 15,
        "start_time": "2022-12-25T11:53:34.172Z"
      },
      {
        "duration": 40,
        "start_time": "2022-12-25T11:53:34.188Z"
      },
      {
        "duration": 21,
        "start_time": "2022-12-25T11:53:34.230Z"
      },
      {
        "duration": 20,
        "start_time": "2022-12-25T11:53:34.253Z"
      },
      {
        "duration": 8,
        "start_time": "2022-12-25T11:53:34.275Z"
      },
      {
        "duration": 50,
        "start_time": "2022-12-25T11:53:34.284Z"
      },
      {
        "duration": 174408,
        "start_time": "2022-12-25T11:53:34.336Z"
      },
      {
        "duration": 13289,
        "start_time": "2022-12-25T11:56:28.746Z"
      },
      {
        "duration": 2501,
        "start_time": "2022-12-25T11:56:42.040Z"
      },
      {
        "duration": 39,
        "start_time": "2022-12-25T11:56:44.542Z"
      },
      {
        "duration": 4,
        "start_time": "2022-12-25T11:56:44.583Z"
      },
      {
        "duration": 10,
        "start_time": "2022-12-25T11:56:44.589Z"
      },
      {
        "duration": 38,
        "start_time": "2022-12-25T11:56:44.601Z"
      },
      {
        "duration": 705,
        "start_time": "2022-12-25T11:56:44.641Z"
      },
      {
        "duration": 88,
        "start_time": "2022-12-25T11:56:45.348Z"
      },
      {
        "duration": 189,
        "start_time": "2022-12-25T11:56:45.438Z"
      },
      {
        "duration": 46,
        "start_time": "2022-12-25T11:56:45.629Z"
      },
      {
        "duration": 540,
        "start_time": "2022-12-25T11:56:45.676Z"
      },
      {
        "duration": 31,
        "start_time": "2022-12-25T11:56:46.223Z"
      },
      {
        "duration": 167,
        "start_time": "2022-12-25T11:56:46.256Z"
      },
      {
        "duration": 122,
        "start_time": "2022-12-25T11:56:46.425Z"
      },
      {
        "duration": 43,
        "start_time": "2022-12-25T11:56:46.549Z"
      },
      {
        "duration": 66,
        "start_time": "2022-12-25T11:56:46.594Z"
      },
      {
        "duration": 1194,
        "start_time": "2022-12-25T12:33:55.559Z"
      },
      {
        "duration": 399,
        "start_time": "2022-12-25T12:33:56.755Z"
      },
      {
        "duration": 28,
        "start_time": "2022-12-25T12:33:57.156Z"
      },
      {
        "duration": 1788,
        "start_time": "2022-12-25T12:33:57.186Z"
      },
      {
        "duration": 9,
        "start_time": "2022-12-25T12:33:58.976Z"
      },
      {
        "duration": 40,
        "start_time": "2022-12-25T12:33:58.986Z"
      },
      {
        "duration": 37,
        "start_time": "2022-12-25T12:33:59.027Z"
      },
      {
        "duration": 24,
        "start_time": "2022-12-25T12:33:59.066Z"
      },
      {
        "duration": 65,
        "start_time": "2022-12-25T12:33:59.092Z"
      },
      {
        "duration": 12,
        "start_time": "2022-12-25T12:33:59.159Z"
      },
      {
        "duration": 66,
        "start_time": "2022-12-25T12:33:59.172Z"
      },
      {
        "duration": 219,
        "start_time": "2022-12-25T12:34:06.076Z"
      },
      {
        "duration": 85,
        "start_time": "2022-12-25T12:34:37.502Z"
      },
      {
        "duration": 100,
        "start_time": "2022-12-25T12:34:54.533Z"
      },
      {
        "duration": 118,
        "start_time": "2022-12-25T12:36:23.026Z"
      },
      {
        "duration": 181495,
        "start_time": "2022-12-25T12:38:27.685Z"
      },
      {
        "duration": 175580,
        "start_time": "2022-12-25T12:42:34.737Z"
      },
      {
        "duration": 71,
        "start_time": "2022-12-25T12:48:20.921Z"
      },
      {
        "duration": 7643,
        "start_time": "2022-12-25T12:49:14.475Z"
      },
      {
        "duration": 2311,
        "start_time": "2022-12-25T12:51:08.568Z"
      },
      {
        "duration": 39,
        "start_time": "2022-12-25T12:51:28.689Z"
      },
      {
        "duration": 12,
        "start_time": "2022-12-25T12:51:59.479Z"
      },
      {
        "duration": 44,
        "start_time": "2022-12-25T12:52:09.283Z"
      },
      {
        "duration": 4,
        "start_time": "2022-12-25T12:52:13.563Z"
      },
      {
        "duration": 12,
        "start_time": "2022-12-25T12:52:16.888Z"
      },
      {
        "duration": 766,
        "start_time": "2022-12-25T12:52:18.178Z"
      },
      {
        "duration": 720,
        "start_time": "2022-12-25T12:53:01.134Z"
      },
      {
        "duration": 34,
        "start_time": "2022-12-25T12:53:41.489Z"
      },
      {
        "duration": 126,
        "start_time": "2022-12-25T12:53:51.193Z"
      },
      {
        "duration": 35,
        "start_time": "2022-12-25T12:54:13.922Z"
      },
      {
        "duration": 51,
        "start_time": "2022-12-25T12:54:43.726Z"
      },
      {
        "duration": 531,
        "start_time": "2022-12-25T12:55:35.126Z"
      },
      {
        "duration": 41,
        "start_time": "2022-12-25T12:56:11.857Z"
      },
      {
        "duration": 34,
        "start_time": "2022-12-25T12:56:48.393Z"
      },
      {
        "duration": 594,
        "start_time": "2022-12-25T12:58:16.587Z"
      },
      {
        "duration": 28,
        "start_time": "2022-12-25T12:58:39.009Z"
      },
      {
        "duration": 127,
        "start_time": "2022-12-25T12:58:56.690Z"
      },
      {
        "duration": 54,
        "start_time": "2022-12-25T12:59:35.895Z"
      },
      {
        "duration": 49,
        "start_time": "2022-12-25T13:00:13.047Z"
      },
      {
        "duration": 45,
        "start_time": "2022-12-25T13:00:23.286Z"
      },
      {
        "duration": 660,
        "start_time": "2022-12-25T13:00:58.130Z"
      },
      {
        "duration": 42,
        "start_time": "2022-12-25T13:01:06.139Z"
      },
      {
        "duration": 45,
        "start_time": "2022-12-25T13:01:17.326Z"
      },
      {
        "duration": 42,
        "start_time": "2022-12-25T13:01:47.969Z"
      },
      {
        "duration": 1134,
        "start_time": "2022-12-26T09:15:26.494Z"
      },
      {
        "duration": 93,
        "start_time": "2022-12-26T09:15:27.630Z"
      },
      {
        "duration": 21,
        "start_time": "2022-12-26T09:15:27.725Z"
      },
      {
        "duration": 1661,
        "start_time": "2022-12-26T09:15:27.747Z"
      },
      {
        "duration": 7,
        "start_time": "2022-12-26T09:15:29.411Z"
      },
      {
        "duration": 18,
        "start_time": "2022-12-26T09:15:29.419Z"
      },
      {
        "duration": 14,
        "start_time": "2022-12-26T09:15:29.439Z"
      },
      {
        "duration": 24,
        "start_time": "2022-12-26T09:15:29.455Z"
      },
      {
        "duration": 27,
        "start_time": "2022-12-26T09:15:29.480Z"
      },
      {
        "duration": 7,
        "start_time": "2022-12-26T09:15:29.509Z"
      },
      {
        "duration": 35,
        "start_time": "2022-12-26T09:15:29.518Z"
      },
      {
        "duration": 106457,
        "start_time": "2022-12-26T09:15:29.555Z"
      },
      {
        "duration": 6304,
        "start_time": "2022-12-26T09:17:16.014Z"
      },
      {
        "duration": 2597,
        "start_time": "2022-12-26T09:17:22.322Z"
      },
      {
        "duration": 57,
        "start_time": "2022-12-26T09:17:24.921Z"
      },
      {
        "duration": 4,
        "start_time": "2022-12-26T09:17:24.979Z"
      },
      {
        "duration": 34,
        "start_time": "2022-12-26T09:17:24.985Z"
      },
      {
        "duration": 39,
        "start_time": "2022-12-26T09:17:25.021Z"
      },
      {
        "duration": 771,
        "start_time": "2022-12-26T09:17:25.062Z"
      },
      {
        "duration": 54,
        "start_time": "2022-12-26T09:17:25.835Z"
      },
      {
        "duration": 132,
        "start_time": "2022-12-26T09:17:25.978Z"
      },
      {
        "duration": 55,
        "start_time": "2022-12-26T09:17:26.112Z"
      },
      {
        "duration": 624,
        "start_time": "2022-12-26T09:17:26.169Z"
      },
      {
        "duration": 32,
        "start_time": "2022-12-26T09:17:26.795Z"
      },
      {
        "duration": 59,
        "start_time": "2022-12-26T09:17:26.828Z"
      },
      {
        "duration": 141,
        "start_time": "2022-12-26T09:17:26.979Z"
      },
      {
        "duration": 62,
        "start_time": "2022-12-26T09:17:27.121Z"
      },
      {
        "duration": 45,
        "start_time": "2022-12-26T09:17:27.184Z"
      },
      {
        "duration": 1234,
        "start_time": "2023-03-11T06:15:26.417Z"
      },
      {
        "duration": 165,
        "start_time": "2023-03-11T06:15:32.878Z"
      },
      {
        "duration": 23,
        "start_time": "2023-03-11T06:15:38.748Z"
      },
      {
        "duration": 2039,
        "start_time": "2023-03-11T06:15:40.315Z"
      },
      {
        "duration": 10,
        "start_time": "2023-03-11T06:16:06.507Z"
      },
      {
        "duration": 16,
        "start_time": "2023-03-11T06:16:07.511Z"
      },
      {
        "duration": 16,
        "start_time": "2023-03-11T06:16:10.257Z"
      },
      {
        "duration": 5,
        "start_time": "2023-03-11T06:16:14.006Z"
      },
      {
        "duration": 28,
        "start_time": "2023-03-11T06:16:15.030Z"
      },
      {
        "duration": 11,
        "start_time": "2023-03-11T06:16:20.571Z"
      },
      {
        "duration": 37,
        "start_time": "2023-03-11T06:16:24.857Z"
      },
      {
        "duration": 203867,
        "start_time": "2023-03-11T06:16:29.656Z"
      },
      {
        "duration": 19123,
        "start_time": "2023-03-11T06:19:53.525Z"
      },
      {
        "duration": 3080,
        "start_time": "2023-03-11T06:20:12.659Z"
      },
      {
        "duration": 57,
        "start_time": "2023-03-11T06:20:15.747Z"
      },
      {
        "duration": 4,
        "start_time": "2023-03-11T06:20:15.807Z"
      },
      {
        "duration": 29,
        "start_time": "2023-03-11T06:20:15.812Z"
      },
      {
        "duration": 868,
        "start_time": "2023-03-11T06:20:15.845Z"
      },
      {
        "duration": 145,
        "start_time": "2023-03-11T06:20:16.714Z"
      },
      {
        "duration": 205,
        "start_time": "2023-03-11T06:20:16.869Z"
      },
      {
        "duration": 49,
        "start_time": "2023-03-11T06:20:17.076Z"
      },
      {
        "duration": 874,
        "start_time": "2023-03-11T06:20:17.127Z"
      },
      {
        "duration": 45,
        "start_time": "2023-03-11T06:20:18.003Z"
      },
      {
        "duration": 112,
        "start_time": "2023-03-11T06:20:18.051Z"
      },
      {
        "duration": 225,
        "start_time": "2023-03-11T06:20:18.170Z"
      },
      {
        "duration": 55,
        "start_time": "2023-03-11T06:20:18.397Z"
      },
      {
        "duration": 54,
        "start_time": "2023-03-11T06:20:18.454Z"
      }
    ],
    "kernelspec": {
      "display_name": "Python 3 (ipykernel)",
      "language": "python",
      "name": "python3"
    },
    "language_info": {
      "codemirror_mode": {
        "name": "ipython",
        "version": 3
      },
      "file_extension": ".py",
      "mimetype": "text/x-python",
      "name": "python",
      "nbconvert_exporter": "python",
      "pygments_lexer": "ipython3",
      "version": "3.9.5"
    },
    "toc": {
      "base_numbering": 1,
      "nav_menu": {},
      "number_sections": true,
      "sideBar": true,
      "skip_h1_title": true,
      "title_cell": "Содержание",
      "title_sidebar": "Contents",
      "toc_cell": true,
      "toc_position": {
        "height": "calc(100% - 180px)",
        "left": "10px",
        "top": "150px",
        "width": "165px"
      },
      "toc_section_display": true,
      "toc_window_display": true
    },
    "colab": {
      "provenance": []
    }
  },
  "nbformat": 4,
  "nbformat_minor": 0
}