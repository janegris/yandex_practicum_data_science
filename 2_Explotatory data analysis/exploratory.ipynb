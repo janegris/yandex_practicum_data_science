{
  "cells": [
    {
      "cell_type": "markdown",
      "metadata": {
        "id": "Dztpu58L_nZI"
      },
      "source": [
        "# Исследование объявлений о продаже квартир\n",
        "\n",
        "В вашем распоряжении данные сервиса Яндекс.Недвижимость — архив объявлений о продаже квартир в Санкт-Петербурге и соседних населённых пунктов за несколько лет. Нужно научиться определять рыночную стоимость объектов недвижимости. Ваша задача — установить параметры. Это позволит построить автоматизированную систему: она отследит аномалии и мошенническую деятельность. \n",
        "\n",
        "По каждой квартире на продажу доступны два вида данных. Первые вписаны пользователем, вторые — получены автоматически на основе картографических данных. Например, расстояние до центра, аэропорта, ближайшего парка и водоёма. "
      ]
    },
    {
      "cell_type": "markdown",
      "metadata": {
        "id": "iEZcLLrl_nZK"
      },
      "source": [
        "### Откройте файл с данными и изучите общую информацию. "
      ]
    },
    {
      "cell_type": "code",
      "execution_count": null,
      "metadata": {
        "id": "XtI5BnuL_nZy"
      },
      "outputs": [],
      "source": [
        "import pandas as pd\n",
        "import seaborn as sns\n",
        "import matplotlib.pyplot as plt"
      ]
    },
    {
      "cell_type": "code",
      "execution_count": null,
      "metadata": {
        "id": "-4mpt3Jo_nZL",
        "outputId": "d1b2552b-711a-4085-e66e-a1367666de99"
      },
      "outputs": [
        {
          "data": {
            "text/html": [
              "<div>\n",
              "<style scoped>\n",
              "    .dataframe tbody tr th:only-of-type {\n",
              "        vertical-align: middle;\n",
              "    }\n",
              "\n",
              "    .dataframe tbody tr th {\n",
              "        vertical-align: top;\n",
              "    }\n",
              "\n",
              "    .dataframe thead th {\n",
              "        text-align: right;\n",
              "    }\n",
              "</style>\n",
              "<table border=\"1\" class=\"dataframe\">\n",
              "  <thead>\n",
              "    <tr style=\"text-align: right;\">\n",
              "      <th></th>\n",
              "      <th>total_images</th>\n",
              "      <th>last_price</th>\n",
              "      <th>total_area</th>\n",
              "      <th>first_day_exposition</th>\n",
              "      <th>rooms</th>\n",
              "      <th>ceiling_height</th>\n",
              "      <th>floors_total</th>\n",
              "      <th>living_area</th>\n",
              "      <th>floor</th>\n",
              "      <th>is_apartment</th>\n",
              "      <th>...</th>\n",
              "      <th>kitchen_area</th>\n",
              "      <th>balcony</th>\n",
              "      <th>locality_name</th>\n",
              "      <th>airports_nearest</th>\n",
              "      <th>cityCenters_nearest</th>\n",
              "      <th>parks_around3000</th>\n",
              "      <th>parks_nearest</th>\n",
              "      <th>ponds_around3000</th>\n",
              "      <th>ponds_nearest</th>\n",
              "      <th>days_exposition</th>\n",
              "    </tr>\n",
              "  </thead>\n",
              "  <tbody>\n",
              "    <tr>\n",
              "      <th>0</th>\n",
              "      <td>20</td>\n",
              "      <td>13000000.0</td>\n",
              "      <td>108.00</td>\n",
              "      <td>2019-03-07T00:00:00</td>\n",
              "      <td>3</td>\n",
              "      <td>2.70</td>\n",
              "      <td>16.0</td>\n",
              "      <td>51.00</td>\n",
              "      <td>8</td>\n",
              "      <td>NaN</td>\n",
              "      <td>...</td>\n",
              "      <td>25.00</td>\n",
              "      <td>NaN</td>\n",
              "      <td>Санкт-Петербург</td>\n",
              "      <td>18863.0</td>\n",
              "      <td>16028.0</td>\n",
              "      <td>1.0</td>\n",
              "      <td>482.0</td>\n",
              "      <td>2.0</td>\n",
              "      <td>755.0</td>\n",
              "      <td>NaN</td>\n",
              "    </tr>\n",
              "    <tr>\n",
              "      <th>1</th>\n",
              "      <td>7</td>\n",
              "      <td>3350000.0</td>\n",
              "      <td>40.40</td>\n",
              "      <td>2018-12-04T00:00:00</td>\n",
              "      <td>1</td>\n",
              "      <td>NaN</td>\n",
              "      <td>11.0</td>\n",
              "      <td>18.60</td>\n",
              "      <td>1</td>\n",
              "      <td>NaN</td>\n",
              "      <td>...</td>\n",
              "      <td>11.00</td>\n",
              "      <td>2.0</td>\n",
              "      <td>посёлок Шушары</td>\n",
              "      <td>12817.0</td>\n",
              "      <td>18603.0</td>\n",
              "      <td>0.0</td>\n",
              "      <td>NaN</td>\n",
              "      <td>0.0</td>\n",
              "      <td>NaN</td>\n",
              "      <td>81.0</td>\n",
              "    </tr>\n",
              "    <tr>\n",
              "      <th>2</th>\n",
              "      <td>10</td>\n",
              "      <td>5196000.0</td>\n",
              "      <td>56.00</td>\n",
              "      <td>2015-08-20T00:00:00</td>\n",
              "      <td>2</td>\n",
              "      <td>NaN</td>\n",
              "      <td>5.0</td>\n",
              "      <td>34.30</td>\n",
              "      <td>4</td>\n",
              "      <td>NaN</td>\n",
              "      <td>...</td>\n",
              "      <td>8.30</td>\n",
              "      <td>0.0</td>\n",
              "      <td>Санкт-Петербург</td>\n",
              "      <td>21741.0</td>\n",
              "      <td>13933.0</td>\n",
              "      <td>1.0</td>\n",
              "      <td>90.0</td>\n",
              "      <td>2.0</td>\n",
              "      <td>574.0</td>\n",
              "      <td>558.0</td>\n",
              "    </tr>\n",
              "    <tr>\n",
              "      <th>3</th>\n",
              "      <td>0</td>\n",
              "      <td>64900000.0</td>\n",
              "      <td>159.00</td>\n",
              "      <td>2015-07-24T00:00:00</td>\n",
              "      <td>3</td>\n",
              "      <td>NaN</td>\n",
              "      <td>14.0</td>\n",
              "      <td>NaN</td>\n",
              "      <td>9</td>\n",
              "      <td>NaN</td>\n",
              "      <td>...</td>\n",
              "      <td>NaN</td>\n",
              "      <td>0.0</td>\n",
              "      <td>Санкт-Петербург</td>\n",
              "      <td>28098.0</td>\n",
              "      <td>6800.0</td>\n",
              "      <td>2.0</td>\n",
              "      <td>84.0</td>\n",
              "      <td>3.0</td>\n",
              "      <td>234.0</td>\n",
              "      <td>424.0</td>\n",
              "    </tr>\n",
              "    <tr>\n",
              "      <th>4</th>\n",
              "      <td>2</td>\n",
              "      <td>10000000.0</td>\n",
              "      <td>100.00</td>\n",
              "      <td>2018-06-19T00:00:00</td>\n",
              "      <td>2</td>\n",
              "      <td>3.03</td>\n",
              "      <td>14.0</td>\n",
              "      <td>32.00</td>\n",
              "      <td>13</td>\n",
              "      <td>NaN</td>\n",
              "      <td>...</td>\n",
              "      <td>41.00</td>\n",
              "      <td>NaN</td>\n",
              "      <td>Санкт-Петербург</td>\n",
              "      <td>31856.0</td>\n",
              "      <td>8098.0</td>\n",
              "      <td>2.0</td>\n",
              "      <td>112.0</td>\n",
              "      <td>1.0</td>\n",
              "      <td>48.0</td>\n",
              "      <td>121.0</td>\n",
              "    </tr>\n",
              "    <tr>\n",
              "      <th>5</th>\n",
              "      <td>10</td>\n",
              "      <td>2890000.0</td>\n",
              "      <td>30.40</td>\n",
              "      <td>2018-09-10T00:00:00</td>\n",
              "      <td>1</td>\n",
              "      <td>NaN</td>\n",
              "      <td>12.0</td>\n",
              "      <td>14.40</td>\n",
              "      <td>5</td>\n",
              "      <td>NaN</td>\n",
              "      <td>...</td>\n",
              "      <td>9.10</td>\n",
              "      <td>NaN</td>\n",
              "      <td>городской посёлок Янино-1</td>\n",
              "      <td>NaN</td>\n",
              "      <td>NaN</td>\n",
              "      <td>NaN</td>\n",
              "      <td>NaN</td>\n",
              "      <td>NaN</td>\n",
              "      <td>NaN</td>\n",
              "      <td>55.0</td>\n",
              "    </tr>\n",
              "    <tr>\n",
              "      <th>6</th>\n",
              "      <td>6</td>\n",
              "      <td>3700000.0</td>\n",
              "      <td>37.30</td>\n",
              "      <td>2017-11-02T00:00:00</td>\n",
              "      <td>1</td>\n",
              "      <td>NaN</td>\n",
              "      <td>26.0</td>\n",
              "      <td>10.60</td>\n",
              "      <td>6</td>\n",
              "      <td>NaN</td>\n",
              "      <td>...</td>\n",
              "      <td>14.40</td>\n",
              "      <td>1.0</td>\n",
              "      <td>посёлок Парголово</td>\n",
              "      <td>52996.0</td>\n",
              "      <td>19143.0</td>\n",
              "      <td>0.0</td>\n",
              "      <td>NaN</td>\n",
              "      <td>0.0</td>\n",
              "      <td>NaN</td>\n",
              "      <td>155.0</td>\n",
              "    </tr>\n",
              "    <tr>\n",
              "      <th>7</th>\n",
              "      <td>5</td>\n",
              "      <td>7915000.0</td>\n",
              "      <td>71.60</td>\n",
              "      <td>2019-04-18T00:00:00</td>\n",
              "      <td>2</td>\n",
              "      <td>NaN</td>\n",
              "      <td>24.0</td>\n",
              "      <td>NaN</td>\n",
              "      <td>22</td>\n",
              "      <td>NaN</td>\n",
              "      <td>...</td>\n",
              "      <td>18.90</td>\n",
              "      <td>2.0</td>\n",
              "      <td>Санкт-Петербург</td>\n",
              "      <td>23982.0</td>\n",
              "      <td>11634.0</td>\n",
              "      <td>0.0</td>\n",
              "      <td>NaN</td>\n",
              "      <td>0.0</td>\n",
              "      <td>NaN</td>\n",
              "      <td>NaN</td>\n",
              "    </tr>\n",
              "    <tr>\n",
              "      <th>8</th>\n",
              "      <td>20</td>\n",
              "      <td>2900000.0</td>\n",
              "      <td>33.16</td>\n",
              "      <td>2018-05-23T00:00:00</td>\n",
              "      <td>1</td>\n",
              "      <td>NaN</td>\n",
              "      <td>27.0</td>\n",
              "      <td>15.43</td>\n",
              "      <td>26</td>\n",
              "      <td>NaN</td>\n",
              "      <td>...</td>\n",
              "      <td>8.81</td>\n",
              "      <td>NaN</td>\n",
              "      <td>посёлок Мурино</td>\n",
              "      <td>NaN</td>\n",
              "      <td>NaN</td>\n",
              "      <td>NaN</td>\n",
              "      <td>NaN</td>\n",
              "      <td>NaN</td>\n",
              "      <td>NaN</td>\n",
              "      <td>189.0</td>\n",
              "    </tr>\n",
              "    <tr>\n",
              "      <th>9</th>\n",
              "      <td>18</td>\n",
              "      <td>5400000.0</td>\n",
              "      <td>61.00</td>\n",
              "      <td>2017-02-26T00:00:00</td>\n",
              "      <td>3</td>\n",
              "      <td>2.50</td>\n",
              "      <td>9.0</td>\n",
              "      <td>43.60</td>\n",
              "      <td>7</td>\n",
              "      <td>NaN</td>\n",
              "      <td>...</td>\n",
              "      <td>6.50</td>\n",
              "      <td>2.0</td>\n",
              "      <td>Санкт-Петербург</td>\n",
              "      <td>50898.0</td>\n",
              "      <td>15008.0</td>\n",
              "      <td>0.0</td>\n",
              "      <td>NaN</td>\n",
              "      <td>0.0</td>\n",
              "      <td>NaN</td>\n",
              "      <td>289.0</td>\n",
              "    </tr>\n",
              "  </tbody>\n",
              "</table>\n",
              "<p>10 rows × 22 columns</p>\n",
              "</div>"
            ],
            "text/plain": [
              "   total_images  last_price  total_area first_day_exposition  rooms  \\\n",
              "0            20  13000000.0      108.00  2019-03-07T00:00:00      3   \n",
              "1             7   3350000.0       40.40  2018-12-04T00:00:00      1   \n",
              "2            10   5196000.0       56.00  2015-08-20T00:00:00      2   \n",
              "3             0  64900000.0      159.00  2015-07-24T00:00:00      3   \n",
              "4             2  10000000.0      100.00  2018-06-19T00:00:00      2   \n",
              "5            10   2890000.0       30.40  2018-09-10T00:00:00      1   \n",
              "6             6   3700000.0       37.30  2017-11-02T00:00:00      1   \n",
              "7             5   7915000.0       71.60  2019-04-18T00:00:00      2   \n",
              "8            20   2900000.0       33.16  2018-05-23T00:00:00      1   \n",
              "9            18   5400000.0       61.00  2017-02-26T00:00:00      3   \n",
              "\n",
              "   ceiling_height  floors_total  living_area  floor is_apartment  ...  \\\n",
              "0            2.70          16.0        51.00      8          NaN  ...   \n",
              "1             NaN          11.0        18.60      1          NaN  ...   \n",
              "2             NaN           5.0        34.30      4          NaN  ...   \n",
              "3             NaN          14.0          NaN      9          NaN  ...   \n",
              "4            3.03          14.0        32.00     13          NaN  ...   \n",
              "5             NaN          12.0        14.40      5          NaN  ...   \n",
              "6             NaN          26.0        10.60      6          NaN  ...   \n",
              "7             NaN          24.0          NaN     22          NaN  ...   \n",
              "8             NaN          27.0        15.43     26          NaN  ...   \n",
              "9            2.50           9.0        43.60      7          NaN  ...   \n",
              "\n",
              "   kitchen_area  balcony              locality_name  airports_nearest  \\\n",
              "0         25.00      NaN            Санкт-Петербург           18863.0   \n",
              "1         11.00      2.0             посёлок Шушары           12817.0   \n",
              "2          8.30      0.0            Санкт-Петербург           21741.0   \n",
              "3           NaN      0.0            Санкт-Петербург           28098.0   \n",
              "4         41.00      NaN            Санкт-Петербург           31856.0   \n",
              "5          9.10      NaN  городской посёлок Янино-1               NaN   \n",
              "6         14.40      1.0          посёлок Парголово           52996.0   \n",
              "7         18.90      2.0            Санкт-Петербург           23982.0   \n",
              "8          8.81      NaN             посёлок Мурино               NaN   \n",
              "9          6.50      2.0            Санкт-Петербург           50898.0   \n",
              "\n",
              "  cityCenters_nearest  parks_around3000  parks_nearest  ponds_around3000  \\\n",
              "0             16028.0               1.0          482.0               2.0   \n",
              "1             18603.0               0.0            NaN               0.0   \n",
              "2             13933.0               1.0           90.0               2.0   \n",
              "3              6800.0               2.0           84.0               3.0   \n",
              "4              8098.0               2.0          112.0               1.0   \n",
              "5                 NaN               NaN            NaN               NaN   \n",
              "6             19143.0               0.0            NaN               0.0   \n",
              "7             11634.0               0.0            NaN               0.0   \n",
              "8                 NaN               NaN            NaN               NaN   \n",
              "9             15008.0               0.0            NaN               0.0   \n",
              "\n",
              "   ponds_nearest  days_exposition  \n",
              "0          755.0              NaN  \n",
              "1            NaN             81.0  \n",
              "2          574.0            558.0  \n",
              "3          234.0            424.0  \n",
              "4           48.0            121.0  \n",
              "5            NaN             55.0  \n",
              "6            NaN            155.0  \n",
              "7            NaN              NaN  \n",
              "8            NaN            189.0  \n",
              "9            NaN            289.0  \n",
              "\n",
              "[10 rows x 22 columns]"
            ]
          },
          "execution_count": 1,
          "metadata": {},
          "output_type": "execute_result"
        }
      ],
      "source": [
        "data = pd.read_csv('/datasets/real_estate_data.csv', sep='\\t')\n",
        "data.head(10)"
      ]
    },
    {
      "cell_type": "code",
      "execution_count": null,
      "metadata": {
        "id": "RvFmouBn_nZT",
        "outputId": "13190371-e39b-4e09-dc42-038ec694ffb9"
      },
      "outputs": [
        {
          "name": "stdout",
          "output_type": "stream",
          "text": [
            "<class 'pandas.core.frame.DataFrame'>\n",
            "RangeIndex: 23699 entries, 0 to 23698\n",
            "Data columns (total 22 columns):\n",
            " #   Column                Non-Null Count  Dtype  \n",
            "---  ------                --------------  -----  \n",
            " 0   total_images          23699 non-null  int64  \n",
            " 1   last_price            23699 non-null  float64\n",
            " 2   total_area            23699 non-null  float64\n",
            " 3   first_day_exposition  23699 non-null  object \n",
            " 4   rooms                 23699 non-null  int64  \n",
            " 5   ceiling_height        14504 non-null  float64\n",
            " 6   floors_total          23613 non-null  float64\n",
            " 7   living_area           21796 non-null  float64\n",
            " 8   floor                 23699 non-null  int64  \n",
            " 9   is_apartment          2775 non-null   object \n",
            " 10  studio                23699 non-null  bool   \n",
            " 11  open_plan             23699 non-null  bool   \n",
            " 12  kitchen_area          21421 non-null  float64\n",
            " 13  balcony               12180 non-null  float64\n",
            " 14  locality_name         23650 non-null  object \n",
            " 15  airports_nearest      18157 non-null  float64\n",
            " 16  cityCenters_nearest   18180 non-null  float64\n",
            " 17  parks_around3000      18181 non-null  float64\n",
            " 18  parks_nearest         8079 non-null   float64\n",
            " 19  ponds_around3000      18181 non-null  float64\n",
            " 20  ponds_nearest         9110 non-null   float64\n",
            " 21  days_exposition       20518 non-null  float64\n",
            "dtypes: bool(2), float64(14), int64(3), object(3)\n",
            "memory usage: 3.7+ MB\n"
          ]
        }
      ],
      "source": [
        "data.info()"
      ]
    },
    {
      "cell_type": "code",
      "execution_count": null,
      "metadata": {
        "id": "3PDc-4--_nZU",
        "outputId": "50011499-7831-4425-8ff2-8729d564489c"
      },
      "outputs": [
        {
          "data": {
            "text/plain": [
              "array([[<AxesSubplot:title={'center':'total_images'}>,\n",
              "        <AxesSubplot:title={'center':'last_price'}>,\n",
              "        <AxesSubplot:title={'center':'total_area'}>,\n",
              "        <AxesSubplot:title={'center':'rooms'}>],\n",
              "       [<AxesSubplot:title={'center':'ceiling_height'}>,\n",
              "        <AxesSubplot:title={'center':'floors_total'}>,\n",
              "        <AxesSubplot:title={'center':'living_area'}>,\n",
              "        <AxesSubplot:title={'center':'floor'}>],\n",
              "       [<AxesSubplot:title={'center':'kitchen_area'}>,\n",
              "        <AxesSubplot:title={'center':'balcony'}>,\n",
              "        <AxesSubplot:title={'center':'airports_nearest'}>,\n",
              "        <AxesSubplot:title={'center':'cityCenters_nearest'}>],\n",
              "       [<AxesSubplot:title={'center':'parks_around3000'}>,\n",
              "        <AxesSubplot:title={'center':'parks_nearest'}>,\n",
              "        <AxesSubplot:title={'center':'ponds_around3000'}>,\n",
              "        <AxesSubplot:title={'center':'ponds_nearest'}>],\n",
              "       [<AxesSubplot:title={'center':'days_exposition'}>, <AxesSubplot:>,\n",
              "        <AxesSubplot:>, <AxesSubplot:>]], dtype=object)"
            ]
          },
          "execution_count": 3,
          "metadata": {},
          "output_type": "execute_result"
        },
        {
          "data": {
            "image/png": "[encoded data removed]",
            "text/plain": [
              "<Figure size 1080x1440 with 20 Axes>"
            ]
          },
          "metadata": {
            "needs_background": "light"
          },
          "output_type": "display_data"
        }
      ],
      "source": [
        "data.hist(figsize=(15, 20))"
      ]
    },
    {
      "cell_type": "markdown",
      "metadata": {
        "id": "tefxI_h5_nZZ"
      },
      "source": [
        "**Вывод:** Файл содержит данные по 23699 объектам недвижимости, каждый из которых описывается 22 признаками (17 количественных, 4 категориальных и 1 временной). У некоторых признаков есть пропущенные значения, которые было необходимо обработать. Стоит проверить данные на полные дубликаты и убрать неявные дубликат в названиях населенных пунктах. Есть несколько столбцов с неверным типом данных, исходя из предметной области. Кроме того, из графиков видно, что присутствуют необычные значения в столбцах количество комнат, высота потолков и общая площадь."
      ]
    },
    {
      "cell_type": "markdown",
      "metadata": {
        "id": "qaeqqEPR_nZb"
      },
      "source": [
        "### Предобработка данных"
      ]
    },
    {
      "cell_type": "markdown",
      "metadata": {
        "id": "g5p-vlo7_nZb"
      },
      "source": [
        "####  Удаление пропусков"
      ]
    },
    {
      "cell_type": "code",
      "execution_count": null,
      "metadata": {
        "id": "klhmglYa_nZc",
        "outputId": "6e1f1da3-109b-44d3-930e-5f275628ad78"
      },
      "outputs": [
        {
          "data": {
            "text/plain": [
              "total_images                0\n",
              "last_price                  0\n",
              "total_area                  0\n",
              "first_day_exposition        0\n",
              "rooms                       0\n",
              "ceiling_height           9195\n",
              "floors_total               86\n",
              "living_area              1903\n",
              "floor                       0\n",
              "is_apartment            20924\n",
              "studio                      0\n",
              "open_plan                   0\n",
              "kitchen_area             2278\n",
              "balcony                 11519\n",
              "locality_name              49\n",
              "airports_nearest         5542\n",
              "cityCenters_nearest      5519\n",
              "parks_around3000         5518\n",
              "parks_nearest           15620\n",
              "ponds_around3000         5518\n",
              "ponds_nearest           14589\n",
              "days_exposition          3181\n",
              "dtype: int64"
            ]
          },
          "execution_count": 4,
          "metadata": {},
          "output_type": "execute_result"
        }
      ],
      "source": [
        "data.isna().sum()"
      ]
    },
    {
      "cell_type": "code",
      "execution_count": null,
      "metadata": {
        "id": "tHccQZH4_nZd",
        "outputId": "969de9b6-a186-450b-9a64-f516f1a12551"
      },
      "outputs": [
        {
          "name": "stdout",
          "output_type": "stream",
          "text": [
            "total_images : пропущено 0.0%\n",
            "last_price : пропущено 0.0%\n",
            "total_area : пропущено 0.0%\n",
            "first_day_exposition : пропущено 0.0%\n",
            "rooms : пропущено 0.0%\n",
            "ceiling_height : пропущено 38.8%\n",
            "floors_total : пропущено 0.4%\n",
            "living_area : пропущено 8.0%\n",
            "floor : пропущено 0.0%\n",
            "is_apartment : пропущено 88.3%\n",
            "studio : пропущено 0.0%\n",
            "open_plan : пропущено 0.0%\n",
            "kitchen_area : пропущено 9.6%\n",
            "balcony : пропущено 48.6%\n",
            "locality_name : пропущено 0.2%\n",
            "airports_nearest : пропущено 23.4%\n",
            "cityCenters_nearest : пропущено 23.3%\n",
            "parks_around3000 : пропущено 23.3%\n",
            "parks_nearest : пропущено 65.9%\n",
            "ponds_around3000 : пропущено 23.3%\n",
            "ponds_nearest : пропущено 61.6%\n",
            "days_exposition : пропущено 13.4%\n"
          ]
        }
      ],
      "source": [
        "for column in data.columns:\n",
        "    #print_nan_ratio(column)\n",
        "    print(column, f\": пропущено {data[column].isna().sum() / len(data):.1%}\")"
      ]
    },
    {
      "cell_type": "markdown",
      "metadata": {
        "id": "FrmH_iWp_nZe"
      },
      "source": [
        "Переименуем столбцы в соответствии с правилами хорошего тона."
      ]
    },
    {
      "cell_type": "code",
      "execution_count": null,
      "metadata": {
        "id": "Ed4gL5yN_nZe",
        "outputId": "30b72624-bb6a-4f2b-c3ca-9e5f25e547bd"
      },
      "outputs": [
        {
          "data": {
            "text/plain": [
              "Index(['total_images', 'last_price', 'total_area', 'first_day_exposition',\n",
              "       'rooms', 'ceiling_height', 'floors_total', 'living_area', 'floor',\n",
              "       'is_apartment', 'studio', 'open_plan', 'kitchen_area', 'balcony',\n",
              "       'locality_name', 'airports_nearest', 'city_centers_nearest',\n",
              "       'parks_around_3000', 'parks_nearest', 'ponds_around_3000',\n",
              "       'ponds_nearest', 'days_exposition'],\n",
              "      dtype='object')"
            ]
          },
          "execution_count": 6,
          "metadata": {},
          "output_type": "execute_result"
        }
      ],
      "source": [
        "data.rename(columns={\n",
        "    'cityCenters_nearest' : 'city_centers_nearest', \n",
        "    'parks_around3000' : 'parks_around_3000',\n",
        "    'ponds_around3000' : 'ponds_around_3000'\n",
        "    }, inplace = True)\n",
        "data.columns"
      ]
    },
    {
      "cell_type": "markdown",
      "metadata": {
        "id": "21aYwGTr_nZg"
      },
      "source": [
        "**Пропуски обнаружены в столбцах** высота потолков, всего этажей в доме, жилая площадь, апартаменты, площадь кухни, балкон, название населенного пункта, расстояние до ближайшего аэропорта, расстояние до ближайшего парка, расстояние до центра, число парков в радиусе 3 км, число водоемов в радиусе 3 км, расстояние до ближайших водоемов, сколько дней было размещено объявление.\n",
        "\n",
        "**Возможные причины появления ропусков:** большинство пропусков очевидно связаны с нежеланием заполнять определенные графы при публикации объявления или же незнанием требуемой информации; кроме того пропуски есть в столбцах, которые рассчитывались автоматически, что вероятно связано со слишком маленькой границей, по которой ищутся ближайшие объекты.\n",
        "\n",
        "**Пропуски можно попробовать заполнить:**\n",
        "\n",
        "* Высота потолков: было пропущено 38,8% значений. Все пропущенные значения предлагается обработать: заменить на медиану для зданий конкретной этажности (либо на общую медиану).\n",
        "* Число этажей в доме: пропущено 0,4% значений. Данный признак будет использоваться в анализе, при этом достаточно точно заменить пропущенные значения не представляется возможным, поэтому все строки с пропущенными значениями предлагается удалить. Предлагается автоматизировать заполнение данных по этому признаку для городов на основе точного адреса.\n",
        "* Жилая площадь и площадь кухни: пропущено 8,0% и 9,6% значений соответственно. Предлагается взять как разницу из общей площади и площади кухни, там где есть данные, если нет взять как медиану по количеству комнат\n",
        "* Число балконов: пропущено 48,6% значений. Предполагается, что отсутствие числа балконов свидетельствует о том, что число балконов равно нулю.\n",
        "* Название населенного пункта: пропущено 0,2% значений. Все строки с пропущенными значениями предлагается удалить, так как этот признак будет использоваться при дальнейшем анализе. Необходимо ввести условие об обязательном заполнении данного признака в объявлении (либо об автоматизированном заполнении на основе указанной улицы, если это возможно).\n",
        "* Расстояние до центра города: пропущено 23,3% значений. В связи с высокой трудоемкостю заполнения таких пропущенных значений и отсутствием достаточной достоверности предлагается оставить пропущенные значения без изменений.\n",
        "* Апартаменты: пропущено 88,3%. Предполагается, что это обозначает, что данный объект не апартаменты.\n",
        "* Расстояние до ближайшего аэропорта, число парков в радиусе 3 км, расстояние до ближайшего парка, число водоемов в радиусе 3 км, расстояние до ближайшего водоема: пропущенные значения в этих признаках оставлены без изменений, так как они не будут использованы в текущем исследовании.\n",
        "* Длительность размещения объявления: пропущено 13,4% значений. В данном случае, это означает, что квартира еще не продана, поэтому заполнять не будем."
      ]
    },
    {
      "cell_type": "code",
      "execution_count": null,
      "metadata": {
        "id": "8rXdDkDW_nZh",
        "outputId": "6bbb2cd4-7f04-4cca-cfe8-09022dae6139"
      },
      "outputs": [
        {
          "data": {
            "text/plain": [
              "total_images                0\n",
              "last_price                  0\n",
              "total_area                  0\n",
              "first_day_exposition        0\n",
              "rooms                       0\n",
              "ceiling_height              0\n",
              "floors_total                0\n",
              "living_area                 0\n",
              "floor                       0\n",
              "is_apartment                0\n",
              "studio                      0\n",
              "open_plan                   0\n",
              "kitchen_area                0\n",
              "balcony                     0\n",
              "locality_name               0\n",
              "airports_nearest         5524\n",
              "city_centers_nearest     5501\n",
              "parks_around_3000        5500\n",
              "parks_nearest           15535\n",
              "ponds_around_3000        5500\n",
              "ponds_nearest           14529\n",
              "days_exposition          3171\n",
              "dtype: int64"
            ]
          },
          "execution_count": 7,
          "metadata": {},
          "output_type": "execute_result"
        }
      ],
      "source": [
        "#Заполняем высоту потолков\n",
        "data['ceiling_height'] = data['ceiling_height'].fillna(data.groupby('floors_total')['ceiling_height'].transform('median'))\n",
        "data['ceiling_height'] = data['ceiling_height'].fillna(data['ceiling_height'].median())\n",
        "\n",
        "#Заполняем является ли объект апартаментами\n",
        "data['is_apartment'] = data['is_apartment'].fillna(False)\n",
        "\n",
        "#Заполняем наличие балкона\n",
        "data['balcony'] = data['balcony'].fillna(0)\n",
        "\n",
        "#Заполняем жилую площадь\n",
        "data['living_area'] = data['living_area'].fillna(data['total_area'] * 0.9 - data['kitchen_area'])\n",
        "data['living_area'] = data['living_area'].fillna(data.groupby('rooms')['living_area'].transform('median'))\n",
        "\n",
        "#Заполняем площадь кухни\n",
        "data['kitchen_area'] = data['kitchen_area'].fillna(data['total_area'] * 0.9 -  data['living_area'])\n",
        "\n",
        "#Удаляем общее количество этажей и имена населенных пунктов\n",
        "data = data.dropna(axis='index', how='any', subset=['locality_name', 'floors_total'])\n",
        "\n",
        "#Проверяем пропуски\n",
        "data.isna().sum()"
      ]
    },
    {
      "cell_type": "markdown",
      "metadata": {
        "id": "bmfmqVxp_nZl"
      },
      "source": [
        "Прежде чем заполнять оставшиеся пропуски в расстоянии до центра необходимо удалить дубликаты и преобразовать типы."
      ]
    },
    {
      "cell_type": "markdown",
      "metadata": {
        "id": "b60s03ez_nZm"
      },
      "source": [
        "#### Удаление дубликатов"
      ]
    },
    {
      "cell_type": "code",
      "execution_count": null,
      "metadata": {
        "id": "TFUO1xEn_nZn",
        "outputId": "d52ca903-7bd7-488d-82ce-187239b719bd"
      },
      "outputs": [
        {
          "data": {
            "text/plain": [
              "0"
            ]
          },
          "execution_count": 8,
          "metadata": {},
          "output_type": "execute_result"
        }
      ],
      "source": [
        "#Проверим наличие явных дубликатов\n",
        "(data.duplicated().sum())"
      ]
    },
    {
      "cell_type": "code",
      "execution_count": null,
      "metadata": {
        "id": "JOMDcXZu_nZo",
        "outputId": "013b7e00-ec71-4e56-ef61-66a701559d5d"
      },
      "outputs": [
        {
          "data": {
            "text/plain": [
              "array(['Бокситогорск', 'Волосово', 'Волхов', 'Всеволожск', 'Выборг',\n",
              "       'Высоцк', 'Гатчина', 'Зеленогорск', 'Ивангород', 'Каменногорск',\n",
              "       'Кингисепп', 'Кириши', 'Кировск', 'Колпино', 'Коммунар',\n",
              "       'Красное Село', 'Кронштадт', 'Кудрово', 'Лодейное Поле',\n",
              "       'Ломоносов', 'Луга', 'Любань', 'Мурино', 'Никольское',\n",
              "       'Новая Ладога', 'Отрадное', 'Павловск', 'Петергоф', 'Пикалёво',\n",
              "       'Подпорожье', 'Приморск', 'Приозерск', 'Пушкин', 'Санкт-Петербург',\n",
              "       'Светогорск', 'Сертолово', 'Сестрорецк', 'Сланцы', 'Сосновый Бор',\n",
              "       'Сясьстрой', 'Тихвин', 'Тосно', 'Шлиссельбург',\n",
              "       'городской поселок Большая Ижора', 'городской поселок Янино-1',\n",
              "       'городской посёлок Будогощь', 'городской посёлок Виллози',\n",
              "       'городской посёлок Лесогорский', 'городской посёлок Мга',\n",
              "       'городской посёлок Назия', 'городской посёлок Новоселье',\n",
              "       'городской посёлок Павлово', 'городской посёлок Рощино',\n",
              "       'городской посёлок Свирьстрой', 'городской посёлок Советский',\n",
              "       'городской посёлок Фёдоровское', 'городской посёлок Янино-1',\n",
              "       'деревня Агалатово', 'деревня Аро', 'деревня Батово',\n",
              "       'деревня Бегуницы', 'деревня Белогорка', 'деревня Большая Вруда',\n",
              "       'деревня Большая Пустомержа', 'деревня Большие Колпаны',\n",
              "       'деревня Большое Рейзино', 'деревня Большой Сабск', 'деревня Бор',\n",
              "       'деревня Борисова Грива', 'деревня Ваганово', 'деревня Вартемяги',\n",
              "       'деревня Вахнова Кара', 'деревня Выскатка', 'деревня Гарболово',\n",
              "       'деревня Глинка', 'деревня Горбунки', 'деревня Гостилицы',\n",
              "       'деревня Заклинье', 'деревня Заневка', 'деревня Зимитицы',\n",
              "       'деревня Извара', 'деревня Иссад', 'деревня Калитино',\n",
              "       'деревня Кальтино', 'деревня Камышовка', 'деревня Каськово',\n",
              "       'деревня Келози', 'деревня Кипень', 'деревня Кисельня',\n",
              "       'деревня Колтуши', 'деревня Коркино', 'деревня Котлы',\n",
              "       'деревня Кривко', 'деревня Кудрово', 'деревня Кузьмолово',\n",
              "       'деревня Курковицы', 'деревня Куровицы', 'деревня Куттузи',\n",
              "       'деревня Лаврики', 'деревня Лаголово', 'деревня Лампово',\n",
              "       'деревня Лесколово', 'деревня Лопухинка', 'деревня Лупполово',\n",
              "       'деревня Малая Романовка', 'деревня Малое Верево',\n",
              "       'деревня Малое Карлино', 'деревня Малые Колпаны',\n",
              "       'деревня Мануйлово', 'деревня Меньково', 'деревня Мины',\n",
              "       'деревня Мистолово', 'деревня Ненимяки', 'деревня Нижние Осельки',\n",
              "       'деревня Нижняя', 'деревня Низино', 'деревня Новое Девяткино',\n",
              "       'деревня Новолисино', 'деревня Нурма', 'деревня Оржицы',\n",
              "       'деревня Парицы', 'деревня Пельгора', 'деревня Пеники',\n",
              "       'деревня Пижма', 'деревня Пикколово', 'деревня Пудомяги',\n",
              "       'деревня Пустынка', 'деревня Пчева', 'деревня Рабитицы',\n",
              "       'деревня Разбегаево', 'деревня Раздолье', 'деревня Разметелево',\n",
              "       'деревня Рапполово', 'деревня Реброво', 'деревня Русско',\n",
              "       'деревня Сижно', 'деревня Снегирёвка', 'деревня Старая',\n",
              "       'деревня Старая Пустошь', 'деревня Старое Хинколово',\n",
              "       'деревня Старополье', 'деревня Старосиверская',\n",
              "       'деревня Старые Бегуницы', 'деревня Суоранда',\n",
              "       'деревня Сяськелево', 'деревня Тарасово', 'деревня Терпилицы',\n",
              "       'деревня Тихковицы', 'деревня Тойворово', 'деревня Торосово',\n",
              "       'деревня Торошковичи', 'деревня Трубников Бор',\n",
              "       'деревня Фалилеево', 'деревня Фёдоровское', 'деревня Хапо-Ое',\n",
              "       'деревня Хязельки', 'деревня Чудской Бор', 'деревня Шпаньково',\n",
              "       'деревня Щеглово', 'деревня Юкки', 'деревня Ялгино',\n",
              "       'деревня Яльгелево', 'деревня Ям-Тесово',\n",
              "       'коттеджный поселок Кивеннапа Север', 'коттеджный поселок Счастье',\n",
              "       'коттеджный посёлок Лесное', 'поселок Аннино', 'поселок Барышево',\n",
              "       'поселок Бугры', 'поселок Возрождение', 'поселок Войсковицы',\n",
              "       'поселок Володарское', 'поселок Гаврилово', 'поселок Гарболово',\n",
              "       'поселок Гладкое', 'поселок Глажево', 'поселок Глебычево',\n",
              "       'поселок Гончарово', 'поселок Громово', 'поселок Дружноселье',\n",
              "       'поселок Елизаветино', 'поселок Жилгородок', 'поселок Жилпосёлок',\n",
              "       'поселок Житково', 'поселок Заводской', 'поселок Запорожское',\n",
              "       'поселок Зимитицы', 'поселок Ильичёво', 'поселок Калитино',\n",
              "       'поселок Каложицы', 'поселок Кингисеппский', 'поселок Кирпичное',\n",
              "       'поселок Кобралово', 'поселок Кобринское', 'поселок Коммунары',\n",
              "       'поселок Коробицыно', 'поселок Котельский',\n",
              "       'поселок Красная Долина', 'поселок Красносельское',\n",
              "       'поселок Лесное', 'поселок Лисий Нос', 'поселок Лукаши',\n",
              "       'поселок Любань', 'поселок Мельниково', 'поселок Мичуринское',\n",
              "       'поселок Молодцово', 'поселок Мурино', 'поселок Новый Свет',\n",
              "       'поселок Новый Учхоз', 'поселок Оредеж',\n",
              "       'поселок Пансионат Зелёный Бор', 'поселок Первомайское',\n",
              "       'поселок Перово', 'поселок Петровское', 'поселок Победа',\n",
              "       'поселок Поляны', 'поселок Почап', 'поселок Починок',\n",
              "       'поселок Пушное', 'поселок Пчевжа', 'поселок Рабитицы',\n",
              "       'поселок Романовка', 'поселок Ромашки', 'поселок Рябово',\n",
              "       'поселок Севастьяново', 'поселок Селезнёво', 'поселок Сельцо',\n",
              "       'поселок Семиозерье', 'поселок Семрино', 'поселок Серебрянский',\n",
              "       'поселок Совхозный', 'поселок Старая Малукса',\n",
              "       'поселок Стеклянный', 'поселок Сумино', 'поселок Суходолье',\n",
              "       'поселок Тельмана', 'поселок Терволово', 'поселок Торковичи',\n",
              "       'поселок Тёсово-4', 'поселок Углово', 'поселок Усть-Луга',\n",
              "       'поселок Ушаки', 'поселок Цвелодубово', 'поселок Цвылёво',\n",
              "       'поселок городского типа Большая Ижора',\n",
              "       'поселок городского типа Вырица',\n",
              "       'поселок городского типа Дружная Горка',\n",
              "       'поселок городского типа Дубровка',\n",
              "       'поселок городского типа Ефимовский',\n",
              "       'поселок городского типа Кондратьево',\n",
              "       'поселок городского типа Красный Бор',\n",
              "       'поселок городского типа Кузьмоловский',\n",
              "       'поселок городского типа Лебяжье',\n",
              "       'поселок городского типа Лесогорский',\n",
              "       'поселок городского типа Назия',\n",
              "       'поселок городского типа Никольский',\n",
              "       'поселок городского типа Приладожский',\n",
              "       'поселок городского типа Рахья', 'поселок городского типа Рощино',\n",
              "       'поселок городского типа Рябово',\n",
              "       'поселок городского типа Синявино',\n",
              "       'поселок городского типа Советский',\n",
              "       'поселок городского типа Токсово',\n",
              "       'поселок городского типа Форносово',\n",
              "       'поселок городского типа имени Свердлова',\n",
              "       'поселок станции Вещево', 'поселок станции Корнево',\n",
              "       'поселок станции Лужайка', 'поселок станции Приветнинское',\n",
              "       'посёлок Александровская', 'посёлок Алексеевка', 'посёлок Аннино',\n",
              "       'посёлок Белоостров', 'посёлок Бугры', 'посёлок Возрождение',\n",
              "       'посёлок Войскорово', 'посёлок Высокоключевой',\n",
              "       'посёлок Гаврилово', 'посёлок Дзержинского', 'посёлок Жилгородок',\n",
              "       'посёлок Ильичёво', 'посёлок Кикерино', 'посёлок Кобралово',\n",
              "       'посёлок Коробицыно', 'посёлок Левашово', 'посёлок Ленинское',\n",
              "       'посёлок Лисий Нос', 'посёлок Мельниково', 'посёлок Металлострой',\n",
              "       'посёлок Мичуринское', 'посёлок Молодёжное', 'посёлок Мурино',\n",
              "       'посёлок Мыза-Ивановка', 'посёлок Новогорелово',\n",
              "       'посёлок Новый Свет', 'посёлок Пансионат Зелёный Бор',\n",
              "       'посёлок Парголово', 'посёлок Перово', 'посёлок Песочный',\n",
              "       'посёлок Петро-Славянка', 'посёлок Петровское',\n",
              "       'посёлок Платформа 69-й километр', 'посёлок Плодовое',\n",
              "       'посёлок Плоское', 'посёлок Победа', 'посёлок Поляны',\n",
              "       'посёлок Понтонный', 'посёлок Пригородный', 'посёлок Пудость',\n",
              "       'посёлок Репино', 'посёлок Ропша', 'посёлок Сапёрное',\n",
              "       'посёлок Сапёрный', 'посёлок Сосново', 'посёлок Старая Малукса',\n",
              "       'посёлок Стеклянный', 'посёлок Стрельна', 'посёлок Суйда',\n",
              "       'посёлок Сумино', 'посёлок Тельмана', 'посёлок Терволово',\n",
              "       'посёлок Торфяное', 'посёлок Усть-Ижора', 'посёлок Усть-Луга',\n",
              "       'посёлок Форт Красная Горка', 'посёлок Шугозеро', 'посёлок Шушары',\n",
              "       'посёлок Щеглово', 'посёлок городского типа Важины',\n",
              "       'посёлок городского типа Вознесенье',\n",
              "       'посёлок городского типа Вырица',\n",
              "       'посёлок городского типа Красный Бор',\n",
              "       'посёлок городского типа Кузнечное',\n",
              "       'посёлок городского типа Кузьмоловский',\n",
              "       'посёлок городского типа Лебяжье', 'посёлок городского типа Мга',\n",
              "       'посёлок городского типа Павлово',\n",
              "       'посёлок городского типа Рощино', 'посёлок городского типа Рябово',\n",
              "       'посёлок городского типа Сиверский',\n",
              "       'посёлок городского типа Тайцы', 'посёлок городского типа Токсово',\n",
              "       'посёлок городского типа Ульяновка',\n",
              "       'посёлок городского типа Форносово',\n",
              "       'посёлок городского типа имени Морозова',\n",
              "       'посёлок городского типа имени Свердлова',\n",
              "       'посёлок при железнодорожной станции Вещево',\n",
              "       'посёлок при железнодорожной станции Приветнинское',\n",
              "       'посёлок станции Громово', 'посёлок станции Свирь',\n",
              "       'садоводческое некоммерческое товарищество Лесная Поляна',\n",
              "       'садовое товарищество Новая Ропша',\n",
              "       'садовое товарищество Приладожский', 'садовое товарищество Рахья',\n",
              "       'садовое товарищество Садко', 'село Копорье', 'село Никольское',\n",
              "       'село Павлово', 'село Паша', 'село Путилово', 'село Рождествено',\n",
              "       'село Русско-Высоцкое', 'село Старая Ладога', 'село Шум'],\n",
              "      dtype=object)"
            ]
          },
          "execution_count": 9,
          "metadata": {},
          "output_type": "execute_result"
        }
      ],
      "source": [
        "#По заданию необходимо удалить дубликаты в столбце с названием расположения. Выведем уникальные значения из него\n",
        "data['locality_name'].sort_values().unique()"
      ]
    },
    {
      "cell_type": "code",
      "execution_count": null,
      "metadata": {
        "id": "u8BI2zq6_nZp",
        "outputId": "c459eb3f-ee81-4258-860f-e01cb4d9ead7"
      },
      "outputs": [
        {
          "data": {
            "text/plain": [
              "array([' п. Будогощь', ' п. Виллози', ' п. Кивеннапа Север', ' п. Лесное',\n",
              "       ' п. Лесогорский', ' п. Мга', ' п. Назия', ' п. Новоселье',\n",
              "       ' п. Павлово', ' п. Рощино', ' п. Свирьстрой', ' п. Советский',\n",
              "       ' п. Счастье', ' п. Фёдоровское', ' п. Янино-1', 'Бокситогорск',\n",
              "       'Волосово', 'Волхов', 'Всеволожск', 'Выборг', 'Высоцк', 'Гатчина',\n",
              "       'Зеленогорск', 'Ивангород', 'Каменногорск', 'Кингисепп', 'Кириши',\n",
              "       'Кировск', 'Колпино', 'Коммунар', 'Красное Село', 'Кронштадт',\n",
              "       'Кудрово', 'Лодейное Поле', 'Ломоносов', 'Луга', 'Любань',\n",
              "       'Мурино', 'Никольское', 'Новая Ладога', 'Отрадное', 'Павловск',\n",
              "       'Петергоф', 'Пикалёво', 'Подпорожье', 'Приморск', 'Приозерск',\n",
              "       'Пушкин', 'Санкт-Петербург', 'Светогорск', 'Сертолово',\n",
              "       'Сестрорецк', 'Сланцы', 'Сосновый Бор', 'Сясьстрой', 'Тихвин',\n",
              "       'Тосно', 'Шлиссельбург', 'деревня Агалатово', 'деревня Аро',\n",
              "       'деревня Батово', 'деревня Бегуницы', 'деревня Белогорка',\n",
              "       'деревня Большая Вруда', 'деревня Большая Пустомержа',\n",
              "       'деревня Большие Колпаны', 'деревня Большое Рейзино',\n",
              "       'деревня Большой Сабск', 'деревня Бор', 'деревня Борисова Грива',\n",
              "       'деревня Ваганово', 'деревня Вартемяги', 'деревня Вахнова Кара',\n",
              "       'деревня Выскатка', 'деревня Гарболово', 'деревня Глинка',\n",
              "       'деревня Горбунки', 'деревня Гостилицы', 'деревня Заклинье',\n",
              "       'деревня Заневка', 'деревня Зимитицы', 'деревня Извара',\n",
              "       'деревня Иссад', 'деревня Калитино', 'деревня Кальтино',\n",
              "       'деревня Камышовка', 'деревня Каськово', 'деревня Келози',\n",
              "       'деревня Кипень', 'деревня Кисельня', 'деревня Колтуши',\n",
              "       'деревня Коркино', 'деревня Котлы', 'деревня Кривко',\n",
              "       'деревня Кудрово', 'деревня Кузьмолово', 'деревня Курковицы',\n",
              "       'деревня Куровицы', 'деревня Куттузи', 'деревня Лаврики',\n",
              "       'деревня Лаголово', 'деревня Лампово', 'деревня Лесколово',\n",
              "       'деревня Лопухинка', 'деревня Лупполово',\n",
              "       'деревня Малая Романовка', 'деревня Малое Верево',\n",
              "       'деревня Малое Карлино', 'деревня Малые Колпаны',\n",
              "       'деревня Мануйлово', 'деревня Меньково', 'деревня Мины',\n",
              "       'деревня Мистолово', 'деревня Ненимяки', 'деревня Нижние Осельки',\n",
              "       'деревня Нижняя', 'деревня Низино', 'деревня Новое Девяткино',\n",
              "       'деревня Новолисино', 'деревня Нурма', 'деревня Оржицы',\n",
              "       'деревня Парицы', 'деревня Пельгора', 'деревня Пеники',\n",
              "       'деревня Пижма', 'деревня Пикколово', 'деревня Пудомяги',\n",
              "       'деревня Пустынка', 'деревня Пчева', 'деревня Рабитицы',\n",
              "       'деревня Разбегаево', 'деревня Раздолье', 'деревня Разметелево',\n",
              "       'деревня Рапполово', 'деревня Реброво', 'деревня Русско',\n",
              "       'деревня Сижно', 'деревня Снегирёвка', 'деревня Старая',\n",
              "       'деревня Старая Пустошь', 'деревня Старое Хинколово',\n",
              "       'деревня Старополье', 'деревня Старосиверская',\n",
              "       'деревня Старые Бегуницы', 'деревня Суоранда',\n",
              "       'деревня Сяськелево', 'деревня Тарасово', 'деревня Терпилицы',\n",
              "       'деревня Тихковицы', 'деревня Тойворово', 'деревня Торосово',\n",
              "       'деревня Торошковичи', 'деревня Трубников Бор',\n",
              "       'деревня Фалилеево', 'деревня Фёдоровское', 'деревня Хапо-Ое',\n",
              "       'деревня Хязельки', 'деревня Чудской Бор', 'деревня Шпаньково',\n",
              "       'деревня Щеглово', 'деревня Юкки', 'деревня Ялгино',\n",
              "       'деревня Яльгелево', 'деревня Ям-Тесово', 'п.  Вещево',\n",
              "       'п.  Приветнинское', 'п. Александровская', 'п. Алексеевка',\n",
              "       'п. Аннино', 'п. Барышево', 'п. Белоостров', 'п. Большая Ижора',\n",
              "       'п. Бугры', 'п. Важины', 'п. Вещево', 'п. Вознесенье',\n",
              "       'п. Возрождение', 'п. Войсковицы', 'п. Войскорово',\n",
              "       'п. Володарское', 'п. Вырица', 'п. Высокоключевой', 'п. Гаврилово',\n",
              "       'п. Гарболово', 'п. Гладкое', 'п. Глажево', 'п. Глебычево',\n",
              "       'п. Гончарово', 'п. Громово', 'п. Дзержинского',\n",
              "       'п. Дружная Горка', 'п. Дружноселье', 'п. Дубровка',\n",
              "       'п. Елизаветино', 'п. Ефимовский', 'п. Жилгородок', 'п. Жилп.',\n",
              "       'п. Житково', 'п. Заводской', 'п. Запорожское', 'п. Зимитицы',\n",
              "       'п. Ильичёво', 'п. Калитино', 'п. Каложицы', 'п. Кикерино',\n",
              "       'п. Кингисеппский', 'п. Кирпичное', 'п. Кобралово',\n",
              "       'п. Кобринское', 'п. Коммунары', 'п. Кондратьево', 'п. Корнево',\n",
              "       'п. Коробицыно', 'п. Котельский', 'п. Красная Долина',\n",
              "       'п. Красносельское', 'п. Красный Бор', 'п. Кузнечное',\n",
              "       'п. Кузьмоловский', 'п. Лебяжье', 'п. Левашово', 'п. Ленинское',\n",
              "       'п. Лесное', 'п. Лесогорский', 'п. Лисий Нос', 'п. Лужайка',\n",
              "       'п. Лукаши', 'п. Любань', 'п. Мга', 'п. Мельниково',\n",
              "       'п. Металлострой', 'п. Мичуринское', 'п. Молодцово',\n",
              "       'п. Молодёжное', 'п. Мурино', 'п. Мыза-Ивановка', 'п. Назия',\n",
              "       'п. Никольский', 'п. Новогорелово', 'п. Новый Свет',\n",
              "       'п. Новый Учхоз', 'п. Оредеж', 'п. Павлово',\n",
              "       'п. Пансионат Зелёный Бор', 'п. Парголово', 'п. Первомайское',\n",
              "       'п. Перово', 'п. Песочный', 'п. Петро-Славянка', 'п. Петровское',\n",
              "       'п. Платформа 69-й километр', 'п. Плодовое', 'п. Плоское',\n",
              "       'п. Победа', 'п. Поляны', 'п. Понтонный', 'п. Почап', 'п. Починок',\n",
              "       'п. Приветнинское', 'п. Пригородный', 'п. Приладожский',\n",
              "       'п. Пудость', 'п. Пушное', 'п. Пчевжа', 'п. Рабитицы', 'п. Рахья',\n",
              "       'п. Репино', 'п. Романовка', 'п. Ромашки', 'п. Ропша', 'п. Рощино',\n",
              "       'п. Рябово', 'п. Сапёрное', 'п. Сапёрный', 'п. Свирь',\n",
              "       'п. Севастьяново', 'п. Селезнёво', 'п. Сельцо', 'п. Семиозерье',\n",
              "       'п. Семрино', 'п. Серебрянский', 'п. Сиверский', 'п. Синявино',\n",
              "       'п. Советский', 'п. Совхозный', 'п. Сосново', 'п. Старая Малукса',\n",
              "       'п. Стеклянный', 'п. Стрельна', 'п. Суйда', 'п. Сумино',\n",
              "       'п. Суходолье', 'п. Тайцы', 'п. Тельмана', 'п. Терволово',\n",
              "       'п. Токсово', 'п. Торковичи', 'п. Торфяное', 'п. Тёсово-4',\n",
              "       'п. Углово', 'п. Ульяновка', 'п. Усть-Ижора', 'п. Усть-Луга',\n",
              "       'п. Ушаки', 'п. Форносово', 'п. Форт Красная Горка',\n",
              "       'п. Цвелодубово', 'п. Цвылёво', 'п. Шугозеро', 'п. Шушары',\n",
              "       'п. Щеглово', 'п. имени Морозова', 'п. имени Свердлова',\n",
              "       'садовое товарищество Лесная Поляна',\n",
              "       'садовое товарищество Новая Ропша',\n",
              "       'садовое товарищество Приладожский', 'садовое товарищество Рахья',\n",
              "       'садовое товарищество Садко', 'село Копорье', 'село Никольское',\n",
              "       'село Павлово', 'село Паша', 'село Путилово', 'село Рождествено',\n",
              "       'село Русско-Высоцкое', 'село Старая Ладога', 'село Шум'],\n",
              "      dtype=object)"
            ]
          },
          "execution_count": 10,
          "metadata": {},
          "output_type": "execute_result"
        }
      ],
      "source": [
        "#Больше всего еявных может содержаться в значения, которые содержать \"поселок\" из-за разного написания\n",
        "#Уберем сначала разные написания поселков, оставив нейтральное \"п.\"\"\n",
        "duplicates_name = ['поселок','посёлок','городской поселок', 'городской посёлок', 'коттеджный поселок', 'коттеджный посёлок', 'поселок городского типа','поселок станции', 'посёлок городского типа']\n",
        "name = 'п.'\n",
        "data['locality_name'] = data['locality_name'].replace(duplicates_name, name,regex=True)\n",
        "#Сами \"послелки\" ушли, но остались их части. Уберем их\n",
        "data['locality_name'] = data['locality_name'].replace('городской', '',regex=True)\n",
        "data['locality_name'] = data['locality_name'].replace('коттеджный', '',regex=True)\n",
        "data['locality_name'] = data['locality_name'].replace('городского типа', '',regex=True)\n",
        "data['locality_name'] = data['locality_name'].replace('станции', '',regex=True)\n",
        "data['locality_name'] = data['locality_name'].replace('при железнодорожной', '',regex=True)\n",
        "#На месте пропусков возникло несколько пробелов. Уберем их\n",
        "data['locality_name'] = data['locality_name'].replace('  ', ' ',regex=True)\n",
        "#Обнаружен явный дубль\n",
        "data['locality_name'] = data['locality_name'].replace(' п. Большая Ижора', 'п. Большая Ижора',regex=True)\n",
        "#Есть также разные написания \"некоммерческих хозяйств\". Отавим одно\n",
        "data['locality_name'] = data['locality_name'].replace('садоводческое некоммерческое товарищество', 'садовое товарищество',regex=True)\n",
        "#Выведем новые значения в столбце\n",
        "data['locality_name'].sort_values().unique()"
      ]
    },
    {
      "cell_type": "markdown",
      "metadata": {
        "id": "OTNxmmcF_nZr"
      },
      "source": [
        "Теперь можно заполнить пропуски в столбцах, которые касаются расстояния и наличия парков и водоемов"
      ]
    },
    {
      "cell_type": "code",
      "execution_count": null,
      "metadata": {
        "id": "Q-p0U1Y3_nZr",
        "outputId": "759863c3-131c-4196-888c-9554fb6dd417"
      },
      "outputs": [
        {
          "data": {
            "text/plain": [
              "total_images                0\n",
              "last_price                  0\n",
              "total_area                  0\n",
              "first_day_exposition        0\n",
              "rooms                       0\n",
              "ceiling_height              0\n",
              "floors_total                0\n",
              "living_area                 0\n",
              "floor                       0\n",
              "is_apartment                0\n",
              "studio                      0\n",
              "open_plan                   0\n",
              "kitchen_area                0\n",
              "balcony                     0\n",
              "locality_name               0\n",
              "airports_nearest         5524\n",
              "city_centers_nearest     5501\n",
              "parks_around_3000        5500\n",
              "parks_nearest           15535\n",
              "ponds_around_3000        5500\n",
              "ponds_nearest           14529\n",
              "days_exposition          3171\n",
              "dtype: int64"
            ]
          },
          "execution_count": 11,
          "metadata": {},
          "output_type": "execute_result"
        }
      ],
      "source": [
        "#Проверяем пропуски\n",
        "data.isna().sum()"
      ]
    },
    {
      "cell_type": "markdown",
      "metadata": {
        "id": "6U4_lRqC_nZs"
      },
      "source": [
        "Как было сказано выше оставшиеся пустые значения в столбцах Расстояние до ближайшего аэропорта, Число парков в радиусе 3 км, Расстояние до ближайшего парка, Число водоемов в радиусе 3 км, Расстояние до ближайшего водоема и Расстояние до центра города оставляем неизменными."
      ]
    },
    {
      "cell_type": "markdown",
      "metadata": {
        "id": "Imz2VLFR_nZu"
      },
      "source": [
        "#### Изменение типов"
      ]
    },
    {
      "cell_type": "code",
      "execution_count": null,
      "metadata": {
        "id": "N_h_zFfn_nZv",
        "outputId": "a59b7e1e-ef38-4ba7-9ba1-c5f5d047879e"
      },
      "outputs": [
        {
          "name": "stdout",
          "output_type": "stream",
          "text": [
            "<class 'pandas.core.frame.DataFrame'>\n",
            "Int64Index: 23565 entries, 0 to 23698\n",
            "Data columns (total 22 columns):\n",
            " #   Column                Non-Null Count  Dtype  \n",
            "---  ------                --------------  -----  \n",
            " 0   total_images          23565 non-null  int64  \n",
            " 1   last_price            23565 non-null  float64\n",
            " 2   total_area            23565 non-null  float64\n",
            " 3   first_day_exposition  23565 non-null  object \n",
            " 4   rooms                 23565 non-null  int64  \n",
            " 5   ceiling_height        23565 non-null  float64\n",
            " 6   floors_total          23565 non-null  float64\n",
            " 7   living_area           23565 non-null  float64\n",
            " 8   floor                 23565 non-null  int64  \n",
            " 9   is_apartment          23565 non-null  bool   \n",
            " 10  studio                23565 non-null  bool   \n",
            " 11  open_plan             23565 non-null  bool   \n",
            " 12  kitchen_area          23565 non-null  float64\n",
            " 13  balcony               23565 non-null  float64\n",
            " 14  locality_name         23565 non-null  object \n",
            " 15  airports_nearest      18041 non-null  float64\n",
            " 16  city_centers_nearest  18064 non-null  float64\n",
            " 17  parks_around_3000     18065 non-null  float64\n",
            " 18  parks_nearest         8030 non-null   float64\n",
            " 19  ponds_around_3000     18065 non-null  float64\n",
            " 20  ponds_nearest         9036 non-null   float64\n",
            " 21  days_exposition       20394 non-null  float64\n",
            "dtypes: bool(3), float64(14), int64(3), object(2)\n",
            "memory usage: 3.7+ MB\n"
          ]
        }
      ],
      "source": [
        "data.info()"
      ]
    },
    {
      "cell_type": "markdown",
      "metadata": {
        "id": "ABkUyNMo_nZv"
      },
      "source": [
        "Заменим типы данных в столбца общее количество этажей, количество балконов и длительность размещения на целое число, т.к. исходя из предметной области исследования данные значения могут быть только целыми. Заменим тип данных по дате публикации со строчного на datetime, т.к. в дальнейшем этот столбец нам понадобится именно как дата."
      ]
    },
    {
      "cell_type": "code",
      "execution_count": null,
      "metadata": {
        "id": "dStSVQ1J_nZw",
        "outputId": "2b885f7e-04cf-48b6-ba3a-bf1b4fb74e60"
      },
      "outputs": [
        {
          "name": "stdout",
          "output_type": "stream",
          "text": [
            "<class 'pandas.core.frame.DataFrame'>\n",
            "Int64Index: 23565 entries, 0 to 23698\n",
            "Data columns (total 22 columns):\n",
            " #   Column                Non-Null Count  Dtype         \n",
            "---  ------                --------------  -----         \n",
            " 0   total_images          23565 non-null  int64         \n",
            " 1   last_price            23565 non-null  float64       \n",
            " 2   total_area            23565 non-null  float64       \n",
            " 3   first_day_exposition  23565 non-null  datetime64[ns]\n",
            " 4   rooms                 23565 non-null  int64         \n",
            " 5   ceiling_height        23565 non-null  float64       \n",
            " 6   floors_total          23565 non-null  int64         \n",
            " 7   living_area           23565 non-null  float64       \n",
            " 8   floor                 23565 non-null  int64         \n",
            " 9   is_apartment          23565 non-null  bool          \n",
            " 10  studio                23565 non-null  bool          \n",
            " 11  open_plan             23565 non-null  bool          \n",
            " 12  kitchen_area          23565 non-null  float64       \n",
            " 13  balcony               23565 non-null  int64         \n",
            " 14  locality_name         23565 non-null  object        \n",
            " 15  airports_nearest      18041 non-null  float64       \n",
            " 16  city_centers_nearest  18064 non-null  float64       \n",
            " 17  parks_around_3000     18065 non-null  float64       \n",
            " 18  parks_nearest         8030 non-null   float64       \n",
            " 19  ponds_around_3000     18065 non-null  float64       \n",
            " 20  ponds_nearest         9036 non-null   float64       \n",
            " 21  days_exposition       20394 non-null  float64       \n",
            "dtypes: bool(3), datetime64[ns](1), float64(12), int64(5), object(1)\n",
            "memory usage: 3.7+ MB\n"
          ]
        }
      ],
      "source": [
        "\n",
        "data['first_day_exposition'] = pd.to_datetime(data['first_day_exposition'], format ='%Y-%m-%dT%H:%M:%S')\n",
        "data['floors_total'] = data['floors_total'].astype('int')\n",
        "data['balcony'] = data['balcony'].astype('int')\n",
        "\n",
        "data.info()"
      ]
    },
    {
      "cell_type": "markdown",
      "metadata": {
        "id": "bxJlKiR3_nZx"
      },
      "source": [
        "#### Устранение редких выбивающихся значений"
      ]
    },
    {
      "cell_type": "markdown",
      "metadata": {
        "id": "CMEmgSZp_nZy"
      },
      "source": [
        "На данном этапе необходимо избавиться от редких выбивающихся значений: сейчас диаграммы (вроде sns.pairplot) не помогут сделать хоть сколько-нибудь значимые выводы. Но они помогают найти признаки, в которых возможно введены некорректные значения. Рассмотрим подробнее признаки, вызывающие вопросы: высота потолков, количество комнат, площадь.\n",
        "\n",
        "Создадим функцию, определяющую границы \"усов\" для задаваемого признака."
      ]
    },
    {
      "cell_type": "code",
      "execution_count": null,
      "metadata": {
        "id": "fEYI0L-o_nZz"
      },
      "outputs": [],
      "source": [
        "# функция, получающая на вход название признака, и возвращающая границы \"усов\"\n",
        "def det_whiskers(column):\n",
        "    stat = data[column].describe()\n",
        "    \n",
        "    # межквартирльный размах\n",
        "    iqr = stat[6] - stat[4]\n",
        "    \n",
        "    # левый и правый \"ус\"    \n",
        "    left_whisker = round(stat[4] - 1.5 * iqr, 2)\n",
        "    right_whisker = round(stat[6] + 1.5 * iqr, 2)\n",
        "\n",
        "    # левый \"ус\" не должен быть меньше минимального значения\n",
        "    if left_whisker < stat[3]: left_whisker = stat[3] \n",
        "        \n",
        "    # правый \"ус\" не должен быть больше максимального значения\n",
        "    if right_whisker > stat[7]: right_whisker = stat[7]\n",
        "        \n",
        "    return [left_whisker, right_whisker]"
      ]
    },
    {
      "cell_type": "markdown",
      "metadata": {
        "id": "Tshrvg-A_nZ0"
      },
      "source": [
        "##### Высота потолков"
      ]
    },
    {
      "cell_type": "code",
      "execution_count": null,
      "metadata": {
        "id": "8wWj95do_nZ0",
        "outputId": "5fc52a90-c426-46da-bc70-66667b48741a"
      },
      "outputs": [
        {
          "data": {
            "text/plain": [
              "array([  1.  ,   1.2 ,   1.75,   2.  ,   2.2 ,   2.25,   2.3 ,   2.34,\n",
              "         2.4 ,   2.45,   2.46,   2.47,   2.48,   2.49,   2.5 ,   2.51,\n",
              "         2.52,   2.53,   2.54,   2.55,   2.56,   2.57,   2.58,   2.59,\n",
              "         2.6 ,   2.61,   2.62,   2.63,   2.64,   2.65,   2.66,   2.67,\n",
              "         2.68,   2.69,   2.7 ,   2.71,   2.72,   2.73,   2.74,   2.75,\n",
              "         2.76,   2.77,   2.78,   2.79,   2.8 ,   2.81,   2.82,   2.83,\n",
              "         2.84,   2.85,   2.86,   2.87,   2.88,   2.89,   2.9 ,   2.91,\n",
              "         2.92,   2.93,   2.94,   2.95,   2.96,   2.97,   2.98,   2.99,\n",
              "         3.  ,   3.01,   3.02,   3.03,   3.04,   3.05,   3.06,   3.07,\n",
              "         3.08,   3.09,   3.1 ,   3.11,   3.12,   3.13,   3.14,   3.15,\n",
              "         3.16,   3.17,   3.18,   3.2 ,   3.21,   3.22,   3.23,   3.24,\n",
              "         3.25,   3.26,   3.27,   3.28,   3.29,   3.3 ,   3.31,   3.32,\n",
              "         3.33,   3.34,   3.35,   3.36,   3.37,   3.38,   3.39,   3.4 ,\n",
              "         3.42,   3.43,   3.44,   3.45,   3.46,   3.47,   3.48,   3.49,\n",
              "         3.5 ,   3.51,   3.52,   3.53,   3.54,   3.55,   3.56,   3.57,\n",
              "         3.58,   3.59,   3.6 ,   3.62,   3.63,   3.65,   3.66,   3.67,\n",
              "         3.68,   3.69,   3.7 ,   3.75,   3.76,   3.78,   3.8 ,   3.82,\n",
              "         3.83,   3.84,   3.85,   3.86,   3.87,   3.88,   3.9 ,   3.93,\n",
              "         3.95,   3.98,   4.  ,   4.06,   4.1 ,   4.14,   4.15,   4.19,\n",
              "         4.2 ,   4.25,   4.3 ,   4.37,   4.4 ,   4.45,   4.5 ,   4.65,\n",
              "         4.7 ,   4.8 ,   4.9 ,   5.  ,   5.2 ,   5.3 ,   5.5 ,   5.6 ,\n",
              "         5.8 ,   6.  ,   8.  ,   8.3 ,  10.3 ,  14.  ,  14.85,  20.  ,\n",
              "        22.6 ,  24.  ,  25.  ,  26.  ,  27.  ,  27.5 ,  32.  , 100.  ])"
            ]
          },
          "execution_count": 16,
          "metadata": {},
          "output_type": "execute_result"
        }
      ],
      "source": [
        "#Рассмотрим все значения, которые принимает данный столбец\n",
        "data['ceiling_height'].sort_values().unique()"
      ]
    },
    {
      "cell_type": "code",
      "execution_count": null,
      "metadata": {
        "id": "cu7WUiTq_nZ1",
        "outputId": "343c282b-9dd7-402e-ef86-58f2844e7870"
      },
      "outputs": [
        {
          "data": {
            "text/plain": [
              "array([ 1.   ,  1.03 ,  1.2  ,  1.4  ,  1.485,  1.75 ,  2.   ,  2.2  ,\n",
              "        2.25 ,  2.26 ,  2.3  ,  2.34 ,  2.4  ,  2.45 ,  2.46 ,  2.47 ,\n",
              "        2.48 ,  2.49 ,  2.5  ,  2.51 ,  2.52 ,  2.53 ,  2.54 ,  2.55 ,\n",
              "        2.56 ,  2.57 ,  2.58 ,  2.59 ,  2.6  ,  2.61 ,  2.62 ,  2.63 ,\n",
              "        2.64 ,  2.65 ,  2.66 ,  2.67 ,  2.68 ,  2.69 ,  2.7  ,  2.71 ,\n",
              "        2.72 ,  2.73 ,  2.74 ,  2.75 ,  2.76 ,  2.77 ,  2.78 ,  2.79 ,\n",
              "        2.8  ,  2.81 ,  2.82 ,  2.83 ,  2.84 ,  2.85 ,  2.86 ,  2.87 ,\n",
              "        2.88 ,  2.89 ,  2.9  ,  2.91 ,  2.92 ,  2.93 ,  2.94 ,  2.95 ,\n",
              "        2.96 ,  2.97 ,  2.98 ,  2.99 ,  3.   ,  3.01 ,  3.02 ,  3.03 ,\n",
              "        3.04 ,  3.05 ,  3.06 ,  3.07 ,  3.08 ,  3.09 ,  3.1  ,  3.11 ,\n",
              "        3.12 ,  3.13 ,  3.14 ,  3.15 ,  3.16 ,  3.17 ,  3.18 ,  3.2  ,\n",
              "        3.21 ,  3.22 ,  3.23 ,  3.24 ,  3.25 ,  3.26 ,  3.27 ,  3.28 ,\n",
              "        3.29 ,  3.3  ,  3.31 ,  3.32 ,  3.33 ,  3.34 ,  3.35 ,  3.36 ,\n",
              "        3.37 ,  3.38 ,  3.39 ,  3.4  ,  3.42 ,  3.43 ,  3.44 ,  3.45 ,\n",
              "        3.46 ,  3.47 ,  3.48 ,  3.49 ,  3.5  ,  3.51 ,  3.52 ,  3.53 ,\n",
              "        3.54 ,  3.55 ,  3.56 ,  3.57 ,  3.58 ,  3.59 ,  3.6  ,  3.62 ,\n",
              "        3.63 ,  3.65 ,  3.66 ,  3.67 ,  3.68 ,  3.69 ,  3.7  ,  3.75 ,\n",
              "        3.76 ,  3.78 ,  3.8  ,  3.82 ,  3.83 ,  3.84 ,  3.85 ,  3.86 ,\n",
              "        3.87 ,  3.88 ,  3.9  ,  3.93 ,  3.95 ,  3.98 ,  4.   ,  4.06 ,\n",
              "        4.1  ,  4.14 ,  4.15 ,  4.19 ,  4.2  ,  4.25 ,  4.3  ,  4.37 ,\n",
              "        4.4  ,  4.45 ,  4.5  ,  4.65 ,  4.7  ,  4.8  ,  4.9  ,  5.   ,\n",
              "        5.2  ,  5.3  ,  5.5  ,  5.6  ,  5.8  ,  6.   ,  8.   ,  8.3  ,\n",
              "       10.   ])"
            ]
          },
          "execution_count": 17,
          "metadata": {},
          "output_type": "execute_result"
        }
      ],
      "source": [
        "#Видно, что некоторые значения введены изначально неправильно. Изменим их\n",
        "data.loc[data['ceiling_height'] >= 10, 'ceiling_height'] = data['ceiling_height'] / 10\n",
        "data['ceiling_height'].sort_values().unique()"
      ]
    },
    {
      "cell_type": "code",
      "execution_count": null,
      "metadata": {
        "id": "Tg2wle6d_nZ2",
        "outputId": "0d7599b3-7d8b-4b16-8ccf-06e4525104da"
      },
      "outputs": [
        {
          "data": {
            "text/plain": [
              "count    23565.000000\n",
              "mean         2.708459\n",
              "std          0.250850\n",
              "min          1.000000\n",
              "25%          2.550000\n",
              "50%          2.650000\n",
              "75%          2.750000\n",
              "max         10.000000\n",
              "Name: ceiling_height, dtype: float64"
            ]
          },
          "execution_count": 18,
          "metadata": {},
          "output_type": "execute_result"
        }
      ],
      "source": [
        "data['ceiling_height'].describe()"
      ]
    },
    {
      "cell_type": "code",
      "execution_count": null,
      "metadata": {
        "id": "h_YACZN3_nZ2",
        "outputId": "c287838f-c7f4-4a77-8c82-0c70b9985485"
      },
      "outputs": [
        {
          "name": "stderr",
          "output_type": "stream",
          "text": [
            "/opt/conda/lib/python3.9/site-packages/seaborn/_decorators.py:36: FutureWarning: Pass the following variable as a keyword arg: x. From version 0.12, the only valid positional argument will be `data`, and passing other arguments without an explicit keyword will result in an error or misinterpretation.\n",
            "  warnings.warn(\n"
          ]
        },
        {
          "data": {
            "image/png": "[encoded data removed]",
            "text/plain": [
              "<Figure size 432x288 with 1 Axes>"
            ]
          },
          "metadata": {
            "needs_background": "light"
          },
          "output_type": "display_data"
        }
      ],
      "source": [
        "#построим диаграмму размаха\n",
        "sns.boxplot(data['ceiling_height'])\n",
        "plt.title('Диаграмма размаха')\n",
        "plt.xlabel('Высота потолков, м')\n",
        "_ = plt.xlim(1, 4)"
      ]
    },
    {
      "cell_type": "code",
      "execution_count": null,
      "metadata": {
        "id": "6d9LRxFE_nZ3",
        "outputId": "d90dc8b1-f1d8-4b64-f60c-e75bcaddc90c"
      },
      "outputs": [
        {
          "data": {
            "text/plain": [
              "[2.25, 3.05]"
            ]
          },
          "execution_count": 20,
          "metadata": {},
          "output_type": "execute_result"
        }
      ],
      "source": [
        "#найдем границы \"усов\"\n",
        "det_whiskers('ceiling_height')"
      ]
    },
    {
      "cell_type": "code",
      "execution_count": null,
      "metadata": {
        "id": "0qiUk7Nu_nZ4"
      },
      "outputs": [],
      "source": [
        "#запишем в новый столбец, какие квартиры выбиваются из общего числа\n",
        "data['unusual_ceiling'] = (data['ceiling_height'] > det_whiskers('ceiling_height')[1]) | (data['ceiling_height'] < det_whiskers('ceiling_height')[0])"
      ]
    },
    {
      "cell_type": "markdown",
      "metadata": {
        "id": "YrfzSpjT_nZ4"
      },
      "source": [
        "##### Количество комнат"
      ]
    },
    {
      "cell_type": "code",
      "execution_count": null,
      "metadata": {
        "id": "xmYUQJTP_nZ5",
        "outputId": "fb8573bc-e327-4344-f6f2-d23d499ef2d6"
      },
      "outputs": [
        {
          "data": {
            "text/plain": [
              "array([ 0,  1,  2,  3,  4,  5,  6,  7,  8,  9, 10, 11, 12, 14, 15, 16, 19])"
            ]
          },
          "execution_count": 22,
          "metadata": {},
          "output_type": "execute_result"
        }
      ],
      "source": [
        "#Рассмотрим все значения, которые принимает данный столбец\n",
        "data['rooms'].sort_values().unique()"
      ]
    },
    {
      "cell_type": "code",
      "execution_count": null,
      "metadata": {
        "id": "f3DDSuse_nZ6",
        "outputId": "0d1bb91c-9f45-494e-ac0c-2cd093c946f2"
      },
      "outputs": [
        {
          "data": {
            "text/plain": [
              "count    23565.000000\n",
              "mean         2.070656\n",
              "std          1.078591\n",
              "min          0.000000\n",
              "25%          1.000000\n",
              "50%          2.000000\n",
              "75%          3.000000\n",
              "max         19.000000\n",
              "Name: rooms, dtype: float64"
            ]
          },
          "execution_count": 23,
          "metadata": {},
          "output_type": "execute_result"
        }
      ],
      "source": [
        "data['rooms'].describe()"
      ]
    },
    {
      "cell_type": "code",
      "execution_count": null,
      "metadata": {
        "id": "G1fFjxru_nZ6",
        "outputId": "b9135e31-499d-46d8-ea11-e5dacb314f24"
      },
      "outputs": [
        {
          "name": "stderr",
          "output_type": "stream",
          "text": [
            "/opt/conda/lib/python3.9/site-packages/seaborn/_decorators.py:36: FutureWarning: Pass the following variable as a keyword arg: x. From version 0.12, the only valid positional argument will be `data`, and passing other arguments without an explicit keyword will result in an error or misinterpretation.\n",
            "  warnings.warn(\n"
          ]
        },
        {
          "data": {
            "image/png": "[encoded data removed]",
            "text/plain": [
              "<Figure size 432x288 with 1 Axes>"
            ]
          },
          "metadata": {
            "needs_background": "light"
          },
          "output_type": "display_data"
        }
      ],
      "source": [
        "#построим диаграмму размаха\n",
        "sns.boxplot(data['rooms'])\n",
        "plt.title('Диаграмма размаха')\n",
        "plt.xlabel('Число комнат, шт.')\n",
        "_ = plt.xlim(0, 10)"
      ]
    },
    {
      "cell_type": "code",
      "execution_count": null,
      "metadata": {
        "id": "gqeoA7o6_nZ7",
        "outputId": "0f612689-ba7e-4820-b15f-774a069eb78e"
      },
      "outputs": [
        {
          "data": {
            "text/plain": [
              "[0.0, 6.0]"
            ]
          },
          "execution_count": 25,
          "metadata": {},
          "output_type": "execute_result"
        }
      ],
      "source": [
        "#найдем границы \"усов\"\n",
        "det_whiskers('rooms')"
      ]
    },
    {
      "cell_type": "code",
      "execution_count": null,
      "metadata": {
        "id": "BvoZ_QtA_nZ8"
      },
      "outputs": [],
      "source": [
        "#запишем в новый столбец, какие квартиры выбиваются из общего числа\n",
        "data['too_many_rooms'] = data['rooms'] > det_whiskers('rooms')[1]"
      ]
    },
    {
      "cell_type": "markdown",
      "metadata": {
        "id": "qKSmz2x__nZ8"
      },
      "source": [
        "##### Площадь"
      ]
    },
    {
      "cell_type": "code",
      "execution_count": null,
      "metadata": {
        "id": "GFt80-3n_nZ9",
        "outputId": "c8359085-e5a3-4047-fbac-62ffd9062296"
      },
      "outputs": [
        {
          "data": {
            "text/plain": [
              "474"
            ]
          },
          "execution_count": 27,
          "metadata": {},
          "output_type": "execute_result"
        }
      ],
      "source": [
        "#найдем квартиры, в которых общая площадь меньше, чем 90% от суммы жилой площади и площади кухни \n",
        "#(оставшиеся 10% приходятся на санузел, балкон и коридоры)\n",
        "data.query('total_area * 0.9 < living_area + kitchen_area')['total_area'].count()"
      ]
    },
    {
      "cell_type": "code",
      "execution_count": null,
      "metadata": {
        "id": "nbSA5zmm_nZ-"
      },
      "outputs": [],
      "source": [
        "#запишем в новый столбец, какие квартиры не соответствуют этому условию\n",
        "data['not_correct_area'] = data.loc[data['total_area'] * 0.9 < (data['living_area'] + data['kitchen_area']), 'total_area']"
      ]
    },
    {
      "cell_type": "code",
      "execution_count": null,
      "metadata": {
        "id": "RMrpTRhW_nZ-",
        "outputId": "39f22602-37d6-4df6-802f-01ab226e7054"
      },
      "outputs": [
        {
          "data": {
            "text/plain": [
              "count    23565.000000\n",
              "mean         2.070656\n",
              "std          1.078591\n",
              "min          0.000000\n",
              "25%          1.000000\n",
              "50%          2.000000\n",
              "75%          3.000000\n",
              "max         19.000000\n",
              "Name: rooms, dtype: float64"
            ]
          },
          "execution_count": 29,
          "metadata": {},
          "output_type": "execute_result"
        }
      ],
      "source": [
        "data['rooms'].describe()"
      ]
    },
    {
      "cell_type": "code",
      "execution_count": null,
      "metadata": {
        "id": "a4PuC8fz_nZ_",
        "outputId": "906e3344-c818-4d27-ca4d-3b4b10794d21"
      },
      "outputs": [
        {
          "name": "stderr",
          "output_type": "stream",
          "text": [
            "/opt/conda/lib/python3.9/site-packages/seaborn/_decorators.py:36: FutureWarning: Pass the following variable as a keyword arg: x. From version 0.12, the only valid positional argument will be `data`, and passing other arguments without an explicit keyword will result in an error or misinterpretation.\n",
            "  warnings.warn(\n"
          ]
        },
        {
          "data": {
            "image/png": "[encoded data removed]",
            "text/plain": [
              "<Figure size 432x288 with 1 Axes>"
            ]
          },
          "metadata": {
            "needs_background": "light"
          },
          "output_type": "display_data"
        }
      ],
      "source": [
        "#построим диаграмму размаха\n",
        "sns.boxplot(data['total_area'])\n",
        "plt.title('Диаграмма размаха')\n",
        "plt.xlabel('Общая площадь, кв.м')\n",
        "plt.xlim(0, 150)\n",
        "plt.show()"
      ]
    },
    {
      "cell_type": "code",
      "execution_count": null,
      "metadata": {
        "id": "hi7QdpAt_naA",
        "outputId": "2a301c8d-4890-480c-d4df-ab654a1bbcd6"
      },
      "outputs": [
        {
          "data": {
            "text/plain": [
              "[12.0, 114.25]"
            ]
          },
          "execution_count": 31,
          "metadata": {},
          "output_type": "execute_result"
        }
      ],
      "source": [
        "#найдем границы \"усов\"\n",
        "det_whiskers('total_area')"
      ]
    },
    {
      "cell_type": "code",
      "execution_count": null,
      "metadata": {
        "id": "Ln1avIDt_naA"
      },
      "outputs": [],
      "source": [
        "#запишем в новый столбец, какие квартиры выбиваются из общего числа\n",
        "data['not_correct_area'] = data['total_area'] > det_whiskers('total_area')[1]"
      ]
    },
    {
      "cell_type": "code",
      "execution_count": null,
      "metadata": {
        "id": "gMn5vRlr_naB",
        "outputId": "0512c801-dfb4-44a2-bc64-73b7dcbb47a1"
      },
      "outputs": [
        {
          "name": "stdout",
          "output_type": "stream",
          "text": [
            "Доля чистых значений составила: 90.4%\n"
          ]
        }
      ],
      "source": [
        "#создадим новую таблицу с очищенными данными\n",
        "good_data = data[(data['not_correct_area'] == False)&(data['too_many_rooms'] == False)&(data['unusual_ceiling'] == False)].reset_index(drop=True)\n",
        "\n",
        "print(f'Доля чистых значений составила: {len(good_data) / len(data):.1%}')"
      ]
    },
    {
      "cell_type": "markdown",
      "metadata": {
        "id": "G7Iwd2hs_naC"
      },
      "source": [
        "**Вывод:** обнаружены и обработаны пропуски в данных, обрабтаны дубликаты, удалены аномальные значения."
      ]
    },
    {
      "cell_type": "markdown",
      "metadata": {
        "id": "qemwCtAo_naE"
      },
      "source": [
        "### Посчитайте и добавьте в таблицу новые столбцы"
      ]
    },
    {
      "cell_type": "code",
      "execution_count": null,
      "metadata": {
        "id": "yg7hynL__naE",
        "outputId": "d3125b6f-390b-464b-ab6e-54ffd8f61fde"
      },
      "outputs": [
        {
          "data": {
            "text/html": [
              "<div>\n",
              "<style scoped>\n",
              "    .dataframe tbody tr th:only-of-type {\n",
              "        vertical-align: middle;\n",
              "    }\n",
              "\n",
              "    .dataframe tbody tr th {\n",
              "        vertical-align: top;\n",
              "    }\n",
              "\n",
              "    .dataframe thead th {\n",
              "        text-align: right;\n",
              "    }\n",
              "</style>\n",
              "<table border=\"1\" class=\"dataframe\">\n",
              "  <thead>\n",
              "    <tr style=\"text-align: right;\">\n",
              "      <th></th>\n",
              "      <th>total_images</th>\n",
              "      <th>last_price</th>\n",
              "      <th>total_area</th>\n",
              "      <th>first_day_exposition</th>\n",
              "      <th>rooms</th>\n",
              "      <th>ceiling_height</th>\n",
              "      <th>floors_total</th>\n",
              "      <th>living_area</th>\n",
              "      <th>floor</th>\n",
              "      <th>is_apartment</th>\n",
              "      <th>studio</th>\n",
              "      <th>open_plan</th>\n",
              "      <th>kitchen_area</th>\n",
              "      <th>balcony</th>\n",
              "      <th>locality_name</th>\n",
              "      <th>airports_nearest</th>\n",
              "      <th>city_centers_nearest</th>\n",
              "      <th>parks_around_3000</th>\n",
              "      <th>parks_nearest</th>\n",
              "      <th>ponds_around_3000</th>\n",
              "      <th>ponds_nearest</th>\n",
              "      <th>days_exposition</th>\n",
              "      <th>unusual_ceiling</th>\n",
              "      <th>too_many_rooms</th>\n",
              "      <th>not_correct_area</th>\n",
              "      <th>price_per_sqm</th>\n",
              "      <th>weekday</th>\n",
              "      <th>month</th>\n",
              "      <th>year</th>\n",
              "      <th>floor_category</th>\n",
              "    </tr>\n",
              "  </thead>\n",
              "  <tbody>\n",
              "    <tr>\n",
              "      <th>0</th>\n",
              "      <td>20</td>\n",
              "      <td>13000000.0</td>\n",
              "      <td>108.0</td>\n",
              "      <td>2019-03-07</td>\n",
              "      <td>3</td>\n",
              "      <td>2.70</td>\n",
              "      <td>16</td>\n",
              "      <td>51.0</td>\n",
              "      <td>8</td>\n",
              "      <td>False</td>\n",
              "      <td>False</td>\n",
              "      <td>False</td>\n",
              "      <td>25.0</td>\n",
              "      <td>0</td>\n",
              "      <td>Санкт-Петербург</td>\n",
              "      <td>18863.0</td>\n",
              "      <td>16.0</td>\n",
              "      <td>1.0</td>\n",
              "      <td>482.0</td>\n",
              "      <td>2.0</td>\n",
              "      <td>755.0</td>\n",
              "      <td>NaN</td>\n",
              "      <td>False</td>\n",
              "      <td>False</td>\n",
              "      <td>False</td>\n",
              "      <td>120370.4</td>\n",
              "      <td>3</td>\n",
              "      <td>3</td>\n",
              "      <td>2019</td>\n",
              "      <td>другой</td>\n",
              "    </tr>\n",
              "    <tr>\n",
              "      <th>1</th>\n",
              "      <td>7</td>\n",
              "      <td>3350000.0</td>\n",
              "      <td>40.4</td>\n",
              "      <td>2018-12-04</td>\n",
              "      <td>1</td>\n",
              "      <td>2.75</td>\n",
              "      <td>11</td>\n",
              "      <td>18.6</td>\n",
              "      <td>1</td>\n",
              "      <td>False</td>\n",
              "      <td>False</td>\n",
              "      <td>False</td>\n",
              "      <td>11.0</td>\n",
              "      <td>2</td>\n",
              "      <td>п. Шушары</td>\n",
              "      <td>12817.0</td>\n",
              "      <td>19.0</td>\n",
              "      <td>0.0</td>\n",
              "      <td>NaN</td>\n",
              "      <td>0.0</td>\n",
              "      <td>NaN</td>\n",
              "      <td>81.0</td>\n",
              "      <td>False</td>\n",
              "      <td>False</td>\n",
              "      <td>False</td>\n",
              "      <td>82920.8</td>\n",
              "      <td>1</td>\n",
              "      <td>12</td>\n",
              "      <td>2018</td>\n",
              "      <td>первый</td>\n",
              "    </tr>\n",
              "    <tr>\n",
              "      <th>2</th>\n",
              "      <td>10</td>\n",
              "      <td>5196000.0</td>\n",
              "      <td>56.0</td>\n",
              "      <td>2015-08-20</td>\n",
              "      <td>2</td>\n",
              "      <td>2.55</td>\n",
              "      <td>5</td>\n",
              "      <td>34.3</td>\n",
              "      <td>4</td>\n",
              "      <td>False</td>\n",
              "      <td>False</td>\n",
              "      <td>False</td>\n",
              "      <td>8.3</td>\n",
              "      <td>0</td>\n",
              "      <td>Санкт-Петербург</td>\n",
              "      <td>21741.0</td>\n",
              "      <td>14.0</td>\n",
              "      <td>1.0</td>\n",
              "      <td>90.0</td>\n",
              "      <td>2.0</td>\n",
              "      <td>574.0</td>\n",
              "      <td>558.0</td>\n",
              "      <td>False</td>\n",
              "      <td>False</td>\n",
              "      <td>False</td>\n",
              "      <td>92785.7</td>\n",
              "      <td>3</td>\n",
              "      <td>8</td>\n",
              "      <td>2015</td>\n",
              "      <td>другой</td>\n",
              "    </tr>\n",
              "    <tr>\n",
              "      <th>3</th>\n",
              "      <td>2</td>\n",
              "      <td>10000000.0</td>\n",
              "      <td>100.0</td>\n",
              "      <td>2018-06-19</td>\n",
              "      <td>2</td>\n",
              "      <td>3.03</td>\n",
              "      <td>14</td>\n",
              "      <td>32.0</td>\n",
              "      <td>13</td>\n",
              "      <td>False</td>\n",
              "      <td>False</td>\n",
              "      <td>False</td>\n",
              "      <td>41.0</td>\n",
              "      <td>0</td>\n",
              "      <td>Санкт-Петербург</td>\n",
              "      <td>31856.0</td>\n",
              "      <td>8.0</td>\n",
              "      <td>2.0</td>\n",
              "      <td>112.0</td>\n",
              "      <td>1.0</td>\n",
              "      <td>48.0</td>\n",
              "      <td>121.0</td>\n",
              "      <td>False</td>\n",
              "      <td>False</td>\n",
              "      <td>False</td>\n",
              "      <td>100000.0</td>\n",
              "      <td>1</td>\n",
              "      <td>6</td>\n",
              "      <td>2018</td>\n",
              "      <td>другой</td>\n",
              "    </tr>\n",
              "    <tr>\n",
              "      <th>4</th>\n",
              "      <td>10</td>\n",
              "      <td>2890000.0</td>\n",
              "      <td>30.4</td>\n",
              "      <td>2018-09-10</td>\n",
              "      <td>1</td>\n",
              "      <td>2.65</td>\n",
              "      <td>12</td>\n",
              "      <td>14.4</td>\n",
              "      <td>5</td>\n",
              "      <td>False</td>\n",
              "      <td>False</td>\n",
              "      <td>False</td>\n",
              "      <td>9.1</td>\n",
              "      <td>0</td>\n",
              "      <td>п. Янино-1</td>\n",
              "      <td>NaN</td>\n",
              "      <td>NaN</td>\n",
              "      <td>NaN</td>\n",
              "      <td>NaN</td>\n",
              "      <td>NaN</td>\n",
              "      <td>NaN</td>\n",
              "      <td>55.0</td>\n",
              "      <td>False</td>\n",
              "      <td>False</td>\n",
              "      <td>False</td>\n",
              "      <td>95065.8</td>\n",
              "      <td>0</td>\n",
              "      <td>9</td>\n",
              "      <td>2018</td>\n",
              "      <td>другой</td>\n",
              "    </tr>\n",
              "  </tbody>\n",
              "</table>\n",
              "</div>"
            ],
            "text/plain": [
              "   total_images  last_price  total_area first_day_exposition  rooms  \\\n",
              "0            20  13000000.0       108.0           2019-03-07      3   \n",
              "1             7   3350000.0        40.4           2018-12-04      1   \n",
              "2            10   5196000.0        56.0           2015-08-20      2   \n",
              "3             2  10000000.0       100.0           2018-06-19      2   \n",
              "4            10   2890000.0        30.4           2018-09-10      1   \n",
              "\n",
              "   ceiling_height  floors_total  living_area  floor  is_apartment  studio  \\\n",
              "0            2.70            16         51.0      8         False   False   \n",
              "1            2.75            11         18.6      1         False   False   \n",
              "2            2.55             5         34.3      4         False   False   \n",
              "3            3.03            14         32.0     13         False   False   \n",
              "4            2.65            12         14.4      5         False   False   \n",
              "\n",
              "   open_plan  kitchen_area  balcony    locality_name  airports_nearest  \\\n",
              "0      False          25.0        0  Санкт-Петербург           18863.0   \n",
              "1      False          11.0        2        п. Шушары           12817.0   \n",
              "2      False           8.3        0  Санкт-Петербург           21741.0   \n",
              "3      False          41.0        0  Санкт-Петербург           31856.0   \n",
              "4      False           9.1        0       п. Янино-1               NaN   \n",
              "\n",
              "   city_centers_nearest  parks_around_3000  parks_nearest  ponds_around_3000  \\\n",
              "0                  16.0                1.0          482.0                2.0   \n",
              "1                  19.0                0.0            NaN                0.0   \n",
              "2                  14.0                1.0           90.0                2.0   \n",
              "3                   8.0                2.0          112.0                1.0   \n",
              "4                   NaN                NaN            NaN                NaN   \n",
              "\n",
              "   ponds_nearest  days_exposition  unusual_ceiling  too_many_rooms  \\\n",
              "0          755.0              NaN            False           False   \n",
              "1            NaN             81.0            False           False   \n",
              "2          574.0            558.0            False           False   \n",
              "3           48.0            121.0            False           False   \n",
              "4            NaN             55.0            False           False   \n",
              "\n",
              "   not_correct_area  price_per_sqm  weekday  month  year floor_category  \n",
              "0             False       120370.4        3      3  2019         другой  \n",
              "1             False        82920.8        1     12  2018         первый  \n",
              "2             False        92785.7        3      8  2015         другой  \n",
              "3             False       100000.0        1      6  2018         другой  \n",
              "4             False        95065.8        0      9  2018         другой  "
            ]
          },
          "metadata": {},
          "output_type": "display_data"
        }
      ],
      "source": [
        "#цена одного квадратного метра;\n",
        "good_data['price_per_sqm'] = round(good_data['last_price'] / good_data['total_area'], 1)\n",
        "\n",
        "#день недели публикации объявления (0 — понедельник, 1 — вторник и так далее);\n",
        "good_data['weekday'] = good_data['first_day_exposition'].dt.weekday\n",
        "#месяц публикации объявления;\n",
        "good_data['month'] = good_data['first_day_exposition'].dt.month\n",
        "#год публикации объявления;\n",
        "good_data['year'] = good_data['first_day_exposition'].dt.year\n",
        "\n",
        "#тип этажа квартиры (значения — «первый», «последний», «другой»);\n",
        "good_data.loc[good_data['floor'] == 1, 'floor_category'] = 'первый'\n",
        "good_data.loc[good_data['floor'] == good_data['floors_total'], 'floor_category'] = 'последний'\n",
        "good_data.loc[good_data['floor_category'].isna(), 'floor_category'] = 'другой'\n",
        "\n",
        "#расстояние до центра города в километрах (переведите из м в км и округлите до целых значений).\n",
        "good_data['city_centers_nearest'] = round(good_data['city_centers_nearest'] / 1000)\n",
        "\n",
        "pd.set_option('display.max_columns', 500)\n",
        "display(good_data.head())"
      ]
    },
    {
      "cell_type": "markdown",
      "metadata": {
        "id": "pV0wsug__naF"
      },
      "source": [
        "**Вывод:** были добавлены новые столбцы согласно заданию."
      ]
    },
    {
      "cell_type": "markdown",
      "metadata": {
        "id": "Ll-5uGQh_naG"
      },
      "source": [
        "### Проведите исследовательский анализ данных"
      ]
    },
    {
      "cell_type": "markdown",
      "metadata": {
        "id": "Wn3NSiXh_naH"
      },
      "source": [
        "#### Изучение параметров объектов"
      ]
    },
    {
      "cell_type": "markdown",
      "metadata": {
        "id": "HuOeGG-u_naH"
      },
      "source": [
        "Построем отдельные гистограммы для каждого из этих параметров. "
      ]
    },
    {
      "cell_type": "markdown",
      "metadata": {
        "id": "Vcs1rrKC_naI"
      },
      "source": [
        "##### Общая площадь"
      ]
    },
    {
      "cell_type": "code",
      "execution_count": null,
      "metadata": {
        "id": "4HeFwkoy_naI",
        "outputId": "0cd7efad-775a-4d46-a6d4-05c8a5a0aaeb"
      },
      "outputs": [
        {
          "data": {
            "text/plain": [
              "<AxesSubplot:>"
            ]
          },
          "execution_count": 35,
          "metadata": {},
          "output_type": "execute_result"
        },
        {
          "data": {
            "image/png": "[encoded data removed]",
            "text/plain": [
              "<Figure size 432x288 with 1 Axes>"
            ]
          },
          "metadata": {
            "needs_background": "light"
          },
          "output_type": "display_data"
        }
      ],
      "source": [
        "good_data['total_area'].hist()"
      ]
    },
    {
      "cell_type": "markdown",
      "metadata": {
        "id": "Af7oRaOR_naJ"
      },
      "source": [
        "Большая часть квартир обладает общей площадью от 40 кв.м до 60 кв.м. "
      ]
    },
    {
      "cell_type": "markdown",
      "metadata": {
        "id": "7LsRqtTK_naK"
      },
      "source": [
        "##### Жилая площадь"
      ]
    },
    {
      "cell_type": "code",
      "execution_count": null,
      "metadata": {
        "id": "sSVSjGuK_naL",
        "outputId": "eb6e7a4d-6a47-4a31-a456-1d71b26435dc"
      },
      "outputs": [
        {
          "data": {
            "text/plain": [
              "<AxesSubplot:>"
            ]
          },
          "execution_count": 36,
          "metadata": {},
          "output_type": "execute_result"
        },
        {
          "data": {
            "image/png": "[encoded data removed]",
            "text/plain": [
              "<Figure size 432x288 with 1 Axes>"
            ]
          },
          "metadata": {
            "needs_background": "light"
          },
          "output_type": "display_data"
        }
      ],
      "source": [
        "good_data['living_area'].hist()"
      ]
    },
    {
      "cell_type": "markdown",
      "metadata": {
        "id": "qP5qtYC2_naL"
      },
      "source": [
        "Большая часть квартир обладает жилой площадью от 20 кв.м до 30 кв.м. "
      ]
    },
    {
      "cell_type": "markdown",
      "metadata": {
        "id": "wxj9-vZW_naM"
      },
      "source": [
        "##### Площадь кухни"
      ]
    },
    {
      "cell_type": "code",
      "execution_count": null,
      "metadata": {
        "id": "VptOQJfN_naN",
        "outputId": "8cb14156-18df-4b46-d133-cdc44c292404"
      },
      "outputs": [
        {
          "data": {
            "text/plain": [
              "<AxesSubplot:>"
            ]
          },
          "execution_count": 37,
          "metadata": {},
          "output_type": "execute_result"
        },
        {
          "data": {
            "image/png": "[encoded data removed]",
            "text/plain": [
              "<Figure size 432x288 with 1 Axes>"
            ]
          },
          "metadata": {
            "needs_background": "light"
          },
          "output_type": "display_data"
        }
      ],
      "source": [
        "good_data['kitchen_area'].hist()"
      ]
    },
    {
      "cell_type": "markdown",
      "metadata": {
        "id": "mWA1qlCE_naN"
      },
      "source": [
        "Чаще всего площадь кухни лежит в пределах 20 кв.м."
      ]
    },
    {
      "cell_type": "markdown",
      "metadata": {
        "id": "i4FDG_0Q_naO"
      },
      "source": [
        "##### Цена объекта"
      ]
    },
    {
      "cell_type": "code",
      "execution_count": null,
      "metadata": {
        "id": "DKdnOKCb_naO",
        "outputId": "81438688-2470-4792-bee1-08343847144c"
      },
      "outputs": [
        {
          "data": {
            "text/plain": [
              "<AxesSubplot:>"
            ]
          },
          "execution_count": 38,
          "metadata": {},
          "output_type": "execute_result"
        },
        {
          "data": {
            "image/png": "[encoded data removed]",
            "text/plain": [
              "<Figure size 432x288 with 1 Axes>"
            ]
          },
          "metadata": {
            "needs_background": "light"
          },
          "output_type": "display_data"
        }
      ],
      "source": [
        "good_data['last_price'].hist()"
      ]
    },
    {
      "cell_type": "code",
      "execution_count": null,
      "metadata": {
        "id": "0liqDpUC_naR",
        "outputId": "76ec699e-301d-4bf7-d0be-ecad719cbfcd"
      },
      "outputs": [
        {
          "data": {
            "text/plain": [
              "<AxesSubplot:>"
            ]
          },
          "execution_count": 39,
          "metadata": {},
          "output_type": "execute_result"
        },
        {
          "data": {
            "image/png": "[encoded data removed]",
            "text/plain": [
              "<Figure size 432x288 with 1 Axes>"
            ]
          },
          "metadata": {
            "needs_background": "light"
          },
          "output_type": "display_data"
        }
      ],
      "source": [
        "#Изменим масштаб графика для большей наглядности\n",
        "(good_data['last_price'] / 1000000).hist(range=(0,30))"
      ]
    },
    {
      "cell_type": "markdown",
      "metadata": {
        "id": "pE8itLI6_naR"
      },
      "source": [
        "По гистограмме сложно судить об общей цене. Построим диграмму размаха."
      ]
    },
    {
      "cell_type": "code",
      "execution_count": null,
      "metadata": {
        "id": "xP_hxvl9_naS",
        "outputId": "934d2a67-3e72-484d-e066-320cbcd1fd00"
      },
      "outputs": [
        {
          "name": "stderr",
          "output_type": "stream",
          "text": [
            "/opt/conda/lib/python3.9/site-packages/seaborn/_decorators.py:36: FutureWarning: Pass the following variable as a keyword arg: x. From version 0.12, the only valid positional argument will be `data`, and passing other arguments without an explicit keyword will result in an error or misinterpretation.\n",
            "  warnings.warn(\n"
          ]
        },
        {
          "data": {
            "text/plain": [
              "Text(0.5, 0, 'Цены, 10 млн рублей')"
            ]
          },
          "execution_count": 40,
          "metadata": {},
          "output_type": "execute_result"
        },
        {
          "data": {
            "image/png": "[encoded data removed]",
            "text/plain": [
              "<Figure size 432x288 with 1 Axes>"
            ]
          },
          "metadata": {
            "needs_background": "light"
          },
          "output_type": "display_data"
        }
      ],
      "source": [
        "sns.boxplot(good_data['last_price'])\n",
        "plt.title('Диаграмма размаха')\n",
        "plt.xlabel('Цены, 10 млн рублей')"
      ]
    },
    {
      "cell_type": "code",
      "execution_count": null,
      "metadata": {
        "id": "tCUJSGV8_naT",
        "outputId": "d013889b-7374-4bad-aafa-728751b83e3e"
      },
      "outputs": [
        {
          "data": {
            "text/plain": [
              "82000000.0"
            ]
          },
          "execution_count": 41,
          "metadata": {},
          "output_type": "execute_result"
        }
      ],
      "source": [
        "# Найдем значение одиночного выброса\n",
        "good_data['last_price'].max()"
      ]
    },
    {
      "cell_type": "code",
      "execution_count": null,
      "metadata": {
        "id": "Zql50clw_naU",
        "outputId": "74d24694-6600-42fe-cad0-f94428445cb5"
      },
      "outputs": [
        {
          "name": "stderr",
          "output_type": "stream",
          "text": [
            "/opt/conda/lib/python3.9/site-packages/seaborn/_decorators.py:36: FutureWarning: Pass the following variable as a keyword arg: x. From version 0.12, the only valid positional argument will be `data`, and passing other arguments without an explicit keyword will result in an error or misinterpretation.\n",
            "  warnings.warn(\n"
          ]
        },
        {
          "data": {
            "image/png": "[encoded data removed]",
            "text/plain": [
              "<Figure size 432x288 with 1 Axes>"
            ]
          },
          "metadata": {
            "needs_background": "light"
          },
          "output_type": "display_data"
        }
      ],
      "source": [
        "# Приблизим диаграмму размаха\n",
        "sns.boxplot(data['last_price'], color='tab:red')\n",
        "plt.title('Диаграмма размаха')\n",
        "plt.xlabel('Цены, 10 млн рублей')\n",
        "_ = plt.xlim(0, 13000000)"
      ]
    },
    {
      "cell_type": "markdown",
      "metadata": {
        "id": "41z14WZw_naU"
      },
      "source": [
        "Большая часть квартир имеют цену в пределах 3,5 млн - 7 млн рублей. Но есть достаточно много квартир, стоящих больше 12 млн. Самая дорогая квартира стоит 82 млн рублей. Это может быть как квартира, относящаяся к люксовому сегмента, так и что существует ошибка в данных, вызванная человеческим фактором."
      ]
    },
    {
      "cell_type": "markdown",
      "metadata": {
        "id": "YWvIdzvp_naV"
      },
      "source": [
        "##### Количество комнат"
      ]
    },
    {
      "cell_type": "code",
      "execution_count": null,
      "metadata": {
        "id": "xOdTTVmR_naV",
        "outputId": "ada5932b-e974-415b-bc52-33454a5495a6"
      },
      "outputs": [
        {
          "data": {
            "text/plain": [
              "<AxesSubplot:>"
            ]
          },
          "execution_count": 43,
          "metadata": {},
          "output_type": "execute_result"
        },
        {
          "data": {
            "image/png": "[encoded data removed]",
            "text/plain": [
              "<Figure size 432x288 with 1 Axes>"
            ]
          },
          "metadata": {
            "needs_background": "light"
          },
          "output_type": "display_data"
        }
      ],
      "source": [
        "good_data['rooms'].hist()"
      ]
    },
    {
      "cell_type": "markdown",
      "metadata": {
        "id": "2S8ZZv0Q_naW"
      },
      "source": [
        "Больше всего квартир с количество комнат 1-3."
      ]
    },
    {
      "cell_type": "markdown",
      "metadata": {
        "id": "SiWsKeAk_naX"
      },
      "source": [
        "##### Высота потолков;"
      ]
    },
    {
      "cell_type": "code",
      "execution_count": null,
      "metadata": {
        "id": "5suBGVm__naX",
        "outputId": "f13a962c-aa78-4a67-dd0b-c904c3b94221"
      },
      "outputs": [
        {
          "data": {
            "text/plain": [
              "<AxesSubplot:>"
            ]
          },
          "execution_count": 44,
          "metadata": {},
          "output_type": "execute_result"
        },
        {
          "data": {
            "image/png": "[encoded data removed]",
            "text/plain": [
              "<Figure size 432x288 with 1 Axes>"
            ]
          },
          "metadata": {
            "needs_background": "light"
          },
          "output_type": "display_data"
        }
      ],
      "source": [
        "good_data['ceiling_height'].hist()"
      ]
    },
    {
      "cell_type": "markdown",
      "metadata": {
        "id": "IKdZQvi0_naY"
      },
      "source": [
        "Больше всего квартир с потолками 2,5 м. Потолки выше очевидно у квартир, находящихся в историческом центра или в страых домах."
      ]
    },
    {
      "cell_type": "markdown",
      "metadata": {
        "id": "yM0zfNqs_naZ"
      },
      "source": [
        "##### Этаж квартиры"
      ]
    },
    {
      "cell_type": "code",
      "execution_count": null,
      "metadata": {
        "id": "74i0hBMK_naZ",
        "outputId": "8c5d8f73-34dc-45a9-e6e2-1338a347d459"
      },
      "outputs": [
        {
          "data": {
            "text/plain": [
              "<AxesSubplot:>"
            ]
          },
          "execution_count": 45,
          "metadata": {},
          "output_type": "execute_result"
        },
        {
          "data": {
            "image/png": "[encoded data removed]",
            "text/plain": [
              "<Figure size 432x288 with 1 Axes>"
            ]
          },
          "metadata": {
            "needs_background": "light"
          },
          "output_type": "display_data"
        }
      ],
      "source": [
        "good_data['floor'].hist()"
      ]
    },
    {
      "cell_type": "markdown",
      "metadata": {
        "id": "agbq6Lz7_naa"
      },
      "source": [
        "Чаще всего квартиры продавались на этажах 1-4."
      ]
    },
    {
      "cell_type": "markdown",
      "metadata": {
        "id": "rhr7BYyQ_naa"
      },
      "source": [
        "##### Тип этажа квартиры («первый», «последний», «другой»)"
      ]
    },
    {
      "cell_type": "code",
      "execution_count": null,
      "metadata": {
        "id": "0xl5IOkR_nab",
        "outputId": "1e93e936-ca83-4c52-d09a-10285810c4c4"
      },
      "outputs": [
        {
          "data": {
            "text/plain": [
              "<AxesSubplot:>"
            ]
          },
          "execution_count": 46,
          "metadata": {},
          "output_type": "execute_result"
        },
        {
          "data": {
            "image/png": "[encoded data removed]",
            "text/plain": [
              "<Figure size 432x288 with 1 Axes>"
            ]
          },
          "metadata": {
            "needs_background": "light"
          },
          "output_type": "display_data"
        }
      ],
      "source": [
        "good_data['floor_category'].hist()"
      ]
    },
    {
      "cell_type": "markdown",
      "metadata": {
        "id": "8zcrfXaT_nab"
      },
      "source": [
        "Основная часть квартир, расположена не на первом и не на последнем этажах."
      ]
    },
    {
      "cell_type": "markdown",
      "metadata": {
        "id": "kGOxQyuQ_nac"
      },
      "source": [
        "##### Общее количество этажей в доме"
      ]
    },
    {
      "cell_type": "code",
      "execution_count": null,
      "metadata": {
        "id": "OWEgn20P_nac",
        "outputId": "3907c26a-733b-4041-d9e3-a337f63cb769"
      },
      "outputs": [
        {
          "data": {
            "text/plain": [
              "<AxesSubplot:>"
            ]
          },
          "execution_count": 47,
          "metadata": {},
          "output_type": "execute_result"
        },
        {
          "data": {
            "image/png": "[encoded data removed]",
            "text/plain": [
              "<Figure size 432x288 with 1 Axes>"
            ]
          },
          "metadata": {
            "needs_background": "light"
          },
          "output_type": "display_data"
        }
      ],
      "source": [
        "good_data['floors_total'].hist()"
      ]
    },
    {
      "cell_type": "markdown",
      "metadata": {
        "id": "sTrI0aXq_nad"
      },
      "source": [
        "Чаще всего в доме встречается от 1 - 10 этажей."
      ]
    },
    {
      "cell_type": "markdown",
      "metadata": {
        "id": "ASDfhr6g_nae"
      },
      "source": [
        "##### Расстояние до центра города в километрах"
      ]
    },
    {
      "cell_type": "code",
      "execution_count": null,
      "metadata": {
        "id": "9GI0VN0i_nae",
        "outputId": "e4e69db0-bdf2-4b44-f407-5008ecb57447"
      },
      "outputs": [
        {
          "data": {
            "text/plain": [
              "<AxesSubplot:>"
            ]
          },
          "execution_count": 48,
          "metadata": {},
          "output_type": "execute_result"
        },
        {
          "data": {
            "image/png": "[encoded data removed]",
            "text/plain": [
              "<Figure size 432x288 with 1 Axes>"
            ]
          },
          "metadata": {
            "needs_background": "light"
          },
          "output_type": "display_data"
        }
      ],
      "source": [
        "good_data['city_centers_nearest'].hist()"
      ]
    },
    {
      "cell_type": "markdown",
      "metadata": {
        "id": "DtluqrSR_naf"
      },
      "source": [
        "Большинство квартир расположены в радиусе от 10 до 20 км от центра города."
      ]
    },
    {
      "cell_type": "markdown",
      "metadata": {
        "id": "SOr8wF6S_nag"
      },
      "source": [
        "##### Расстояние до ближайшего аэропорта"
      ]
    },
    {
      "cell_type": "code",
      "execution_count": null,
      "metadata": {
        "id": "5VHLn5tp_nag",
        "outputId": "6ce2b300-0905-4541-dd0a-aa21f59b3040"
      },
      "outputs": [
        {
          "data": {
            "text/plain": [
              "<AxesSubplot:>"
            ]
          },
          "execution_count": 49,
          "metadata": {},
          "output_type": "execute_result"
        },
        {
          "data": {
            "image/png": "[encoded data removed]",
            "text/plain": [
              "<Figure size 432x288 with 1 Axes>"
            ]
          },
          "metadata": {
            "needs_background": "light"
          },
          "output_type": "display_data"
        }
      ],
      "source": [
        "good_data['airports_nearest'].hist()"
      ]
    },
    {
      "cell_type": "markdown",
      "metadata": {
        "id": "Va147l_x_nah"
      },
      "source": [
        "Большинство квартир расположены в радиусе от 10 до 30 км от аэропорта."
      ]
    },
    {
      "cell_type": "markdown",
      "metadata": {
        "id": "PdaPtoxl_nah"
      },
      "source": [
        "##### Расстояние до ближайшего парка"
      ]
    },
    {
      "cell_type": "code",
      "execution_count": null,
      "metadata": {
        "id": "noRZpBan_nai",
        "outputId": "3fc6d286-0da1-4579-a9b1-479db9cdf152"
      },
      "outputs": [
        {
          "data": {
            "text/plain": [
              "<AxesSubplot:>"
            ]
          },
          "execution_count": 50,
          "metadata": {},
          "output_type": "execute_result"
        },
        {
          "data": {
            "image/png": "[encoded data removed]",
            "text/plain": [
              "<Figure size 432x288 with 1 Axes>"
            ]
          },
          "metadata": {
            "needs_background": "light"
          },
          "output_type": "display_data"
        }
      ],
      "source": [
        "good_data['ponds_nearest'].hist()"
      ]
    },
    {
      "cell_type": "markdown",
      "metadata": {
        "id": "kFRD8Mzl_nai"
      },
      "source": [
        "Большинство квартир расположены в радиусе от 200 до 900 м от центра пруда."
      ]
    },
    {
      "cell_type": "markdown",
      "metadata": {
        "id": "qdKxm0c8_naj"
      },
      "source": [
        "##### День и месяц публикации объявлениях"
      ]
    },
    {
      "cell_type": "code",
      "execution_count": null,
      "metadata": {
        "id": "ORP0NSKv_naj",
        "outputId": "b7ee1dd2-2f9b-4f07-d454-4cf1825445af"
      },
      "outputs": [
        {
          "data": {
            "text/plain": [
              "<AxesSubplot:>"
            ]
          },
          "execution_count": 51,
          "metadata": {},
          "output_type": "execute_result"
        },
        {
          "data": {
            "image/png": "[encoded data removed]",
            "text/plain": [
              "<Figure size 432x288 with 1 Axes>"
            ]
          },
          "metadata": {
            "needs_background": "light"
          },
          "output_type": "display_data"
        }
      ],
      "source": [
        "#день недели\n",
        "good_data['weekday'].hist()"
      ]
    },
    {
      "cell_type": "markdown",
      "metadata": {
        "id": "KzXWCkaX_nak"
      },
      "source": [
        "Чаще всего объявления публиковались в течение рабочей недели."
      ]
    },
    {
      "cell_type": "code",
      "execution_count": null,
      "metadata": {
        "id": "b_-V7wgp_nal",
        "outputId": "cd32e9c3-3e8f-4efc-fdc1-53d2868bb34b"
      },
      "outputs": [
        {
          "data": {
            "text/plain": [
              "<AxesSubplot:>"
            ]
          },
          "execution_count": 52,
          "metadata": {},
          "output_type": "execute_result"
        },
        {
          "data": {
            "image/png": "[encoded data removed]",
            "text/plain": [
              "<Figure size 432x288 with 1 Axes>"
            ]
          },
          "metadata": {
            "needs_background": "light"
          },
          "output_type": "display_data"
        }
      ],
      "source": [
        "#месяц\n",
        "good_data['month'].hist()"
      ]
    },
    {
      "cell_type": "markdown",
      "metadata": {
        "id": "4xNRXI0h_nal"
      },
      "source": [
        "Чаще всего объявления публиковались в начале или конце года."
      ]
    },
    {
      "cell_type": "markdown",
      "metadata": {
        "id": "kfF2ImNE_nam"
      },
      "source": [
        "#### Как быстро продавались квартиры"
      ]
    },
    {
      "cell_type": "code",
      "execution_count": null,
      "metadata": {
        "id": "mJV3ldLH_nan",
        "outputId": "b487295f-d724-4f0f-982c-5248f664f531"
      },
      "outputs": [
        {
          "data": {
            "text/plain": [
              "<AxesSubplot:>"
            ]
          },
          "execution_count": 53,
          "metadata": {},
          "output_type": "execute_result"
        },
        {
          "data": {
            "image/png": "[encoded data removed]",
            "text/plain": [
              "<Figure size 432x288 with 1 Axes>"
            ]
          },
          "metadata": {
            "needs_background": "light"
          },
          "output_type": "display_data"
        }
      ],
      "source": [
        "good_data['days_exposition'].hist()"
      ]
    },
    {
      "cell_type": "code",
      "execution_count": null,
      "metadata": {
        "id": "t_pi66yL_nan",
        "outputId": "750118a1-5ef4-4fca-d57d-3fca00a62ab4"
      },
      "outputs": [
        {
          "data": {
            "text/plain": [
              "count    20394.000000\n",
              "mean       180.741395\n",
              "std        219.732782\n",
              "min          1.000000\n",
              "25%         45.000000\n",
              "50%         95.000000\n",
              "75%        231.000000\n",
              "max       1580.000000\n",
              "Name: days_exposition, dtype: float64"
            ]
          },
          "execution_count": 54,
          "metadata": {},
          "output_type": "execute_result"
        }
      ],
      "source": [
        "data['days_exposition'].describe()"
      ]
    },
    {
      "cell_type": "markdown",
      "metadata": {
        "id": "ZLNOusFk_nao"
      },
      "source": [
        "Средняя длительность продажи - 169 дней (примерно 6 месяцев). Медианное значение длительности продажи - 95 дней (примерно 3 месяца)"
      ]
    },
    {
      "cell_type": "code",
      "execution_count": null,
      "metadata": {
        "id": "CekhAAb2_nap",
        "outputId": "78e7c353-61a8-4aa3-b69a-ebbf00b2a1cd"
      },
      "outputs": [
        {
          "name": "stderr",
          "output_type": "stream",
          "text": [
            "/opt/conda/lib/python3.9/site-packages/seaborn/_decorators.py:36: FutureWarning: Pass the following variable as a keyword arg: x. From version 0.12, the only valid positional argument will be `data`, and passing other arguments without an explicit keyword will result in an error or misinterpretation.\n",
            "  warnings.warn(\n"
          ]
        },
        {
          "data": {
            "text/plain": [
              "Text(0.5, 0, 'Срок размещения публикации, дней')"
            ]
          },
          "execution_count": 55,
          "metadata": {},
          "output_type": "execute_result"
        },
        {
          "data": {
            "image/png": "[encoded data removed]",
            "text/plain": [
              "<Figure size 432x288 with 1 Axes>"
            ]
          },
          "metadata": {
            "needs_background": "light"
          },
          "output_type": "display_data"
        }
      ],
      "source": [
        "sns.boxplot(good_data['days_exposition'], color='thistle')\n",
        "plt.title('Диаграмма размаха')\n",
        "plt.xlabel('Срок размещения публикации, дней')"
      ]
    },
    {
      "cell_type": "markdown",
      "metadata": {
        "id": "2Prv0scN_nap"
      },
      "source": [
        "Исходя из диаграммы размаха, можно сделать вывод, что необычно долгие продажи - это продажи дольше, чем 200 дней (примерно 6 месяцев)."
      ]
    },
    {
      "cell_type": "markdown",
      "metadata": {
        "id": "z9TCUMCw_naq"
      },
      "source": [
        "#### Какие факторы больше всего влияют на общую (полную) стоимость объекта"
      ]
    },
    {
      "cell_type": "markdown",
      "metadata": {
        "id": "JefAGimZ_nar"
      },
      "source": [
        "##### Общая площадь, жилая площадь и площадь кухни"
      ]
    },
    {
      "cell_type": "markdown",
      "metadata": {
        "id": "tKIs-VMQ_nar"
      },
      "source": [
        "Для данных парметров построим диаграммы рассеивания."
      ]
    },
    {
      "cell_type": "code",
      "execution_count": null,
      "metadata": {
        "id": "RiKpI_Kp_nas",
        "outputId": "0cb4ef99-ca6f-4d0e-f5e2-094d2ae2b818"
      },
      "outputs": [
        {
          "data": {
            "image/png": "[encoded data removed]",
            "text/plain": [
              "<Figure size 432x288 with 1 Axes>"
            ]
          },
          "metadata": {
            "needs_background": "light"
          },
          "output_type": "display_data"
        }
      ],
      "source": [
        "good_data.plot(x='total_area', y='last_price', kind='scatter', alpha=0.03) \n",
        "plt.xlabel(\"Общая площадь квартиры, кв.м\")\n",
        "plt.ylabel(\"Цена, 10 млн руб.\")\n",
        "plt.show()"
      ]
    },
    {
      "cell_type": "code",
      "execution_count": null,
      "metadata": {
        "id": "XQxOVPZ4_nat",
        "outputId": "776d33cf-1350-4dbe-c0b8-8c0ba8c60983"
      },
      "outputs": [
        {
          "data": {
            "image/png": "[encoded data removed]",
            "text/plain": [
              "<Figure size 432x288 with 1 Axes>"
            ]
          },
          "metadata": {
            "needs_background": "light"
          },
          "output_type": "display_data"
        }
      ],
      "source": [
        "good_data.plot(x='living_area', y='last_price', kind='scatter', alpha=0.03) \n",
        "plt.xlabel(\"Жилая площадь квартиры, кв.м\")\n",
        "plt.ylabel(\"Цена, 10 млн руб.\")\n",
        "plt.show()"
      ]
    },
    {
      "cell_type": "code",
      "execution_count": null,
      "metadata": {
        "id": "Xc--ek9P_nat",
        "outputId": "0cca82fe-8f87-4d04-bfda-3d2e3d01a87b"
      },
      "outputs": [
        {
          "data": {
            "image/png": "[encoded data removed]",
            "text/plain": [
              "<Figure size 432x288 with 1 Axes>"
            ]
          },
          "metadata": {
            "needs_background": "light"
          },
          "output_type": "display_data"
        }
      ],
      "source": [
        "good_data.plot(x='kitchen_area', y='last_price', kind='scatter', alpha=0.03) \n",
        "plt.xlabel(\"Площадь кухни, кв.м\")\n",
        "plt.ylabel(\"Цена, 1 млн руб.\")\n",
        "plt.show()"
      ]
    },
    {
      "cell_type": "markdown",
      "metadata": {
        "id": "a_RZTlIZ_nau"
      },
      "source": [
        "##### Количество комнат, этаж, на котором расположена квартира, дата размещения (день недели, месяц, год)"
      ]
    },
    {
      "cell_type": "markdown",
      "metadata": {
        "id": "w32bnejF_nav"
      },
      "source": [
        "Для данных параметров для каждого возможного варианта построим диаграмму размаха."
      ]
    },
    {
      "cell_type": "code",
      "execution_count": null,
      "metadata": {
        "id": "iXIHhhbj_nav",
        "outputId": "17c800e3-5e6a-4cfd-99e9-dbee5b075f6d"
      },
      "outputs": [
        {
          "data": {
            "image/png": "[encoded data removed]",
            "text/plain": [
              "<Figure size 360x360 with 1 Axes>"
            ]
          },
          "metadata": {
            "needs_background": "light"
          },
          "output_type": "display_data"
        },
        {
          "data": {
            "image/png": "[encoded data removed]",
            "text/plain": [
              "<Figure size 360x360 with 1 Axes>"
            ]
          },
          "metadata": {
            "needs_background": "light"
          },
          "output_type": "display_data"
        },
        {
          "data": {
            "image/png": "[encoded data removed]",
            "text/plain": [
              "<Figure size 360x360 with 1 Axes>"
            ]
          },
          "metadata": {
            "needs_background": "light"
          },
          "output_type": "display_data"
        },
        {
          "data": {
            "image/png": "[encoded data removed]",
            "text/plain": [
              "<Figure size 360x360 with 1 Axes>"
            ]
          },
          "metadata": {
            "needs_background": "light"
          },
          "output_type": "display_data"
        },
        {
          "data": {
            "image/png": "[encoded data removed]",
            "text/plain": [
              "<Figure size 360x360 with 1 Axes>"
            ]
          },
          "metadata": {
            "needs_background": "light"
          },
          "output_type": "display_data"
        }
      ],
      "source": [
        "for column in ['rooms', 'floor_category', 'weekday', 'month', 'year']:\n",
        "    sns.catplot(x=column, y=\"last_price\", kind=\"box\", data=good_data, palette='husl')"
      ]
    },
    {
      "cell_type": "code",
      "execution_count": null,
      "metadata": {
        "id": "31ClHGJg_nay",
        "outputId": "c7d15c91-66af-408b-9423-89041d18e0b3"
      },
      "outputs": [
        {
          "data": {
            "text/plain": [
              "<AxesSubplot:xlabel='rooms'>"
            ]
          },
          "execution_count": 60,
          "metadata": {},
          "output_type": "execute_result"
        },
        {
          "data": {
            "image/png": "[encoded data removed]",
            "text/plain": [
              "<Figure size 432x288 with 1 Axes>"
            ]
          },
          "metadata": {
            "needs_background": "light"
          },
          "output_type": "display_data"
        }
      ],
      "source": [
        "(\n",
        "    pd.pivot_table(good_data, index='rooms', values='last_price')\n",
        "    .plot.bar(y='last_price')\n",
        ")"
      ]
    },
    {
      "cell_type": "markdown",
      "metadata": {
        "id": "ie5TqgHz_naz"
      },
      "source": [
        "Чем больше комнат в квартире, тем она дороже. Но это верно, пока число комнат не превышает трех. 4- и 5-комнатные квартиры незначительно отличаются по средней цене друг от друга. Вероятно, это связано с наличием спроса."
      ]
    },
    {
      "cell_type": "code",
      "execution_count": null,
      "metadata": {
        "id": "eSFqqa7A_naz",
        "outputId": "3dc516f4-e077-4739-80c9-9c33c42ca236"
      },
      "outputs": [
        {
          "data": {
            "text/plain": [
              "<AxesSubplot:xlabel='floor_category'>"
            ]
          },
          "execution_count": 61,
          "metadata": {},
          "output_type": "execute_result"
        },
        {
          "data": {
            "image/png": "[encoded data removed]",
            "text/plain": [
              "<Figure size 432x288 with 1 Axes>"
            ]
          },
          "metadata": {
            "needs_background": "light"
          },
          "output_type": "display_data"
        }
      ],
      "source": [
        "(\n",
        "    pd.pivot_table(good_data, index='floor_category', values='last_price')\n",
        "    .plot.bar(y='last_price')\n",
        ")"
      ]
    },
    {
      "cell_type": "markdown",
      "metadata": {
        "id": "cS3vj2w1_na0"
      },
      "source": [
        "Самая высокая стоимость у квартир не на первом и не на последнем этаже. Кроме того, на квартиры на первом этаже немног дешевле, чем на последнем."
      ]
    },
    {
      "cell_type": "code",
      "execution_count": null,
      "metadata": {
        "id": "8JBL1cb4_na1",
        "outputId": "6d08eb25-6404-44e0-f404-da0bcc4021d6"
      },
      "outputs": [
        {
          "data": {
            "text/plain": [
              "<AxesSubplot:xlabel='weekday'>"
            ]
          },
          "execution_count": 62,
          "metadata": {},
          "output_type": "execute_result"
        },
        {
          "data": {
            "image/png": "[encoded data removed]",
            "text/plain": [
              "<Figure size 432x288 with 1 Axes>"
            ]
          },
          "metadata": {
            "needs_background": "light"
          },
          "output_type": "display_data"
        }
      ],
      "source": [
        "(\n",
        "    pd.pivot_table(good_data, index='weekday', values='last_price')\n",
        "    .plot.bar(y='last_price',grid=True,legend=False)\n",
        ")"
      ]
    },
    {
      "cell_type": "markdown",
      "metadata": {
        "id": "AJkExhOh_na2"
      },
      "source": [
        "Цена квартир не сильно зависит от дня недели публикации объявления, хотя емеется незначительный рост цены по вторникам и четвергам, тогда как в выходные цена наоброт ниже."
      ]
    },
    {
      "cell_type": "code",
      "execution_count": null,
      "metadata": {
        "id": "y3-HGdCI_na3",
        "outputId": "a522b775-05ea-4f2c-fc67-2bd1db004776"
      },
      "outputs": [
        {
          "data": {
            "text/plain": [
              "<AxesSubplot:xlabel='month'>"
            ]
          },
          "execution_count": 63,
          "metadata": {},
          "output_type": "execute_result"
        },
        {
          "data": {
            "image/png": "[encoded data removed]",
            "text/plain": [
              "<Figure size 432x288 with 1 Axes>"
            ]
          },
          "metadata": {
            "needs_background": "light"
          },
          "output_type": "display_data"
        }
      ],
      "source": [
        "(\n",
        "    pd.pivot_table(good_data, index='month', values='last_price')\n",
        "    .plot.bar(y='last_price',grid=True,legend=False)\n",
        ")"
      ]
    },
    {
      "cell_type": "markdown",
      "metadata": {
        "id": "PHxX7jNN_na3"
      },
      "source": [
        "Самая высокая средняя цена у квартир, объявления которых опубликованы апреле, августе и сентебре. Самая низкая - в мае."
      ]
    },
    {
      "cell_type": "code",
      "execution_count": null,
      "metadata": {
        "id": "2k-yZtEF_na4",
        "outputId": "4787300b-be73-412c-efe7-f73a2cfe05ad"
      },
      "outputs": [
        {
          "data": {
            "text/plain": [
              "<AxesSubplot:xlabel='year'>"
            ]
          },
          "execution_count": 64,
          "metadata": {},
          "output_type": "execute_result"
        },
        {
          "data": {
            "image/png": "[encoded data removed]",
            "text/plain": [
              "<Figure size 432x288 with 1 Axes>"
            ]
          },
          "metadata": {
            "needs_background": "light"
          },
          "output_type": "display_data"
        }
      ],
      "source": [
        "(\n",
        "    pd.pivot_table(good_data, index='year', values='last_price')\n",
        "    .plot.bar(y='last_price',grid=True,legend=False)\n",
        ")"
      ]
    },
    {
      "cell_type": "markdown",
      "metadata": {
        "id": "8vbU8N02_na5"
      },
      "source": [
        "Самые высокие средние цены были в 2014 году. Затем был значительный спад, к 2019 году цена снова выросла."
      ]
    },
    {
      "cell_type": "markdown",
      "metadata": {
        "id": "D1qrbIbK_na5"
      },
      "source": [
        "Чтобы подтвердить еще более наглядно продемонстрировать взаимосвязь цены с интересующими нас параметрами, построим тепловую карту по мтрицу коррекляций"
      ]
    },
    {
      "cell_type": "code",
      "execution_count": null,
      "metadata": {
        "id": "RTlNQAKj_na-",
        "outputId": "b3f2498b-0e02-4a62-f305-821683cbf577"
      },
      "outputs": [
        {
          "data": {
            "text/plain": [
              "<AxesSubplot:>"
            ]
          },
          "execution_count": 67,
          "metadata": {},
          "output_type": "execute_result"
        },
        {
          "data": {
            "image/png": "[encoded data removed]",
            "text/plain": [
              "<Figure size 432x288 with 2 Axes>"
            ]
          },
          "metadata": {
            "needs_background": "light"
          },
          "output_type": "display_data"
        }
      ],
      "source": [
        "corr_data = good_data[['last_price','total_area' ,'living_area','kitchen_area','rooms','floor_category']].reset_index(drop=True)\n",
        "sns.heatmap(corr_data.corr(), annot = True, vmin=-1, vmax=1, center= 0, cmap= 'coolwarm')"
      ]
    },
    {
      "cell_type": "markdown",
      "metadata": {
        "id": "RC_bncr2_nbA"
      },
      "source": [
        "**Вывод:** наиболее сильным образом на цену квартиры влияет общая площадь. Чуть меньше на нее влияет площадь жилая и площадь кухни. Количество комнат тоже играет свою роль в формировнаии цены. У квартир, расположенных не на первом и не на последнем цена чуть выше, чем в исключенных категориях. Средняя цена на квартиры так же зависит и от дня недели, месяца и года публикации объявления."
      ]
    },
    {
      "cell_type": "markdown",
      "metadata": {
        "id": "6CueCqCR_nbA"
      },
      "source": [
        "#### Средняя цена одного квадратного метра в 10 населённых пунктах с наибольшим числом объявлений"
      ]
    },
    {
      "cell_type": "code",
      "execution_count": null,
      "metadata": {
        "id": "QyPXVjl__nbB",
        "outputId": "7e7038bb-dd5b-4ea0-cd69-7c894fc67c0d"
      },
      "outputs": [
        {
          "data": {
            "text/html": [
              "<div>\n",
              "<style scoped>\n",
              "    .dataframe tbody tr th:only-of-type {\n",
              "        vertical-align: middle;\n",
              "    }\n",
              "\n",
              "    .dataframe tbody tr th {\n",
              "        vertical-align: top;\n",
              "    }\n",
              "\n",
              "    .dataframe thead th {\n",
              "        text-align: right;\n",
              "    }\n",
              "</style>\n",
              "<table border=\"1\" class=\"dataframe\">\n",
              "  <thead>\n",
              "    <tr style=\"text-align: right;\">\n",
              "      <th></th>\n",
              "      <th>count</th>\n",
              "      <th>median</th>\n",
              "    </tr>\n",
              "    <tr>\n",
              "      <th>locality_name</th>\n",
              "      <th></th>\n",
              "      <th></th>\n",
              "    </tr>\n",
              "  </thead>\n",
              "  <tbody>\n",
              "    <tr>\n",
              "      <th>Санкт-Петербург</th>\n",
              "      <td>13591</td>\n",
              "      <td>103260.90</td>\n",
              "    </tr>\n",
              "    <tr>\n",
              "      <th>п. Мурино</th>\n",
              "      <td>552</td>\n",
              "      <td>86059.25</td>\n",
              "    </tr>\n",
              "    <tr>\n",
              "      <th>п. Шушары</th>\n",
              "      <td>435</td>\n",
              "      <td>76666.70</td>\n",
              "    </tr>\n",
              "    <tr>\n",
              "      <th>Всеволожск</th>\n",
              "      <td>391</td>\n",
              "      <td>65789.50</td>\n",
              "    </tr>\n",
              "    <tr>\n",
              "      <th>Пушкин</th>\n",
              "      <td>333</td>\n",
              "      <td>99542.30</td>\n",
              "    </tr>\n",
              "    <tr>\n",
              "      <th>Колпино</th>\n",
              "      <td>326</td>\n",
              "      <td>74723.75</td>\n",
              "    </tr>\n",
              "    <tr>\n",
              "      <th>п. Парголово</th>\n",
              "      <td>326</td>\n",
              "      <td>91780.25</td>\n",
              "    </tr>\n",
              "    <tr>\n",
              "      <th>Гатчина</th>\n",
              "      <td>300</td>\n",
              "      <td>67860.55</td>\n",
              "    </tr>\n",
              "    <tr>\n",
              "      <th>деревня Кудрово</th>\n",
              "      <td>298</td>\n",
              "      <td>91831.90</td>\n",
              "    </tr>\n",
              "    <tr>\n",
              "      <th>Выборг</th>\n",
              "      <td>214</td>\n",
              "      <td>57860.65</td>\n",
              "    </tr>\n",
              "  </tbody>\n",
              "</table>\n",
              "</div>"
            ],
            "text/plain": [
              "                 count     median\n",
              "locality_name                    \n",
              "Санкт-Петербург  13591  103260.90\n",
              "п. Мурино          552   86059.25\n",
              "п. Шушары          435   76666.70\n",
              "Всеволожск         391   65789.50\n",
              "Пушкин             333   99542.30\n",
              "Колпино            326   74723.75\n",
              "п. Парголово       326   91780.25\n",
              "Гатчина            300   67860.55\n",
              "деревня Кудрово    298   91831.90\n",
              "Выборг             214   57860.65"
            ]
          },
          "execution_count": 68,
          "metadata": {},
          "output_type": "execute_result"
        }
      ],
      "source": [
        "median_price_per_sqm = good_data.pivot_table(index='locality_name', values='price_per_sqm', aggfunc=['count', 'median'])\n",
        "median_price_per_sqm.columns = ['count', 'median']\n",
        "median_price_per_sqm.sort_values('count', ascending=False).head(10)"
      ]
    },
    {
      "cell_type": "markdown",
      "metadata": {
        "id": "Y1GGreYJ_nbC"
      },
      "source": [
        "**Вывод:** Из таблицы видно, что 10 населенных пунктов с наибольшим числом объявлений: Санкт-Петербург, поселок Мурино, поселок Шушары, Всеволожск, Пушкин, Колпино, поселок Парголово, Гтчина, дерквня Кудрово и Выборг. Среди них лидерами по средней цене квадратного метра являются Санкт-Петербург, Пушкин, деревня Кудрово и поселок Парголово. Самые же дешевые средние цены квадратного метра - Выборг и Всеволожск."
      ]
    },
    {
      "cell_type": "markdown",
      "metadata": {
        "id": "2gtHuEmp_nbC"
      },
      "source": [
        "#### Квартиры в Санкт-Петербурге"
      ]
    },
    {
      "cell_type": "code",
      "execution_count": null,
      "metadata": {
        "id": "CIts4pjO_nbD",
        "outputId": "5a6319be-3db0-4b8e-ee9b-5da5ce2874d8"
      },
      "outputs": [
        {
          "data": {
            "text/html": [
              "<div>\n",
              "<style scoped>\n",
              "    .dataframe tbody tr th:only-of-type {\n",
              "        vertical-align: middle;\n",
              "    }\n",
              "\n",
              "    .dataframe tbody tr th {\n",
              "        vertical-align: top;\n",
              "    }\n",
              "\n",
              "    .dataframe thead th {\n",
              "        text-align: right;\n",
              "    }\n",
              "</style>\n",
              "<table border=\"1\" class=\"dataframe\">\n",
              "  <thead>\n",
              "    <tr style=\"text-align: right;\">\n",
              "      <th></th>\n",
              "      <th>last_price</th>\n",
              "      <th>price_per_sqm</th>\n",
              "    </tr>\n",
              "    <tr>\n",
              "      <th>city_centers_nearest</th>\n",
              "      <th></th>\n",
              "      <th></th>\n",
              "    </tr>\n",
              "  </thead>\n",
              "  <tbody>\n",
              "    <tr>\n",
              "      <th>0.0</th>\n",
              "      <td>21039278.0</td>\n",
              "      <td>254517.40</td>\n",
              "    </tr>\n",
              "    <tr>\n",
              "      <th>1.0</th>\n",
              "      <td>8550000.0</td>\n",
              "      <td>125018.65</td>\n",
              "    </tr>\n",
              "    <tr>\n",
              "      <th>2.0</th>\n",
              "      <td>8445000.0</td>\n",
              "      <td>117186.20</td>\n",
              "    </tr>\n",
              "    <tr>\n",
              "      <th>3.0</th>\n",
              "      <td>7563000.0</td>\n",
              "      <td>109745.40</td>\n",
              "    </tr>\n",
              "    <tr>\n",
              "      <th>4.0</th>\n",
              "      <td>7600000.0</td>\n",
              "      <td>119090.90</td>\n",
              "    </tr>\n",
              "    <tr>\n",
              "      <th>5.0</th>\n",
              "      <td>8045000.0</td>\n",
              "      <td>130434.80</td>\n",
              "    </tr>\n",
              "    <tr>\n",
              "      <th>6.0</th>\n",
              "      <td>7400000.0</td>\n",
              "      <td>127499.60</td>\n",
              "    </tr>\n",
              "    <tr>\n",
              "      <th>7.0</th>\n",
              "      <td>6700000.0</td>\n",
              "      <td>122093.00</td>\n",
              "    </tr>\n",
              "    <tr>\n",
              "      <th>8.0</th>\n",
              "      <td>6500000.0</td>\n",
              "      <td>117607.35</td>\n",
              "    </tr>\n",
              "    <tr>\n",
              "      <th>9.0</th>\n",
              "      <td>5100000.0</td>\n",
              "      <td>105326.90</td>\n",
              "    </tr>\n",
              "  </tbody>\n",
              "</table>\n",
              "</div>"
            ],
            "text/plain": [
              "                      last_price  price_per_sqm\n",
              "city_centers_nearest                           \n",
              "0.0                   21039278.0      254517.40\n",
              "1.0                    8550000.0      125018.65\n",
              "2.0                    8445000.0      117186.20\n",
              "3.0                    7563000.0      109745.40\n",
              "4.0                    7600000.0      119090.90\n",
              "5.0                    8045000.0      130434.80\n",
              "6.0                    7400000.0      127499.60\n",
              "7.0                    6700000.0      122093.00\n",
              "8.0                    6500000.0      117607.35\n",
              "9.0                    5100000.0      105326.90"
            ]
          },
          "execution_count": 69,
          "metadata": {},
          "output_type": "execute_result"
        }
      ],
      "source": [
        "spb_data = good_data.query('locality_name == \"Санкт-Петербург\"')\n",
        "spb_center_nearest = spb_data.pivot_table(index='city_centers_nearest', values=['price_per_sqm', 'last_price'], aggfunc='median')\n",
        "spb_center_nearest.head(10)"
      ]
    },
    {
      "cell_type": "code",
      "execution_count": null,
      "metadata": {
        "id": "wrKqFwOF_nbE",
        "outputId": "129dcd71-36c9-4d7c-f327-66227fa97605"
      },
      "outputs": [
        {
          "data": {
            "image/png": "[encoded data removed]",
            "text/plain": [
              "<Figure size 504x360 with 1 Axes>"
            ]
          },
          "metadata": {
            "needs_background": "light"
          },
          "output_type": "display_data"
        }
      ],
      "source": [
        "sns.relplot(x=spb_center_nearest.index, y='last_price', data=spb_center_nearest, height=5, aspect=1.4)\n",
        "plt.title('Зависимость средней цены от расстояния до центра Санкт-Петербурга')\n",
        "plt.ylabel('Цена недвижимости, руб.')\n",
        "plt.xlabel('Расстояние до центра, км')\n",
        "plt.show()"
      ]
    },
    {
      "cell_type": "markdown",
      "metadata": {
        "id": "jJkn3rf2_nbE"
      },
      "source": [
        "**Вывод:** чем дальше от центра города, тем в среднем квартира будет стоить дешевле"
      ]
    },
    {
      "cell_type": "markdown",
      "metadata": {
        "id": "w57-DAKg_nbG"
      },
      "source": [
        "### Общий вывод"
      ]
    },
    {
      "cell_type": "markdown",
      "metadata": {
        "id": "qDN4l2Oc_nbG"
      },
      "source": [
        "В данном проекте рассматривались данные сервиса Яндекс.Недвижимость — архив объявлений о продаже квартир в Санкт-Петербурге и соседних населённых пунктов за несколько лет. Было необходимо научиться определять рыночную стоимость объектов недвижимости для выполнении задачи — установить параметры. Это в дальнейшем будет использоваться при построении автоматизированной системы: она будет отслеживать аномалии и мошенническую деятельность.\n",
        "\n",
        "Была проделана работа по предварительной обработке данных, добавлению необходимых параметров. Также был проведен исследовательский анализ данных.\n",
        "\n",
        "**1. Предобработка данных**\n",
        "Файл содержит данные по 23699 объектам недвижимости, каждый из которых описывается 22 признаками (17 количественных, 4 категориальных и 1 временной). У некоторых признаков есть пропущенные значения, которые было необходимо обработать.\n",
        "\n",
        "*Возможные причины появления ропусков:* большинство пропусков очевидно связаны с нежеланием заполнять определенные графы при публикации объявления или же незнанием требуемой информации; кроме того пропуски есть в столбцах, которые рассчитывались автоматически, что вероятно связано со слишком маленькой границей, по которой ищутся ближайшие объекты.\n",
        "\n",
        "*Пропуски были заполнены:*\n",
        "\n",
        "* Высота потолков: было пропущено 38,8% значений. При этом часть значений были введены вручную с ошибкой (27 м вместо 2,7 м и т.д.). Необходимо добавить условие на ручной ввод: высота потолков не может быть двузначной величиной, а также меньше 2,5 м (в данных существуют значения в 1,75 м и даже в 1 м). Все пропущенные значения были заменены на медиану для зданий конкретной этажности (либо на общую медиану при отсутствии данных).\n",
        "* Число этажей в доме: было пропущено 0,4% значений. Данный признак использовался в анализе, при этом достаточно точно заменить пропущенные значения не представлялось возможным, поэтому все строки с пропущенными значениями были удалены. Предлагается автоматизировать заполнение данных по этому признаку для городов на основе точного адреса.\n",
        "* Жилая площадь и площадь кухни: было пропущено 8,0% и 9,6% значений соответственно. Значения были обработаны как разница из общей площади и площади кухни, там где есть данные, при отсутствии как медиана по количеству комнат.\n",
        "* Число балконов: пропущено 48,6% значений. Предположилось, что отсутствие числа балконов свидетельствует о том, что число балконов равно нулю.\n",
        "* Название населенного пункта: было пропущено 0,2% значений. Все строки с пропущенными значениями были удалены, так как этот признак будет использоваться при дальнейшем анализе. Необходимо ввести условие об обязательном заполнении данного признака в объявлении (либо об автоматизированном заполнении на основе указанной улицы, если это возможно).\n",
        "* Расстояние до центра города: пропущено 23,3% значений. В связи с высокой трудоемкостю заполнения таких пропущенных значений и отсутствием достаточной достоверности предлагается оставить пропущенные значения без изменений.\n",
        "* Апартаменты: было пропущено 88,3%. Предположилось, что данный объект не апартаменты.\n",
        "* Расстояние до ближайшего аэропорта, число парков в радиусе 3 км, расстояние до ближайшего парка, число водоемов в радиусе 3 км, расстояние до ближайшего водоема: пропущенные значения в этих признаках были оставлены без изменений, так как они не будут использованы в текущем исследовании.\n",
        "* Длительность размещения объявления: пропущено 13,4% значений. В данном случае, это означает, что квартира еще не продана, поэтому заполнять не будем.\n",
        "\n",
        "Были обработаны дубликаты в названиях населенных пуктов. Предлагается в дальнейшем автоматически заменять их на уже готовый список населенных пунктов.\n",
        "\n",
        "Типы данных в столбцах общее количество этажей, количество балконов и длительность размещения были заменены на целое число, т.к. исходя из предметной области исследования данные значения могут быть только целыми. Тип данных по дате публикации был заменен со строчного на datetime.\n",
        "\n",
        "Были обработаны аномальные значения в столбцах количество комнат, высота потолков и площадь. При их исключении были получены чистые данные, доля которых составила: 90.4%\n",
        "\n",
        "**2. Были добавлены следующие параметры:**\n",
        "\n",
        "* цена одного квадратного метра;\n",
        "* день недели публикации объявления (0 — понедельник, 1 — вторник и так далее);\n",
        "* месяц публикации объявления;\n",
        "* год публикации объявления;\n",
        "* тип этажа квартиры (значения — «первый», «последний», «другой»);\n",
        "* расстояние до центра города в километрах (переведите из м в км и округлите до целых значений).\n",
        "\n",
        "**3.Исследовательский анализ данных**\n",
        "\n",
        "*3.1. Изучение параметров: площади, цены, числа комнат, высоты потолков, срока продажи квартиры*\n",
        "Средняя квартира, выставленная на продажу, имеет следующие характеристики: это 1-комнатная квартира площадью 50 кв. м с потолками 2,5 м, проданная за цену в пределах 3,5 млн - 7 млн рублей, расположенная на 2-4 этаже в доме с общей этажностью от 1-10.\n",
        "\n",
        "*3.2. Скорость продажи квартир\n",
        "\n",
        "Как правило квартиры продаются за 95 дней (примерно 3 месяца). При этом четверть всех объектов недвижимости была продана в течение 45 дней с момента публикации. Необычно долгие продажи - это продажи дольше, чем 200 дней (примерно 6 месяцев).\n",
        "\n",
        "*3.3. Факторы, влияющие на стоимость квартиры*\n",
        "Были выдвинуты следующие гипотезы:\n",
        "Гипотеза 1. Цена зависит от общей площади;\n",
        "Гипотеза 2. Цена зависит от жилой площади;\n",
        "Гипотеза 3. Цена зависит от площади кухни;\n",
        "Гипотеза 4. Цена зависит от количества комнат;\n",
        "Гипотеза 5. Цена зависит от этажа, на котором расположена квартира (первый, последний, другой);\n",
        "Гипотеза 6. Цена зависит от даты размещения (день недели, месяц, год).\n",
        "\n",
        "Наиболее сильным образом (коэффициент корреляции 0.68) на цену квартиры влияет общая площадь. Чуть меньше на нее влияет жилая площадь (коэффициент корреляции 0.53) и площадь кухни (коэффициент корреляции 0.47). Количество комнат тоже играет свою роль в формировнаии цены (коэффициент корреляции 0.38). Цена квартир не сильно зависит от дня недели публикации объявления, хотя емеется незначительный рост цены по вторникам и четвергам, тогда как в выходные цена наоброт ниже. Самая высокая средняя цена у квартир, объявления которых опубликованы апреле, августе и сентебре. Самая низкая - в мае. Самые высокие средние цены были в 2014 году, это объясняется макроэкономической ситуацией и переходом ЦБ РФ к плавающему курсу в конце 2014 года. Затем был значительный спад, к 2019 году цена снова выросла. \n",
        "\n",
        "*3.4. 10 населенных пунктах с наибольшем числом объявлений*\n",
        "\n",
        "10 населенных пунктов с наибольшим числом объявлений: Санкт-Петербург, поселок Мурино, поселок Шушары, Всеволожск, Пушкин, Колпино, поселок Парголово, Гатчина, дерквня Кудрово и Выборг. \n",
        "Среди них лидерами по средней цене квадратного метра являются Санкт-Петербург (103260.90 рублей), Пушкин (99542.30), деревня Кудрово (91831.90) и поселок Парголово (91780.25).\n",
        "Самые же дешевые средние цены квадратного метра - Выборг (57860.65) и Всеволожск(65789.50).\n",
        "Результаты выглядят немного странно: цена квадратного метра в деревне больше, чем в городе. Необходимо будет установить, насколько такая разница в средней цене квадратного метра обоснована и вызвана близостью к центру Санкт-Петербурга.\n",
        "\n",
        "*3.5. Средняя цена каждого километра в Санкт-Петербурга*\n",
        "\n",
        "Чем дальше от центра города, тем в среднем квартира будет стоить дешевле. В среднем разница между первым и девятым километром составляет 2 миллиона.\n",
        "\n",
        "Таким образом, для формирования цены важны такие параметры как общая площадь, количество комнат и этаж. \n",
        "Для предотвращения мошейнической деятельности стоит обратить внимание на скорость продажи квартиры.\n",
        "Аномальные значения встречаются в количестве комнат, высоте потолков, площади и цене."
      ]
    },
    {
      "cell_type": "code",
      "execution_count": null,
      "metadata": {
        "id": "cTvj-81V_nbM"
      },
      "outputs": [],
      "source": []
    }
  ],
  "metadata": {
    "ExecuteTimeLog": [
      {
        "duration": 438,
        "start_time": "2022-11-01T16:46:41.109Z"
      },
      {
        "duration": 689,
        "start_time": "2022-11-01T16:47:00.556Z"
      },
      {
        "duration": 95,
        "start_time": "2022-11-01T16:47:24.942Z"
      },
      {
        "duration": 91,
        "start_time": "2022-11-01T16:47:38.134Z"
      },
      {
        "duration": 47,
        "start_time": "2022-11-01T16:48:00.385Z"
      },
      {
        "duration": 46,
        "start_time": "2022-11-01T16:48:35.728Z"
      },
      {
        "duration": 108,
        "start_time": "2022-11-01T16:48:44.131Z"
      },
      {
        "duration": 87,
        "start_time": "2022-11-01T16:48:53.334Z"
      },
      {
        "duration": 121,
        "start_time": "2022-11-01T16:49:07.965Z"
      },
      {
        "duration": 15,
        "start_time": "2022-11-01T16:49:32.377Z"
      },
      {
        "duration": 2372,
        "start_time": "2022-11-01T16:49:57.773Z"
      },
      {
        "duration": 10,
        "start_time": "2022-11-01T16:51:52.451Z"
      },
      {
        "duration": 938,
        "start_time": "2022-11-01T17:27:46.475Z"
      },
      {
        "duration": 35,
        "start_time": "2022-11-01T17:28:24.286Z"
      },
      {
        "duration": 18,
        "start_time": "2022-11-01T17:31:17.451Z"
      },
      {
        "duration": 12,
        "start_time": "2022-11-01T17:33:37.878Z"
      },
      {
        "duration": 12,
        "start_time": "2022-11-01T17:34:01.038Z"
      },
      {
        "duration": 16,
        "start_time": "2022-11-01T17:34:08.008Z"
      },
      {
        "duration": 11,
        "start_time": "2022-11-01T17:35:43.086Z"
      },
      {
        "duration": 703,
        "start_time": "2022-11-01T17:40:47.878Z"
      },
      {
        "duration": 13,
        "start_time": "2022-11-01T17:40:55.398Z"
      },
      {
        "duration": 31,
        "start_time": "2022-11-01T17:43:25.768Z"
      },
      {
        "duration": 68,
        "start_time": "2022-11-01T17:43:58.176Z"
      },
      {
        "duration": 24,
        "start_time": "2022-11-01T17:44:09.410Z"
      },
      {
        "duration": 8,
        "start_time": "2022-11-01T17:44:56.706Z"
      },
      {
        "duration": 27,
        "start_time": "2022-11-01T17:45:10.091Z"
      },
      {
        "duration": 553,
        "start_time": "2022-11-02T05:48:33.424Z"
      },
      {
        "duration": 17,
        "start_time": "2022-11-02T05:48:33.979Z"
      },
      {
        "duration": 2518,
        "start_time": "2022-11-02T05:48:33.998Z"
      },
      {
        "duration": 12,
        "start_time": "2022-11-02T05:48:36.519Z"
      },
      {
        "duration": 28,
        "start_time": "2022-11-02T05:48:36.534Z"
      },
      {
        "duration": 17,
        "start_time": "2022-11-02T05:48:36.564Z"
      },
      {
        "duration": 18,
        "start_time": "2022-11-02T05:48:36.583Z"
      },
      {
        "duration": 15,
        "start_time": "2022-11-02T05:48:36.603Z"
      },
      {
        "duration": 36,
        "start_time": "2022-11-02T05:48:36.620Z"
      },
      {
        "duration": 18,
        "start_time": "2022-11-02T05:48:50.715Z"
      },
      {
        "duration": 24,
        "start_time": "2022-11-02T06:35:25.635Z"
      },
      {
        "duration": 113,
        "start_time": "2022-11-02T06:35:43.176Z"
      },
      {
        "duration": 13,
        "start_time": "2022-11-02T06:35:43.291Z"
      },
      {
        "duration": 1970,
        "start_time": "2022-11-02T06:35:43.306Z"
      },
      {
        "duration": 18,
        "start_time": "2022-11-02T06:35:45.278Z"
      },
      {
        "duration": 25,
        "start_time": "2022-11-02T06:35:45.297Z"
      },
      {
        "duration": 13,
        "start_time": "2022-11-02T06:35:45.323Z"
      },
      {
        "duration": 14,
        "start_time": "2022-11-02T06:35:45.338Z"
      },
      {
        "duration": 40,
        "start_time": "2022-11-02T06:35:45.354Z"
      },
      {
        "duration": 23,
        "start_time": "2022-11-02T06:35:45.396Z"
      },
      {
        "duration": 17,
        "start_time": "2022-11-02T06:35:45.422Z"
      },
      {
        "duration": 20,
        "start_time": "2022-11-02T06:35:49.042Z"
      },
      {
        "duration": 185,
        "start_time": "2022-11-02T06:36:11.862Z"
      },
      {
        "duration": 190,
        "start_time": "2022-11-02T06:38:39.970Z"
      },
      {
        "duration": 217,
        "start_time": "2022-11-02T06:39:21.689Z"
      },
      {
        "duration": 222,
        "start_time": "2022-11-02T06:39:56.847Z"
      },
      {
        "duration": 230,
        "start_time": "2022-11-02T06:42:21.639Z"
      },
      {
        "duration": 274,
        "start_time": "2022-11-02T06:44:04.149Z"
      },
      {
        "duration": 268,
        "start_time": "2022-11-02T06:44:31.448Z"
      },
      {
        "duration": 325,
        "start_time": "2022-11-02T06:47:42.428Z"
      },
      {
        "duration": 348,
        "start_time": "2022-11-02T06:51:52.029Z"
      },
      {
        "duration": 285,
        "start_time": "2022-11-02T06:52:32.257Z"
      },
      {
        "duration": 275,
        "start_time": "2022-11-02T06:52:53.620Z"
      },
      {
        "duration": 277,
        "start_time": "2022-11-02T06:55:49.742Z"
      },
      {
        "duration": 282,
        "start_time": "2022-11-02T06:56:12.652Z"
      },
      {
        "duration": 272,
        "start_time": "2022-11-02T06:56:42.598Z"
      },
      {
        "duration": 278,
        "start_time": "2022-11-02T06:56:51.801Z"
      },
      {
        "duration": 326,
        "start_time": "2022-11-02T06:59:32.246Z"
      },
      {
        "duration": 301,
        "start_time": "2022-11-02T07:01:06.770Z"
      },
      {
        "duration": 291,
        "start_time": "2022-11-02T07:02:00.817Z"
      },
      {
        "duration": 106,
        "start_time": "2022-11-02T07:04:27.254Z"
      },
      {
        "duration": 295,
        "start_time": "2022-11-02T07:04:35.409Z"
      },
      {
        "duration": 276,
        "start_time": "2022-11-02T07:05:44.585Z"
      },
      {
        "duration": 292,
        "start_time": "2022-11-02T07:06:56.984Z"
      },
      {
        "duration": 284,
        "start_time": "2022-11-02T07:07:21.744Z"
      },
      {
        "duration": 319,
        "start_time": "2022-11-02T07:07:43.010Z"
      },
      {
        "duration": 37,
        "start_time": "2022-11-02T07:08:38.738Z"
      },
      {
        "duration": 384,
        "start_time": "2022-11-02T07:09:52.090Z"
      },
      {
        "duration": 3,
        "start_time": "2022-11-02T07:30:52.743Z"
      },
      {
        "duration": 113,
        "start_time": "2022-11-02T07:32:53.805Z"
      },
      {
        "duration": 15,
        "start_time": "2022-11-02T07:32:53.920Z"
      },
      {
        "duration": 1986,
        "start_time": "2022-11-02T07:32:53.936Z"
      },
      {
        "duration": 10,
        "start_time": "2022-11-02T07:32:55.924Z"
      },
      {
        "duration": 27,
        "start_time": "2022-11-02T07:32:59.545Z"
      },
      {
        "duration": 34,
        "start_time": "2022-11-02T07:34:01.178Z"
      },
      {
        "duration": 24,
        "start_time": "2022-11-02T07:34:41.150Z"
      },
      {
        "duration": 393,
        "start_time": "2022-11-02T07:35:32.953Z"
      },
      {
        "duration": 7,
        "start_time": "2022-11-02T07:41:25.113Z"
      },
      {
        "duration": 110,
        "start_time": "2022-11-02T07:42:44.784Z"
      },
      {
        "duration": 13,
        "start_time": "2022-11-02T07:42:44.896Z"
      },
      {
        "duration": 1969,
        "start_time": "2022-11-02T07:42:44.910Z"
      },
      {
        "duration": 14,
        "start_time": "2022-11-02T07:42:46.881Z"
      },
      {
        "duration": 26,
        "start_time": "2022-11-02T07:42:46.896Z"
      },
      {
        "duration": 24,
        "start_time": "2022-11-02T07:42:46.923Z"
      },
      {
        "duration": 48,
        "start_time": "2022-11-02T07:42:46.948Z"
      },
      {
        "duration": 473,
        "start_time": "2022-11-02T07:42:46.998Z"
      },
      {
        "duration": 11,
        "start_time": "2022-11-02T07:43:26.903Z"
      },
      {
        "duration": 10,
        "start_time": "2022-11-02T07:43:41.601Z"
      },
      {
        "duration": 4,
        "start_time": "2022-11-02T07:48:04.151Z"
      },
      {
        "duration": 6,
        "start_time": "2022-11-02T07:48:39.047Z"
      },
      {
        "duration": 7,
        "start_time": "2022-11-02T07:49:08.664Z"
      },
      {
        "duration": 1249,
        "start_time": "2022-11-02T07:51:10.964Z"
      },
      {
        "duration": 5,
        "start_time": "2022-11-02T07:52:12.037Z"
      },
      {
        "duration": 1181,
        "start_time": "2022-11-02T07:52:14.326Z"
      },
      {
        "duration": 1182,
        "start_time": "2022-11-02T07:52:32.317Z"
      },
      {
        "duration": 115,
        "start_time": "2022-11-02T07:54:04.918Z"
      },
      {
        "duration": 16,
        "start_time": "2022-11-02T07:54:05.035Z"
      },
      {
        "duration": 1977,
        "start_time": "2022-11-02T07:54:05.052Z"
      },
      {
        "duration": 9,
        "start_time": "2022-11-02T07:54:07.031Z"
      },
      {
        "duration": 25,
        "start_time": "2022-11-02T07:54:07.042Z"
      },
      {
        "duration": 23,
        "start_time": "2022-11-02T07:54:07.091Z"
      },
      {
        "duration": 17,
        "start_time": "2022-11-02T07:54:07.116Z"
      },
      {
        "duration": 370,
        "start_time": "2022-11-02T07:54:07.135Z"
      },
      {
        "duration": 9,
        "start_time": "2022-11-02T07:54:07.506Z"
      },
      {
        "duration": 4,
        "start_time": "2022-11-02T07:54:07.517Z"
      },
      {
        "duration": 34,
        "start_time": "2022-11-02T07:54:17.872Z"
      },
      {
        "duration": 12,
        "start_time": "2022-11-02T11:00:35.128Z"
      },
      {
        "duration": 10,
        "start_time": "2022-11-02T11:00:42.189Z"
      },
      {
        "duration": 25,
        "start_time": "2022-11-02T11:01:24.094Z"
      },
      {
        "duration": 47,
        "start_time": "2022-11-02T11:01:48.259Z"
      },
      {
        "duration": 17,
        "start_time": "2022-11-02T11:02:22.451Z"
      },
      {
        "duration": 10,
        "start_time": "2022-11-02T11:04:23.603Z"
      },
      {
        "duration": 11,
        "start_time": "2022-11-02T13:20:28.620Z"
      },
      {
        "duration": 18,
        "start_time": "2022-11-02T13:20:36.484Z"
      },
      {
        "duration": 11,
        "start_time": "2022-11-02T13:21:02.201Z"
      },
      {
        "duration": 188,
        "start_time": "2022-11-02T13:21:06.621Z"
      },
      {
        "duration": 24,
        "start_time": "2022-11-02T13:21:06.812Z"
      },
      {
        "duration": 2406,
        "start_time": "2022-11-02T13:21:06.838Z"
      },
      {
        "duration": 14,
        "start_time": "2022-11-02T13:21:09.246Z"
      },
      {
        "duration": 51,
        "start_time": "2022-11-02T13:21:09.264Z"
      },
      {
        "duration": 39,
        "start_time": "2022-11-02T13:21:09.317Z"
      },
      {
        "duration": 50,
        "start_time": "2022-11-02T13:21:09.359Z"
      },
      {
        "duration": 491,
        "start_time": "2022-11-02T13:21:09.412Z"
      },
      {
        "duration": 11,
        "start_time": "2022-11-02T13:21:09.905Z"
      },
      {
        "duration": 10,
        "start_time": "2022-11-02T13:21:09.918Z"
      },
      {
        "duration": 72,
        "start_time": "2022-11-02T13:21:09.931Z"
      },
      {
        "duration": 9,
        "start_time": "2022-11-02T13:21:13.679Z"
      },
      {
        "duration": 1270,
        "start_time": "2022-11-02T13:21:43.191Z"
      },
      {
        "duration": 66,
        "start_time": "2022-11-02T13:21:54.323Z"
      },
      {
        "duration": 39,
        "start_time": "2022-11-02T13:23:06.605Z"
      },
      {
        "duration": 45,
        "start_time": "2022-11-02T13:23:15.471Z"
      },
      {
        "duration": 13,
        "start_time": "2022-11-02T13:35:52.471Z"
      },
      {
        "duration": 14,
        "start_time": "2022-11-02T13:36:23.596Z"
      },
      {
        "duration": 10,
        "start_time": "2022-11-02T13:36:41.408Z"
      },
      {
        "duration": 13,
        "start_time": "2022-11-02T13:36:52.649Z"
      },
      {
        "duration": 12,
        "start_time": "2022-11-02T13:36:55.451Z"
      },
      {
        "duration": 39,
        "start_time": "2022-11-02T13:37:07.264Z"
      },
      {
        "duration": 52,
        "start_time": "2022-11-02T13:38:14.773Z"
      },
      {
        "duration": 1311,
        "start_time": "2022-11-02T13:38:55.502Z"
      },
      {
        "duration": 10,
        "start_time": "2022-11-02T13:39:01.837Z"
      },
      {
        "duration": 9,
        "start_time": "2022-11-02T13:39:21.963Z"
      },
      {
        "duration": 10,
        "start_time": "2022-11-02T13:40:10.640Z"
      },
      {
        "duration": 9,
        "start_time": "2022-11-02T13:40:24.520Z"
      },
      {
        "duration": 49,
        "start_time": "2022-11-02T18:29:29.616Z"
      },
      {
        "duration": 760,
        "start_time": "2022-11-02T18:29:36.199Z"
      },
      {
        "duration": 14,
        "start_time": "2022-11-02T18:29:36.961Z"
      },
      {
        "duration": 2508,
        "start_time": "2022-11-02T18:29:36.976Z"
      },
      {
        "duration": 10,
        "start_time": "2022-11-02T18:29:39.486Z"
      },
      {
        "duration": 25,
        "start_time": "2022-11-02T18:29:39.497Z"
      },
      {
        "duration": 25,
        "start_time": "2022-11-02T18:29:39.524Z"
      },
      {
        "duration": 19,
        "start_time": "2022-11-02T18:29:39.551Z"
      },
      {
        "duration": 351,
        "start_time": "2022-11-02T18:29:39.571Z"
      },
      {
        "duration": 16,
        "start_time": "2022-11-02T18:29:39.923Z"
      },
      {
        "duration": 5,
        "start_time": "2022-11-02T18:29:39.941Z"
      },
      {
        "duration": 35,
        "start_time": "2022-11-02T18:29:39.947Z"
      },
      {
        "duration": 62,
        "start_time": "2022-11-02T18:29:39.984Z"
      },
      {
        "duration": 8,
        "start_time": "2022-11-02T18:29:40.047Z"
      },
      {
        "duration": 41,
        "start_time": "2022-11-02T18:29:48.438Z"
      },
      {
        "duration": 20,
        "start_time": "2022-11-02T18:32:04.442Z"
      },
      {
        "duration": 15,
        "start_time": "2022-11-02T18:33:40.294Z"
      },
      {
        "duration": 7,
        "start_time": "2022-11-02T18:37:59.892Z"
      },
      {
        "duration": 18,
        "start_time": "2022-11-02T18:41:31.524Z"
      },
      {
        "duration": 4,
        "start_time": "2022-11-02T18:45:37.767Z"
      },
      {
        "duration": 7,
        "start_time": "2022-11-02T18:49:40.000Z"
      },
      {
        "duration": 4,
        "start_time": "2022-11-02T18:50:03.491Z"
      },
      {
        "duration": 7,
        "start_time": "2022-11-02T18:50:34.124Z"
      },
      {
        "duration": 8,
        "start_time": "2022-11-02T18:51:43.229Z"
      },
      {
        "duration": 10,
        "start_time": "2022-11-02T18:51:58.312Z"
      },
      {
        "duration": 9,
        "start_time": "2022-11-02T18:52:08.404Z"
      },
      {
        "duration": 10,
        "start_time": "2022-11-02T18:52:47.340Z"
      },
      {
        "duration": 6,
        "start_time": "2022-11-02T18:54:32.250Z"
      },
      {
        "duration": 4,
        "start_time": "2022-11-02T18:54:33.282Z"
      },
      {
        "duration": 27,
        "start_time": "2022-11-02T18:54:33.947Z"
      },
      {
        "duration": 220,
        "start_time": "2022-11-02T18:55:26.967Z"
      },
      {
        "duration": 177,
        "start_time": "2022-11-02T18:55:58.212Z"
      },
      {
        "duration": 7,
        "start_time": "2022-11-02T18:59:38.017Z"
      },
      {
        "duration": 7,
        "start_time": "2022-11-02T18:59:57.987Z"
      },
      {
        "duration": 1194,
        "start_time": "2022-11-03T03:55:16.324Z"
      },
      {
        "duration": 17,
        "start_time": "2022-11-03T03:55:17.520Z"
      },
      {
        "duration": 2314,
        "start_time": "2022-11-03T03:55:17.539Z"
      },
      {
        "duration": 10,
        "start_time": "2022-11-03T03:55:19.855Z"
      },
      {
        "duration": 27,
        "start_time": "2022-11-03T03:55:19.866Z"
      },
      {
        "duration": 24,
        "start_time": "2022-11-03T03:55:19.895Z"
      },
      {
        "duration": 17,
        "start_time": "2022-11-03T03:55:19.920Z"
      },
      {
        "duration": 331,
        "start_time": "2022-11-03T03:55:19.939Z"
      },
      {
        "duration": 8,
        "start_time": "2022-11-03T03:55:20.272Z"
      },
      {
        "duration": 9,
        "start_time": "2022-11-03T03:55:20.284Z"
      },
      {
        "duration": 47,
        "start_time": "2022-11-03T03:55:20.294Z"
      },
      {
        "duration": 48,
        "start_time": "2022-11-03T03:55:20.343Z"
      },
      {
        "duration": 6,
        "start_time": "2022-11-03T03:55:20.393Z"
      },
      {
        "duration": 40,
        "start_time": "2022-11-03T03:55:20.401Z"
      },
      {
        "duration": 12,
        "start_time": "2022-11-03T03:55:20.442Z"
      },
      {
        "duration": 16,
        "start_time": "2022-11-03T03:55:20.455Z"
      },
      {
        "duration": 13,
        "start_time": "2022-11-03T03:55:20.472Z"
      },
      {
        "duration": 15,
        "start_time": "2022-11-03T03:55:20.486Z"
      },
      {
        "duration": 8,
        "start_time": "2022-11-03T03:55:20.502Z"
      },
      {
        "duration": 65,
        "start_time": "2022-11-03T03:55:27.156Z"
      },
      {
        "duration": 8,
        "start_time": "2022-11-03T03:57:45.461Z"
      },
      {
        "duration": 16,
        "start_time": "2022-11-03T03:57:57.870Z"
      },
      {
        "duration": 14,
        "start_time": "2022-11-03T03:58:11.219Z"
      },
      {
        "duration": 192,
        "start_time": "2022-11-03T03:58:43.298Z"
      },
      {
        "duration": 25,
        "start_time": "2022-11-03T05:10:48.551Z"
      },
      {
        "duration": 15,
        "start_time": "2022-11-03T10:49:24.928Z"
      },
      {
        "duration": 14,
        "start_time": "2022-11-03T10:49:47.569Z"
      },
      {
        "duration": 119,
        "start_time": "2022-11-03T10:50:04.465Z"
      },
      {
        "duration": 13,
        "start_time": "2022-11-03T10:50:04.585Z"
      },
      {
        "duration": 1887,
        "start_time": "2022-11-03T10:50:04.600Z"
      },
      {
        "duration": 9,
        "start_time": "2022-11-03T10:50:06.489Z"
      },
      {
        "duration": 33,
        "start_time": "2022-11-03T10:50:06.500Z"
      },
      {
        "duration": 20,
        "start_time": "2022-11-03T10:50:06.534Z"
      },
      {
        "duration": 18,
        "start_time": "2022-11-03T10:50:06.556Z"
      },
      {
        "duration": 360,
        "start_time": "2022-11-03T10:50:06.575Z"
      },
      {
        "duration": 9,
        "start_time": "2022-11-03T10:50:06.937Z"
      },
      {
        "duration": 9,
        "start_time": "2022-11-03T10:50:06.948Z"
      },
      {
        "duration": 35,
        "start_time": "2022-11-03T10:50:06.958Z"
      },
      {
        "duration": 39,
        "start_time": "2022-11-03T10:50:06.995Z"
      },
      {
        "duration": 14,
        "start_time": "2022-11-03T10:50:07.036Z"
      },
      {
        "duration": 8,
        "start_time": "2022-11-03T10:50:07.052Z"
      },
      {
        "duration": 36,
        "start_time": "2022-11-03T10:50:07.064Z"
      },
      {
        "duration": 13,
        "start_time": "2022-11-03T10:50:14.845Z"
      },
      {
        "duration": 13,
        "start_time": "2022-11-03T10:51:08.339Z"
      },
      {
        "duration": 22,
        "start_time": "2022-11-03T10:51:35.903Z"
      },
      {
        "duration": 16,
        "start_time": "2022-11-03T10:52:24.917Z"
      },
      {
        "duration": 6,
        "start_time": "2022-11-03T10:55:26.858Z"
      },
      {
        "duration": 8,
        "start_time": "2022-11-03T10:55:41.362Z"
      },
      {
        "duration": 1110,
        "start_time": "2022-11-03T11:01:27.537Z"
      },
      {
        "duration": 6,
        "start_time": "2022-11-03T11:01:34.045Z"
      },
      {
        "duration": 5,
        "start_time": "2022-11-03T11:07:10.596Z"
      },
      {
        "duration": 7,
        "start_time": "2022-11-03T11:07:23.719Z"
      },
      {
        "duration": 6,
        "start_time": "2022-11-03T11:10:39.581Z"
      },
      {
        "duration": 736,
        "start_time": "2022-11-04T13:50:42.991Z"
      },
      {
        "duration": 16,
        "start_time": "2022-11-04T13:50:43.729Z"
      },
      {
        "duration": 2454,
        "start_time": "2022-11-04T13:50:43.747Z"
      },
      {
        "duration": 11,
        "start_time": "2022-11-04T13:50:46.203Z"
      },
      {
        "duration": 38,
        "start_time": "2022-11-04T13:50:46.216Z"
      },
      {
        "duration": 29,
        "start_time": "2022-11-04T13:50:46.256Z"
      },
      {
        "duration": 20,
        "start_time": "2022-11-04T13:50:46.287Z"
      },
      {
        "duration": 433,
        "start_time": "2022-11-04T13:50:46.309Z"
      },
      {
        "duration": 17,
        "start_time": "2022-11-04T13:50:46.745Z"
      },
      {
        "duration": 13,
        "start_time": "2022-11-04T13:50:46.766Z"
      },
      {
        "duration": 39,
        "start_time": "2022-11-04T13:50:46.782Z"
      },
      {
        "duration": 39,
        "start_time": "2022-11-04T13:50:46.823Z"
      },
      {
        "duration": 16,
        "start_time": "2022-11-04T13:50:46.864Z"
      },
      {
        "duration": 13,
        "start_time": "2022-11-04T13:50:46.882Z"
      },
      {
        "duration": 14,
        "start_time": "2022-11-04T13:50:46.897Z"
      },
      {
        "duration": 17,
        "start_time": "2022-11-04T13:50:46.913Z"
      },
      {
        "duration": 27,
        "start_time": "2022-11-04T13:50:46.954Z"
      },
      {
        "duration": 8,
        "start_time": "2022-11-04T13:50:46.983Z"
      },
      {
        "duration": 8,
        "start_time": "2022-11-04T13:50:46.993Z"
      },
      {
        "duration": 6,
        "start_time": "2022-11-04T13:50:47.003Z"
      },
      {
        "duration": 8,
        "start_time": "2022-11-04T13:50:47.011Z"
      },
      {
        "duration": 7,
        "start_time": "2022-11-04T13:50:54.529Z"
      },
      {
        "duration": 44,
        "start_time": "2022-11-04T13:56:42.166Z"
      },
      {
        "duration": 50,
        "start_time": "2022-11-04T13:56:46.107Z"
      },
      {
        "duration": 44,
        "start_time": "2022-11-04T13:57:00.158Z"
      },
      {
        "duration": 19,
        "start_time": "2022-11-04T13:57:41.202Z"
      },
      {
        "duration": 40,
        "start_time": "2022-11-04T13:57:49.725Z"
      },
      {
        "duration": 40,
        "start_time": "2022-11-04T13:58:14.175Z"
      },
      {
        "duration": 867,
        "start_time": "2022-11-05T06:38:35.923Z"
      },
      {
        "duration": 14,
        "start_time": "2022-11-05T06:38:36.792Z"
      },
      {
        "duration": 2281,
        "start_time": "2022-11-05T06:38:36.807Z"
      },
      {
        "duration": 8,
        "start_time": "2022-11-05T06:38:39.091Z"
      },
      {
        "duration": 22,
        "start_time": "2022-11-05T06:38:39.101Z"
      },
      {
        "duration": 26,
        "start_time": "2022-11-05T06:38:39.125Z"
      },
      {
        "duration": 30,
        "start_time": "2022-11-05T06:38:39.153Z"
      },
      {
        "duration": 340,
        "start_time": "2022-11-05T06:38:39.185Z"
      },
      {
        "duration": 7,
        "start_time": "2022-11-05T06:38:39.527Z"
      },
      {
        "duration": 4,
        "start_time": "2022-11-05T06:38:39.537Z"
      },
      {
        "duration": 48,
        "start_time": "2022-11-05T06:38:39.543Z"
      },
      {
        "duration": 16,
        "start_time": "2022-11-05T06:38:39.593Z"
      },
      {
        "duration": 13,
        "start_time": "2022-11-05T06:38:39.610Z"
      },
      {
        "duration": 7,
        "start_time": "2022-11-05T06:38:39.624Z"
      },
      {
        "duration": 6,
        "start_time": "2022-11-05T06:38:39.632Z"
      },
      {
        "duration": 8,
        "start_time": "2022-11-05T06:38:39.640Z"
      },
      {
        "duration": 41,
        "start_time": "2022-11-05T06:38:39.650Z"
      },
      {
        "duration": 8,
        "start_time": "2022-11-05T06:38:39.692Z"
      },
      {
        "duration": 5,
        "start_time": "2022-11-05T06:38:39.701Z"
      },
      {
        "duration": 4,
        "start_time": "2022-11-05T06:38:39.709Z"
      },
      {
        "duration": 5,
        "start_time": "2022-11-05T06:38:39.715Z"
      },
      {
        "duration": 5,
        "start_time": "2022-11-05T06:38:39.721Z"
      },
      {
        "duration": 4,
        "start_time": "2022-11-05T06:38:48.897Z"
      },
      {
        "duration": 94,
        "start_time": "2022-11-05T06:38:54.744Z"
      },
      {
        "duration": 50,
        "start_time": "2022-11-05T06:39:08.131Z"
      },
      {
        "duration": 568,
        "start_time": "2022-11-08T16:08:37.322Z"
      },
      {
        "duration": 16,
        "start_time": "2022-11-08T16:08:37.892Z"
      },
      {
        "duration": 2457,
        "start_time": "2022-11-08T16:08:37.910Z"
      },
      {
        "duration": 13,
        "start_time": "2022-11-08T16:08:40.370Z"
      },
      {
        "duration": 116,
        "start_time": "2022-11-08T16:17:28.589Z"
      },
      {
        "duration": 21,
        "start_time": "2022-11-08T16:17:28.707Z"
      },
      {
        "duration": 2103,
        "start_time": "2022-11-08T16:17:28.730Z"
      },
      {
        "duration": 10,
        "start_time": "2022-11-08T16:17:30.835Z"
      },
      {
        "duration": 38,
        "start_time": "2022-11-08T16:17:30.847Z"
      },
      {
        "duration": 1192,
        "start_time": "2022-11-08T16:17:34.327Z"
      },
      {
        "duration": 6,
        "start_time": "2022-11-08T16:17:57.947Z"
      },
      {
        "duration": 1074,
        "start_time": "2022-11-08T16:18:09.098Z"
      },
      {
        "duration": 1271,
        "start_time": "2022-11-08T16:20:13.770Z"
      },
      {
        "duration": 44,
        "start_time": "2022-11-08T16:21:02.185Z"
      },
      {
        "duration": 15,
        "start_time": "2022-11-08T16:21:36.408Z"
      },
      {
        "duration": 15,
        "start_time": "2022-11-08T16:21:46.045Z"
      },
      {
        "duration": 21,
        "start_time": "2022-11-08T16:22:27.223Z"
      },
      {
        "duration": 17,
        "start_time": "2022-11-08T16:25:22.323Z"
      },
      {
        "duration": 71,
        "start_time": "2022-11-08T16:26:35.131Z"
      },
      {
        "duration": 76,
        "start_time": "2022-11-08T16:26:50.208Z"
      },
      {
        "duration": 18,
        "start_time": "2022-11-08T16:26:57.148Z"
      },
      {
        "duration": 17,
        "start_time": "2022-11-08T16:27:22.592Z"
      },
      {
        "duration": 20,
        "start_time": "2022-11-08T16:33:22.198Z"
      },
      {
        "duration": 38,
        "start_time": "2022-11-08T16:47:49.898Z"
      },
      {
        "duration": 21,
        "start_time": "2022-11-08T16:48:12.849Z"
      },
      {
        "duration": 127,
        "start_time": "2022-11-08T16:51:31.022Z"
      },
      {
        "duration": 18,
        "start_time": "2022-11-08T16:51:31.152Z"
      },
      {
        "duration": 2279,
        "start_time": "2022-11-08T16:51:31.172Z"
      },
      {
        "duration": 9,
        "start_time": "2022-11-08T16:51:33.453Z"
      },
      {
        "duration": 37,
        "start_time": "2022-11-08T16:51:33.464Z"
      },
      {
        "duration": 6,
        "start_time": "2022-11-08T16:51:33.503Z"
      },
      {
        "duration": 32,
        "start_time": "2022-11-08T16:51:37.534Z"
      },
      {
        "duration": 30,
        "start_time": "2022-11-08T16:52:17.715Z"
      },
      {
        "duration": 20,
        "start_time": "2022-11-08T16:52:18.983Z"
      },
      {
        "duration": 437,
        "start_time": "2022-11-08T16:52:24.413Z"
      },
      {
        "duration": 14,
        "start_time": "2022-11-08T16:52:52.735Z"
      },
      {
        "duration": 17,
        "start_time": "2022-11-08T16:55:05.677Z"
      },
      {
        "duration": 8,
        "start_time": "2022-11-08T16:55:52.746Z"
      },
      {
        "duration": 111,
        "start_time": "2022-11-08T16:57:42.093Z"
      },
      {
        "duration": 13,
        "start_time": "2022-11-08T16:57:42.206Z"
      },
      {
        "duration": 2137,
        "start_time": "2022-11-08T16:57:42.221Z"
      },
      {
        "duration": 9,
        "start_time": "2022-11-08T16:57:44.360Z"
      },
      {
        "duration": 33,
        "start_time": "2022-11-08T16:57:44.371Z"
      },
      {
        "duration": 5,
        "start_time": "2022-11-08T16:57:44.406Z"
      },
      {
        "duration": 196,
        "start_time": "2022-11-08T16:57:44.412Z"
      },
      {
        "duration": 25,
        "start_time": "2022-11-08T16:57:44.610Z"
      },
      {
        "duration": 20,
        "start_time": "2022-11-08T16:57:44.637Z"
      },
      {
        "duration": 427,
        "start_time": "2022-11-08T16:57:44.660Z"
      },
      {
        "duration": 18,
        "start_time": "2022-11-08T16:57:45.089Z"
      },
      {
        "duration": 21,
        "start_time": "2022-11-08T16:57:45.108Z"
      },
      {
        "duration": 14,
        "start_time": "2022-11-08T16:57:45.130Z"
      },
      {
        "duration": 12,
        "start_time": "2022-11-08T16:57:45.148Z"
      },
      {
        "duration": 40,
        "start_time": "2022-11-08T16:57:45.161Z"
      },
      {
        "duration": 8,
        "start_time": "2022-11-08T16:57:51.641Z"
      },
      {
        "duration": 112,
        "start_time": "2022-11-08T16:58:07.646Z"
      },
      {
        "duration": 15,
        "start_time": "2022-11-08T16:58:07.760Z"
      },
      {
        "duration": 2005,
        "start_time": "2022-11-08T16:58:07.777Z"
      },
      {
        "duration": 20,
        "start_time": "2022-11-08T16:58:09.784Z"
      },
      {
        "duration": 19,
        "start_time": "2022-11-08T16:58:09.805Z"
      },
      {
        "duration": 5,
        "start_time": "2022-11-08T16:58:09.826Z"
      },
      {
        "duration": 33,
        "start_time": "2022-11-08T16:58:09.833Z"
      },
      {
        "duration": 49,
        "start_time": "2022-11-08T16:58:09.868Z"
      },
      {
        "duration": 18,
        "start_time": "2022-11-08T16:58:09.919Z"
      },
      {
        "duration": 397,
        "start_time": "2022-11-08T16:58:09.939Z"
      },
      {
        "duration": 15,
        "start_time": "2022-11-08T16:58:10.338Z"
      },
      {
        "duration": 13,
        "start_time": "2022-11-08T16:58:10.355Z"
      },
      {
        "duration": 32,
        "start_time": "2022-11-08T16:58:10.370Z"
      },
      {
        "duration": 17,
        "start_time": "2022-11-08T16:58:10.404Z"
      },
      {
        "duration": 12,
        "start_time": "2022-11-08T16:58:16.533Z"
      },
      {
        "duration": 28,
        "start_time": "2022-11-08T17:00:47.984Z"
      },
      {
        "duration": 25,
        "start_time": "2022-11-08T17:01:15.810Z"
      },
      {
        "duration": 25,
        "start_time": "2022-11-08T17:01:19.378Z"
      },
      {
        "duration": 26,
        "start_time": "2022-11-08T17:14:25.992Z"
      },
      {
        "duration": 17,
        "start_time": "2022-11-08T17:14:45.914Z"
      },
      {
        "duration": 44,
        "start_time": "2022-11-08T17:20:34.414Z"
      },
      {
        "duration": 47,
        "start_time": "2022-11-08T17:20:54.672Z"
      },
      {
        "duration": 5,
        "start_time": "2022-11-08T17:23:22.925Z"
      },
      {
        "duration": 9,
        "start_time": "2022-11-08T17:23:32.952Z"
      },
      {
        "duration": 7,
        "start_time": "2022-11-08T17:23:48.631Z"
      },
      {
        "duration": 112,
        "start_time": "2022-11-08T17:23:52.209Z"
      },
      {
        "duration": 14,
        "start_time": "2022-11-08T17:23:52.323Z"
      },
      {
        "duration": 2313,
        "start_time": "2022-11-08T17:23:52.339Z"
      },
      {
        "duration": 9,
        "start_time": "2022-11-08T17:23:54.654Z"
      },
      {
        "duration": 36,
        "start_time": "2022-11-08T17:23:54.665Z"
      },
      {
        "duration": 7,
        "start_time": "2022-11-08T17:23:54.703Z"
      },
      {
        "duration": 32,
        "start_time": "2022-11-08T17:23:54.713Z"
      },
      {
        "duration": 22,
        "start_time": "2022-11-08T17:23:54.747Z"
      },
      {
        "duration": 42,
        "start_time": "2022-11-08T17:23:54.770Z"
      },
      {
        "duration": 401,
        "start_time": "2022-11-08T17:23:54.815Z"
      },
      {
        "duration": 14,
        "start_time": "2022-11-08T17:23:55.218Z"
      },
      {
        "duration": 14,
        "start_time": "2022-11-08T17:23:55.234Z"
      },
      {
        "duration": 50,
        "start_time": "2022-11-08T17:23:55.250Z"
      },
      {
        "duration": 11,
        "start_time": "2022-11-08T17:23:55.301Z"
      },
      {
        "duration": 12,
        "start_time": "2022-11-08T17:24:55.417Z"
      },
      {
        "duration": 8,
        "start_time": "2022-11-08T17:25:13.923Z"
      },
      {
        "duration": 11,
        "start_time": "2022-11-08T17:26:41.810Z"
      },
      {
        "duration": 9,
        "start_time": "2022-11-08T17:27:53.246Z"
      },
      {
        "duration": 7,
        "start_time": "2022-11-08T17:28:57.820Z"
      },
      {
        "duration": 496,
        "start_time": "2022-11-08T17:29:19.891Z"
      },
      {
        "duration": 127,
        "start_time": "2022-11-08T17:29:23.740Z"
      },
      {
        "duration": 3,
        "start_time": "2022-11-08T17:29:40.233Z"
      },
      {
        "duration": 117,
        "start_time": "2022-11-08T17:29:43.198Z"
      },
      {
        "duration": 237,
        "start_time": "2022-11-08T17:30:34.984Z"
      },
      {
        "duration": 5,
        "start_time": "2022-11-08T17:31:30.116Z"
      },
      {
        "duration": 4,
        "start_time": "2022-11-08T17:32:41.093Z"
      },
      {
        "duration": 8,
        "start_time": "2022-11-08T17:33:27.977Z"
      },
      {
        "duration": 14,
        "start_time": "2022-11-08T17:34:07.568Z"
      },
      {
        "duration": 11,
        "start_time": "2022-11-08T17:37:47.169Z"
      },
      {
        "duration": 106,
        "start_time": "2022-11-08T17:37:49.412Z"
      },
      {
        "duration": 9,
        "start_time": "2022-11-08T17:37:52.328Z"
      },
      {
        "duration": 9,
        "start_time": "2022-11-08T17:37:54.394Z"
      },
      {
        "duration": 29,
        "start_time": "2022-11-08T17:38:58.785Z"
      },
      {
        "duration": 391,
        "start_time": "2022-11-08T17:39:06.953Z"
      },
      {
        "duration": 76,
        "start_time": "2022-11-08T17:39:29.345Z"
      },
      {
        "duration": 10,
        "start_time": "2022-11-08T17:39:32.809Z"
      },
      {
        "duration": 8,
        "start_time": "2022-11-08T17:41:19.055Z"
      },
      {
        "duration": 10,
        "start_time": "2022-11-08T17:41:37.250Z"
      },
      {
        "duration": 113,
        "start_time": "2022-11-08T17:42:02.211Z"
      },
      {
        "duration": 115,
        "start_time": "2022-11-08T17:42:23.656Z"
      },
      {
        "duration": 110,
        "start_time": "2022-11-08T17:42:30.459Z"
      },
      {
        "duration": 110,
        "start_time": "2022-11-08T17:42:38.545Z"
      },
      {
        "duration": 9,
        "start_time": "2022-11-08T17:43:13.724Z"
      },
      {
        "duration": 11,
        "start_time": "2022-11-08T17:43:44.157Z"
      },
      {
        "duration": 5,
        "start_time": "2022-11-08T17:47:11.889Z"
      },
      {
        "duration": 77,
        "start_time": "2022-11-08T17:47:38.738Z"
      },
      {
        "duration": 92,
        "start_time": "2022-11-08T17:48:13.647Z"
      },
      {
        "duration": 63,
        "start_time": "2022-11-08T17:48:21.619Z"
      },
      {
        "duration": 86,
        "start_time": "2022-11-08T17:48:41.836Z"
      },
      {
        "duration": 1250,
        "start_time": "2022-11-08T17:49:11.135Z"
      },
      {
        "duration": 11,
        "start_time": "2022-11-08T17:49:23.935Z"
      },
      {
        "duration": 13,
        "start_time": "2022-11-08T17:49:40.983Z"
      },
      {
        "duration": 45,
        "start_time": "2022-11-08T17:49:57.710Z"
      },
      {
        "duration": 146,
        "start_time": "2022-11-08T17:52:10.063Z"
      },
      {
        "duration": 18,
        "start_time": "2022-11-08T17:52:10.212Z"
      },
      {
        "duration": 2133,
        "start_time": "2022-11-08T17:52:10.232Z"
      },
      {
        "duration": 13,
        "start_time": "2022-11-08T17:52:12.366Z"
      },
      {
        "duration": 35,
        "start_time": "2022-11-08T17:52:12.381Z"
      },
      {
        "duration": 27,
        "start_time": "2022-11-08T17:52:12.418Z"
      },
      {
        "duration": 41,
        "start_time": "2022-11-08T17:52:12.446Z"
      },
      {
        "duration": 40,
        "start_time": "2022-11-08T17:52:12.488Z"
      },
      {
        "duration": 19,
        "start_time": "2022-11-08T17:52:12.530Z"
      },
      {
        "duration": 418,
        "start_time": "2022-11-08T17:52:12.551Z"
      },
      {
        "duration": 13,
        "start_time": "2022-11-08T17:52:12.971Z"
      },
      {
        "duration": 27,
        "start_time": "2022-11-08T17:52:12.986Z"
      },
      {
        "duration": 22,
        "start_time": "2022-11-08T17:52:13.016Z"
      },
      {
        "duration": 2,
        "start_time": "2022-11-08T17:52:13.041Z"
      },
      {
        "duration": 6,
        "start_time": "2022-11-08T17:52:13.045Z"
      },
      {
        "duration": 13,
        "start_time": "2022-11-08T17:52:13.052Z"
      },
      {
        "duration": 41,
        "start_time": "2022-11-08T17:52:13.067Z"
      },
      {
        "duration": 27,
        "start_time": "2022-11-08T17:52:13.110Z"
      },
      {
        "duration": 131,
        "start_time": "2022-11-08T17:52:13.139Z"
      },
      {
        "duration": 7,
        "start_time": "2022-11-08T17:52:13.272Z"
      },
      {
        "duration": 29,
        "start_time": "2022-11-08T17:52:13.281Z"
      },
      {
        "duration": 17,
        "start_time": "2022-11-08T17:52:13.314Z"
      },
      {
        "duration": 9,
        "start_time": "2022-11-08T17:52:13.333Z"
      },
      {
        "duration": 128,
        "start_time": "2022-11-08T17:52:13.344Z"
      },
      {
        "duration": 8,
        "start_time": "2022-11-08T17:52:13.473Z"
      },
      {
        "duration": 15,
        "start_time": "2022-11-08T17:52:13.483Z"
      },
      {
        "duration": 31,
        "start_time": "2022-11-08T17:52:13.500Z"
      },
      {
        "duration": 7,
        "start_time": "2022-11-08T17:52:13.533Z"
      },
      {
        "duration": 13,
        "start_time": "2022-11-08T17:52:13.541Z"
      },
      {
        "duration": 124,
        "start_time": "2022-11-08T17:52:13.556Z"
      },
      {
        "duration": 17,
        "start_time": "2022-11-08T17:52:13.682Z"
      },
      {
        "duration": 61,
        "start_time": "2022-11-08T17:52:19.865Z"
      },
      {
        "duration": 57,
        "start_time": "2022-11-08T17:52:29.294Z"
      },
      {
        "duration": 11,
        "start_time": "2022-11-08T17:52:41.753Z"
      },
      {
        "duration": 9,
        "start_time": "2022-11-08T18:02:54.537Z"
      },
      {
        "duration": 45,
        "start_time": "2022-11-08T18:05:56.916Z"
      },
      {
        "duration": 85,
        "start_time": "2022-11-08T18:06:34.063Z"
      },
      {
        "duration": 122,
        "start_time": "2022-11-08T18:20:11.251Z"
      },
      {
        "duration": 141,
        "start_time": "2022-11-08T18:21:16.042Z"
      },
      {
        "duration": 116,
        "start_time": "2022-11-08T18:21:26.358Z"
      },
      {
        "duration": 138,
        "start_time": "2022-11-08T18:21:59.697Z"
      },
      {
        "duration": 139,
        "start_time": "2022-11-08T18:22:15.160Z"
      },
      {
        "duration": 144,
        "start_time": "2022-11-08T18:22:39.063Z"
      },
      {
        "duration": 125,
        "start_time": "2022-11-08T18:22:57.672Z"
      },
      {
        "duration": 135,
        "start_time": "2022-11-08T18:23:29.489Z"
      },
      {
        "duration": 138,
        "start_time": "2022-11-08T18:23:50.053Z"
      },
      {
        "duration": 1108,
        "start_time": "2022-11-08T18:24:21.361Z"
      },
      {
        "duration": 358,
        "start_time": "2022-11-08T18:24:44.766Z"
      },
      {
        "duration": 131,
        "start_time": "2022-11-08T18:25:28.376Z"
      },
      {
        "duration": 146,
        "start_time": "2022-11-08T18:25:52.057Z"
      },
      {
        "duration": 139,
        "start_time": "2022-11-08T18:26:49.648Z"
      },
      {
        "duration": 133,
        "start_time": "2022-11-08T18:26:52.016Z"
      },
      {
        "duration": 141,
        "start_time": "2022-11-08T18:27:35.722Z"
      },
      {
        "duration": 12,
        "start_time": "2022-11-08T18:27:54.289Z"
      },
      {
        "duration": 6,
        "start_time": "2022-11-08T18:28:04.132Z"
      },
      {
        "duration": 10,
        "start_time": "2022-11-08T18:28:08.090Z"
      },
      {
        "duration": 585,
        "start_time": "2022-11-08T18:29:47.084Z"
      },
      {
        "duration": 142,
        "start_time": "2022-11-08T18:29:55.697Z"
      },
      {
        "duration": 138,
        "start_time": "2022-11-08T18:30:14.683Z"
      },
      {
        "duration": 139,
        "start_time": "2022-11-08T18:30:39.999Z"
      },
      {
        "duration": 130,
        "start_time": "2022-11-08T18:30:55.328Z"
      },
      {
        "duration": 118,
        "start_time": "2022-11-08T18:31:27.603Z"
      },
      {
        "duration": 101,
        "start_time": "2022-11-08T18:32:09.872Z"
      },
      {
        "duration": 111,
        "start_time": "2022-11-08T18:32:24.803Z"
      },
      {
        "duration": 117,
        "start_time": "2022-11-08T18:34:19.084Z"
      },
      {
        "duration": 105,
        "start_time": "2022-11-08T18:35:16.210Z"
      },
      {
        "duration": 100,
        "start_time": "2022-11-08T18:35:33.798Z"
      },
      {
        "duration": 95,
        "start_time": "2022-11-08T18:35:39.185Z"
      },
      {
        "duration": 91,
        "start_time": "2022-11-08T18:37:57.705Z"
      },
      {
        "duration": 89,
        "start_time": "2022-11-08T18:38:11.394Z"
      },
      {
        "duration": 194,
        "start_time": "2022-11-08T18:39:30.982Z"
      },
      {
        "duration": 182,
        "start_time": "2022-11-08T18:40:08.702Z"
      },
      {
        "duration": 166,
        "start_time": "2022-11-08T18:43:56.722Z"
      },
      {
        "duration": 36384,
        "start_time": "2022-11-08T18:45:20.139Z"
      },
      {
        "duration": 48,
        "start_time": "2022-11-09T04:14:58.833Z"
      },
      {
        "duration": 565,
        "start_time": "2022-11-09T04:15:03.802Z"
      },
      {
        "duration": 14,
        "start_time": "2022-11-09T04:15:04.369Z"
      },
      {
        "duration": 2337,
        "start_time": "2022-11-09T04:15:04.385Z"
      },
      {
        "duration": 10,
        "start_time": "2022-11-09T04:15:06.724Z"
      },
      {
        "duration": 18,
        "start_time": "2022-11-09T04:15:06.736Z"
      },
      {
        "duration": 5,
        "start_time": "2022-11-09T04:15:06.755Z"
      },
      {
        "duration": 37,
        "start_time": "2022-11-09T04:15:06.761Z"
      },
      {
        "duration": 27,
        "start_time": "2022-11-09T04:15:06.799Z"
      },
      {
        "duration": 30,
        "start_time": "2022-11-09T04:15:06.827Z"
      },
      {
        "duration": 406,
        "start_time": "2022-11-09T04:15:06.862Z"
      },
      {
        "duration": 22,
        "start_time": "2022-11-09T04:15:07.270Z"
      },
      {
        "duration": 13,
        "start_time": "2022-11-09T04:15:07.294Z"
      },
      {
        "duration": 26,
        "start_time": "2022-11-09T04:15:07.309Z"
      },
      {
        "duration": 595,
        "start_time": "2022-11-09T04:15:07.337Z"
      },
      {
        "duration": 5,
        "start_time": "2022-11-09T04:15:07.933Z"
      },
      {
        "duration": 28,
        "start_time": "2022-11-09T04:15:07.940Z"
      },
      {
        "duration": 15,
        "start_time": "2022-11-09T04:15:07.970Z"
      },
      {
        "duration": 10,
        "start_time": "2022-11-09T04:15:07.987Z"
      },
      {
        "duration": 115,
        "start_time": "2022-11-09T04:15:07.999Z"
      },
      {
        "duration": 9,
        "start_time": "2022-11-09T04:15:08.116Z"
      },
      {
        "duration": 19,
        "start_time": "2022-11-09T04:15:08.127Z"
      },
      {
        "duration": 9,
        "start_time": "2022-11-09T04:15:08.148Z"
      },
      {
        "duration": 31,
        "start_time": "2022-11-09T04:15:08.159Z"
      },
      {
        "duration": 97,
        "start_time": "2022-11-09T04:15:08.192Z"
      },
      {
        "duration": 8,
        "start_time": "2022-11-09T04:15:08.292Z"
      },
      {
        "duration": 10,
        "start_time": "2022-11-09T04:15:08.302Z"
      },
      {
        "duration": 9,
        "start_time": "2022-11-09T04:15:08.313Z"
      },
      {
        "duration": 5,
        "start_time": "2022-11-09T04:15:08.326Z"
      },
      {
        "duration": 8,
        "start_time": "2022-11-09T04:15:08.332Z"
      },
      {
        "duration": 123,
        "start_time": "2022-11-09T04:15:08.342Z"
      },
      {
        "duration": 8,
        "start_time": "2022-11-09T04:15:08.466Z"
      },
      {
        "duration": 16,
        "start_time": "2022-11-09T04:15:08.475Z"
      },
      {
        "duration": 15,
        "start_time": "2022-11-09T04:15:08.493Z"
      },
      {
        "duration": 53,
        "start_time": "2022-11-09T04:15:08.509Z"
      },
      {
        "duration": 134,
        "start_time": "2022-11-09T04:15:08.564Z"
      },
      {
        "duration": 145,
        "start_time": "2022-11-09T04:15:08.699Z"
      },
      {
        "duration": 109,
        "start_time": "2022-11-09T04:15:08.846Z"
      },
      {
        "duration": 141,
        "start_time": "2022-11-09T04:15:08.958Z"
      },
      {
        "duration": 169,
        "start_time": "2022-11-09T04:15:09.101Z"
      },
      {
        "duration": 147,
        "start_time": "2022-11-09T04:15:09.271Z"
      },
      {
        "duration": 124,
        "start_time": "2022-11-09T04:15:09.420Z"
      },
      {
        "duration": 124,
        "start_time": "2022-11-09T04:15:09.545Z"
      },
      {
        "duration": 207,
        "start_time": "2022-11-09T04:15:09.670Z"
      },
      {
        "duration": 131,
        "start_time": "2022-11-09T04:15:09.886Z"
      },
      {
        "duration": 127,
        "start_time": "2022-11-09T04:15:10.018Z"
      },
      {
        "duration": 141,
        "start_time": "2022-11-09T04:15:10.146Z"
      },
      {
        "duration": 134,
        "start_time": "2022-11-09T04:15:10.288Z"
      },
      {
        "duration": 136,
        "start_time": "2022-11-09T04:15:10.423Z"
      },
      {
        "duration": 153,
        "start_time": "2022-11-09T04:15:10.560Z"
      },
      {
        "duration": 7,
        "start_time": "2022-11-09T04:15:10.714Z"
      },
      {
        "duration": 157,
        "start_time": "2022-11-09T04:15:10.723Z"
      },
      {
        "duration": 30086,
        "start_time": "2022-11-09T04:15:10.885Z"
      },
      {
        "duration": 0,
        "start_time": "2022-11-09T04:15:40.972Z"
      },
      {
        "duration": 117,
        "start_time": "2022-11-09T04:16:38.714Z"
      },
      {
        "duration": 151,
        "start_time": "2022-11-09T04:17:56.363Z"
      },
      {
        "duration": 145,
        "start_time": "2022-11-09T04:18:04.986Z"
      },
      {
        "duration": 151,
        "start_time": "2022-11-09T04:18:38.162Z"
      },
      {
        "duration": 160,
        "start_time": "2022-11-09T04:19:03.300Z"
      },
      {
        "duration": 157,
        "start_time": "2022-11-09T04:23:19.714Z"
      },
      {
        "duration": 141,
        "start_time": "2022-11-09T04:25:12.386Z"
      },
      {
        "duration": 162,
        "start_time": "2022-11-09T04:27:49.063Z"
      },
      {
        "duration": 2184,
        "start_time": "2022-11-09T04:28:44.264Z"
      },
      {
        "duration": 22,
        "start_time": "2022-11-09T04:29:24.657Z"
      },
      {
        "duration": 53,
        "start_time": "2022-11-09T04:30:54.033Z"
      },
      {
        "duration": 78,
        "start_time": "2022-11-09T04:31:06.027Z"
      },
      {
        "duration": 126,
        "start_time": "2022-11-09T04:42:23.306Z"
      },
      {
        "duration": 90,
        "start_time": "2022-11-09T04:42:43.615Z"
      },
      {
        "duration": 85,
        "start_time": "2022-11-09T04:42:55.687Z"
      },
      {
        "duration": 5,
        "start_time": "2022-11-09T04:44:20.362Z"
      },
      {
        "duration": 87,
        "start_time": "2022-11-09T04:44:31.996Z"
      },
      {
        "duration": 88,
        "start_time": "2022-11-09T04:45:43.724Z"
      },
      {
        "duration": 32,
        "start_time": "2022-11-09T04:48:18.160Z"
      },
      {
        "duration": 108,
        "start_time": "2022-11-09T05:02:51.332Z"
      },
      {
        "duration": 107,
        "start_time": "2022-11-09T05:02:59.903Z"
      },
      {
        "duration": 154,
        "start_time": "2022-11-09T05:05:22.724Z"
      },
      {
        "duration": 159,
        "start_time": "2022-11-09T05:05:32.812Z"
      },
      {
        "duration": 188,
        "start_time": "2022-11-09T05:05:37.193Z"
      },
      {
        "duration": 624,
        "start_time": "2022-11-09T05:07:36.729Z"
      },
      {
        "duration": 1105,
        "start_time": "2022-11-09T05:07:56.992Z"
      },
      {
        "duration": 9,
        "start_time": "2022-11-09T05:11:32.391Z"
      },
      {
        "duration": 1137,
        "start_time": "2022-11-09T05:11:45.516Z"
      },
      {
        "duration": 11,
        "start_time": "2022-11-09T05:15:14.439Z"
      },
      {
        "duration": 1204,
        "start_time": "2022-11-09T05:16:51.838Z"
      },
      {
        "duration": 575,
        "start_time": "2022-11-09T05:17:30.818Z"
      },
      {
        "duration": 17,
        "start_time": "2022-11-09T05:18:41.955Z"
      },
      {
        "duration": 708,
        "start_time": "2022-11-09T05:19:36.551Z"
      },
      {
        "duration": 17,
        "start_time": "2022-11-09T05:20:09.258Z"
      },
      {
        "duration": 786,
        "start_time": "2022-11-09T05:20:12.558Z"
      },
      {
        "duration": 7,
        "start_time": "2022-11-09T05:27:54.583Z"
      },
      {
        "duration": 5,
        "start_time": "2022-11-09T05:56:57.953Z"
      },
      {
        "duration": 19,
        "start_time": "2022-11-09T06:14:16.655Z"
      },
      {
        "duration": 356,
        "start_time": "2022-11-09T06:15:16.601Z"
      },
      {
        "duration": 370,
        "start_time": "2022-11-09T06:15:32.613Z"
      },
      {
        "duration": 338,
        "start_time": "2022-11-09T06:15:47.554Z"
      },
      {
        "duration": 20,
        "start_time": "2022-11-09T07:05:59.423Z"
      },
      {
        "duration": 576,
        "start_time": "2022-11-09T07:21:26.713Z"
      },
      {
        "duration": 24,
        "start_time": "2022-11-09T07:21:27.297Z"
      },
      {
        "duration": 2433,
        "start_time": "2022-11-09T07:21:27.323Z"
      },
      {
        "duration": 9,
        "start_time": "2022-11-09T07:21:29.758Z"
      },
      {
        "duration": 36,
        "start_time": "2022-11-09T07:21:29.780Z"
      },
      {
        "duration": 5,
        "start_time": "2022-11-09T07:21:29.818Z"
      },
      {
        "duration": 52,
        "start_time": "2022-11-09T07:21:29.824Z"
      },
      {
        "duration": 69,
        "start_time": "2022-11-09T07:21:29.878Z"
      },
      {
        "duration": 18,
        "start_time": "2022-11-09T07:21:29.949Z"
      },
      {
        "duration": 438,
        "start_time": "2022-11-09T07:21:29.970Z"
      },
      {
        "duration": 14,
        "start_time": "2022-11-09T07:21:30.409Z"
      },
      {
        "duration": 81,
        "start_time": "2022-11-09T07:21:30.425Z"
      },
      {
        "duration": 55,
        "start_time": "2022-11-09T07:21:30.509Z"
      },
      {
        "duration": 565,
        "start_time": "2022-11-09T07:21:30.566Z"
      },
      {
        "duration": 4,
        "start_time": "2022-11-09T07:21:31.133Z"
      },
      {
        "duration": 33,
        "start_time": "2022-11-09T07:21:31.139Z"
      },
      {
        "duration": 27,
        "start_time": "2022-11-09T07:21:31.174Z"
      },
      {
        "duration": 23,
        "start_time": "2022-11-09T07:21:31.204Z"
      },
      {
        "duration": 131,
        "start_time": "2022-11-09T07:21:31.231Z"
      },
      {
        "duration": 24,
        "start_time": "2022-11-09T07:21:31.364Z"
      },
      {
        "duration": 24,
        "start_time": "2022-11-09T07:21:31.391Z"
      },
      {
        "duration": 21,
        "start_time": "2022-11-09T07:21:31.417Z"
      },
      {
        "duration": 29,
        "start_time": "2022-11-09T07:21:31.440Z"
      },
      {
        "duration": 140,
        "start_time": "2022-11-09T07:21:31.471Z"
      },
      {
        "duration": 8,
        "start_time": "2022-11-09T07:21:31.613Z"
      },
      {
        "duration": 25,
        "start_time": "2022-11-09T07:21:31.622Z"
      },
      {
        "duration": 31,
        "start_time": "2022-11-09T07:21:31.649Z"
      },
      {
        "duration": 27,
        "start_time": "2022-11-09T07:21:31.691Z"
      },
      {
        "duration": 12,
        "start_time": "2022-11-09T07:21:31.719Z"
      },
      {
        "duration": 132,
        "start_time": "2022-11-09T07:21:31.733Z"
      },
      {
        "duration": 8,
        "start_time": "2022-11-09T07:21:31.867Z"
      },
      {
        "duration": 32,
        "start_time": "2022-11-09T07:21:31.880Z"
      },
      {
        "duration": 15,
        "start_time": "2022-11-09T07:21:31.913Z"
      },
      {
        "duration": 47,
        "start_time": "2022-11-09T07:21:31.929Z"
      },
      {
        "duration": 150,
        "start_time": "2022-11-09T07:21:31.978Z"
      },
      {
        "duration": 180,
        "start_time": "2022-11-09T07:21:32.130Z"
      },
      {
        "duration": 149,
        "start_time": "2022-11-09T07:21:32.311Z"
      },
      {
        "duration": 172,
        "start_time": "2022-11-09T07:21:32.462Z"
      },
      {
        "duration": 158,
        "start_time": "2022-11-09T07:21:32.636Z"
      },
      {
        "duration": 11,
        "start_time": "2022-11-09T07:21:32.796Z"
      },
      {
        "duration": 146,
        "start_time": "2022-11-09T07:21:32.811Z"
      },
      {
        "duration": 168,
        "start_time": "2022-11-09T07:21:32.958Z"
      },
      {
        "duration": 171,
        "start_time": "2022-11-09T07:21:33.128Z"
      },
      {
        "duration": 148,
        "start_time": "2022-11-09T07:21:33.301Z"
      },
      {
        "duration": 280,
        "start_time": "2022-11-09T07:21:33.450Z"
      },
      {
        "duration": 160,
        "start_time": "2022-11-09T07:21:33.731Z"
      },
      {
        "duration": 157,
        "start_time": "2022-11-09T07:21:33.893Z"
      },
      {
        "duration": 165,
        "start_time": "2022-11-09T07:21:34.052Z"
      },
      {
        "duration": 161,
        "start_time": "2022-11-09T07:21:34.219Z"
      },
      {
        "duration": 164,
        "start_time": "2022-11-09T07:21:34.382Z"
      },
      {
        "duration": 169,
        "start_time": "2022-11-09T07:21:34.547Z"
      },
      {
        "duration": 170,
        "start_time": "2022-11-09T07:21:34.717Z"
      },
      {
        "duration": 18,
        "start_time": "2022-11-09T07:21:34.893Z"
      },
      {
        "duration": 134,
        "start_time": "2022-11-09T07:21:34.913Z"
      },
      {
        "duration": 201,
        "start_time": "2022-11-09T07:21:35.048Z"
      },
      {
        "duration": 223,
        "start_time": "2022-11-09T07:21:35.251Z"
      },
      {
        "duration": 188,
        "start_time": "2022-11-09T07:21:35.476Z"
      },
      {
        "duration": 2509,
        "start_time": "2022-11-09T07:21:35.665Z"
      },
      {
        "duration": 14,
        "start_time": "2022-11-09T07:21:38.179Z"
      },
      {
        "duration": 806,
        "start_time": "2022-11-09T07:21:38.194Z"
      },
      {
        "duration": 31,
        "start_time": "2022-11-09T07:21:39.002Z"
      },
      {
        "duration": 24,
        "start_time": "2022-11-09T07:21:39.035Z"
      },
      {
        "duration": 347,
        "start_time": "2022-11-09T07:21:39.095Z"
      },
      {
        "duration": 558,
        "start_time": "2022-11-09T08:06:28.995Z"
      },
      {
        "duration": 14,
        "start_time": "2022-11-09T08:06:29.555Z"
      },
      {
        "duration": 2671,
        "start_time": "2022-11-09T08:06:29.580Z"
      },
      {
        "duration": 9,
        "start_time": "2022-11-09T08:06:32.253Z"
      },
      {
        "duration": 50,
        "start_time": "2022-11-09T08:06:32.279Z"
      },
      {
        "duration": 9,
        "start_time": "2022-11-09T08:06:32.330Z"
      },
      {
        "duration": 88,
        "start_time": "2022-11-09T08:06:32.341Z"
      },
      {
        "duration": 101,
        "start_time": "2022-11-09T08:06:32.431Z"
      },
      {
        "duration": 93,
        "start_time": "2022-11-09T08:06:32.534Z"
      },
      {
        "duration": 605,
        "start_time": "2022-11-09T08:06:32.634Z"
      },
      {
        "duration": 15,
        "start_time": "2022-11-09T08:06:33.241Z"
      },
      {
        "duration": 72,
        "start_time": "2022-11-09T08:06:33.258Z"
      },
      {
        "duration": 45,
        "start_time": "2022-11-09T08:06:33.332Z"
      },
      {
        "duration": 577,
        "start_time": "2022-11-09T08:06:33.386Z"
      },
      {
        "duration": 4,
        "start_time": "2022-11-09T08:06:33.965Z"
      },
      {
        "duration": 62,
        "start_time": "2022-11-09T08:06:33.971Z"
      },
      {
        "duration": 62,
        "start_time": "2022-11-09T08:06:34.035Z"
      },
      {
        "duration": 46,
        "start_time": "2022-11-09T08:06:34.101Z"
      },
      {
        "duration": 147,
        "start_time": "2022-11-09T08:06:34.149Z"
      },
      {
        "duration": 17,
        "start_time": "2022-11-09T08:06:34.298Z"
      },
      {
        "duration": 32,
        "start_time": "2022-11-09T08:06:34.317Z"
      },
      {
        "duration": 34,
        "start_time": "2022-11-09T08:06:34.350Z"
      },
      {
        "duration": 48,
        "start_time": "2022-11-09T08:06:34.385Z"
      },
      {
        "duration": 121,
        "start_time": "2022-11-09T08:06:34.434Z"
      },
      {
        "duration": 10,
        "start_time": "2022-11-09T08:06:34.556Z"
      },
      {
        "duration": 31,
        "start_time": "2022-11-09T08:06:34.567Z"
      },
      {
        "duration": 67,
        "start_time": "2022-11-09T08:06:34.600Z"
      },
      {
        "duration": 42,
        "start_time": "2022-11-09T08:06:34.669Z"
      },
      {
        "duration": 35,
        "start_time": "2022-11-09T08:06:34.713Z"
      },
      {
        "duration": 126,
        "start_time": "2022-11-09T08:06:34.749Z"
      },
      {
        "duration": 20,
        "start_time": "2022-11-09T08:06:34.877Z"
      },
      {
        "duration": 44,
        "start_time": "2022-11-09T08:06:34.899Z"
      },
      {
        "duration": 29,
        "start_time": "2022-11-09T08:06:34.945Z"
      },
      {
        "duration": 77,
        "start_time": "2022-11-09T08:06:34.977Z"
      },
      {
        "duration": 153,
        "start_time": "2022-11-09T08:06:35.056Z"
      },
      {
        "duration": 163,
        "start_time": "2022-11-09T08:06:35.211Z"
      },
      {
        "duration": 168,
        "start_time": "2022-11-09T08:06:35.377Z"
      },
      {
        "duration": 174,
        "start_time": "2022-11-09T08:06:35.547Z"
      },
      {
        "duration": 119,
        "start_time": "2022-11-09T08:06:35.723Z"
      },
      {
        "duration": 5,
        "start_time": "2022-11-09T08:06:35.844Z"
      },
      {
        "duration": 166,
        "start_time": "2022-11-09T08:06:35.853Z"
      },
      {
        "duration": 175,
        "start_time": "2022-11-09T08:06:36.020Z"
      },
      {
        "duration": 179,
        "start_time": "2022-11-09T08:06:36.198Z"
      },
      {
        "duration": 167,
        "start_time": "2022-11-09T08:06:36.379Z"
      },
      {
        "duration": 282,
        "start_time": "2022-11-09T08:06:36.548Z"
      },
      {
        "duration": 184,
        "start_time": "2022-11-09T08:06:36.831Z"
      },
      {
        "duration": 171,
        "start_time": "2022-11-09T08:06:37.017Z"
      },
      {
        "duration": 156,
        "start_time": "2022-11-09T08:06:37.190Z"
      },
      {
        "duration": 177,
        "start_time": "2022-11-09T08:06:37.348Z"
      },
      {
        "duration": 168,
        "start_time": "2022-11-09T08:06:37.526Z"
      },
      {
        "duration": 156,
        "start_time": "2022-11-09T08:06:37.696Z"
      },
      {
        "duration": 179,
        "start_time": "2022-11-09T08:06:37.854Z"
      },
      {
        "duration": 9,
        "start_time": "2022-11-09T08:06:38.035Z"
      },
      {
        "duration": 165,
        "start_time": "2022-11-09T08:06:38.045Z"
      },
      {
        "duration": 203,
        "start_time": "2022-11-09T08:06:38.214Z"
      },
      {
        "duration": 200,
        "start_time": "2022-11-09T08:06:38.419Z"
      },
      {
        "duration": 206,
        "start_time": "2022-11-09T08:06:38.621Z"
      },
      {
        "duration": 2569,
        "start_time": "2022-11-09T08:06:38.829Z"
      },
      {
        "duration": 10,
        "start_time": "2022-11-09T08:06:41.403Z"
      },
      {
        "duration": 778,
        "start_time": "2022-11-09T08:06:41.415Z"
      },
      {
        "duration": 34,
        "start_time": "2022-11-09T08:06:42.194Z"
      },
      {
        "duration": 21,
        "start_time": "2022-11-09T08:06:42.229Z"
      },
      {
        "duration": 395,
        "start_time": "2022-11-09T08:06:42.252Z"
      },
      {
        "duration": 24,
        "start_time": "2022-11-09T08:08:08.494Z"
      },
      {
        "duration": 93,
        "start_time": "2022-11-09T08:08:58.218Z"
      },
      {
        "duration": 7,
        "start_time": "2022-11-09T08:09:16.870Z"
      },
      {
        "duration": 7,
        "start_time": "2022-11-09T08:09:27.911Z"
      },
      {
        "duration": 50,
        "start_time": "2022-11-09T09:19:40.555Z"
      },
      {
        "duration": 756,
        "start_time": "2022-11-09T09:26:36.918Z"
      },
      {
        "duration": 18,
        "start_time": "2022-11-09T09:26:37.676Z"
      },
      {
        "duration": 2120,
        "start_time": "2022-11-09T09:26:37.695Z"
      },
      {
        "duration": 12,
        "start_time": "2022-11-09T09:26:39.818Z"
      },
      {
        "duration": 18,
        "start_time": "2022-11-09T09:26:39.832Z"
      },
      {
        "duration": 4,
        "start_time": "2022-11-09T09:26:39.852Z"
      },
      {
        "duration": 39,
        "start_time": "2022-11-09T09:26:44.780Z"
      },
      {
        "duration": 109,
        "start_time": "2022-11-09T09:27:09.643Z"
      },
      {
        "duration": 9,
        "start_time": "2022-11-09T09:28:10.127Z"
      },
      {
        "duration": 24,
        "start_time": "2022-11-09T09:28:17.465Z"
      },
      {
        "duration": 16,
        "start_time": "2022-11-09T09:28:18.962Z"
      },
      {
        "duration": 8,
        "start_time": "2022-11-09T09:28:23.031Z"
      },
      {
        "duration": 13,
        "start_time": "2022-11-09T09:29:11.559Z"
      },
      {
        "duration": 112,
        "start_time": "2022-11-09T09:29:33.488Z"
      },
      {
        "duration": 28,
        "start_time": "2022-11-09T09:29:33.602Z"
      },
      {
        "duration": 1982,
        "start_time": "2022-11-09T09:29:33.632Z"
      },
      {
        "duration": 18,
        "start_time": "2022-11-09T09:29:35.616Z"
      },
      {
        "duration": 18,
        "start_time": "2022-11-09T09:29:35.635Z"
      },
      {
        "duration": 6,
        "start_time": "2022-11-09T09:29:35.654Z"
      },
      {
        "duration": 36,
        "start_time": "2022-11-09T09:29:35.661Z"
      },
      {
        "duration": 40,
        "start_time": "2022-11-09T09:29:35.699Z"
      },
      {
        "duration": 19,
        "start_time": "2022-11-09T09:29:35.740Z"
      },
      {
        "duration": 378,
        "start_time": "2022-11-09T09:29:35.762Z"
      },
      {
        "duration": 8,
        "start_time": "2022-11-09T09:29:36.142Z"
      },
      {
        "duration": 12,
        "start_time": "2022-11-09T09:29:36.152Z"
      },
      {
        "duration": 104,
        "start_time": "2022-11-09T09:29:36.165Z"
      },
      {
        "duration": 0,
        "start_time": "2022-11-09T09:29:36.270Z"
      },
      {
        "duration": 0,
        "start_time": "2022-11-09T09:29:36.272Z"
      },
      {
        "duration": 0,
        "start_time": "2022-11-09T09:29:36.273Z"
      },
      {
        "duration": 0,
        "start_time": "2022-11-09T09:29:36.274Z"
      },
      {
        "duration": 0,
        "start_time": "2022-11-09T09:29:36.275Z"
      },
      {
        "duration": 0,
        "start_time": "2022-11-09T09:29:36.276Z"
      },
      {
        "duration": 0,
        "start_time": "2022-11-09T09:29:36.278Z"
      },
      {
        "duration": 0,
        "start_time": "2022-11-09T09:29:36.278Z"
      },
      {
        "duration": 0,
        "start_time": "2022-11-09T09:29:36.280Z"
      },
      {
        "duration": 0,
        "start_time": "2022-11-09T09:29:36.281Z"
      },
      {
        "duration": 0,
        "start_time": "2022-11-09T09:29:36.282Z"
      },
      {
        "duration": 1,
        "start_time": "2022-11-09T09:29:36.282Z"
      },
      {
        "duration": 0,
        "start_time": "2022-11-09T09:29:36.283Z"
      },
      {
        "duration": 0,
        "start_time": "2022-11-09T09:29:36.284Z"
      },
      {
        "duration": 0,
        "start_time": "2022-11-09T09:29:36.285Z"
      },
      {
        "duration": 0,
        "start_time": "2022-11-09T09:29:36.286Z"
      },
      {
        "duration": 0,
        "start_time": "2022-11-09T09:29:36.287Z"
      },
      {
        "duration": 0,
        "start_time": "2022-11-09T09:29:36.288Z"
      },
      {
        "duration": 0,
        "start_time": "2022-11-09T09:29:36.288Z"
      },
      {
        "duration": 0,
        "start_time": "2022-11-09T09:29:36.289Z"
      },
      {
        "duration": 0,
        "start_time": "2022-11-09T09:29:36.290Z"
      },
      {
        "duration": 0,
        "start_time": "2022-11-09T09:29:36.330Z"
      },
      {
        "duration": 0,
        "start_time": "2022-11-09T09:29:36.331Z"
      },
      {
        "duration": 0,
        "start_time": "2022-11-09T09:29:36.332Z"
      },
      {
        "duration": 25,
        "start_time": "2022-11-09T09:30:05.025Z"
      },
      {
        "duration": 107,
        "start_time": "2022-11-09T09:30:19.494Z"
      },
      {
        "duration": 12,
        "start_time": "2022-11-09T09:30:19.603Z"
      },
      {
        "duration": 1813,
        "start_time": "2022-11-09T09:30:19.616Z"
      },
      {
        "duration": 9,
        "start_time": "2022-11-09T09:30:21.431Z"
      },
      {
        "duration": 30,
        "start_time": "2022-11-09T09:30:21.441Z"
      },
      {
        "duration": 4,
        "start_time": "2022-11-09T09:30:21.472Z"
      },
      {
        "duration": 29,
        "start_time": "2022-11-09T09:30:21.478Z"
      },
      {
        "duration": 35,
        "start_time": "2022-11-09T09:30:21.509Z"
      },
      {
        "duration": 16,
        "start_time": "2022-11-09T09:30:21.545Z"
      },
      {
        "duration": 342,
        "start_time": "2022-11-09T09:30:21.564Z"
      },
      {
        "duration": 9,
        "start_time": "2022-11-09T09:30:21.907Z"
      },
      {
        "duration": 17,
        "start_time": "2022-11-09T09:30:21.929Z"
      },
      {
        "duration": 23,
        "start_time": "2022-11-09T09:30:21.948Z"
      },
      {
        "duration": 474,
        "start_time": "2022-11-09T09:30:21.973Z"
      },
      {
        "duration": 3,
        "start_time": "2022-11-09T09:30:22.449Z"
      },
      {
        "duration": 16,
        "start_time": "2022-11-09T09:30:22.454Z"
      },
      {
        "duration": 11,
        "start_time": "2022-11-09T09:30:22.471Z"
      },
      {
        "duration": 8,
        "start_time": "2022-11-09T09:30:22.483Z"
      },
      {
        "duration": 102,
        "start_time": "2022-11-09T09:30:22.492Z"
      },
      {
        "duration": 7,
        "start_time": "2022-11-09T09:30:22.595Z"
      },
      {
        "duration": 26,
        "start_time": "2022-11-09T09:30:22.604Z"
      },
      {
        "duration": 5,
        "start_time": "2022-11-09T09:30:22.632Z"
      },
      {
        "duration": 8,
        "start_time": "2022-11-09T09:30:22.638Z"
      },
      {
        "duration": 106,
        "start_time": "2022-11-09T09:30:22.648Z"
      },
      {
        "duration": 8,
        "start_time": "2022-11-09T09:30:22.756Z"
      },
      {
        "duration": 17,
        "start_time": "2022-11-09T09:30:22.766Z"
      },
      {
        "duration": 19,
        "start_time": "2022-11-09T09:30:22.785Z"
      },
      {
        "duration": 7,
        "start_time": "2022-11-09T09:30:22.807Z"
      },
      {
        "duration": 22,
        "start_time": "2022-11-09T09:30:22.816Z"
      },
      {
        "duration": 121,
        "start_time": "2022-11-09T09:30:22.840Z"
      },
      {
        "duration": 8,
        "start_time": "2022-11-09T09:30:22.962Z"
      },
      {
        "duration": 7,
        "start_time": "2022-11-09T09:30:22.971Z"
      },
      {
        "duration": 13,
        "start_time": "2022-11-09T09:30:22.979Z"
      },
      {
        "duration": 174,
        "start_time": "2022-11-09T09:30:22.993Z"
      },
      {
        "duration": 122,
        "start_time": "2022-11-09T09:30:23.169Z"
      },
      {
        "duration": 146,
        "start_time": "2022-11-09T09:30:23.293Z"
      },
      {
        "duration": 118,
        "start_time": "2022-11-09T09:30:23.441Z"
      },
      {
        "duration": 139,
        "start_time": "2022-11-09T09:31:57.915Z"
      },
      {
        "duration": 126,
        "start_time": "2022-11-09T09:32:20.496Z"
      },
      {
        "duration": 127,
        "start_time": "2022-11-09T09:32:49.340Z"
      },
      {
        "duration": 133,
        "start_time": "2022-11-09T09:33:39.421Z"
      },
      {
        "duration": 173,
        "start_time": "2022-11-09T09:53:58.280Z"
      },
      {
        "duration": 473,
        "start_time": "2022-11-09T10:00:24.513Z"
      },
      {
        "duration": 67,
        "start_time": "2022-11-09T10:17:38.279Z"
      },
      {
        "duration": 38,
        "start_time": "2022-11-09T10:19:15.967Z"
      },
      {
        "duration": 14,
        "start_time": "2022-11-09T10:19:35.961Z"
      },
      {
        "duration": 63,
        "start_time": "2022-11-09T10:31:15.863Z"
      },
      {
        "duration": 1156,
        "start_time": "2022-11-09T10:31:20.188Z"
      },
      {
        "duration": 132,
        "start_time": "2022-11-09T10:31:38.176Z"
      },
      {
        "duration": 128,
        "start_time": "2022-11-09T10:33:22.577Z"
      },
      {
        "duration": 119,
        "start_time": "2022-11-09T10:33:59.733Z"
      },
      {
        "duration": 177,
        "start_time": "2022-11-09T10:34:17.873Z"
      },
      {
        "duration": 146,
        "start_time": "2022-11-09T10:34:32.516Z"
      },
      {
        "duration": 125,
        "start_time": "2022-11-09T10:58:02.267Z"
      },
      {
        "duration": 128,
        "start_time": "2022-11-09T10:58:25.404Z"
      },
      {
        "duration": 145,
        "start_time": "2022-11-09T10:58:48.146Z"
      },
      {
        "duration": 145,
        "start_time": "2022-11-09T10:59:01.696Z"
      },
      {
        "duration": 122,
        "start_time": "2022-11-09T11:03:31.862Z"
      },
      {
        "duration": 16,
        "start_time": "2022-11-09T11:03:31.986Z"
      },
      {
        "duration": 2167,
        "start_time": "2022-11-09T11:03:32.004Z"
      },
      {
        "duration": 9,
        "start_time": "2022-11-09T11:03:34.173Z"
      },
      {
        "duration": 18,
        "start_time": "2022-11-09T11:03:34.183Z"
      },
      {
        "duration": 4,
        "start_time": "2022-11-09T11:03:34.203Z"
      },
      {
        "duration": 26,
        "start_time": "2022-11-09T11:03:34.231Z"
      },
      {
        "duration": 20,
        "start_time": "2022-11-09T11:03:34.258Z"
      },
      {
        "duration": 17,
        "start_time": "2022-11-09T11:03:34.280Z"
      },
      {
        "duration": 349,
        "start_time": "2022-11-09T11:03:34.300Z"
      },
      {
        "duration": 8,
        "start_time": "2022-11-09T11:03:34.650Z"
      },
      {
        "duration": 20,
        "start_time": "2022-11-09T11:03:34.659Z"
      },
      {
        "duration": 20,
        "start_time": "2022-11-09T11:03:34.681Z"
      },
      {
        "duration": 2,
        "start_time": "2022-11-09T11:03:34.703Z"
      },
      {
        "duration": 24,
        "start_time": "2022-11-09T11:03:34.706Z"
      },
      {
        "duration": 8,
        "start_time": "2022-11-09T11:03:34.732Z"
      },
      {
        "duration": 10,
        "start_time": "2022-11-09T11:03:34.741Z"
      },
      {
        "duration": 20,
        "start_time": "2022-11-09T11:03:34.752Z"
      },
      {
        "duration": 151,
        "start_time": "2022-11-09T11:03:34.774Z"
      },
      {
        "duration": 10,
        "start_time": "2022-11-09T11:03:34.930Z"
      },
      {
        "duration": 22,
        "start_time": "2022-11-09T11:03:34.943Z"
      },
      {
        "duration": 7,
        "start_time": "2022-11-09T11:03:34.967Z"
      },
      {
        "duration": 18,
        "start_time": "2022-11-09T11:03:34.976Z"
      },
      {
        "duration": 116,
        "start_time": "2022-11-09T11:03:34.996Z"
      },
      {
        "duration": 19,
        "start_time": "2022-11-09T11:03:35.113Z"
      },
      {
        "duration": 6,
        "start_time": "2022-11-09T11:03:35.134Z"
      },
      {
        "duration": 20,
        "start_time": "2022-11-09T11:03:35.142Z"
      },
      {
        "duration": 10,
        "start_time": "2022-11-09T11:03:35.166Z"
      },
      {
        "duration": 11,
        "start_time": "2022-11-09T11:03:35.177Z"
      },
      {
        "duration": 103,
        "start_time": "2022-11-09T11:03:35.190Z"
      },
      {
        "duration": 7,
        "start_time": "2022-11-09T11:03:35.295Z"
      },
      {
        "duration": 8,
        "start_time": "2022-11-09T11:03:35.304Z"
      },
      {
        "duration": 21,
        "start_time": "2022-11-09T11:03:35.314Z"
      },
      {
        "duration": 41,
        "start_time": "2022-11-09T11:03:35.336Z"
      },
      {
        "duration": 135,
        "start_time": "2022-11-09T11:03:35.379Z"
      },
      {
        "duration": 151,
        "start_time": "2022-11-09T11:03:35.516Z"
      },
      {
        "duration": 122,
        "start_time": "2022-11-09T11:03:35.669Z"
      },
      {
        "duration": 133,
        "start_time": "2022-11-09T11:03:35.792Z"
      },
      {
        "duration": 136,
        "start_time": "2022-11-09T11:03:35.930Z"
      },
      {
        "duration": 101,
        "start_time": "2022-11-09T11:03:36.068Z"
      },
      {
        "duration": 4,
        "start_time": "2022-11-09T11:03:36.170Z"
      },
      {
        "duration": 111,
        "start_time": "2022-11-09T11:03:36.175Z"
      },
      {
        "duration": 145,
        "start_time": "2022-11-09T11:03:36.288Z"
      },
      {
        "duration": 141,
        "start_time": "2022-11-09T11:03:36.435Z"
      },
      {
        "duration": 125,
        "start_time": "2022-11-09T11:03:36.577Z"
      },
      {
        "duration": 305,
        "start_time": "2022-11-09T11:03:36.704Z"
      },
      {
        "duration": 142,
        "start_time": "2022-11-09T11:03:37.010Z"
      },
      {
        "duration": 133,
        "start_time": "2022-11-09T11:03:37.154Z"
      },
      {
        "duration": 124,
        "start_time": "2022-11-09T11:03:37.288Z"
      },
      {
        "duration": 131,
        "start_time": "2022-11-09T11:03:37.413Z"
      },
      {
        "duration": 132,
        "start_time": "2022-11-09T11:03:37.545Z"
      },
      {
        "duration": 137,
        "start_time": "2022-11-09T11:03:37.679Z"
      },
      {
        "duration": 150,
        "start_time": "2022-11-09T11:03:37.818Z"
      },
      {
        "duration": 9,
        "start_time": "2022-11-09T11:03:37.970Z"
      },
      {
        "duration": 121,
        "start_time": "2022-11-09T11:03:37.980Z"
      },
      {
        "duration": 165,
        "start_time": "2022-11-09T11:03:38.102Z"
      },
      {
        "duration": 162,
        "start_time": "2022-11-09T11:03:38.269Z"
      },
      {
        "duration": 161,
        "start_time": "2022-11-09T11:03:38.433Z"
      },
      {
        "duration": 2273,
        "start_time": "2022-11-09T11:03:38.596Z"
      },
      {
        "duration": 152,
        "start_time": "2022-11-09T11:03:40.871Z"
      },
      {
        "duration": 132,
        "start_time": "2022-11-09T11:03:41.029Z"
      },
      {
        "duration": 139,
        "start_time": "2022-11-09T11:03:41.163Z"
      },
      {
        "duration": 155,
        "start_time": "2022-11-09T11:03:41.303Z"
      },
      {
        "duration": 144,
        "start_time": "2022-11-09T11:03:41.460Z"
      },
      {
        "duration": 5,
        "start_time": "2022-11-09T11:03:41.606Z"
      },
      {
        "duration": 752,
        "start_time": "2022-11-09T11:03:41.612Z"
      },
      {
        "duration": 381,
        "start_time": "2022-11-09T11:06:06.786Z"
      },
      {
        "duration": 90,
        "start_time": "2022-11-09T11:06:46.640Z"
      },
      {
        "duration": 513,
        "start_time": "2022-11-10T06:52:33.393Z"
      },
      {
        "duration": 14,
        "start_time": "2022-11-10T06:52:33.908Z"
      },
      {
        "duration": 2289,
        "start_time": "2022-11-10T06:52:33.923Z"
      },
      {
        "duration": 10,
        "start_time": "2022-11-10T06:52:36.214Z"
      },
      {
        "duration": 34,
        "start_time": "2022-11-10T06:52:36.225Z"
      },
      {
        "duration": 5,
        "start_time": "2022-11-10T06:52:36.262Z"
      },
      {
        "duration": 29,
        "start_time": "2022-11-10T06:52:36.269Z"
      },
      {
        "duration": 51,
        "start_time": "2022-11-10T06:52:36.300Z"
      },
      {
        "duration": 19,
        "start_time": "2022-11-10T06:52:36.353Z"
      },
      {
        "duration": 335,
        "start_time": "2022-11-10T06:52:36.375Z"
      },
      {
        "duration": 8,
        "start_time": "2022-11-10T06:52:36.711Z"
      },
      {
        "duration": 27,
        "start_time": "2022-11-10T06:52:36.721Z"
      },
      {
        "duration": 19,
        "start_time": "2022-11-10T06:52:36.749Z"
      },
      {
        "duration": 509,
        "start_time": "2022-11-10T06:52:36.770Z"
      },
      {
        "duration": 3,
        "start_time": "2022-11-10T06:52:37.281Z"
      },
      {
        "duration": 21,
        "start_time": "2022-11-10T06:52:37.286Z"
      },
      {
        "duration": 9,
        "start_time": "2022-11-10T06:52:37.308Z"
      },
      {
        "duration": 7,
        "start_time": "2022-11-10T06:52:37.318Z"
      },
      {
        "duration": 95,
        "start_time": "2022-11-10T06:52:37.327Z"
      },
      {
        "duration": 6,
        "start_time": "2022-11-10T06:52:37.424Z"
      },
      {
        "duration": 22,
        "start_time": "2022-11-10T06:52:37.432Z"
      },
      {
        "duration": 5,
        "start_time": "2022-11-10T06:52:37.456Z"
      },
      {
        "duration": 7,
        "start_time": "2022-11-10T06:52:37.462Z"
      },
      {
        "duration": 96,
        "start_time": "2022-11-10T06:52:37.470Z"
      },
      {
        "duration": 6,
        "start_time": "2022-11-10T06:52:37.568Z"
      },
      {
        "duration": 7,
        "start_time": "2022-11-10T06:52:37.575Z"
      },
      {
        "duration": 9,
        "start_time": "2022-11-10T06:52:37.584Z"
      },
      {
        "duration": 5,
        "start_time": "2022-11-10T06:52:37.596Z"
      },
      {
        "duration": 12,
        "start_time": "2022-11-10T06:52:37.602Z"
      },
      {
        "duration": 114,
        "start_time": "2022-11-10T06:52:37.617Z"
      },
      {
        "duration": 16,
        "start_time": "2022-11-10T06:52:37.733Z"
      },
      {
        "duration": 8,
        "start_time": "2022-11-10T06:52:37.751Z"
      },
      {
        "duration": 12,
        "start_time": "2022-11-10T06:52:37.760Z"
      },
      {
        "duration": 37,
        "start_time": "2022-11-10T06:52:37.773Z"
      },
      {
        "duration": 129,
        "start_time": "2022-11-10T06:52:37.812Z"
      },
      {
        "duration": 141,
        "start_time": "2022-11-10T06:52:37.947Z"
      },
      {
        "duration": 123,
        "start_time": "2022-11-10T06:52:38.089Z"
      },
      {
        "duration": 117,
        "start_time": "2022-11-10T06:52:38.213Z"
      },
      {
        "duration": 128,
        "start_time": "2022-11-10T06:52:38.332Z"
      },
      {
        "duration": 95,
        "start_time": "2022-11-10T06:52:38.462Z"
      },
      {
        "duration": 4,
        "start_time": "2022-11-10T06:52:38.559Z"
      },
      {
        "duration": 96,
        "start_time": "2022-11-10T06:52:38.564Z"
      },
      {
        "duration": 135,
        "start_time": "2022-11-10T06:52:38.661Z"
      },
      {
        "duration": 146,
        "start_time": "2022-11-10T06:52:38.798Z"
      },
      {
        "duration": 215,
        "start_time": "2022-11-10T06:52:38.947Z"
      },
      {
        "duration": 120,
        "start_time": "2022-11-10T06:52:39.163Z"
      },
      {
        "duration": 133,
        "start_time": "2022-11-10T06:52:39.284Z"
      },
      {
        "duration": 130,
        "start_time": "2022-11-10T06:52:39.419Z"
      },
      {
        "duration": 122,
        "start_time": "2022-11-10T06:52:39.551Z"
      },
      {
        "duration": 134,
        "start_time": "2022-11-10T06:52:39.674Z"
      },
      {
        "duration": 140,
        "start_time": "2022-11-10T06:52:39.810Z"
      },
      {
        "duration": 130,
        "start_time": "2022-11-10T06:52:39.951Z"
      },
      {
        "duration": 142,
        "start_time": "2022-11-10T06:52:40.083Z"
      },
      {
        "duration": 9,
        "start_time": "2022-11-10T06:52:40.227Z"
      },
      {
        "duration": 111,
        "start_time": "2022-11-10T06:52:40.248Z"
      },
      {
        "duration": 158,
        "start_time": "2022-11-10T06:52:40.361Z"
      },
      {
        "duration": 160,
        "start_time": "2022-11-10T06:52:40.520Z"
      },
      {
        "duration": 155,
        "start_time": "2022-11-10T06:52:40.682Z"
      },
      {
        "duration": 2168,
        "start_time": "2022-11-10T06:52:40.838Z"
      },
      {
        "duration": 140,
        "start_time": "2022-11-10T06:52:43.008Z"
      },
      {
        "duration": 124,
        "start_time": "2022-11-10T06:52:43.149Z"
      },
      {
        "duration": 123,
        "start_time": "2022-11-10T06:52:43.274Z"
      },
      {
        "duration": 139,
        "start_time": "2022-11-10T06:52:43.398Z"
      },
      {
        "duration": 133,
        "start_time": "2022-11-10T06:52:43.539Z"
      },
      {
        "duration": 4,
        "start_time": "2022-11-10T06:52:43.675Z"
      },
      {
        "duration": 659,
        "start_time": "2022-11-10T06:52:43.681Z"
      },
      {
        "duration": 358,
        "start_time": "2022-11-10T06:52:44.342Z"
      },
      {
        "duration": 22,
        "start_time": "2022-11-10T06:52:44.702Z"
      },
      {
        "duration": 39,
        "start_time": "2022-11-10T06:52:44.726Z"
      },
      {
        "duration": 289,
        "start_time": "2022-11-10T06:52:44.766Z"
      }
    ],
    "kernelspec": {
      "display_name": "Python 3 (ipykernel)",
      "language": "python",
      "name": "python3"
    },
    "language_info": {
      "codemirror_mode": {
        "name": "ipython",
        "version": 3
      },
      "file_extension": ".py",
      "mimetype": "text/x-python",
      "name": "python",
      "nbconvert_exporter": "python",
      "pygments_lexer": "ipython3",
      "version": "3.9.5"
    },
    "toc": {
      "base_numbering": 1,
      "nav_menu": {},
      "number_sections": true,
      "sideBar": true,
      "skip_h1_title": true,
      "title_cell": "Table of Contents",
      "title_sidebar": "Contents",
      "toc_cell": false,
      "toc_position": {},
      "toc_section_display": true,
      "toc_window_display": false
    },
    "colab": {
      "provenance": []
    }
  },
  "nbformat": 4,
  "nbformat_minor": 0
}