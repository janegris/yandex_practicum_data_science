{
  "cells": [
    {
      "cell_type": "markdown",
      "id": "8a86ebb5",
      "metadata": {
        "deletable": false,
        "editable": false,
        "id": "8a86ebb5"
      },
      "source": [
        "# Исследование надежности заемщиков\n"
      ]
    },
    {
      "cell_type": "code",
      "execution_count": null,
      "id": "3c0b3680",
      "metadata": {
        "deletable": false,
        "id": "3c0b3680"
      },
      "outputs": [],
      "source": [
        "import pandas as pd\n",
        "\n",
        "try:\n",
        "    data = pd.read_csv('/datasets/data.csv')"
      ]
    },
    {
      "cell_type": "code",
      "execution_count": null,
      "id": "cb28a8b0",
      "metadata": {
        "deletable": false,
        "id": "cb28a8b0",
        "outputId": "1a8f3ef2-d323-4ec2-ddf7-89670b5944c4"
      },
      "outputs": [
        {
          "data": {
            "text/html": [
              "<div>\n",
              "<style scoped>\n",
              "    .dataframe tbody tr th:only-of-type {\n",
              "        vertical-align: middle;\n",
              "    }\n",
              "\n",
              "    .dataframe tbody tr th {\n",
              "        vertical-align: top;\n",
              "    }\n",
              "\n",
              "    .dataframe thead th {\n",
              "        text-align: right;\n",
              "    }\n",
              "</style>\n",
              "<table border=\"1\" class=\"dataframe\">\n",
              "  <thead>\n",
              "    <tr style=\"text-align: right;\">\n",
              "      <th></th>\n",
              "      <th>children</th>\n",
              "      <th>days_employed</th>\n",
              "      <th>dob_years</th>\n",
              "      <th>education</th>\n",
              "      <th>education_id</th>\n",
              "      <th>family_status</th>\n",
              "      <th>family_status_id</th>\n",
              "      <th>gender</th>\n",
              "      <th>income_type</th>\n",
              "      <th>debt</th>\n",
              "      <th>total_income</th>\n",
              "      <th>purpose</th>\n",
              "    </tr>\n",
              "  </thead>\n",
              "  <tbody>\n",
              "    <tr>\n",
              "      <th>0</th>\n",
              "      <td>1</td>\n",
              "      <td>-8437.673028</td>\n",
              "      <td>42</td>\n",
              "      <td>высшее</td>\n",
              "      <td>0</td>\n",
              "      <td>женат / замужем</td>\n",
              "      <td>0</td>\n",
              "      <td>F</td>\n",
              "      <td>сотрудник</td>\n",
              "      <td>0</td>\n",
              "      <td>253875.639453</td>\n",
              "      <td>покупка жилья</td>\n",
              "    </tr>\n",
              "    <tr>\n",
              "      <th>1</th>\n",
              "      <td>1</td>\n",
              "      <td>-4024.803754</td>\n",
              "      <td>36</td>\n",
              "      <td>среднее</td>\n",
              "      <td>1</td>\n",
              "      <td>женат / замужем</td>\n",
              "      <td>0</td>\n",
              "      <td>F</td>\n",
              "      <td>сотрудник</td>\n",
              "      <td>0</td>\n",
              "      <td>112080.014102</td>\n",
              "      <td>приобретение автомобиля</td>\n",
              "    </tr>\n",
              "    <tr>\n",
              "      <th>2</th>\n",
              "      <td>0</td>\n",
              "      <td>-5623.422610</td>\n",
              "      <td>33</td>\n",
              "      <td>Среднее</td>\n",
              "      <td>1</td>\n",
              "      <td>женат / замужем</td>\n",
              "      <td>0</td>\n",
              "      <td>M</td>\n",
              "      <td>сотрудник</td>\n",
              "      <td>0</td>\n",
              "      <td>145885.952297</td>\n",
              "      <td>покупка жилья</td>\n",
              "    </tr>\n",
              "    <tr>\n",
              "      <th>3</th>\n",
              "      <td>3</td>\n",
              "      <td>-4124.747207</td>\n",
              "      <td>32</td>\n",
              "      <td>среднее</td>\n",
              "      <td>1</td>\n",
              "      <td>женат / замужем</td>\n",
              "      <td>0</td>\n",
              "      <td>M</td>\n",
              "      <td>сотрудник</td>\n",
              "      <td>0</td>\n",
              "      <td>267628.550329</td>\n",
              "      <td>дополнительное образование</td>\n",
              "    </tr>\n",
              "    <tr>\n",
              "      <th>4</th>\n",
              "      <td>0</td>\n",
              "      <td>340266.072047</td>\n",
              "      <td>53</td>\n",
              "      <td>среднее</td>\n",
              "      <td>1</td>\n",
              "      <td>гражданский брак</td>\n",
              "      <td>1</td>\n",
              "      <td>F</td>\n",
              "      <td>пенсионер</td>\n",
              "      <td>0</td>\n",
              "      <td>158616.077870</td>\n",
              "      <td>сыграть свадьбу</td>\n",
              "    </tr>\n",
              "    <tr>\n",
              "      <th>5</th>\n",
              "      <td>0</td>\n",
              "      <td>-926.185831</td>\n",
              "      <td>27</td>\n",
              "      <td>высшее</td>\n",
              "      <td>0</td>\n",
              "      <td>гражданский брак</td>\n",
              "      <td>1</td>\n",
              "      <td>M</td>\n",
              "      <td>компаньон</td>\n",
              "      <td>0</td>\n",
              "      <td>255763.565419</td>\n",
              "      <td>покупка жилья</td>\n",
              "    </tr>\n",
              "    <tr>\n",
              "      <th>6</th>\n",
              "      <td>0</td>\n",
              "      <td>-2879.202052</td>\n",
              "      <td>43</td>\n",
              "      <td>высшее</td>\n",
              "      <td>0</td>\n",
              "      <td>женат / замужем</td>\n",
              "      <td>0</td>\n",
              "      <td>F</td>\n",
              "      <td>компаньон</td>\n",
              "      <td>0</td>\n",
              "      <td>240525.971920</td>\n",
              "      <td>операции с жильем</td>\n",
              "    </tr>\n",
              "    <tr>\n",
              "      <th>7</th>\n",
              "      <td>0</td>\n",
              "      <td>-152.779569</td>\n",
              "      <td>50</td>\n",
              "      <td>СРЕДНЕЕ</td>\n",
              "      <td>1</td>\n",
              "      <td>женат / замужем</td>\n",
              "      <td>0</td>\n",
              "      <td>M</td>\n",
              "      <td>сотрудник</td>\n",
              "      <td>0</td>\n",
              "      <td>135823.934197</td>\n",
              "      <td>образование</td>\n",
              "    </tr>\n",
              "    <tr>\n",
              "      <th>8</th>\n",
              "      <td>2</td>\n",
              "      <td>-6929.865299</td>\n",
              "      <td>35</td>\n",
              "      <td>ВЫСШЕЕ</td>\n",
              "      <td>0</td>\n",
              "      <td>гражданский брак</td>\n",
              "      <td>1</td>\n",
              "      <td>F</td>\n",
              "      <td>сотрудник</td>\n",
              "      <td>0</td>\n",
              "      <td>95856.832424</td>\n",
              "      <td>на проведение свадьбы</td>\n",
              "    </tr>\n",
              "    <tr>\n",
              "      <th>9</th>\n",
              "      <td>0</td>\n",
              "      <td>-2188.756445</td>\n",
              "      <td>41</td>\n",
              "      <td>среднее</td>\n",
              "      <td>1</td>\n",
              "      <td>женат / замужем</td>\n",
              "      <td>0</td>\n",
              "      <td>M</td>\n",
              "      <td>сотрудник</td>\n",
              "      <td>0</td>\n",
              "      <td>144425.938277</td>\n",
              "      <td>покупка жилья для семьи</td>\n",
              "    </tr>\n",
              "    <tr>\n",
              "      <th>10</th>\n",
              "      <td>2</td>\n",
              "      <td>-4171.483647</td>\n",
              "      <td>36</td>\n",
              "      <td>высшее</td>\n",
              "      <td>0</td>\n",
              "      <td>женат / замужем</td>\n",
              "      <td>0</td>\n",
              "      <td>M</td>\n",
              "      <td>компаньон</td>\n",
              "      <td>0</td>\n",
              "      <td>113943.491460</td>\n",
              "      <td>покупка недвижимости</td>\n",
              "    </tr>\n",
              "    <tr>\n",
              "      <th>11</th>\n",
              "      <td>0</td>\n",
              "      <td>-792.701887</td>\n",
              "      <td>40</td>\n",
              "      <td>среднее</td>\n",
              "      <td>1</td>\n",
              "      <td>женат / замужем</td>\n",
              "      <td>0</td>\n",
              "      <td>F</td>\n",
              "      <td>сотрудник</td>\n",
              "      <td>0</td>\n",
              "      <td>77069.234271</td>\n",
              "      <td>покупка коммерческой недвижимости</td>\n",
              "    </tr>\n",
              "    <tr>\n",
              "      <th>12</th>\n",
              "      <td>0</td>\n",
              "      <td>NaN</td>\n",
              "      <td>65</td>\n",
              "      <td>среднее</td>\n",
              "      <td>1</td>\n",
              "      <td>гражданский брак</td>\n",
              "      <td>1</td>\n",
              "      <td>M</td>\n",
              "      <td>пенсионер</td>\n",
              "      <td>0</td>\n",
              "      <td>NaN</td>\n",
              "      <td>сыграть свадьбу</td>\n",
              "    </tr>\n",
              "    <tr>\n",
              "      <th>13</th>\n",
              "      <td>0</td>\n",
              "      <td>-1846.641941</td>\n",
              "      <td>54</td>\n",
              "      <td>неоконченное высшее</td>\n",
              "      <td>2</td>\n",
              "      <td>женат / замужем</td>\n",
              "      <td>0</td>\n",
              "      <td>F</td>\n",
              "      <td>сотрудник</td>\n",
              "      <td>0</td>\n",
              "      <td>130458.228857</td>\n",
              "      <td>приобретение автомобиля</td>\n",
              "    </tr>\n",
              "    <tr>\n",
              "      <th>14</th>\n",
              "      <td>0</td>\n",
              "      <td>-1844.956182</td>\n",
              "      <td>56</td>\n",
              "      <td>высшее</td>\n",
              "      <td>0</td>\n",
              "      <td>гражданский брак</td>\n",
              "      <td>1</td>\n",
              "      <td>F</td>\n",
              "      <td>компаньон</td>\n",
              "      <td>1</td>\n",
              "      <td>165127.911772</td>\n",
              "      <td>покупка жилой недвижимости</td>\n",
              "    </tr>\n",
              "    <tr>\n",
              "      <th>15</th>\n",
              "      <td>1</td>\n",
              "      <td>-972.364419</td>\n",
              "      <td>26</td>\n",
              "      <td>среднее</td>\n",
              "      <td>1</td>\n",
              "      <td>женат / замужем</td>\n",
              "      <td>0</td>\n",
              "      <td>F</td>\n",
              "      <td>сотрудник</td>\n",
              "      <td>0</td>\n",
              "      <td>116820.904450</td>\n",
              "      <td>строительство собственной недвижимости</td>\n",
              "    </tr>\n",
              "    <tr>\n",
              "      <th>16</th>\n",
              "      <td>0</td>\n",
              "      <td>-1719.934226</td>\n",
              "      <td>35</td>\n",
              "      <td>среднее</td>\n",
              "      <td>1</td>\n",
              "      <td>женат / замужем</td>\n",
              "      <td>0</td>\n",
              "      <td>F</td>\n",
              "      <td>сотрудник</td>\n",
              "      <td>0</td>\n",
              "      <td>289202.704229</td>\n",
              "      <td>недвижимость</td>\n",
              "    </tr>\n",
              "    <tr>\n",
              "      <th>17</th>\n",
              "      <td>0</td>\n",
              "      <td>-2369.999720</td>\n",
              "      <td>33</td>\n",
              "      <td>высшее</td>\n",
              "      <td>0</td>\n",
              "      <td>гражданский брак</td>\n",
              "      <td>1</td>\n",
              "      <td>M</td>\n",
              "      <td>сотрудник</td>\n",
              "      <td>0</td>\n",
              "      <td>90410.586745</td>\n",
              "      <td>строительство недвижимости</td>\n",
              "    </tr>\n",
              "    <tr>\n",
              "      <th>18</th>\n",
              "      <td>0</td>\n",
              "      <td>400281.136913</td>\n",
              "      <td>53</td>\n",
              "      <td>среднее</td>\n",
              "      <td>1</td>\n",
              "      <td>вдовец / вдова</td>\n",
              "      <td>2</td>\n",
              "      <td>F</td>\n",
              "      <td>пенсионер</td>\n",
              "      <td>0</td>\n",
              "      <td>56823.777243</td>\n",
              "      <td>на покупку подержанного автомобиля</td>\n",
              "    </tr>\n",
              "    <tr>\n",
              "      <th>19</th>\n",
              "      <td>0</td>\n",
              "      <td>-10038.818549</td>\n",
              "      <td>48</td>\n",
              "      <td>СРЕДНЕЕ</td>\n",
              "      <td>1</td>\n",
              "      <td>в разводе</td>\n",
              "      <td>3</td>\n",
              "      <td>F</td>\n",
              "      <td>сотрудник</td>\n",
              "      <td>0</td>\n",
              "      <td>242831.107982</td>\n",
              "      <td>на покупку своего автомобиля</td>\n",
              "    </tr>\n",
              "  </tbody>\n",
              "</table>\n",
              "</div>"
            ],
            "text/plain": [
              "    children  days_employed  dob_years            education  education_id  \\\n",
              "0          1   -8437.673028         42               высшее             0   \n",
              "1          1   -4024.803754         36              среднее             1   \n",
              "2          0   -5623.422610         33              Среднее             1   \n",
              "3          3   -4124.747207         32              среднее             1   \n",
              "4          0  340266.072047         53              среднее             1   \n",
              "5          0    -926.185831         27               высшее             0   \n",
              "6          0   -2879.202052         43               высшее             0   \n",
              "7          0    -152.779569         50              СРЕДНЕЕ             1   \n",
              "8          2   -6929.865299         35               ВЫСШЕЕ             0   \n",
              "9          0   -2188.756445         41              среднее             1   \n",
              "10         2   -4171.483647         36               высшее             0   \n",
              "11         0    -792.701887         40              среднее             1   \n",
              "12         0            NaN         65              среднее             1   \n",
              "13         0   -1846.641941         54  неоконченное высшее             2   \n",
              "14         0   -1844.956182         56               высшее             0   \n",
              "15         1    -972.364419         26              среднее             1   \n",
              "16         0   -1719.934226         35              среднее             1   \n",
              "17         0   -2369.999720         33               высшее             0   \n",
              "18         0  400281.136913         53              среднее             1   \n",
              "19         0  -10038.818549         48              СРЕДНЕЕ             1   \n",
              "\n",
              "       family_status  family_status_id gender income_type  debt  \\\n",
              "0    женат / замужем                 0      F   сотрудник     0   \n",
              "1    женат / замужем                 0      F   сотрудник     0   \n",
              "2    женат / замужем                 0      M   сотрудник     0   \n",
              "3    женат / замужем                 0      M   сотрудник     0   \n",
              "4   гражданский брак                 1      F   пенсионер     0   \n",
              "5   гражданский брак                 1      M   компаньон     0   \n",
              "6    женат / замужем                 0      F   компаньон     0   \n",
              "7    женат / замужем                 0      M   сотрудник     0   \n",
              "8   гражданский брак                 1      F   сотрудник     0   \n",
              "9    женат / замужем                 0      M   сотрудник     0   \n",
              "10   женат / замужем                 0      M   компаньон     0   \n",
              "11   женат / замужем                 0      F   сотрудник     0   \n",
              "12  гражданский брак                 1      M   пенсионер     0   \n",
              "13   женат / замужем                 0      F   сотрудник     0   \n",
              "14  гражданский брак                 1      F   компаньон     1   \n",
              "15   женат / замужем                 0      F   сотрудник     0   \n",
              "16   женат / замужем                 0      F   сотрудник     0   \n",
              "17  гражданский брак                 1      M   сотрудник     0   \n",
              "18    вдовец / вдова                 2      F   пенсионер     0   \n",
              "19         в разводе                 3      F   сотрудник     0   \n",
              "\n",
              "     total_income                                 purpose  \n",
              "0   253875.639453                           покупка жилья  \n",
              "1   112080.014102                 приобретение автомобиля  \n",
              "2   145885.952297                           покупка жилья  \n",
              "3   267628.550329              дополнительное образование  \n",
              "4   158616.077870                         сыграть свадьбу  \n",
              "5   255763.565419                           покупка жилья  \n",
              "6   240525.971920                       операции с жильем  \n",
              "7   135823.934197                             образование  \n",
              "8    95856.832424                   на проведение свадьбы  \n",
              "9   144425.938277                 покупка жилья для семьи  \n",
              "10  113943.491460                    покупка недвижимости  \n",
              "11   77069.234271       покупка коммерческой недвижимости  \n",
              "12            NaN                         сыграть свадьбу  \n",
              "13  130458.228857                 приобретение автомобиля  \n",
              "14  165127.911772              покупка жилой недвижимости  \n",
              "15  116820.904450  строительство собственной недвижимости  \n",
              "16  289202.704229                            недвижимость  \n",
              "17   90410.586745              строительство недвижимости  \n",
              "18   56823.777243      на покупку подержанного автомобиля  \n",
              "19  242831.107982            на покупку своего автомобиля  "
            ]
          },
          "execution_count": 10,
          "metadata": {},
          "output_type": "execute_result"
        }
      ],
      "source": [
        "data.head(20)"
      ]
    },
    {
      "cell_type": "code",
      "execution_count": null,
      "id": "342a8270",
      "metadata": {
        "deletable": false,
        "id": "342a8270",
        "outputId": "15376089-8dad-46c9-b520-c05248d43158"
      },
      "outputs": [
        {
          "name": "stdout",
          "output_type": "stream",
          "text": [
            "<class 'pandas.core.frame.DataFrame'>\n",
            "RangeIndex: 21525 entries, 0 to 21524\n",
            "Data columns (total 12 columns):\n",
            " #   Column            Non-Null Count  Dtype  \n",
            "---  ------            --------------  -----  \n",
            " 0   children          21525 non-null  int64  \n",
            " 1   days_employed     19351 non-null  float64\n",
            " 2   dob_years         21525 non-null  int64  \n",
            " 3   education         21525 non-null  object \n",
            " 4   education_id      21525 non-null  int64  \n",
            " 5   family_status     21525 non-null  object \n",
            " 6   family_status_id  21525 non-null  int64  \n",
            " 7   gender            21525 non-null  object \n",
            " 8   income_type       21525 non-null  object \n",
            " 9   debt              21525 non-null  int64  \n",
            " 10  total_income      19351 non-null  float64\n",
            " 11  purpose           21525 non-null  object \n",
            "dtypes: float64(2), int64(5), object(5)\n",
            "memory usage: 2.0+ MB\n"
          ]
        }
      ],
      "source": [
        "data.info()"
      ]
    },
    {
      "cell_type": "markdown",
      "id": "ab20e9ca",
      "metadata": {
        "deletable": false,
        "editable": false,
        "id": "ab20e9ca"
      },
      "source": [
        "## Предобработка данных"
      ]
    },
    {
      "cell_type": "markdown",
      "id": "4785a8e3",
      "metadata": {
        "deletable": false,
        "editable": false,
        "id": "4785a8e3"
      },
      "source": [
        "### Удаление пропусков"
      ]
    },
    {
      "cell_type": "markdown",
      "id": "6711666f",
      "metadata": {
        "deletable": false,
        "editable": false,
        "id": "6711666f"
      },
      "source": [
        "Выведем количество пропущенных значений для каждого столбца."
      ]
    },
    {
      "cell_type": "code",
      "execution_count": null,
      "id": "0ddf8c14",
      "metadata": {
        "deletable": false,
        "id": "0ddf8c14",
        "outputId": "81f4d817-781c-465c-ed15-91ce4446810d"
      },
      "outputs": [
        {
          "data": {
            "text/plain": [
              "children               0\n",
              "days_employed       2174\n",
              "dob_years              0\n",
              "education              0\n",
              "education_id           0\n",
              "family_status          0\n",
              "family_status_id       0\n",
              "gender                 0\n",
              "income_type            0\n",
              "debt                   0\n",
              "total_income        2174\n",
              "purpose                0\n",
              "dtype: int64"
            ]
          },
          "execution_count": 12,
          "metadata": {},
          "output_type": "execute_result"
        }
      ],
      "source": [
        "data.isna().sum()"
      ]
    },
    {
      "cell_type": "markdown",
      "id": "cc529e2b",
      "metadata": {
        "id": "cc529e2b"
      },
      "source": [
        "Вывела строчки с пустыми значениями в столбцах days_employed и total_income. Их общее количество 2174, что равно количеству пропусков в каждом по отдельности столбцо. Значит, в строках с пропускам значения отстутствуют в обоих этих столбцах."
      ]
    },
    {
      "cell_type": "code",
      "execution_count": null,
      "id": "29267154",
      "metadata": {
        "id": "29267154",
        "outputId": "4ca1d278-b9cb-4455-e7a6-011a21ed5209"
      },
      "outputs": [
        {
          "data": {
            "text/html": [
              "<div>\n",
              "<style scoped>\n",
              "    .dataframe tbody tr th:only-of-type {\n",
              "        vertical-align: middle;\n",
              "    }\n",
              "\n",
              "    .dataframe tbody tr th {\n",
              "        vertical-align: top;\n",
              "    }\n",
              "\n",
              "    .dataframe thead th {\n",
              "        text-align: right;\n",
              "    }\n",
              "</style>\n",
              "<table border=\"1\" class=\"dataframe\">\n",
              "  <thead>\n",
              "    <tr style=\"text-align: right;\">\n",
              "      <th></th>\n",
              "      <th>children</th>\n",
              "      <th>days_employed</th>\n",
              "      <th>dob_years</th>\n",
              "      <th>education</th>\n",
              "      <th>education_id</th>\n",
              "      <th>family_status</th>\n",
              "      <th>family_status_id</th>\n",
              "      <th>gender</th>\n",
              "      <th>income_type</th>\n",
              "      <th>debt</th>\n",
              "      <th>total_income</th>\n",
              "      <th>purpose</th>\n",
              "    </tr>\n",
              "  </thead>\n",
              "  <tbody>\n",
              "    <tr>\n",
              "      <th>12</th>\n",
              "      <td>0</td>\n",
              "      <td>NaN</td>\n",
              "      <td>65</td>\n",
              "      <td>среднее</td>\n",
              "      <td>1</td>\n",
              "      <td>гражданский брак</td>\n",
              "      <td>1</td>\n",
              "      <td>M</td>\n",
              "      <td>пенсионер</td>\n",
              "      <td>0</td>\n",
              "      <td>NaN</td>\n",
              "      <td>сыграть свадьбу</td>\n",
              "    </tr>\n",
              "    <tr>\n",
              "      <th>26</th>\n",
              "      <td>0</td>\n",
              "      <td>NaN</td>\n",
              "      <td>41</td>\n",
              "      <td>среднее</td>\n",
              "      <td>1</td>\n",
              "      <td>женат / замужем</td>\n",
              "      <td>0</td>\n",
              "      <td>M</td>\n",
              "      <td>госслужащий</td>\n",
              "      <td>0</td>\n",
              "      <td>NaN</td>\n",
              "      <td>образование</td>\n",
              "    </tr>\n",
              "    <tr>\n",
              "      <th>29</th>\n",
              "      <td>0</td>\n",
              "      <td>NaN</td>\n",
              "      <td>63</td>\n",
              "      <td>среднее</td>\n",
              "      <td>1</td>\n",
              "      <td>Не женат / не замужем</td>\n",
              "      <td>4</td>\n",
              "      <td>F</td>\n",
              "      <td>пенсионер</td>\n",
              "      <td>0</td>\n",
              "      <td>NaN</td>\n",
              "      <td>строительство жилой недвижимости</td>\n",
              "    </tr>\n",
              "    <tr>\n",
              "      <th>41</th>\n",
              "      <td>0</td>\n",
              "      <td>NaN</td>\n",
              "      <td>50</td>\n",
              "      <td>среднее</td>\n",
              "      <td>1</td>\n",
              "      <td>женат / замужем</td>\n",
              "      <td>0</td>\n",
              "      <td>F</td>\n",
              "      <td>госслужащий</td>\n",
              "      <td>0</td>\n",
              "      <td>NaN</td>\n",
              "      <td>сделка с подержанным автомобилем</td>\n",
              "    </tr>\n",
              "    <tr>\n",
              "      <th>55</th>\n",
              "      <td>0</td>\n",
              "      <td>NaN</td>\n",
              "      <td>54</td>\n",
              "      <td>среднее</td>\n",
              "      <td>1</td>\n",
              "      <td>гражданский брак</td>\n",
              "      <td>1</td>\n",
              "      <td>F</td>\n",
              "      <td>пенсионер</td>\n",
              "      <td>1</td>\n",
              "      <td>NaN</td>\n",
              "      <td>сыграть свадьбу</td>\n",
              "    </tr>\n",
              "    <tr>\n",
              "      <th>...</th>\n",
              "      <td>...</td>\n",
              "      <td>...</td>\n",
              "      <td>...</td>\n",
              "      <td>...</td>\n",
              "      <td>...</td>\n",
              "      <td>...</td>\n",
              "      <td>...</td>\n",
              "      <td>...</td>\n",
              "      <td>...</td>\n",
              "      <td>...</td>\n",
              "      <td>...</td>\n",
              "      <td>...</td>\n",
              "    </tr>\n",
              "    <tr>\n",
              "      <th>21489</th>\n",
              "      <td>2</td>\n",
              "      <td>NaN</td>\n",
              "      <td>47</td>\n",
              "      <td>Среднее</td>\n",
              "      <td>1</td>\n",
              "      <td>женат / замужем</td>\n",
              "      <td>0</td>\n",
              "      <td>M</td>\n",
              "      <td>компаньон</td>\n",
              "      <td>0</td>\n",
              "      <td>NaN</td>\n",
              "      <td>сделка с автомобилем</td>\n",
              "    </tr>\n",
              "    <tr>\n",
              "      <th>21495</th>\n",
              "      <td>1</td>\n",
              "      <td>NaN</td>\n",
              "      <td>50</td>\n",
              "      <td>среднее</td>\n",
              "      <td>1</td>\n",
              "      <td>гражданский брак</td>\n",
              "      <td>1</td>\n",
              "      <td>F</td>\n",
              "      <td>сотрудник</td>\n",
              "      <td>0</td>\n",
              "      <td>NaN</td>\n",
              "      <td>свадьба</td>\n",
              "    </tr>\n",
              "    <tr>\n",
              "      <th>21497</th>\n",
              "      <td>0</td>\n",
              "      <td>NaN</td>\n",
              "      <td>48</td>\n",
              "      <td>ВЫСШЕЕ</td>\n",
              "      <td>0</td>\n",
              "      <td>женат / замужем</td>\n",
              "      <td>0</td>\n",
              "      <td>F</td>\n",
              "      <td>компаньон</td>\n",
              "      <td>0</td>\n",
              "      <td>NaN</td>\n",
              "      <td>строительство недвижимости</td>\n",
              "    </tr>\n",
              "    <tr>\n",
              "      <th>21502</th>\n",
              "      <td>1</td>\n",
              "      <td>NaN</td>\n",
              "      <td>42</td>\n",
              "      <td>среднее</td>\n",
              "      <td>1</td>\n",
              "      <td>женат / замужем</td>\n",
              "      <td>0</td>\n",
              "      <td>F</td>\n",
              "      <td>сотрудник</td>\n",
              "      <td>0</td>\n",
              "      <td>NaN</td>\n",
              "      <td>строительство жилой недвижимости</td>\n",
              "    </tr>\n",
              "    <tr>\n",
              "      <th>21510</th>\n",
              "      <td>2</td>\n",
              "      <td>NaN</td>\n",
              "      <td>28</td>\n",
              "      <td>среднее</td>\n",
              "      <td>1</td>\n",
              "      <td>женат / замужем</td>\n",
              "      <td>0</td>\n",
              "      <td>F</td>\n",
              "      <td>сотрудник</td>\n",
              "      <td>0</td>\n",
              "      <td>NaN</td>\n",
              "      <td>приобретение автомобиля</td>\n",
              "    </tr>\n",
              "  </tbody>\n",
              "</table>\n",
              "<p>2174 rows × 12 columns</p>\n",
              "</div>"
            ],
            "text/plain": [
              "       children  days_employed  dob_years education  education_id  \\\n",
              "12            0            NaN         65   среднее             1   \n",
              "26            0            NaN         41   среднее             1   \n",
              "29            0            NaN         63   среднее             1   \n",
              "41            0            NaN         50   среднее             1   \n",
              "55            0            NaN         54   среднее             1   \n",
              "...         ...            ...        ...       ...           ...   \n",
              "21489         2            NaN         47   Среднее             1   \n",
              "21495         1            NaN         50   среднее             1   \n",
              "21497         0            NaN         48    ВЫСШЕЕ             0   \n",
              "21502         1            NaN         42   среднее             1   \n",
              "21510         2            NaN         28   среднее             1   \n",
              "\n",
              "               family_status  family_status_id gender  income_type  debt  \\\n",
              "12          гражданский брак                 1      M    пенсионер     0   \n",
              "26           женат / замужем                 0      M  госслужащий     0   \n",
              "29     Не женат / не замужем                 4      F    пенсионер     0   \n",
              "41           женат / замужем                 0      F  госслужащий     0   \n",
              "55          гражданский брак                 1      F    пенсионер     1   \n",
              "...                      ...               ...    ...          ...   ...   \n",
              "21489        женат / замужем                 0      M    компаньон     0   \n",
              "21495       гражданский брак                 1      F    сотрудник     0   \n",
              "21497        женат / замужем                 0      F    компаньон     0   \n",
              "21502        женат / замужем                 0      F    сотрудник     0   \n",
              "21510        женат / замужем                 0      F    сотрудник     0   \n",
              "\n",
              "       total_income                           purpose  \n",
              "12              NaN                   сыграть свадьбу  \n",
              "26              NaN                       образование  \n",
              "29              NaN  строительство жилой недвижимости  \n",
              "41              NaN  сделка с подержанным автомобилем  \n",
              "55              NaN                   сыграть свадьбу  \n",
              "...             ...                               ...  \n",
              "21489           NaN              сделка с автомобилем  \n",
              "21495           NaN                           свадьба  \n",
              "21497           NaN        строительство недвижимости  \n",
              "21502           NaN  строительство жилой недвижимости  \n",
              "21510           NaN           приобретение автомобиля  \n",
              "\n",
              "[2174 rows x 12 columns]"
            ]
          },
          "execution_count": 13,
          "metadata": {},
          "output_type": "execute_result"
        }
      ],
      "source": [
        "data.loc[(data['days_employed'].isna()) & (data['total_income'].isna()) ]"
      ]
    },
    {
      "cell_type": "markdown",
      "id": "90922a98",
      "metadata": {
        "deletable": false,
        "editable": false,
        "id": "90922a98"
      },
      "source": [
        "Столбец с пропущенными значениями — `total_income` — хранит данные о доходах. На сумму дохода сильнее всего влияет тип занятости, поэтому заполнить пропуски в этом столбце нужно медианным значением по каждому типу из столбца `income_type`."
      ]
    },
    {
      "cell_type": "code",
      "execution_count": null,
      "id": "5da00666",
      "metadata": {
        "deletable": false,
        "id": "5da00666"
      },
      "outputs": [],
      "source": [
        "for t in data['income_type'].unique():\n",
        "    data.loc[(data['income_type'] == t) & (data['total_income'].isna()), 'total_income'] = \\\n",
        "    data.loc[(data['income_type'] == t), 'total_income'].median()"
      ]
    },
    {
      "cell_type": "markdown",
      "id": "416c7d80",
      "metadata": {
        "deletable": false,
        "editable": false,
        "id": "416c7d80"
      },
      "source": [
        "### Обработка аномальных значений"
      ]
    },
    {
      "cell_type": "markdown",
      "id": "0230264a",
      "metadata": {
        "deletable": false,
        "editable": false,
        "id": "0230264a"
      },
      "source": [
        "Встречается отрицательное количество дней трудового стажа в столбце `days_employed`. Обработаем значения в этом столбце с помощью метода `abs()`.**"
      ]
    },
    {
      "cell_type": "code",
      "execution_count": null,
      "id": "5688a898",
      "metadata": {
        "deletable": false,
        "id": "5688a898"
      },
      "outputs": [],
      "source": [
        "data['days_employed'] = data['days_employed'].abs()"
      ]
    },
    {
      "cell_type": "markdown",
      "id": "6be0e718",
      "metadata": {
        "deletable": false,
        "editable": false,
        "id": "6be0e718"
      },
      "source": [
        "Для каждого типа занятости выведем медианное значение трудового стажа `days_employed` в днях."
      ]
    },
    {
      "cell_type": "code",
      "execution_count": null,
      "id": "71768ddc",
      "metadata": {
        "deletable": false,
        "id": "71768ddc",
        "outputId": "801ef80e-522b-4668-f34e-565af7432bcf"
      },
      "outputs": [
        {
          "data": {
            "text/plain": [
              "income_type\n",
              "безработный        366413.652744\n",
              "в декрете            3296.759962\n",
              "госслужащий          2689.368353\n",
              "компаньон            1547.382223\n",
              "пенсионер          365213.306266\n",
              "предприниматель       520.848083\n",
              "сотрудник            1574.202821\n",
              "студент               578.751554\n",
              "Name: days_employed, dtype: float64"
            ]
          },
          "execution_count": 16,
          "metadata": {},
          "output_type": "execute_result"
        }
      ],
      "source": [
        "data.groupby('income_type')['days_employed'].agg('median')"
      ]
    },
    {
      "cell_type": "markdown",
      "id": "a529b96a",
      "metadata": {
        "deletable": false,
        "editable": false,
        "id": "a529b96a"
      },
      "source": [
        "У двух типов (безработные и пенсионеры) получатся аномально большие значения. Исправить такие значения сложно, поэтому оставьте их как есть. Тем более этот столбец не понадобится вам для исследования."
      ]
    },
    {
      "cell_type": "markdown",
      "id": "722b47e0",
      "metadata": {
        "deletable": false,
        "editable": false,
        "id": "722b47e0"
      },
      "source": [
        "Выведем перечень уникальных значений столбца `children`."
      ]
    },
    {
      "cell_type": "code",
      "execution_count": null,
      "id": "7b270392",
      "metadata": {
        "deletable": false,
        "id": "7b270392",
        "outputId": "6975b15c-7f95-4697-d16d-a0c79b657b03"
      },
      "outputs": [
        {
          "data": {
            "text/plain": [
              "array([ 1,  0,  3,  2, -1,  4, 20,  5])"
            ]
          },
          "execution_count": 17,
          "metadata": {},
          "output_type": "execute_result"
        }
      ],
      "source": [
        "data['children'].unique()"
      ]
    },
    {
      "cell_type": "markdown",
      "id": "a0338b23",
      "metadata": {
        "deletable": false,
        "editable": false,
        "id": "a0338b23"
      },
      "source": [
        "В столбце `children` есть два аномальных значения. Удалим строки, в которых встречаются такие аномальные значения из датафрейма `data`."
      ]
    },
    {
      "cell_type": "code",
      "execution_count": null,
      "id": "53d6ee59",
      "metadata": {
        "deletable": false,
        "id": "53d6ee59"
      },
      "outputs": [],
      "source": [
        "data = data[(data['children'] != -1) & (data['children'] != 20)]"
      ]
    },
    {
      "cell_type": "markdown",
      "id": "c6cfffe5",
      "metadata": {
        "deletable": false,
        "editable": false,
        "id": "c6cfffe5"
      },
      "source": [
        "Ещё раз выведем перечень уникальных значений столбца `children`, чтобы убедиться, что артефакты удалены."
      ]
    },
    {
      "cell_type": "code",
      "execution_count": null,
      "id": "5ce031ee",
      "metadata": {
        "deletable": false,
        "id": "5ce031ee",
        "outputId": "b2097101-d49d-44d9-901b-32a65c9463d1"
      },
      "outputs": [
        {
          "data": {
            "text/plain": [
              "array([1, 0, 3, 2, 4, 5])"
            ]
          },
          "execution_count": 19,
          "metadata": {},
          "output_type": "execute_result"
        }
      ],
      "source": [
        "data['children'].unique()"
      ]
    },
    {
      "cell_type": "markdown",
      "id": "3a3d7921",
      "metadata": {
        "deletable": false,
        "editable": false,
        "id": "3a3d7921"
      },
      "source": [
        "### Удаление пропусков (продолжение)"
      ]
    },
    {
      "cell_type": "markdown",
      "id": "599628a7",
      "metadata": {
        "deletable": false,
        "editable": false,
        "id": "599628a7"
      },
      "source": [
        "Заполним пропуски в столбце `days_employed` медианными значениями по каждого типа занятости `income_type`."
      ]
    },
    {
      "cell_type": "code",
      "execution_count": null,
      "id": "e88c2947",
      "metadata": {
        "deletable": false,
        "id": "e88c2947"
      },
      "outputs": [],
      "source": [
        "for t in data['income_type'].unique():\n",
        "    data.loc[(data['income_type'] == t) & (data['days_employed'].isna()), 'days_employed'] = \\\n",
        "    data.loc[(data['income_type'] == t), 'days_employed'].median()"
      ]
    },
    {
      "cell_type": "markdown",
      "id": "7add2727",
      "metadata": {
        "deletable": false,
        "editable": false,
        "id": "7add2727"
      },
      "source": [
        "Убедимся, что все пропуски заполнены."
      ]
    },
    {
      "cell_type": "code",
      "execution_count": null,
      "id": "02022fa4",
      "metadata": {
        "deletable": false,
        "id": "02022fa4",
        "outputId": "8da1e4e1-358e-4e87-98c9-f261bce0a7b2"
      },
      "outputs": [
        {
          "data": {
            "text/plain": [
              "children            0\n",
              "days_employed       0\n",
              "dob_years           0\n",
              "education           0\n",
              "education_id        0\n",
              "family_status       0\n",
              "family_status_id    0\n",
              "gender              0\n",
              "income_type         0\n",
              "debt                0\n",
              "total_income        0\n",
              "purpose             0\n",
              "dtype: int64"
            ]
          },
          "execution_count": 21,
          "metadata": {},
          "output_type": "execute_result"
        }
      ],
      "source": [
        "data.isna().sum()"
      ]
    },
    {
      "cell_type": "markdown",
      "id": "35922f57",
      "metadata": {
        "deletable": false,
        "editable": false,
        "id": "35922f57"
      },
      "source": [
        "### Изменение типов данных"
      ]
    },
    {
      "cell_type": "markdown",
      "id": "b973efb7",
      "metadata": {
        "deletable": false,
        "editable": false,
        "id": "b973efb7"
      },
      "source": [
        "Заменим вещественный тип данных в столбце `total_income` на целочисленный."
      ]
    },
    {
      "cell_type": "code",
      "execution_count": null,
      "id": "6eb1ae44",
      "metadata": {
        "deletable": false,
        "id": "6eb1ae44"
      },
      "outputs": [],
      "source": [
        "data['total_income'] = data['total_income'].astype(int)"
      ]
    },
    {
      "cell_type": "markdown",
      "id": "a3474940",
      "metadata": {
        "deletable": false,
        "editable": false,
        "id": "a3474940"
      },
      "source": [
        "### Обработка дубликатов"
      ]
    },
    {
      "cell_type": "markdown",
      "id": "8f545143",
      "metadata": {
        "deletable": false,
        "editable": false,
        "id": "8f545143"
      },
      "source": [
        "Обработаем неявные дубликаты в столбце `education`. В этом столбце есть одни и те же значения, но записанные по-разному: с использованием заглавных и строчных букв. Приведем их к нижнему регистру. Проверем остальные столбцы."
      ]
    },
    {
      "cell_type": "code",
      "execution_count": null,
      "id": "97a1b21c",
      "metadata": {
        "deletable": false,
        "id": "97a1b21c"
      },
      "outputs": [],
      "source": [
        "data['education'] = data['education'].str.lower()"
      ]
    },
    {
      "cell_type": "markdown",
      "id": "69b654af",
      "metadata": {
        "deletable": false,
        "editable": false,
        "id": "69b654af"
      },
      "source": [
        "Выведем на экран количество строк-дубликатов в данных. Если такие строки присутствуют, удалим их."
      ]
    },
    {
      "cell_type": "code",
      "execution_count": null,
      "id": "5c984238",
      "metadata": {
        "deletable": false,
        "id": "5c984238",
        "outputId": "9684deba-1934-42d1-99e1-cda61740f822"
      },
      "outputs": [
        {
          "data": {
            "text/plain": [
              "71"
            ]
          },
          "execution_count": 24,
          "metadata": {},
          "output_type": "execute_result"
        }
      ],
      "source": [
        "data.duplicated().sum()"
      ]
    },
    {
      "cell_type": "code",
      "execution_count": null,
      "id": "f4f88335",
      "metadata": {
        "deletable": false,
        "id": "f4f88335"
      },
      "outputs": [],
      "source": [
        "data = data.drop_duplicates()"
      ]
    },
    {
      "cell_type": "markdown",
      "id": "2a783f92",
      "metadata": {
        "deletable": false,
        "editable": false,
        "id": "2a783f92"
      },
      "source": [
        "### Категоризация данных"
      ]
    },
    {
      "cell_type": "markdown",
      "id": "76524e05",
      "metadata": {
        "deletable": false,
        "editable": false,
        "id": "76524e05"
      },
      "source": [
        "На основании диапазонов, указанных ниже, создадим в датафрейме `data` столбец `total_income_category` с категориями:**\n",
        "\n",
        "- 0–30000 — `'E'`;\n",
        "- 30001–50000 — `'D'`;\n",
        "- 50001–200000 — `'C'`;\n",
        "- 200001–1000000 — `'B'`;\n",
        "- 1000001 и выше — `'A'`."
      ]
    },
    {
      "cell_type": "code",
      "execution_count": null,
      "id": "4ababe22",
      "metadata": {
        "deletable": false,
        "id": "4ababe22"
      },
      "outputs": [],
      "source": [
        "def categorize_income(income):\n",
        "    try:\n",
        "        if 0 <= income <= 30000:\n",
        "            return 'E'\n",
        "        elif 30001 <= income <= 50000:\n",
        "            return 'D'\n",
        "        elif 50001 <= income <= 200000:\n",
        "            return 'C'\n",
        "        elif 200001 <= income <= 1000000:\n",
        "            return 'B'\n",
        "        elif income >= 1000001:\n",
        "            return 'A'\n",
        "    except:\n",
        "        pass"
      ]
    },
    {
      "cell_type": "code",
      "execution_count": null,
      "id": "d7b69b6d",
      "metadata": {
        "deletable": false,
        "id": "d7b69b6d"
      },
      "outputs": [],
      "source": [
        "data['total_income_category'] = data['total_income'].apply(categorize_income)"
      ]
    },
    {
      "cell_type": "markdown",
      "id": "ade1383f",
      "metadata": {
        "deletable": false,
        "editable": false,
        "id": "ade1383f"
      },
      "source": [
        "Выведем на экран перечень уникальных целей взятия кредита из столбца `purpose`."
      ]
    },
    {
      "cell_type": "code",
      "execution_count": null,
      "id": "ef1de8d7",
      "metadata": {
        "deletable": false,
        "id": "ef1de8d7",
        "outputId": "673c12d9-7d7e-4ae0-9812-c622c89dd244"
      },
      "outputs": [
        {
          "data": {
            "text/plain": [
              "array(['покупка жилья', 'приобретение автомобиля',\n",
              "       'дополнительное образование', 'сыграть свадьбу',\n",
              "       'операции с жильем', 'образование', 'на проведение свадьбы',\n",
              "       'покупка жилья для семьи', 'покупка недвижимости',\n",
              "       'покупка коммерческой недвижимости', 'покупка жилой недвижимости',\n",
              "       'строительство собственной недвижимости', 'недвижимость',\n",
              "       'строительство недвижимости', 'на покупку подержанного автомобиля',\n",
              "       'на покупку своего автомобиля',\n",
              "       'операции с коммерческой недвижимостью',\n",
              "       'строительство жилой недвижимости', 'жилье',\n",
              "       'операции со своей недвижимостью', 'автомобили',\n",
              "       'заняться образованием', 'сделка с подержанным автомобилем',\n",
              "       'получение образования', 'автомобиль', 'свадьба',\n",
              "       'получение дополнительного образования', 'покупка своего жилья',\n",
              "       'операции с недвижимостью', 'получение высшего образования',\n",
              "       'свой автомобиль', 'сделка с автомобилем',\n",
              "       'профильное образование', 'высшее образование',\n",
              "       'покупка жилья для сдачи', 'на покупку автомобиля', 'ремонт жилью',\n",
              "       'заняться высшим образованием'], dtype=object)"
            ]
          },
          "execution_count": 28,
          "metadata": {},
          "output_type": "execute_result"
        }
      ],
      "source": [
        "data['purpose'].unique()"
      ]
    },
    {
      "cell_type": "markdown",
      "id": "e3c2466a",
      "metadata": {
        "deletable": false,
        "editable": false,
        "id": "e3c2466a"
      },
      "source": [
        "Создадим функцию, которая на основании данных из столбца `purpose` сформирует новый столбец `purpose_category`, в который войдут следующие категории:**\n",
        "\n",
        "- `'операции с автомобилем'`,\n",
        "- `'операции с недвижимостью'`,\n",
        "- `'проведение свадьбы'`,\n",
        "- `'получение образования'`."
      ]
    },
    {
      "cell_type": "code",
      "execution_count": null,
      "id": "4ae34c4a",
      "metadata": {
        "deletable": false,
        "id": "4ae34c4a"
      },
      "outputs": [],
      "source": [
        "def categorize_purpose(row):\n",
        "    try:\n",
        "        if 'автом' in row:\n",
        "            return 'операции с автомобилем'\n",
        "        elif 'жил' in row or 'недвиж' in row:\n",
        "            return 'операции с недвижимостью'\n",
        "        elif 'свад' in row:\n",
        "            return 'проведение свадьбы'\n",
        "        elif 'образов' in row:\n",
        "            return 'получение образования'\n",
        "    except:\n",
        "        return 'нет категории'"
      ]
    },
    {
      "cell_type": "code",
      "execution_count": null,
      "id": "b305d24c",
      "metadata": {
        "deletable": false,
        "id": "b305d24c"
      },
      "outputs": [],
      "source": [
        "data['purpose_category'] = data['purpose'].apply(categorize_purpose)"
      ]
    },
    {
      "cell_type": "markdown",
      "id": "3879ee2e",
      "metadata": {
        "deletable": false,
        "editable": false,
        "id": "3879ee2e"
      },
      "source": [
        "### Шаг 3. Исследование данных"
      ]
    },
    {
      "cell_type": "markdown",
      "id": "10e3192f",
      "metadata": {
        "deletable": false,
        "editable": false,
        "id": "10e3192f"
      },
      "source": [
        "#### 3.1 Есть ли зависимость между количеством детей и возвратом кредита в срок?"
      ]
    },
    {
      "cell_type": "markdown",
      "id": "ddf5589d",
      "metadata": {
        "id": "ddf5589d"
      },
      "source": [
        "Чтобы посмотреть существует ли зависимость возврата кредита от количества детей, необходимо посмотреть процентное соотношение возврата кредита для каждого количества детей."
      ]
    },
    {
      "cell_type": "markdown",
      "id": "a9298516",
      "metadata": {
        "id": "a9298516"
      },
      "source": [
        "В столбце debt 0 - отсутствие задолженности у клиента, 1 - ее наличие. Таким образом, мы можем посчитать количество людей с долгами по каждой категории количества детей."
      ]
    },
    {
      "cell_type": "code",
      "execution_count": null,
      "id": "43b4e042",
      "metadata": {
        "deletable": false,
        "id": "43b4e042",
        "scrolled": true,
        "outputId": "35c0544c-da8e-46a1-ec34-839c3142f06b"
      },
      "outputs": [
        {
          "data": {
            "text/plain": [
              "children\n",
              "0    7.543822\n",
              "1    9.234609\n",
              "2    9.454191\n",
              "3    8.181818\n",
              "4    9.756098\n",
              "5    0.000000\n",
              "Name: debt, dtype: float64"
            ]
          },
          "execution_count": 31,
          "metadata": {},
          "output_type": "execute_result"
        }
      ],
      "source": [
        "\n",
        "\n",
        "data.groupby('children')['debt'].sum() / data.groupby('children')['debt'].count() * 100"
      ]
    },
    {
      "cell_type": "markdown",
      "id": "2da8bf03",
      "metadata": {
        "id": "2da8bf03"
      },
      "source": [
        "Из процентного соотношения видно, что должников с одним ребенком, двумя и четырьмя детьмя примерно одинаковое количество и их большинство среди остальных. Чуть лучше кредиты возвращют те, у кого 3 детей, и еще лучше кредиторы без детей. Вероятно, это связано с отсутствием трат на ребенка."
      ]
    },
    {
      "cell_type": "markdown",
      "id": "b93667fa",
      "metadata": {
        "id": "b93667fa"
      },
      "source": [
        "То, что среди людей с 5 детьми 0% должников по кредиту выглядит странно. Необходимо проверить достаточность выборки."
      ]
    },
    {
      "cell_type": "code",
      "execution_count": null,
      "id": "f8bf8a7e",
      "metadata": {
        "id": "f8bf8a7e",
        "outputId": "abfdc013-a3ba-41bc-96d9-533bf6108573"
      },
      "outputs": [
        {
          "data": {
            "text/html": [
              "<div>\n",
              "<style scoped>\n",
              "    .dataframe tbody tr th:only-of-type {\n",
              "        vertical-align: middle;\n",
              "    }\n",
              "\n",
              "    .dataframe tbody tr th {\n",
              "        vertical-align: top;\n",
              "    }\n",
              "\n",
              "    .dataframe thead th {\n",
              "        text-align: right;\n",
              "    }\n",
              "</style>\n",
              "<table border=\"1\" class=\"dataframe\">\n",
              "  <thead>\n",
              "    <tr style=\"text-align: right;\">\n",
              "      <th></th>\n",
              "      <th>children</th>\n",
              "      <th>days_employed</th>\n",
              "      <th>dob_years</th>\n",
              "      <th>education</th>\n",
              "      <th>education_id</th>\n",
              "      <th>family_status</th>\n",
              "      <th>family_status_id</th>\n",
              "      <th>gender</th>\n",
              "      <th>income_type</th>\n",
              "      <th>debt</th>\n",
              "      <th>total_income</th>\n",
              "      <th>purpose</th>\n",
              "      <th>total_income_category</th>\n",
              "      <th>purpose_category</th>\n",
              "    </tr>\n",
              "  </thead>\n",
              "  <tbody>\n",
              "    <tr>\n",
              "      <th>3979</th>\n",
              "      <td>5</td>\n",
              "      <td>1572.328285</td>\n",
              "      <td>42</td>\n",
              "      <td>среднее</td>\n",
              "      <td>1</td>\n",
              "      <td>гражданский брак</td>\n",
              "      <td>1</td>\n",
              "      <td>M</td>\n",
              "      <td>сотрудник</td>\n",
              "      <td>0</td>\n",
              "      <td>142594</td>\n",
              "      <td>на покупку своего автомобиля</td>\n",
              "      <td>C</td>\n",
              "      <td>операции с автомобилем</td>\n",
              "    </tr>\n",
              "    <tr>\n",
              "      <th>4397</th>\n",
              "      <td>5</td>\n",
              "      <td>3248.839837</td>\n",
              "      <td>36</td>\n",
              "      <td>среднее</td>\n",
              "      <td>1</td>\n",
              "      <td>женат / замужем</td>\n",
              "      <td>0</td>\n",
              "      <td>F</td>\n",
              "      <td>компаньон</td>\n",
              "      <td>0</td>\n",
              "      <td>168460</td>\n",
              "      <td>операции с недвижимостью</td>\n",
              "      <td>C</td>\n",
              "      <td>операции с недвижимостью</td>\n",
              "    </tr>\n",
              "    <tr>\n",
              "      <th>7866</th>\n",
              "      <td>5</td>\n",
              "      <td>773.124856</td>\n",
              "      <td>36</td>\n",
              "      <td>среднее</td>\n",
              "      <td>1</td>\n",
              "      <td>женат / замужем</td>\n",
              "      <td>0</td>\n",
              "      <td>F</td>\n",
              "      <td>сотрудник</td>\n",
              "      <td>0</td>\n",
              "      <td>48772</td>\n",
              "      <td>операции с жильем</td>\n",
              "      <td>D</td>\n",
              "      <td>операции с недвижимостью</td>\n",
              "    </tr>\n",
              "    <tr>\n",
              "      <th>15822</th>\n",
              "      <td>5</td>\n",
              "      <td>418.199982</td>\n",
              "      <td>31</td>\n",
              "      <td>среднее</td>\n",
              "      <td>1</td>\n",
              "      <td>женат / замужем</td>\n",
              "      <td>0</td>\n",
              "      <td>F</td>\n",
              "      <td>сотрудник</td>\n",
              "      <td>0</td>\n",
              "      <td>77552</td>\n",
              "      <td>сделка с подержанным автомобилем</td>\n",
              "      <td>C</td>\n",
              "      <td>операции с автомобилем</td>\n",
              "    </tr>\n",
              "    <tr>\n",
              "      <th>15916</th>\n",
              "      <td>5</td>\n",
              "      <td>2286.262752</td>\n",
              "      <td>37</td>\n",
              "      <td>среднее</td>\n",
              "      <td>1</td>\n",
              "      <td>женат / замужем</td>\n",
              "      <td>0</td>\n",
              "      <td>F</td>\n",
              "      <td>сотрудник</td>\n",
              "      <td>0</td>\n",
              "      <td>256698</td>\n",
              "      <td>покупка недвижимости</td>\n",
              "      <td>B</td>\n",
              "      <td>операции с недвижимостью</td>\n",
              "    </tr>\n",
              "    <tr>\n",
              "      <th>16211</th>\n",
              "      <td>5</td>\n",
              "      <td>387.317579</td>\n",
              "      <td>35</td>\n",
              "      <td>среднее</td>\n",
              "      <td>1</td>\n",
              "      <td>гражданский брак</td>\n",
              "      <td>1</td>\n",
              "      <td>F</td>\n",
              "      <td>госслужащий</td>\n",
              "      <td>0</td>\n",
              "      <td>126102</td>\n",
              "      <td>на проведение свадьбы</td>\n",
              "      <td>C</td>\n",
              "      <td>проведение свадьбы</td>\n",
              "    </tr>\n",
              "    <tr>\n",
              "      <th>20452</th>\n",
              "      <td>5</td>\n",
              "      <td>268.425464</td>\n",
              "      <td>38</td>\n",
              "      <td>начальное</td>\n",
              "      <td>3</td>\n",
              "      <td>женат / замужем</td>\n",
              "      <td>0</td>\n",
              "      <td>F</td>\n",
              "      <td>сотрудник</td>\n",
              "      <td>0</td>\n",
              "      <td>212545</td>\n",
              "      <td>заняться высшим образованием</td>\n",
              "      <td>B</td>\n",
              "      <td>получение образования</td>\n",
              "    </tr>\n",
              "    <tr>\n",
              "      <th>20837</th>\n",
              "      <td>5</td>\n",
              "      <td>2386.600221</td>\n",
              "      <td>35</td>\n",
              "      <td>среднее</td>\n",
              "      <td>1</td>\n",
              "      <td>женат / замужем</td>\n",
              "      <td>0</td>\n",
              "      <td>F</td>\n",
              "      <td>компаньон</td>\n",
              "      <td>0</td>\n",
              "      <td>204241</td>\n",
              "      <td>жилье</td>\n",
              "      <td>B</td>\n",
              "      <td>операции с недвижимостью</td>\n",
              "    </tr>\n",
              "    <tr>\n",
              "      <th>21156</th>\n",
              "      <td>5</td>\n",
              "      <td>1690.018117</td>\n",
              "      <td>59</td>\n",
              "      <td>среднее</td>\n",
              "      <td>1</td>\n",
              "      <td>женат / замужем</td>\n",
              "      <td>0</td>\n",
              "      <td>M</td>\n",
              "      <td>сотрудник</td>\n",
              "      <td>0</td>\n",
              "      <td>269068</td>\n",
              "      <td>операции со своей недвижимостью</td>\n",
              "      <td>B</td>\n",
              "      <td>операции с недвижимостью</td>\n",
              "    </tr>\n",
              "  </tbody>\n",
              "</table>\n",
              "</div>"
            ],
            "text/plain": [
              "       children  days_employed  dob_years  education  education_id  \\\n",
              "3979          5    1572.328285         42    среднее             1   \n",
              "4397          5    3248.839837         36    среднее             1   \n",
              "7866          5     773.124856         36    среднее             1   \n",
              "15822         5     418.199982         31    среднее             1   \n",
              "15916         5    2286.262752         37    среднее             1   \n",
              "16211         5     387.317579         35    среднее             1   \n",
              "20452         5     268.425464         38  начальное             3   \n",
              "20837         5    2386.600221         35    среднее             1   \n",
              "21156         5    1690.018117         59    среднее             1   \n",
              "\n",
              "          family_status  family_status_id gender  income_type  debt  \\\n",
              "3979   гражданский брак                 1      M    сотрудник     0   \n",
              "4397    женат / замужем                 0      F    компаньон     0   \n",
              "7866    женат / замужем                 0      F    сотрудник     0   \n",
              "15822   женат / замужем                 0      F    сотрудник     0   \n",
              "15916   женат / замужем                 0      F    сотрудник     0   \n",
              "16211  гражданский брак                 1      F  госслужащий     0   \n",
              "20452   женат / замужем                 0      F    сотрудник     0   \n",
              "20837   женат / замужем                 0      F    компаньон     0   \n",
              "21156   женат / замужем                 0      M    сотрудник     0   \n",
              "\n",
              "       total_income                           purpose total_income_category  \\\n",
              "3979         142594      на покупку своего автомобиля                     C   \n",
              "4397         168460          операции с недвижимостью                     C   \n",
              "7866          48772                 операции с жильем                     D   \n",
              "15822         77552  сделка с подержанным автомобилем                     C   \n",
              "15916        256698              покупка недвижимости                     B   \n",
              "16211        126102             на проведение свадьбы                     C   \n",
              "20452        212545      заняться высшим образованием                     B   \n",
              "20837        204241                             жилье                     B   \n",
              "21156        269068   операции со своей недвижимостью                     B   \n",
              "\n",
              "               purpose_category  \n",
              "3979     операции с автомобилем  \n",
              "4397   операции с недвижимостью  \n",
              "7866   операции с недвижимостью  \n",
              "15822    операции с автомобилем  \n",
              "15916  операции с недвижимостью  \n",
              "16211        проведение свадьбы  \n",
              "20452     получение образования  \n",
              "20837  операции с недвижимостью  \n",
              "21156  операции с недвижимостью  "
            ]
          },
          "metadata": {},
          "output_type": "display_data"
        }
      ],
      "source": [
        "display(data[data['children'] == 5])"
      ]
    },
    {
      "cell_type": "markdown",
      "id": "18b0435d",
      "metadata": {
        "id": "18b0435d"
      },
      "source": [
        "Видно, что в базе только 9 записей о людях с 5 детьми и их возвратом кредита. В данном случае сложно оценить зависимость возврата кредита от количества детей."
      ]
    },
    {
      "cell_type": "markdown",
      "id": "cba0aaaa",
      "metadata": {
        "deletable": false,
        "id": "cba0aaaa"
      },
      "source": [
        "**Вывод:** "
      ]
    },
    {
      "cell_type": "markdown",
      "id": "8d162318",
      "metadata": {
        "id": "8d162318"
      },
      "source": [
        "Таким образом, существует определенная зависимость между количеством детей и возвратом кредита в срок. Люди без детей, берущие кредит, чаще не имеют задолженностей, чем люди, у которых есть дети. "
      ]
    },
    {
      "cell_type": "markdown",
      "id": "870cd051",
      "metadata": {
        "deletable": false,
        "editable": false,
        "id": "870cd051"
      },
      "source": [
        "#### 3.2 Есть ли зависимость между семейным положением и возвратом кредита в срок?"
      ]
    },
    {
      "cell_type": "markdown",
      "id": "e7ac1191",
      "metadata": {
        "id": "e7ac1191"
      },
      "source": [
        "Здесь и в дальнейшем воспользуемся алгоритмом из предыдущего задания."
      ]
    },
    {
      "cell_type": "code",
      "execution_count": null,
      "id": "03bb4ba4",
      "metadata": {
        "deletable": false,
        "id": "03bb4ba4",
        "outputId": "afb236bf-df92-40e8-a9a3-c347f537c6a6"
      },
      "outputs": [
        {
          "data": {
            "text/plain": [
              "family_status\n",
              "Не женат / не замужем    9.763948\n",
              "в разводе                7.064760\n",
              "вдовец / вдова           6.624606\n",
              "гражданский брак         9.313014\n",
              "женат / замужем          7.560558\n",
              "Name: debt, dtype: float64"
            ]
          },
          "execution_count": 33,
          "metadata": {},
          "output_type": "execute_result"
        }
      ],
      "source": [
        "data.groupby('family_status')['debt'].sum() / data.groupby('family_status')['debt'].count() * 100"
      ]
    },
    {
      "cell_type": "markdown",
      "id": "8aebc48f",
      "metadata": {
        "id": "8aebc48f"
      },
      "source": [
        "Исходя из полученных соотношений, можно сделать вывод, что люди не состоящие в браке имеют тенденцию к задержкам выплат. Вероятно, это связано с тем, что их работа - их единственный источник дохода. При этом люди, состоящие в гражданском браке также имеют близкий процент задержек к \"одиночкам\". Это может быть связано с устройством их совместного бюджета.\n",
        "Люди, состоящие в браке, и люди в разводе имеют приблизительно одинаковый процент задолженностей по кредиту.\n",
        "Меньше всего задолженностей у вдовцов и вдов."
      ]
    },
    {
      "cell_type": "markdown",
      "id": "f5eaf90a",
      "metadata": {
        "deletable": false,
        "id": "f5eaf90a"
      },
      "source": [
        "**Вывод:** "
      ]
    },
    {
      "cell_type": "markdown",
      "id": "120c5c00",
      "metadata": {
        "id": "120c5c00"
      },
      "source": [
        "Исходя из результатов можно сказать, что существует определенная зависимость между семейным положением и возвратом кредита в срок. Меньше всего задержек по возврату возникает у вдовцов и вдов."
      ]
    },
    {
      "cell_type": "markdown",
      "id": "9225010a",
      "metadata": {
        "deletable": false,
        "editable": false,
        "id": "9225010a"
      },
      "source": [
        "#### 3.3 Есть ли зависимость между уровнем дохода и возвратом кредита в срок?"
      ]
    },
    {
      "cell_type": "code",
      "execution_count": null,
      "id": "8727c3d8",
      "metadata": {
        "deletable": false,
        "id": "8727c3d8",
        "outputId": "718c4cbd-cec3-404d-f521-e7deb0b1ff34"
      },
      "outputs": [
        {
          "data": {
            "text/plain": [
              "total_income_category\n",
              "A    8.000000\n",
              "B    7.060231\n",
              "C    8.498210\n",
              "D    6.017192\n",
              "E    9.090909\n",
              "Name: debt, dtype: float64"
            ]
          },
          "execution_count": 34,
          "metadata": {},
          "output_type": "execute_result"
        }
      ],
      "source": [
        "data.groupby('total_income_category')['debt'].sum() / data.groupby('total_income_category')['debt'].count() * 100"
      ]
    },
    {
      "cell_type": "markdown",
      "id": "8ab7740c",
      "metadata": {
        "id": "8ab7740c"
      },
      "source": [
        "Из полученных соотношений видно, что больше всего задолженностей по возврату кредита у людей с доходом категории Е (0 - 30 000). Немноо меньше задолженностей у категории С (50 000 - 200 000) и категории A (больше 1 000 000). Самый маленький роцент задолженностей у категории D (50 001 - 200 000)."
      ]
    },
    {
      "cell_type": "markdown",
      "id": "7dfe5dc2",
      "metadata": {
        "deletable": false,
        "id": "7dfe5dc2"
      },
      "source": [
        "**Вывод:** "
      ]
    },
    {
      "cell_type": "markdown",
      "id": "d0473118",
      "metadata": {
        "id": "d0473118"
      },
      "source": [
        "Таким образом, существует отпределенная зависимость между уровнем дохода и возвратом кредита в срок. Лучше всего кредит возвращают в срок люди с доходом от 50 000 до 200 000 рублей."
      ]
    },
    {
      "cell_type": "markdown",
      "id": "ef4697a1",
      "metadata": {
        "deletable": false,
        "editable": false,
        "id": "ef4697a1"
      },
      "source": [
        "#### 3.4 Как разные цели кредита влияют на его возврат в срок?"
      ]
    },
    {
      "cell_type": "code",
      "execution_count": null,
      "id": "0e5f257b",
      "metadata": {
        "deletable": false,
        "id": "0e5f257b",
        "outputId": "2e70a079-4bc1-4d35-a0a9-c3a6aba7bae6"
      },
      "outputs": [
        {
          "data": {
            "text/plain": [
              "purpose_category\n",
              "операции с автомобилем      9.347978\n",
              "операции с недвижимостью    7.255139\n",
              "получение образования       9.252758\n",
              "проведение свадьбы          7.911803\n",
              "Name: debt, dtype: float64"
            ]
          },
          "execution_count": 35,
          "metadata": {},
          "output_type": "execute_result"
        }
      ],
      "source": [
        "data.groupby('purpose_category')['debt'].sum() / data.groupby('purpose_category')['debt'].count() * 100"
      ]
    },
    {
      "cell_type": "markdown",
      "id": "d6f8092e",
      "metadata": {
        "id": "d6f8092e"
      },
      "source": [
        "Из полученных соотношений видно, что кредиты для операций с автомобилями и получения образования имеют больше задолженностей. Самый маленький процент задолженностей в категории операции с недвижемостью."
      ]
    },
    {
      "cell_type": "markdown",
      "id": "415effa0",
      "metadata": {
        "deletable": false,
        "id": "415effa0"
      },
      "source": [
        "**Вывод:** "
      ]
    },
    {
      "cell_type": "markdown",
      "id": "3df15f34",
      "metadata": {
        "id": "3df15f34"
      },
      "source": [
        "Таким образом, существует определенная зависимость между целью кредита и его возвратом в срок. Лучше всего кредит возвращают в срок, если он предназначен для операций с недвижимостью."
      ]
    },
    {
      "cell_type": "markdown",
      "id": "b312bc16",
      "metadata": {
        "deletable": false,
        "editable": false,
        "id": "b312bc16"
      },
      "source": [
        "#### 3.5 Приведите возможные причины появления пропусков в исходных данных."
      ]
    },
    {
      "cell_type": "markdown",
      "id": "db806226",
      "metadata": {
        "id": "db806226"
      },
      "source": [
        "Т.к. значения отсутствуют одновременно в двух столбцах, вероятно имел место технический сбой."
      ]
    },
    {
      "cell_type": "markdown",
      "id": "bbdded5e",
      "metadata": {
        "deletable": false,
        "editable": false,
        "id": "bbdded5e"
      },
      "source": [
        "#### 3.6 Объясните, почему заполнить пропуски медианным значением — лучшее решение для количественных переменных."
      ]
    },
    {
      "cell_type": "markdown",
      "id": "00fd8110",
      "metadata": {
        "deletable": false,
        "id": "00fd8110"
      },
      "source": [
        "*Ответ:* медианные значение характеризуют именно середину из всего возможного диапазона количественных переменных, и они не будут сбиваться экремумами."
      ]
    },
    {
      "cell_type": "markdown",
      "id": "f7370a4c",
      "metadata": {
        "deletable": false,
        "editable": false,
        "id": "f7370a4c"
      },
      "source": [
        "### Шаг 4: общий вывод."
      ]
    },
    {
      "cell_type": "markdown",
      "id": "972cab80",
      "metadata": {
        "id": "972cab80"
      },
      "source": [
        "Было проведено исследование влияния различных факторов на факт погашения кредита в срок. Исходные данные представлены в виде статистики платежеспособности и других важных для исследования факторов из личных характеристик клиента. Результаты исследования будут учтены при построении модели кредитного скоринга — специальной системы, которая оценивает способность потенциального заёмщика вернуть кредит банку.\n",
        "\n",
        "Перед проведением исследования были выдвинуты несколько гипотез:\n",
        "* *Гипотеза 1*. Между количеством детей и возвратом кредита в срок есть зависимость\n",
        "* *Гипотеза 2*. Между семейным положением и возвратом кредита в срок есть зависимость\n",
        "* *Гипотеза 3*. Между уровнем дохода и возвратом кредита в срок есть зависимость\n",
        "* *Гипотеза 4*. Между целью кредита и его возвратом в срок есть зависимость\n",
        "\n",
        "В результате удалось выявить зависимости.\n",
        "\n",
        "**Гипотеза 1 частично подтверждена**: * для более точных выводов необходимо больше информации по многодетным семьям (3 и более детей).\n",
        "\n",
        "* 7,5% - доля просроченных кредитов у заемщиков без детей;\n",
        "* 9,2% - доля просроченных кредитов у заемщиков с 1 ребенком;\n",
        "* 9,4% -доля просроченных кредитов у заемщиков с 2 детьми;\n",
        "\n",
        "Рекомендация: провести дополнительное исследование на большей выборке данных.\n",
        "\n",
        "**Гипотеза 2 подтверждена:**\n",
        "\n",
        "* У неженатых клиентов (9,8%) и тех, у кого официально не зарегистрирован брак (9,3%), выше вероятность стать должниками.\n",
        "* Те, кто в разводе (7,1%), женат/замужем (7,5%) или вдовец/вдова (6,6%) менбше вероятность стать задолжниками.\n",
        "\n",
        "Рекомендация: Разниуа между показателями не слишком существенна, поэтому не рекоммендуется придавать днной зависимости большой вес при выношении решения о выдаче кредита.\n",
        "\n",
        "**Гипотеза 3 частично подтеверждена:**\n",
        "\n",
        "* 7,1% - доля просроченных кредитов у заемщиков с уровнем дохода от 200 000 до 1 000 000;\n",
        "* 8,5% - доля просроченных кредитов у заемщиков с уровнем дохода от 50 000 до 200 000.\n",
        "\n",
        "**Гипотеза 4 подтверждена:**\n",
        "\n",
        "* 7,3%- доля просроченных кредитов, целью которых были операции с недвижимостью;\n",
        "* 7,9% - доля просроченных кредитов, целью которых было проведение свадьбы;\n",
        "* 9,3% - доля просроченных кредитов, целью которых были операции с автомобилями;\n",
        "* 9,3% - доля просроченных кредитов, целью которых было получение образования.\n",
        "\n",
        "Рекомендация: разница между пунктами 1 и 4 списка всего 2%, поэтому не рекоммендутся придавать днной зависимости большой вес при выношении решения о выдаче кредита.\n",
        "\n",
        "**Общие рекоммендации:**\n",
        "\n",
        "1. При построении скрининговой системы можно использовать зависимости из второй и четвертой гипотезы (семейное положение и цели кредита).\n",
        "2. Необходимы дополнительные данные для повторной выборки для проверки второй и третьей гипотезы."
      ]
    }
  ],
  "metadata": {
    "ExecuteTimeLog": [
      {
        "duration": 477,
        "start_time": "2022-10-20T17:58:05.171Z"
      },
      {
        "duration": 23,
        "start_time": "2022-10-20T17:58:09.572Z"
      },
      {
        "duration": 16,
        "start_time": "2022-10-20T17:58:18.602Z"
      },
      {
        "duration": 10,
        "start_time": "2022-10-20T17:58:22.879Z"
      },
      {
        "duration": 32,
        "start_time": "2022-10-20T17:58:26.866Z"
      },
      {
        "duration": 4,
        "start_time": "2022-10-20T17:58:35.227Z"
      },
      {
        "duration": 9,
        "start_time": "2022-10-20T17:58:39.520Z"
      },
      {
        "duration": 4,
        "start_time": "2022-10-20T17:58:48.467Z"
      },
      {
        "duration": 6,
        "start_time": "2022-10-20T17:58:52.175Z"
      },
      {
        "duration": 5,
        "start_time": "2022-10-20T17:58:55.242Z"
      },
      {
        "duration": 35,
        "start_time": "2022-10-20T17:58:58.446Z"
      },
      {
        "duration": 10,
        "start_time": "2022-10-20T17:59:01.938Z"
      },
      {
        "duration": 4,
        "start_time": "2022-10-20T17:59:05.387Z"
      },
      {
        "duration": 12,
        "start_time": "2022-10-20T17:59:09.265Z"
      },
      {
        "duration": 19,
        "start_time": "2022-10-20T17:59:13.445Z"
      },
      {
        "duration": 17,
        "start_time": "2022-10-20T17:59:16.010Z"
      },
      {
        "duration": 4,
        "start_time": "2022-10-20T17:59:20.087Z"
      },
      {
        "duration": 11,
        "start_time": "2022-10-20T17:59:25.089Z"
      },
      {
        "duration": 6,
        "start_time": "2022-10-20T17:59:28.017Z"
      },
      {
        "duration": 3,
        "start_time": "2022-10-20T17:59:32.543Z"
      },
      {
        "duration": 8,
        "start_time": "2022-10-20T17:59:37.317Z"
      },
      {
        "duration": 51,
        "start_time": "2022-10-21T14:32:07.860Z"
      },
      {
        "duration": 813,
        "start_time": "2022-10-21T14:32:13.395Z"
      },
      {
        "duration": 34,
        "start_time": "2022-10-21T14:32:14.210Z"
      },
      {
        "duration": 21,
        "start_time": "2022-10-21T14:32:14.245Z"
      },
      {
        "duration": 12,
        "start_time": "2022-10-21T14:32:14.268Z"
      },
      {
        "duration": 72,
        "start_time": "2022-10-21T14:32:14.282Z"
      },
      {
        "duration": 4,
        "start_time": "2022-10-21T14:32:14.356Z"
      },
      {
        "duration": 12,
        "start_time": "2022-10-21T14:32:14.361Z"
      },
      {
        "duration": 4,
        "start_time": "2022-10-21T14:32:14.375Z"
      },
      {
        "duration": 9,
        "start_time": "2022-10-21T14:32:14.381Z"
      },
      {
        "duration": 10,
        "start_time": "2022-10-21T14:32:14.429Z"
      },
      {
        "duration": 39,
        "start_time": "2022-10-21T14:32:14.442Z"
      },
      {
        "duration": 12,
        "start_time": "2022-10-21T14:32:14.483Z"
      },
      {
        "duration": 39,
        "start_time": "2022-10-21T14:32:14.497Z"
      },
      {
        "duration": 14,
        "start_time": "2022-10-21T14:32:14.539Z"
      },
      {
        "duration": 24,
        "start_time": "2022-10-21T14:32:14.554Z"
      },
      {
        "duration": 20,
        "start_time": "2022-10-21T14:32:14.580Z"
      },
      {
        "duration": 26,
        "start_time": "2022-10-21T14:32:14.603Z"
      },
      {
        "duration": 13,
        "start_time": "2022-10-21T14:32:14.632Z"
      },
      {
        "duration": 10,
        "start_time": "2022-10-21T14:32:14.647Z"
      },
      {
        "duration": 4,
        "start_time": "2022-10-21T14:32:14.659Z"
      },
      {
        "duration": 13,
        "start_time": "2022-10-21T14:32:14.665Z"
      },
      {
        "duration": 15,
        "start_time": "2022-10-21T14:32:16.857Z"
      },
      {
        "duration": 11,
        "start_time": "2022-10-21T14:32:48.406Z"
      },
      {
        "duration": 11,
        "start_time": "2022-10-21T14:33:17.039Z"
      },
      {
        "duration": 14,
        "start_time": "2022-10-21T14:33:49.651Z"
      },
      {
        "duration": 24,
        "start_time": "2022-10-21T14:34:24.282Z"
      },
      {
        "duration": 10,
        "start_time": "2022-10-21T14:34:35.067Z"
      },
      {
        "duration": 20,
        "start_time": "2022-10-21T14:35:02.601Z"
      },
      {
        "duration": 22,
        "start_time": "2022-10-21T14:35:16.384Z"
      },
      {
        "duration": 32,
        "start_time": "2022-10-21T14:35:36.588Z"
      },
      {
        "duration": 22,
        "start_time": "2022-10-21T14:37:18.764Z"
      },
      {
        "duration": 43,
        "start_time": "2022-10-21T14:41:33.245Z"
      },
      {
        "duration": 17,
        "start_time": "2022-10-21T14:50:47.020Z"
      },
      {
        "duration": 14,
        "start_time": "2022-10-21T14:50:59.862Z"
      },
      {
        "duration": 43,
        "start_time": "2022-10-21T17:41:40.146Z"
      },
      {
        "duration": 32,
        "start_time": "2022-10-21T17:41:56.812Z"
      },
      {
        "duration": 28,
        "start_time": "2022-10-21T17:42:13.903Z"
      },
      {
        "duration": 43,
        "start_time": "2022-10-22T08:41:06.165Z"
      },
      {
        "duration": 451,
        "start_time": "2022-10-22T08:41:27.134Z"
      },
      {
        "duration": 19,
        "start_time": "2022-10-22T08:41:27.587Z"
      },
      {
        "duration": 13,
        "start_time": "2022-10-22T08:41:27.607Z"
      },
      {
        "duration": 9,
        "start_time": "2022-10-22T08:41:27.621Z"
      },
      {
        "duration": 29,
        "start_time": "2022-10-22T08:41:27.631Z"
      },
      {
        "duration": 3,
        "start_time": "2022-10-22T08:41:27.661Z"
      },
      {
        "duration": 10,
        "start_time": "2022-10-22T08:41:27.665Z"
      },
      {
        "duration": 25,
        "start_time": "2022-10-22T08:41:27.676Z"
      },
      {
        "duration": 6,
        "start_time": "2022-10-22T08:41:27.702Z"
      },
      {
        "duration": 4,
        "start_time": "2022-10-22T08:41:27.710Z"
      },
      {
        "duration": 33,
        "start_time": "2022-10-22T08:41:27.715Z"
      },
      {
        "duration": 8,
        "start_time": "2022-10-22T08:41:27.749Z"
      },
      {
        "duration": 4,
        "start_time": "2022-10-22T08:41:27.758Z"
      },
      {
        "duration": 37,
        "start_time": "2022-10-22T08:41:27.763Z"
      },
      {
        "duration": 16,
        "start_time": "2022-10-22T08:41:27.802Z"
      },
      {
        "duration": 15,
        "start_time": "2022-10-22T08:41:27.819Z"
      },
      {
        "duration": 4,
        "start_time": "2022-10-22T08:41:27.835Z"
      },
      {
        "duration": 11,
        "start_time": "2022-10-22T08:41:27.840Z"
      },
      {
        "duration": 6,
        "start_time": "2022-10-22T08:41:27.852Z"
      },
      {
        "duration": 4,
        "start_time": "2022-10-22T08:41:27.859Z"
      },
      {
        "duration": 37,
        "start_time": "2022-10-22T08:41:27.864Z"
      },
      {
        "duration": 8,
        "start_time": "2022-10-22T08:41:32.035Z"
      },
      {
        "duration": 511,
        "start_time": "2022-10-23T09:31:54.810Z"
      },
      {
        "duration": 22,
        "start_time": "2022-10-23T09:31:55.323Z"
      },
      {
        "duration": 14,
        "start_time": "2022-10-23T09:31:55.346Z"
      },
      {
        "duration": 9,
        "start_time": "2022-10-23T09:31:55.362Z"
      },
      {
        "duration": 60,
        "start_time": "2022-10-23T09:31:55.373Z"
      },
      {
        "duration": 3,
        "start_time": "2022-10-23T09:31:55.435Z"
      },
      {
        "duration": 12,
        "start_time": "2022-10-23T09:31:55.439Z"
      },
      {
        "duration": 4,
        "start_time": "2022-10-23T09:31:55.452Z"
      },
      {
        "duration": 10,
        "start_time": "2022-10-23T09:31:55.457Z"
      },
      {
        "duration": 4,
        "start_time": "2022-10-23T09:31:55.469Z"
      },
      {
        "duration": 61,
        "start_time": "2022-10-23T09:31:55.474Z"
      },
      {
        "duration": 8,
        "start_time": "2022-10-23T09:31:55.537Z"
      },
      {
        "duration": 4,
        "start_time": "2022-10-23T09:31:55.547Z"
      },
      {
        "duration": 12,
        "start_time": "2022-10-23T09:31:55.552Z"
      },
      {
        "duration": 18,
        "start_time": "2022-10-23T09:31:55.566Z"
      },
      {
        "duration": 17,
        "start_time": "2022-10-23T09:31:55.585Z"
      },
      {
        "duration": 30,
        "start_time": "2022-10-23T09:31:55.603Z"
      },
      {
        "duration": 9,
        "start_time": "2022-10-23T09:31:55.635Z"
      },
      {
        "duration": 18,
        "start_time": "2022-10-23T09:31:55.645Z"
      },
      {
        "duration": 3,
        "start_time": "2022-10-23T09:31:55.665Z"
      },
      {
        "duration": 13,
        "start_time": "2022-10-23T09:31:55.669Z"
      },
      {
        "duration": 7,
        "start_time": "2022-10-23T09:31:55.684Z"
      },
      {
        "duration": 9,
        "start_time": "2022-10-23T09:31:55.692Z"
      },
      {
        "duration": 35,
        "start_time": "2022-10-23T09:31:55.703Z"
      },
      {
        "duration": 12,
        "start_time": "2022-10-23T09:31:58.959Z"
      },
      {
        "duration": 8,
        "start_time": "2022-10-23T09:36:43.814Z"
      },
      {
        "duration": 41,
        "start_time": "2022-10-23T09:39:01.445Z"
      },
      {
        "duration": 56,
        "start_time": "2022-10-23T09:40:19.858Z"
      },
      {
        "duration": 51,
        "start_time": "2022-10-23T09:40:31.732Z"
      },
      {
        "duration": 10,
        "start_time": "2022-10-23T09:40:55.832Z"
      },
      {
        "duration": 5,
        "start_time": "2022-10-23T09:44:35.556Z"
      },
      {
        "duration": 18,
        "start_time": "2022-10-23T09:45:22.689Z"
      },
      {
        "duration": 14,
        "start_time": "2022-10-23T09:45:33.388Z"
      },
      {
        "duration": 11,
        "start_time": "2022-10-23T09:51:07.920Z"
      },
      {
        "duration": 418,
        "start_time": "2022-10-23T11:54:00.336Z"
      },
      {
        "duration": 22,
        "start_time": "2022-10-23T11:54:00.756Z"
      },
      {
        "duration": 19,
        "start_time": "2022-10-23T11:54:00.779Z"
      },
      {
        "duration": 15,
        "start_time": "2022-10-23T11:54:00.805Z"
      },
      {
        "duration": 37,
        "start_time": "2022-10-23T11:54:00.821Z"
      },
      {
        "duration": 3,
        "start_time": "2022-10-23T11:54:00.860Z"
      },
      {
        "duration": 19,
        "start_time": "2022-10-23T11:54:00.864Z"
      },
      {
        "duration": 5,
        "start_time": "2022-10-23T11:54:00.885Z"
      },
      {
        "duration": 18,
        "start_time": "2022-10-23T11:54:00.892Z"
      },
      {
        "duration": 4,
        "start_time": "2022-10-23T11:54:00.912Z"
      },
      {
        "duration": 43,
        "start_time": "2022-10-23T11:54:00.917Z"
      },
      {
        "duration": 10,
        "start_time": "2022-10-23T11:54:00.961Z"
      },
      {
        "duration": 8,
        "start_time": "2022-10-23T11:54:00.973Z"
      },
      {
        "duration": 37,
        "start_time": "2022-10-23T11:54:00.983Z"
      },
      {
        "duration": 28,
        "start_time": "2022-10-23T11:54:01.022Z"
      },
      {
        "duration": 16,
        "start_time": "2022-10-23T11:54:01.051Z"
      },
      {
        "duration": 3,
        "start_time": "2022-10-23T11:54:01.068Z"
      },
      {
        "duration": 15,
        "start_time": "2022-10-23T11:54:01.072Z"
      },
      {
        "duration": 21,
        "start_time": "2022-10-23T11:54:01.088Z"
      },
      {
        "duration": 16,
        "start_time": "2022-10-23T11:54:01.111Z"
      },
      {
        "duration": 31,
        "start_time": "2022-10-23T11:54:01.129Z"
      },
      {
        "duration": 50,
        "start_time": "2022-10-23T11:54:01.162Z"
      },
      {
        "duration": 46,
        "start_time": "2022-10-23T11:54:01.213Z"
      },
      {
        "duration": 10,
        "start_time": "2022-10-23T11:54:01.261Z"
      },
      {
        "duration": 23,
        "start_time": "2022-10-23T11:54:01.273Z"
      },
      {
        "duration": 32,
        "start_time": "2022-10-23T11:54:01.297Z"
      },
      {
        "duration": 458,
        "start_time": "2022-10-31T18:02:03.128Z"
      },
      {
        "duration": 22,
        "start_time": "2022-10-31T18:02:03.587Z"
      },
      {
        "duration": 13,
        "start_time": "2022-10-31T18:02:03.611Z"
      },
      {
        "duration": 8,
        "start_time": "2022-10-31T18:02:03.625Z"
      },
      {
        "duration": 29,
        "start_time": "2022-10-31T18:02:07.014Z"
      },
      {
        "duration": 20,
        "start_time": "2022-10-31T18:07:08.817Z"
      },
      {
        "duration": 19,
        "start_time": "2022-10-31T18:08:03.008Z"
      },
      {
        "duration": 80,
        "start_time": "2022-10-31T18:12:53.224Z"
      },
      {
        "duration": 69,
        "start_time": "2022-10-31T18:13:05.149Z"
      },
      {
        "duration": 14,
        "start_time": "2022-10-31T18:13:05.220Z"
      },
      {
        "duration": 33,
        "start_time": "2022-10-31T18:13:05.236Z"
      },
      {
        "duration": 24,
        "start_time": "2022-10-31T18:13:05.271Z"
      },
      {
        "duration": 35,
        "start_time": "2022-10-31T18:13:05.300Z"
      },
      {
        "duration": 31,
        "start_time": "2022-10-31T18:13:05.336Z"
      },
      {
        "duration": 4,
        "start_time": "2022-10-31T18:13:05.368Z"
      },
      {
        "duration": 37,
        "start_time": "2022-10-31T18:13:05.380Z"
      },
      {
        "duration": 21,
        "start_time": "2022-10-31T18:13:05.419Z"
      },
      {
        "duration": 21,
        "start_time": "2022-10-31T18:13:05.443Z"
      },
      {
        "duration": 21,
        "start_time": "2022-10-31T18:13:05.466Z"
      },
      {
        "duration": 51,
        "start_time": "2022-10-31T18:13:05.491Z"
      },
      {
        "duration": 8,
        "start_time": "2022-10-31T18:13:05.544Z"
      },
      {
        "duration": 25,
        "start_time": "2022-10-31T18:13:05.553Z"
      },
      {
        "duration": 29,
        "start_time": "2022-10-31T18:13:05.581Z"
      },
      {
        "duration": 48,
        "start_time": "2022-10-31T18:13:05.612Z"
      },
      {
        "duration": 19,
        "start_time": "2022-10-31T18:13:05.662Z"
      },
      {
        "duration": 14,
        "start_time": "2022-10-31T18:13:05.685Z"
      },
      {
        "duration": 36,
        "start_time": "2022-10-31T18:13:05.700Z"
      },
      {
        "duration": 22,
        "start_time": "2022-10-31T18:13:05.738Z"
      },
      {
        "duration": 34,
        "start_time": "2022-10-31T18:13:05.762Z"
      },
      {
        "duration": 15,
        "start_time": "2022-10-31T18:13:05.797Z"
      },
      {
        "duration": 20,
        "start_time": "2022-10-31T18:13:05.813Z"
      },
      {
        "duration": 30,
        "start_time": "2022-10-31T18:13:05.835Z"
      },
      {
        "duration": 10,
        "start_time": "2022-10-31T18:13:05.866Z"
      },
      {
        "duration": 30,
        "start_time": "2022-10-31T18:13:05.884Z"
      },
      {
        "duration": 11,
        "start_time": "2022-10-31T18:13:05.916Z"
      },
      {
        "duration": 74,
        "start_time": "2022-10-31T18:13:13.347Z"
      },
      {
        "duration": 82,
        "start_time": "2022-10-31T18:13:30.873Z"
      },
      {
        "duration": 81,
        "start_time": "2022-10-31T18:13:51.324Z"
      }
    ],
    "celltoolbar": "Необработанный формат ячейки",
    "colab": {
      "provenance": []
    },
    "kernelspec": {
      "display_name": "Python 3 (ipykernel)",
      "language": "python",
      "name": "python3"
    },
    "language_info": {
      "codemirror_mode": {
        "name": "ipython",
        "version": 3
      },
      "file_extension": ".py",
      "mimetype": "text/x-python",
      "name": "python",
      "nbconvert_exporter": "python",
      "pygments_lexer": "ipython3",
      "version": "3.9.5"
    },
    "toc": {
      "base_numbering": 1,
      "nav_menu": {},
      "number_sections": true,
      "sideBar": true,
      "skip_h1_title": true,
      "title_cell": "Table of Contents",
      "title_sidebar": "Contents",
      "toc_cell": false,
      "toc_position": {
        "height": "calc(100% - 180px)",
        "left": "10px",
        "top": "150px",
        "width": "245.264px"
      },
      "toc_section_display": true,
      "toc_window_display": true
    }
  },
  "nbformat": 4,
  "nbformat_minor": 5
}