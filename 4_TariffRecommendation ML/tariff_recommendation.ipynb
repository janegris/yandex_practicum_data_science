{
  "cells": [
    {
      "cell_type": "markdown",
      "metadata": {
        "id": "05F000uoEdp3"
      },
      "source": [
        "# Рекомендация тарифов"
      ]
    },
    {
      "cell_type": "markdown",
      "metadata": {
        "id": "TWj8OTGUEdp4"
      },
      "source": [
        "В вашем распоряжении данные о поведении клиентов, которые уже перешли на эти тарифы (из проекта курса «Статистический анализ данных»). Нужно построить модель для задачи классификации, которая выберет подходящий тариф. Предобработка данных не понадобится — вы её уже сделали.\n",
        "\n",
        "Постройте модель с максимально большим значением *accuracy*. Чтобы сдать проект успешно, нужно довести долю правильных ответов по крайней мере до 0.75. Проверьте *accuracy* на тестовой выборке самостоятельно."
      ]
    },
    {
      "cell_type": "markdown",
      "metadata": {
        "id": "uMCW6axzEdp6"
      },
      "source": [
        "## Откройте и изучите файл"
      ]
    },
    {
      "cell_type": "code",
      "execution_count": null,
      "metadata": {
        "id": "Keryvm-PEdp6"
      },
      "outputs": [],
      "source": [
        "import pandas as pd\n",
        "from sklearn.ensemble import RandomForestClassifier\n",
        "from sklearn.linear_model import LogisticRegression\n",
        "from sklearn.tree import DecisionTreeClassifier\n",
        "from sklearn.metrics import accuracy_score\n",
        "from sklearn.model_selection import train_test_split\n",
        "from sklearn.dummy import DummyClassifier\n"
      ]
    },
    {
      "cell_type": "code",
      "execution_count": null,
      "metadata": {
        "id": "qz_-ZrYfEdp_"
      },
      "outputs": [],
      "source": [
        "df = pd.read_csv('/datasets/users_behavior.csv')"
      ]
    },
    {
      "cell_type": "code",
      "execution_count": null,
      "metadata": {
        "id": "lxToipPWEdqA",
        "outputId": "21bf2b94-7955-4ba3-fce0-2588769a7032"
      },
      "outputs": [
        {
          "data": {
            "text/html": [
              "<div>\n",
              "<style scoped>\n",
              "    .dataframe tbody tr th:only-of-type {\n",
              "        vertical-align: middle;\n",
              "    }\n",
              "\n",
              "    .dataframe tbody tr th {\n",
              "        vertical-align: top;\n",
              "    }\n",
              "\n",
              "    .dataframe thead th {\n",
              "        text-align: right;\n",
              "    }\n",
              "</style>\n",
              "<table border=\"1\" class=\"dataframe\">\n",
              "  <thead>\n",
              "    <tr style=\"text-align: right;\">\n",
              "      <th></th>\n",
              "      <th>calls</th>\n",
              "      <th>minutes</th>\n",
              "      <th>messages</th>\n",
              "      <th>mb_used</th>\n",
              "      <th>is_ultra</th>\n",
              "    </tr>\n",
              "  </thead>\n",
              "  <tbody>\n",
              "    <tr>\n",
              "      <th>0</th>\n",
              "      <td>40.0</td>\n",
              "      <td>311.90</td>\n",
              "      <td>83.0</td>\n",
              "      <td>19915.42</td>\n",
              "      <td>0</td>\n",
              "    </tr>\n",
              "    <tr>\n",
              "      <th>1</th>\n",
              "      <td>85.0</td>\n",
              "      <td>516.75</td>\n",
              "      <td>56.0</td>\n",
              "      <td>22696.96</td>\n",
              "      <td>0</td>\n",
              "    </tr>\n",
              "    <tr>\n",
              "      <th>2</th>\n",
              "      <td>77.0</td>\n",
              "      <td>467.66</td>\n",
              "      <td>86.0</td>\n",
              "      <td>21060.45</td>\n",
              "      <td>0</td>\n",
              "    </tr>\n",
              "    <tr>\n",
              "      <th>3</th>\n",
              "      <td>106.0</td>\n",
              "      <td>745.53</td>\n",
              "      <td>81.0</td>\n",
              "      <td>8437.39</td>\n",
              "      <td>1</td>\n",
              "    </tr>\n",
              "    <tr>\n",
              "      <th>4</th>\n",
              "      <td>66.0</td>\n",
              "      <td>418.74</td>\n",
              "      <td>1.0</td>\n",
              "      <td>14502.75</td>\n",
              "      <td>0</td>\n",
              "    </tr>\n",
              "  </tbody>\n",
              "</table>\n",
              "</div>"
            ],
            "text/plain": [
              "   calls  minutes  messages   mb_used  is_ultra\n",
              "0   40.0   311.90      83.0  19915.42         0\n",
              "1   85.0   516.75      56.0  22696.96         0\n",
              "2   77.0   467.66      86.0  21060.45         0\n",
              "3  106.0   745.53      81.0   8437.39         1\n",
              "4   66.0   418.74       1.0  14502.75         0"
            ]
          },
          "execution_count": 3,
          "metadata": {},
          "output_type": "execute_result"
        }
      ],
      "source": [
        "df.head()"
      ]
    },
    {
      "cell_type": "code",
      "execution_count": null,
      "metadata": {
        "id": "DxGFixDOEdqC",
        "outputId": "80c4c7fd-09e7-4d6a-8cb3-f6d16853aeb0"
      },
      "outputs": [
        {
          "name": "stdout",
          "output_type": "stream",
          "text": [
            "<class 'pandas.core.frame.DataFrame'>\n",
            "RangeIndex: 3214 entries, 0 to 3213\n",
            "Data columns (total 5 columns):\n",
            " #   Column    Non-Null Count  Dtype  \n",
            "---  ------    --------------  -----  \n",
            " 0   calls     3214 non-null   float64\n",
            " 1   minutes   3214 non-null   float64\n",
            " 2   messages  3214 non-null   float64\n",
            " 3   mb_used   3214 non-null   float64\n",
            " 4   is_ultra  3214 non-null   int64  \n",
            "dtypes: float64(4), int64(1)\n",
            "memory usage: 125.7 KB\n"
          ]
        }
      ],
      "source": [
        "df.info()"
      ]
    },
    {
      "cell_type": "markdown",
      "metadata": {
        "id": "fNAmYKTbEdqD"
      },
      "source": [
        "**Вывод:** В файле присутствуют 3214 строк с 4 количественными признаками о звонках, их суммарной длительности в минутах, потраченных мегабайтах интернета и используемом тарифе. Пустых строк нет, предварительная обработка была сделана ранее."
      ]
    },
    {
      "cell_type": "markdown",
      "metadata": {
        "id": "nIqIrs5DEdqF"
      },
      "source": [
        "## Разбейте данные на выборки"
      ]
    },
    {
      "cell_type": "markdown",
      "metadata": {
        "id": "a71NsGYrEdqG"
      },
      "source": [
        "Разобъем исходную выборку на обучающую, валидационную и тестовую в соотношении 3:1:1 соответственно."
      ]
    },
    {
      "cell_type": "code",
      "execution_count": null,
      "metadata": {
        "id": "hvytPvDfEdqG"
      },
      "outputs": [],
      "source": [
        "df_train, df_test = train_test_split(df,train_size=0.6, random_state=12345)\n",
        "df_test, df_valid = train_test_split(df_test, train_size=0.5,random_state=12345)"
      ]
    },
    {
      "cell_type": "code",
      "execution_count": null,
      "metadata": {
        "id": "AIN8ULpSEdqH",
        "outputId": "1f36660e-c768-4800-b141-61e5d7a84749"
      },
      "outputs": [
        {
          "name": "stdout",
          "output_type": "stream",
          "text": [
            "(1928, 4)\n",
            "(1928,)\n",
            "(643, 4)\n",
            "(643,)\n",
            "(643, 4)\n",
            "(643,)\n"
          ]
        }
      ],
      "source": [
        "features_train = df_train.drop(['is_ultra'], axis=1)\n",
        "target_train = df_train['is_ultra']\n",
        "features_valid = df_valid.drop(['is_ultra'], axis=1)\n",
        "target_valid = df_valid['is_ultra']\n",
        "features_test = df_test.drop(['is_ultra'], axis=1)\n",
        "target_test = df_test['is_ultra']\n",
        "\n",
        "print(features_train.shape)\n",
        "print(target_train.shape)\n",
        "print(features_valid.shape)\n",
        "print(target_valid.shape)\n",
        "print(features_test.shape)\n",
        "print(target_test.shape)"
      ]
    },
    {
      "cell_type": "markdown",
      "metadata": {
        "id": "5BYV38yvEdqH"
      },
      "source": [
        "**Вывод:** Полученные выборки удовлетворяют необходимым соотношениям и размерам."
      ]
    },
    {
      "cell_type": "markdown",
      "metadata": {
        "id": "n4_6Vhd7EdqI"
      },
      "source": [
        "## Исследуйте модели"
      ]
    },
    {
      "cell_type": "markdown",
      "metadata": {
        "id": "x0Oq6yrvEdqI"
      },
      "source": [
        "Для исследование были выбраны модели случайного леса, логистическая регрессия и дерево решений."
      ]
    },
    {
      "cell_type": "markdown",
      "metadata": {
        "id": "qQiM3Y_KEdqI"
      },
      "source": [
        "### Случайный лес"
      ]
    },
    {
      "cell_type": "code",
      "execution_count": null,
      "metadata": {
        "id": "XfbZgliSEdqJ"
      },
      "outputs": [],
      "source": [
        "best_model_random_forest = None\n",
        "best_result = 0\n",
        "for est in range(1, 101):\n",
        "    for d in range(1,16):\n",
        "        for ml in range(1,11):\n",
        "            model = RandomForestClassifier(random_state=12345, n_estimators=est, max_depth=d, min_samples_leaf=ml) # обучите модель с заданным количеством деревьев\n",
        "            model.fit(features_train,target_train) # обучите модель на тренировочной выборке\n",
        "            result = model.score(features_valid,target_valid) # посчитайте качество модели на валидационной выборке\n",
        "            if result > best_result:\n",
        "                best_model_random_forest = model\n",
        "                best_result = result #  сохраните наилучшее значение метрики accuracy на валидационных данных\n",
        "                best_est = est\n",
        "                best_md = d\n",
        "                best_ml = ml\n",
        "\n",
        "print(\"Accuracy наилучшей модели на валидационной выборке:\", best_result)\n",
        "print(\"Количество деревьев наилучшей модели на валидационной выборке:\", best_est)\n",
        "print(\"Максимальная глубина наилучшей модели на валидационной выборке:\", best_md)\n",
        "print(\"Минимальное количество объектов в листьях наилучшей модели на валидационной выборке:\", best_md)"
      ]
    },
    {
      "cell_type": "markdown",
      "metadata": {
        "id": "LJPI3wrvEdqK"
      },
      "source": [
        "### Логистическая регрессия"
      ]
    },
    {
      "cell_type": "code",
      "execution_count": null,
      "metadata": {
        "id": "551EnqlqEdqK"
      },
      "outputs": [],
      "source": [
        "best_model_log_regression = None\n",
        "best_result = 0\n",
        "#solver = ['newton-cg','lbfgs','liblinear','sag','saga']\n",
        "penalty = ['l2','none']\n",
        "C = [0.1, 0.2,0.3,0.4,0.5,0.6,0.7,0.8,0.9,1.0,2.0,3.0,4.0,5.0,6.0,7.0,8.0,9.0,10.0]\n",
        "\n",
        "for p in penalty:\n",
        "    for c in C:\n",
        "        model = LogisticRegression(random_state=12345, solver='lbfgs', max_iter=10000, penalty=p, C=c) # обучите модель с заданным количеством деревьев\n",
        "        model.fit(features_train,target_train) # обучите модель на тренировочной выборке\n",
        "        result = model.score(features_valid,target_valid) # посчитайте качество модели на валидационной выборке\n",
        "        if result > best_result:\n",
        "            best_model_log_regression = model\n",
        "            best_result = result #  сохраните наилучшее значение метрики accuracy на валидационных данных\n",
        "            best_penalty = p\n",
        "            best_c = c\n",
        "\n",
        "print(\"Accuracy наилучшей модели на валидационной выборке:\", best_result)\n",
        "print(\"Penalty наилучшей модели на валидационной выборке:\", best_penalty)\n",
        "print(\"C наилучшей модели на валидационной выборке:\", best_c)"
      ]
    },
    {
      "cell_type": "markdown",
      "metadata": {
        "id": "GG1Io-qHEdqL"
      },
      "source": [
        "### Дерево решений"
      ]
    },
    {
      "cell_type": "code",
      "execution_count": null,
      "metadata": {
        "id": "P-TvulMHEdqL"
      },
      "outputs": [],
      "source": [
        "best_model_tree_classifier = None\n",
        "best_result = 0\n",
        "\n",
        "for depth in range(1, 101):\n",
        "    model = DecisionTreeClassifier(random_state=12345, max_depth = depth) \n",
        "    model.fit(features_train,target_train)\n",
        "    result = model.score(features_valid,target_valid) # посчитайте качество модели на валидационной выборке\n",
        "    if result > best_result:\n",
        "        best_model_tree_classifier = model\n",
        "        best_result = result#  сохраните наилучшее значение метрики accuracy на валидационных данных\n",
        "        best_depth = depth\n",
        "\n",
        "print(\"Accuracy наилучшей модели на валидационной выборке:\", best_result)\n",
        "print(\"Глубина наилучшей модели на валидационной выборке:\", best_depth)"
      ]
    },
    {
      "cell_type": "markdown",
      "metadata": {
        "id": "rM1y5BwrEdqM"
      },
      "source": [
        "**Вывод:** Были рассмотрены три модели: случайноо леса, логистическая регресия и дерево решений. Для каждой модел изменялись ее гиперпараметры для получения наилучшой модели. В результате наилучшая доля правильных ответов достигнута при использовании случайного леса (0.82). В дальнейшем будем использовать именно эту модель."
      ]
    },
    {
      "cell_type": "markdown",
      "metadata": {
        "id": "SHfwzS-mEdqO"
      },
      "source": [
        "## Проверьте модель на тестовой выборке"
      ]
    },
    {
      "cell_type": "markdown",
      "metadata": {
        "id": "cHWRP2gLEdqP"
      },
      "source": [
        "Проверим лучшую модель случайного леса на тестовой выборке."
      ]
    },
    {
      "cell_type": "code",
      "execution_count": null,
      "metadata": {
        "id": "-LvTa4eIEdqP"
      },
      "outputs": [],
      "source": [
        "predictions_test = best_model_random_forest.predict(features_test)\n",
        "\n",
        "print(\"Тестовая выборка:\", accuracy_score(target_test, predictions_test))"
      ]
    },
    {
      "cell_type": "markdown",
      "metadata": {
        "id": "GJWOeO4eEdqQ"
      },
      "source": [
        "**Вывод:** выбранная модель показала долю правильных ответов на тестовой выорке равную 0.79, что соответствует заданию."
      ]
    },
    {
      "cell_type": "markdown",
      "metadata": {
        "id": "y1eFufUtEdqR"
      },
      "source": [
        "## (бонус) Проверьте модели на адекватность"
      ]
    },
    {
      "cell_type": "markdown",
      "metadata": {
        "id": "0Zy5AcB2EdqR"
      },
      "source": [
        "Для проверки модели на адекватность воспользуемся простейшей моделью, которая всегда предсказывает наиболее часто встречающийся класс. Так мы получим контрольные данные для сравнительной оценки построенной вами более сложной модели."
      ]
    },
    {
      "cell_type": "code",
      "execution_count": null,
      "metadata": {
        "id": "Ekz76c-nEdqS"
      },
      "outputs": [],
      "source": [
        "model_dummy_classifiery = DummyClassifier(random_state=12345) \n",
        "model_dummy_classifiery.fit(features_train,target_train)\n",
        "predictions_test_dummy = model_dummy_classifiery.predict(features_test)\n",
        "print(\"Тестовая выборка:\", accuracy_score(target_test, predictions_test_dummy))"
      ]
    },
    {
      "cell_type": "markdown",
      "metadata": {
        "id": "_5FOztbkEdqS"
      },
      "source": [
        "**Вывод:** наша выбранная сложная модель показала большую точность (0.79), чем простейшая (0.71)"
      ]
    },
    {
      "cell_type": "markdown",
      "metadata": {
        "id": "95wfivPzEdqT"
      },
      "source": [
        "## Вывод\n",
        "\n",
        "В данном проекте было необходимо построить модель для задачи классификации, способную проанализировать поведение клиентов и предложить пользователям новый тариф: «Смарт» или «Ультра».\n",
        "\n",
        "В качестве признаков были взяты данные о поведении клиентов, которые уже перешли на эти тарифы. В файле присутствуют 3214 строк с 4 количественными признаками о звонках, их суммарной длительности в минутах, потраченных мегабайтах интернета и используемом тарифе. Пропусков нет, предварительная обработка была сделана ранее.Исходная выборка была разбита на обучающую, валидационную и тестовую в соотношении 3:1:1 соответственно.\n",
        "\n",
        "Были рассмотрены три модели: случайноо леса, логистическая регресия и дерево решений. Для каждой модел изменялись ее гиперпараметры для получения наилучшой модели. \n",
        "1. Лучшая модель *случайного леса* дотигла доли правильных ответов 0.82 при гиперпараметрах: количество деревьев = 6, максимальная глубина = 11, а минимальное количество объектов в листьях = 11. \n",
        "2. Лучшая модель *логистической регресии* дотигла доли правильных ответов 0.74 при гиперпараметрах: штраф = l2, C = 0.2.\n",
        "3. Лучшая модель *дерево решений* дотигла доли правильных ответов 0.8 при глубине = 7.\n",
        "В результате наилучшая доля правильных ответов достигнута при использовании случайного леса (0.82). \n",
        "\n",
        "Было проведено тестирование выбранной модели на тестовой выборке, где она показала долю правильных ответов  равную 0.79, что соответствует изначальным требованиеям.\n",
        "\n",
        "Для проверки модели на адекватность воспользовались простейшей моделью, которая всегда предсказывает наиболее часто встречающийся класс. Так мы получили контрольные данные для сравнительной оценки построенной вами более сложной модели. В результате сравнения наша выбранная сложная модель показала большую точность (0.79), чем простейшая (0.71)\n",
        "\n",
        "Таким образом, была построена модель для задачи классификации определения предпочтительного тарифа среди пользователй с нужной долей правльных ответов."
      ]
    },
    {
      "cell_type": "code",
      "execution_count": null,
      "metadata": {
        "id": "ZnCdcKQFEdqX"
      },
      "outputs": [],
      "source": []
    }
  ],
  "metadata": {
    "ExecuteTimeLog": [
      {
        "duration": 356,
        "start_time": "2022-11-19T06:55:55.865Z"
      },
      {
        "duration": 59,
        "start_time": "2022-11-19T06:57:36.072Z"
      },
      {
        "duration": 7,
        "start_time": "2022-11-19T06:57:44.808Z"
      },
      {
        "duration": 111,
        "start_time": "2022-11-19T06:57:48.687Z"
      },
      {
        "duration": 11,
        "start_time": "2022-11-19T06:58:02.794Z"
      },
      {
        "duration": 15,
        "start_time": "2022-11-19T06:58:27.466Z"
      },
      {
        "duration": 1041,
        "start_time": "2022-12-07T05:18:22.530Z"
      },
      {
        "duration": 129,
        "start_time": "2022-12-07T05:18:23.574Z"
      },
      {
        "duration": 17,
        "start_time": "2022-12-07T05:18:23.704Z"
      },
      {
        "duration": 10,
        "start_time": "2022-12-07T05:18:23.723Z"
      },
      {
        "duration": 8,
        "start_time": "2022-12-07T05:18:23.735Z"
      },
      {
        "duration": 54,
        "start_time": "2022-12-07T05:18:23.744Z"
      },
      {
        "duration": 42,
        "start_time": "2022-12-07T05:18:39.671Z"
      },
      {
        "duration": 52,
        "start_time": "2022-12-07T05:18:52.403Z"
      },
      {
        "duration": 5,
        "start_time": "2022-12-07T05:19:06.478Z"
      },
      {
        "duration": 91,
        "start_time": "2022-12-07T05:19:09.833Z"
      },
      {
        "duration": 11,
        "start_time": "2022-12-07T05:19:28.341Z"
      },
      {
        "duration": 258,
        "start_time": "2022-12-07T05:19:31.802Z"
      },
      {
        "duration": 29,
        "start_time": "2022-12-07T05:21:56.487Z"
      },
      {
        "duration": 12,
        "start_time": "2022-12-07T05:22:48.558Z"
      },
      {
        "duration": 273,
        "start_time": "2022-12-07T05:23:27.546Z"
      },
      {
        "duration": 3,
        "start_time": "2022-12-07T05:25:15.792Z"
      },
      {
        "duration": 8,
        "start_time": "2022-12-07T05:25:33.719Z"
      },
      {
        "duration": 8,
        "start_time": "2022-12-07T05:33:43.736Z"
      },
      {
        "duration": 9,
        "start_time": "2022-12-07T05:33:46.897Z"
      },
      {
        "duration": 3,
        "start_time": "2022-12-07T05:34:06.975Z"
      },
      {
        "duration": 30,
        "start_time": "2022-12-07T05:34:10.197Z"
      },
      {
        "duration": 1090,
        "start_time": "2022-12-08T05:15:08.197Z"
      },
      {
        "duration": 117,
        "start_time": "2022-12-08T05:15:09.289Z"
      },
      {
        "duration": 14,
        "start_time": "2022-12-08T05:15:09.408Z"
      },
      {
        "duration": 11,
        "start_time": "2022-12-08T05:15:09.424Z"
      },
      {
        "duration": 8,
        "start_time": "2022-12-08T05:15:09.437Z"
      },
      {
        "duration": 45,
        "start_time": "2022-12-08T05:15:09.446Z"
      },
      {
        "duration": 0,
        "start_time": "2022-12-08T05:15:09.493Z"
      },
      {
        "duration": 6,
        "start_time": "2022-12-08T05:15:21.268Z"
      },
      {
        "duration": 275,
        "start_time": "2022-12-08T05:15:24.894Z"
      },
      {
        "duration": 94,
        "start_time": "2022-12-08T05:15:27.490Z"
      },
      {
        "duration": 195,
        "start_time": "2022-12-08T05:15:46.092Z"
      },
      {
        "duration": 537,
        "start_time": "2022-12-08T05:16:20.115Z"
      },
      {
        "duration": 1119,
        "start_time": "2022-12-08T05:16:39.648Z"
      },
      {
        "duration": 7,
        "start_time": "2022-12-08T05:18:37.330Z"
      },
      {
        "duration": 21109,
        "start_time": "2022-12-08T05:21:21.938Z"
      },
      {
        "duration": 21476,
        "start_time": "2022-12-08T05:23:15.814Z"
      },
      {
        "duration": 369,
        "start_time": "2022-12-08T05:28:35.018Z"
      },
      {
        "duration": 1039,
        "start_time": "2022-12-08T05:31:08.339Z"
      },
      {
        "duration": 1166,
        "start_time": "2022-12-11T15:15:05.755Z"
      },
      {
        "duration": 135,
        "start_time": "2022-12-11T15:15:06.923Z"
      },
      {
        "duration": 16,
        "start_time": "2022-12-11T15:15:07.059Z"
      },
      {
        "duration": 10,
        "start_time": "2022-12-11T15:15:07.077Z"
      },
      {
        "duration": 8,
        "start_time": "2022-12-11T15:15:07.088Z"
      },
      {
        "duration": 8,
        "start_time": "2022-12-11T15:15:07.098Z"
      },
      {
        "duration": 71985,
        "start_time": "2022-12-11T15:15:11.754Z"
      },
      {
        "duration": 235618,
        "start_time": "2022-12-11T15:16:43.172Z"
      },
      {
        "duration": 3646616,
        "start_time": "2022-12-11T15:22:40.864Z"
      },
      {
        "duration": 2391938,
        "start_time": "2022-12-11T16:23:34.877Z"
      },
      {
        "duration": 1151,
        "start_time": "2022-12-11T18:02:26.183Z"
      },
      {
        "duration": 9,
        "start_time": "2022-12-11T18:07:50.319Z"
      },
      {
        "duration": 8,
        "start_time": "2022-12-11T18:08:41.094Z"
      },
      {
        "duration": 1115,
        "start_time": "2022-12-14T05:31:55.682Z"
      },
      {
        "duration": 129,
        "start_time": "2022-12-14T05:31:58.019Z"
      },
      {
        "duration": 17,
        "start_time": "2022-12-14T05:31:59.448Z"
      },
      {
        "duration": 11,
        "start_time": "2022-12-14T05:32:00.593Z"
      },
      {
        "duration": 6,
        "start_time": "2022-12-14T05:34:36.666Z"
      },
      {
        "duration": 9,
        "start_time": "2022-12-14T05:34:37.655Z"
      },
      {
        "duration": 997,
        "start_time": "2022-12-14T05:39:17.143Z"
      },
      {
        "duration": 1003,
        "start_time": "2022-12-14T05:39:22.512Z"
      },
      {
        "duration": 2121123,
        "start_time": "2022-12-14T05:39:32.357Z"
      },
      {
        "duration": 8,
        "start_time": "2022-12-14T06:49:17.491Z"
      },
      {
        "duration": 1084,
        "start_time": "2022-12-16T04:59:01.549Z"
      },
      {
        "duration": 154,
        "start_time": "2022-12-16T05:01:26.232Z"
      },
      {
        "duration": 6,
        "start_time": "2022-12-16T05:01:31.238Z"
      },
      {
        "duration": 8,
        "start_time": "2022-12-16T05:01:35.144Z"
      },
      {
        "duration": 115,
        "start_time": "2022-12-16T05:02:21.280Z"
      },
      {
        "duration": 6,
        "start_time": "2022-12-16T05:02:31.524Z"
      },
      {
        "duration": 1626,
        "start_time": "2022-12-16T05:36:29.293Z"
      },
      {
        "duration": 132,
        "start_time": "2022-12-16T05:36:30.920Z"
      },
      {
        "duration": 14,
        "start_time": "2022-12-16T05:36:31.054Z"
      },
      {
        "duration": 17,
        "start_time": "2022-12-16T05:36:31.070Z"
      },
      {
        "duration": 18,
        "start_time": "2022-12-16T05:36:31.089Z"
      },
      {
        "duration": 20,
        "start_time": "2022-12-16T05:36:31.108Z"
      }
    ],
    "kernelspec": {
      "display_name": "Python 3 (ipykernel)",
      "language": "python",
      "name": "python3"
    },
    "language_info": {
      "codemirror_mode": {
        "name": "ipython",
        "version": 3
      },
      "file_extension": ".py",
      "mimetype": "text/x-python",
      "name": "python",
      "nbconvert_exporter": "python",
      "pygments_lexer": "ipython3",
      "version": "3.9.5"
    },
    "toc": {
      "base_numbering": 1,
      "nav_menu": {},
      "number_sections": true,
      "sideBar": true,
      "skip_h1_title": true,
      "title_cell": "Table of Contents",
      "title_sidebar": "Contents",
      "toc_cell": false,
      "toc_position": {},
      "toc_section_display": true,
      "toc_window_display": false
    },
    "colab": {
      "provenance": []
    }
  },
  "nbformat": 4,
  "nbformat_minor": 0
}