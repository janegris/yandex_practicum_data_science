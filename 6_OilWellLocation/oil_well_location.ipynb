{
  "cells": [
    {
      "cell_type": "markdown",
      "metadata": {
        "id": "w_Sjz0fQbE7f"
      },
      "source": [
        "# Выбор локации для скважины"
      ]
    },
    {
      "cell_type": "markdown",
      "metadata": {
        "id": "Ku7laWIMbE7g"
      },
      "source": [
        "Допустим, вы работаете в добывающей компании «ГлавРосГосНефть». Нужно решить, где бурить новую скважину.\n",
        "\n",
        "Вам предоставлены пробы нефти в трёх регионах: в каждом 10 000 месторождений, где измерили качество нефти и объём её запасов. Постройте модель машинного обучения, которая поможет определить регион, где добыча принесёт наибольшую прибыль. Проанализируйте возможную прибыль и риски техникой *Bootstrap.*\n",
        "\n",
        "Шаги для выбора локации:\n",
        "\n",
        "- В избранном регионе ищут месторождения, для каждого определяют значения признаков;\n",
        "- Строят модель и оценивают объём запасов;\n",
        "- Выбирают месторождения с самым высокими оценками значений. Количество месторождений зависит от бюджета компании и стоимости разработки одной скважины;\n",
        "- Прибыль равна суммарной прибыли отобранных месторождений."
      ]
    },
    {
      "cell_type": "markdown",
      "metadata": {
        "id": "WUbWgK5ObE7i"
      },
      "source": [
        "## Загрузка и подготовка данных"
      ]
    },
    {
      "cell_type": "code",
      "execution_count": null,
      "metadata": {
        "id": "0XPLifIhbE7k"
      },
      "outputs": [],
      "source": [
        "import pandas as pd\n",
        "from sklearn.model_selection import train_test_split\n",
        "from sklearn.linear_model import LinearRegression\n",
        "from sklearn.metrics import mean_squared_error\n",
        "from numpy.random import RandomState\n",
        "\n",
        "state = RandomState(12345)"
      ]
    },
    {
      "cell_type": "code",
      "execution_count": null,
      "metadata": {
        "id": "hJHjK9s7bE7q"
      },
      "outputs": [],
      "source": [
        "data_0 =  pd.read_csv('/datasets/geo_data_0.csv')\n",
        "data_1 = pd.read_csv('/datasets/geo_data_1.csv') \n",
        "data_2 = pd.read_csv('/datasets/geo_data_2.csv')"
      ]
    },
    {
      "cell_type": "code",
      "execution_count": null,
      "metadata": {
        "id": "Qv8vEDLybE7s",
        "outputId": "84489b65-013c-44a3-bf1c-f9d9a7e0add6"
      },
      "outputs": [
        {
          "name": "stdout",
          "output_type": "stream",
          "text": [
            "<class 'pandas.core.frame.DataFrame'>\n",
            "RangeIndex: 100000 entries, 0 to 99999\n",
            "Data columns (total 5 columns):\n",
            " #   Column   Non-Null Count   Dtype  \n",
            "---  ------   --------------   -----  \n",
            " 0   id       100000 non-null  object \n",
            " 1   f0       100000 non-null  float64\n",
            " 2   f1       100000 non-null  float64\n",
            " 3   f2       100000 non-null  float64\n",
            " 4   product  100000 non-null  float64\n",
            "dtypes: float64(4), object(1)\n",
            "memory usage: 3.8+ MB\n",
            "      id        f0        f1        f2     product\n",
            "0  txEyH  0.705745 -0.497823  1.221170  105.280062\n",
            "1  2acmU  1.334711 -0.340164  4.365080   73.037750\n",
            "2  409Wp  1.022732  0.151990  1.419926   85.265647\n",
            "3  iJLyR -0.032172  0.139033  2.978566  168.620776\n",
            "4  Xdl7t  1.988431  0.155413  4.751769  154.036647\n"
          ]
        },
        {
          "data": {
            "image/png": "[encoded data removed]",
            "text/plain": [
              "<Figure size 432x288 with 4 Axes>"
            ]
          },
          "metadata": {
            "needs_background": "light"
          },
          "output_type": "display_data"
        }
      ],
      "source": [
        "data_0.info()\n",
        "print(data_0.head())\n",
        "data_0.hist();"
      ]
    },
    {
      "cell_type": "code",
      "execution_count": null,
      "metadata": {
        "id": "Xz_M92pjbE7x",
        "outputId": "b8e1e338-54ad-4c37-f4aa-0b2eb02858ee"
      },
      "outputs": [
        {
          "name": "stdout",
          "output_type": "stream",
          "text": [
            "<class 'pandas.core.frame.DataFrame'>\n",
            "RangeIndex: 100000 entries, 0 to 99999\n",
            "Data columns (total 5 columns):\n",
            " #   Column   Non-Null Count   Dtype  \n",
            "---  ------   --------------   -----  \n",
            " 0   id       100000 non-null  object \n",
            " 1   f0       100000 non-null  float64\n",
            " 2   f1       100000 non-null  float64\n",
            " 3   f2       100000 non-null  float64\n",
            " 4   product  100000 non-null  float64\n",
            "dtypes: float64(4), object(1)\n",
            "memory usage: 3.8+ MB\n",
            "      id         f0         f1        f2     product\n",
            "0  kBEdx -15.001348  -8.276000 -0.005876    3.179103\n",
            "1  62mP7  14.272088  -3.475083  0.999183   26.953261\n",
            "2  vyE1P   6.263187  -5.948386  5.001160  134.766305\n",
            "3  KcrkZ -13.081196 -11.506057  4.999415  137.945408\n",
            "4  AHL4O  12.702195  -8.147433  5.004363  134.766305\n"
          ]
        },
        {
          "data": {
            "image/png": "[encoded data removed]",
            "text/plain": [
              "<Figure size 432x288 with 4 Axes>"
            ]
          },
          "metadata": {
            "needs_background": "light"
          },
          "output_type": "display_data"
        }
      ],
      "source": [
        "data_1.info()\n",
        "print(data_1.head())\n",
        "data_1.hist();"
      ]
    },
    {
      "cell_type": "code",
      "execution_count": null,
      "metadata": {
        "id": "y3Tfi32UbE7z",
        "outputId": "9a3824ee-c114-40e5-d1f6-99d24ffe649e"
      },
      "outputs": [
        {
          "name": "stdout",
          "output_type": "stream",
          "text": [
            "<class 'pandas.core.frame.DataFrame'>\n",
            "RangeIndex: 100000 entries, 0 to 99999\n",
            "Data columns (total 5 columns):\n",
            " #   Column   Non-Null Count   Dtype  \n",
            "---  ------   --------------   -----  \n",
            " 0   id       100000 non-null  object \n",
            " 1   f0       100000 non-null  float64\n",
            " 2   f1       100000 non-null  float64\n",
            " 3   f2       100000 non-null  float64\n",
            " 4   product  100000 non-null  float64\n",
            "dtypes: float64(4), object(1)\n",
            "memory usage: 3.8+ MB\n",
            "      id        f0        f1        f2     product\n",
            "0  fwXo0 -1.146987  0.963328 -0.828965   27.758673\n",
            "1  WJtFt  0.262778  0.269839 -2.530187   56.069697\n",
            "2  ovLUW  0.194587  0.289035 -5.586433   62.871910\n",
            "3  q6cA6  2.236060 -0.553760  0.930038  114.572842\n",
            "4  WPMUX -0.515993  1.716266  5.899011  149.600746\n"
          ]
        },
        {
          "data": {
            "image/png": "[encoded data removed]",
            "text/plain": [
              "<Figure size 432x288 with 4 Axes>"
            ]
          },
          "metadata": {
            "needs_background": "light"
          },
          "output_type": "display_data"
        }
      ],
      "source": [
        "data_2.info()\n",
        "print(data_2.head())\n",
        "data_2.hist();"
      ]
    },
    {
      "cell_type": "markdown",
      "metadata": {
        "id": "f57xw2mmbE71"
      },
      "source": [
        "**Вывод:** 3 файла содержат данные по 10 000 пробам нефти, каждый из которых описывается 5 признаками (4 количественных и 1 категориальных). Пропущенных значений нет. данные не нуждаются в предварительной обработке."
      ]
    },
    {
      "cell_type": "markdown",
      "metadata": {
        "id": "inZWM9YzbE73"
      },
      "source": [
        "## Обучение и проверка модели"
      ]
    },
    {
      "cell_type": "markdown",
      "metadata": {
        "id": "RAIKuiKxbE74"
      },
      "source": [
        "Разобьем данные на обучающую и валидационную выбрки в соотношении 3:1 соответственно. Выделим целевой признак."
      ]
    },
    {
      "cell_type": "code",
      "execution_count": null,
      "metadata": {
        "id": "085cj6GKbE75",
        "outputId": "db2631ec-c7c4-4f0d-80ce-cef816bda2ba"
      },
      "outputs": [
        {
          "name": "stdout",
          "output_type": "stream",
          "text": [
            "(75000, 3)\n",
            "(75000, 3)\n",
            "(75000, 3)\n",
            "(75000,)\n",
            "(75000,)\n",
            "(75000,)\n",
            "(25000, 3)\n",
            "(25000, 3)\n",
            "(25000, 3)\n",
            "(25000,)\n",
            "(25000,)\n",
            "(25000,)\n"
          ]
        }
      ],
      "source": [
        "df_train_0, df_valid_0 = train_test_split(data_0, test_size=0.25, random_state=12345)\n",
        "df_train_1, df_valid_1 = train_test_split(data_1, test_size=0.25, random_state=12345)\n",
        "df_train_2, df_valid_2 = train_test_split(data_2, test_size=0.25, random_state=12345)\n",
        "\n",
        "features_train_0 = df_train_0.drop(['product','id'],axis=1)\n",
        "target_train_0 = df_train_0['product']\n",
        "features_train_1 = df_train_1.drop(['product','id'],axis=1)\n",
        "target_train_1 = df_train_1['product']\n",
        "features_train_2 = df_train_2.drop(['product','id'],axis=1)\n",
        "target_train_2 = df_train_2['product']\n",
        "\n",
        "features_valid_0 = df_valid_0.drop(['product','id'],axis=1)\n",
        "target_valid_0 = df_valid_0['product']\n",
        "features_valid_1 = df_valid_1.drop(['product','id'],axis=1)\n",
        "target_valid_1 = df_valid_1['product']\n",
        "features_valid_2 = df_valid_2.drop(['product','id'],axis=1)\n",
        "target_valid_2 = df_valid_2['product']\n",
        "\n",
        "print(features_train_0.shape)\n",
        "print(features_train_1.shape)\n",
        "print(features_train_2.shape)\n",
        "print(target_train_0.shape)\n",
        "print(target_train_1.shape)\n",
        "print(target_train_2.shape)\n",
        "print(features_valid_0.shape)\n",
        "print(features_valid_1.shape)\n",
        "print(features_valid_2.shape)\n",
        "print(target_valid_0.shape)\n",
        "print(target_valid_1.shape)\n",
        "print(target_valid_2.shape)"
      ]
    },
    {
      "cell_type": "markdown",
      "metadata": {
        "id": "MfVF0v9TbE76"
      },
      "source": [
        "Обучим модели с помощью линейной регресии."
      ]
    },
    {
      "cell_type": "code",
      "execution_count": null,
      "metadata": {
        "id": "cSjoLtjubE78"
      },
      "outputs": [],
      "source": [
        "model_0 = LinearRegression()\n",
        "model_1 = LinearRegression()\n",
        "model_2 = LinearRegression()"
      ]
    },
    {
      "cell_type": "code",
      "execution_count": null,
      "metadata": {
        "id": "UYdCsWRwbE78",
        "outputId": "ae31dbf4-5d34-4c3a-9885-abadd5d2c3a8"
      },
      "outputs": [
        {
          "data": {
            "text/plain": [
              "LinearRegression()"
            ]
          },
          "execution_count": 41,
          "metadata": {},
          "output_type": "execute_result"
        }
      ],
      "source": [
        "model_0.fit(features_train_0,target_train_0)\n",
        "model_1.fit(features_train_1,target_train_1)\n",
        "model_2.fit(features_train_2,target_train_2)"
      ]
    },
    {
      "cell_type": "markdown",
      "metadata": {
        "id": "l_KtR1AdbE79"
      },
      "source": [
        "Предскажем количество продукта для валидационной выборки, найдем средний запас предсказанного сырья и RMSE модели."
      ]
    },
    {
      "cell_type": "code",
      "execution_count": null,
      "metadata": {
        "id": "nTFT-2habE79",
        "outputId": "f3d31d3a-7683-4eac-82b2-31406c91b33e"
      },
      "outputs": [
        {
          "name": "stdout",
          "output_type": "stream",
          "text": [
            "Model 0 rmse: 37.5794217150813\n",
            "Model 0 mean predicted: 92.59256778438035\n",
            "Model 0 mean true: 92.07859674082927\n",
            "Model 1 rmse: 0.893099286775617\n",
            "Model 1 mean predicted: 68.728546895446\n",
            "Model 1 mean true: 68.72313602435997\n",
            "Model 2 rmse: 40.02970873393434\n",
            "Model 2 mean predicted: 94.96504596800489\n",
            "Model 2 mean true: 94.88423280885438\n"
          ]
        }
      ],
      "source": [
        "predicted_valid_0 = model_0.predict(features_valid_0)\n",
        "predicted_valid_1 = model_1.predict(features_valid_1)\n",
        "predicted_valid_2 = model_2.predict(features_valid_2)\n",
        "\n",
        "mse_0 = mean_squared_error(target_valid_0,predicted_valid_0)\n",
        "rmse_0 = mse_0 ** 0.5\n",
        "print('Model 0 rmse:', rmse_0)\n",
        "print('Model 0 mean predicted:', predicted_valid_0.mean())\n",
        "print('Model 0 mean true:', target_valid_0.mean())\n",
        "\n",
        "mse_1 = mean_squared_error(target_valid_1,predicted_valid_1)\n",
        "rmse_1 = mse_1 ** 0.5\n",
        "print('Model 1 rmse:', rmse_1)\n",
        "print('Model 1 mean predicted:', predicted_valid_1.mean())\n",
        "print('Model 1 mean true:', target_valid_1.mean())\n",
        "\n",
        "mse_2 = mean_squared_error(target_valid_2,predicted_valid_2)\n",
        "rmse_2 = mse_2 ** 0.5\n",
        "print('Model 2 rmse:', rmse_2)\n",
        "print('Model 2 mean predicted:', predicted_valid_2.mean())\n",
        "print('Model 2 mean true:', target_valid_2.mean())"
      ]
    },
    {
      "cell_type": "markdown",
      "metadata": {
        "id": "GTFVLFsGbE7-"
      },
      "source": [
        "Известно, что чем ниже RMSE, тем лучше. Таким образом, у первого и третьего региона достаточно большое среднеквадратичная ошибка, тогда как у второго региона она близка к нулю. Это означает, что модель предсказывает наиболее близкие к правильным ответы."
      ]
    },
    {
      "cell_type": "markdown",
      "metadata": {
        "id": "QCVnNa0KbE7-"
      },
      "source": [
        "**Вывод:** данные были разбиты на обучающие и тестовые выборки, были обучены модели с помощью линейного регрессии и произведена их оценка."
      ]
    },
    {
      "cell_type": "markdown",
      "metadata": {
        "id": "jxnb7EW8bE7_"
      },
      "source": [
        "## Подготовка к расчёту прибыли"
      ]
    },
    {
      "cell_type": "markdown",
      "metadata": {
        "id": "O7uSW5JCbE7_"
      },
      "source": [
        "Рассчитаем достаточный объём сырья для безубыточной разработки новой скважины."
      ]
    },
    {
      "cell_type": "code",
      "execution_count": null,
      "metadata": {
        "id": "xUKmPIqObE7_",
        "outputId": "cfe72b21-0f80-4660-954b-941eac396a7b"
      },
      "outputs": [
        {
          "data": {
            "text/plain": [
              "111.11111111111111"
            ]
          },
          "execution_count": 43,
          "metadata": {},
          "output_type": "execute_result"
        }
      ],
      "source": [
        "PRICE = 450 #цена за один баррель сырья\n",
        "BARRELS= 1000 # объем баррелей\n",
        "BUDGET = 10000000000 #бюджет на разработку скважин в регионе\n",
        "ALL_WELL_NUMBERS = 500 #количество исследуемых точек\n",
        "BEST_WELL_NUMBERS = 200 #количество лучших точек, выбранных с помощью машинного обучения\n",
        "\n",
        "# достаточный объём сырья для безубыточной разработки новой скважины\n",
        "sufficient_volume = BUDGET / (PRICE * BARRELS * BEST_WELL_NUMBERS)\n",
        "sufficient_volume"
      ]
    },
    {
      "cell_type": "markdown",
      "metadata": {
        "id": "-xM8mr1ebE8A"
      },
      "source": [
        "**Вывод:** был определен необходимиый минимум сырья в каждой из 200 выбранных скважин. Он бльше, чем среднее значение, которое было предсказано выше, но предсказанное количество делилось между 25 000 точками. Таким образом, отбор меньшего количства точек с наибольшем предсказанным объемомо продукта обоснован."
      ]
    },
    {
      "cell_type": "markdown",
      "metadata": {
        "id": "PFntrXBRbE8A"
      },
      "source": [
        "Напишем функцию для расчёта прибыли по выбранным скважинам и предсказаниям модели"
      ]
    },
    {
      "cell_type": "code",
      "execution_count": null,
      "metadata": {
        "id": "VqXamF6BbE8B"
      },
      "outputs": [],
      "source": [
        "target_valid_0 = pd.Series(target_valid_0).reset_index(drop=True)\n",
        "target_valid_1 = pd.Series(target_valid_1).reset_index(drop=True)\n",
        "target_valid_2 = pd.Series(target_valid_2).reset_index(drop=True)"
      ]
    },
    {
      "cell_type": "code",
      "execution_count": null,
      "metadata": {
        "id": "RkMPypaIbE8B"
      },
      "outputs": [],
      "source": [
        "predicted_valid_0 = pd.Series(predicted_valid_0)\n",
        "predicted_valid_1 = pd.Series(predicted_valid_1)\n",
        "predicted_valid_2 = pd.Series(predicted_valid_2)"
      ]
    },
    {
      "cell_type": "code",
      "execution_count": null,
      "metadata": {
        "id": "A9wQrJZZbE8B"
      },
      "outputs": [],
      "source": [
        "def profitable_well(target, prediction):\n",
        "    samples = prediction.sample(n=all_well_number, random_state=state)\n",
        "    best_predictions = samples.sort_values(ascending=False)[:best_well_numbers] # Выберим скважины с максимальными значениями предсказаний\n",
        "    best_wells = target[best_predictions.index] \n",
        "    common_volume = best_wells.sum() # Просуммируем целевое значение объёма сырья, соответствующее этим предсказаниям.\n",
        "    profit = common_volume * price * barrels - budget # Рассчитаем прибыль для полученного объёма сырья\n",
        "    return profit"
      ]
    },
    {
      "cell_type": "markdown",
      "metadata": {
        "id": "y4KwLJKYbE8C"
      },
      "source": [
        "## Расчёт прибыли и рисков "
      ]
    },
    {
      "cell_type": "markdown",
      "metadata": {
        "id": "mCpRrpgPbE8C"
      },
      "source": [
        "Применим технику Bootstrap с 1000 выборок, чтобы найти распределение прибыли и 95%-доверительный интервал. Для этого напишем функцию."
      ]
    },
    {
      "cell_type": "code",
      "execution_count": null,
      "metadata": {
        "id": "ZVnNelMTbE8C"
      },
      "outputs": [],
      "source": [
        "def risks (target, predictions):\n",
        "    bstrsmpl = 1000 # количество выборок\n",
        "    alpha = 0.05 #порог для обпределения доверительного интервала\n",
        "    \n",
        "    profits =[]\n",
        "    for i in range(bstrsmpl):\n",
        "        profit = profitable_well(target, predictions)\n",
        "        profits.append(profit)\n",
        "        \n",
        "    profits = pd.Series(profits)\n",
        "    profits_mean = profits.mean()\n",
        "    \n",
        "    left_confidence_interval = profits.quantile(alpha/2) #нижний порог доверительного интервала\n",
        "    right_confidence_interval = profits.quantile(1-alpha/2) #верхний порог доверительного интервала\n",
        "    \n",
        "              \n",
        "    risk = sum(profits < 0) * 100 / bstrsmpl\n",
        "    \n",
        "    print(f'Средняя прибыль в регионе: {profits_mean} млрд. руб.')\n",
        "    print(f'2,5%-квантиль: {left_confidence_interval} млрд. руб.')\n",
        "    print(f'97,5%-квантиль: {right_confidence_interval} млрд. руб.')\n",
        "    print(f'Риск убытка: {risk}%')\n",
        "    return "
      ]
    },
    {
      "cell_type": "code",
      "execution_count": null,
      "metadata": {
        "id": "U3VLHnJxbE8D",
        "outputId": "d5c8574b-81ab-49f6-8100-200d4216ffb4"
      },
      "outputs": [
        {
          "name": "stdout",
          "output_type": "stream",
          "text": [
            "Средняя прибыль в регионе: 377125173.91322047 млрд. руб.\n",
            "2,5%-квантиль: -136550085.2169606 млрд. руб.\n",
            "97,5%-квантиль: 907783093.784694 млрд. руб.\n",
            "Риск убытка: 7.4%\n"
          ]
        }
      ],
      "source": [
        "risks(target_valid_0, predicted_valid_0)"
      ]
    },
    {
      "cell_type": "code",
      "execution_count": null,
      "metadata": {
        "id": "ttRtCFm4bE8E",
        "outputId": "e2f0a39d-7b53-48fc-dd27-b1f02d75dc16"
      },
      "outputs": [
        {
          "name": "stdout",
          "output_type": "stream",
          "text": [
            "Средняя прибыль в регионе: 451340621.4063827 млрд. руб.\n",
            "2,5%-квантиль: 79500066.86412978 млрд. руб.\n",
            "97,5%-квантиль: 837299294.0769546 млрд. руб.\n",
            "Риск убытка: 1.0%\n"
          ]
        }
      ],
      "source": [
        "risks(target_valid_1, predicted_valid_1)"
      ]
    },
    {
      "cell_type": "code",
      "execution_count": null,
      "metadata": {
        "id": "wH1OKyc_bE8E",
        "outputId": "d3220333-3718-4b1f-a98d-ca0e50c79bb0"
      },
      "outputs": [
        {
          "name": "stdout",
          "output_type": "stream",
          "text": [
            "Средняя прибыль в регионе: 398475090.07520163 млрд. руб.\n",
            "2,5%-квантиль: -150166734.15211362 млрд. руб.\n",
            "97,5%-квантиль: 918929361.5729996 млрд. руб.\n",
            "Риск убытка: 7.4%\n"
          ]
        }
      ],
      "source": [
        "risks(target_valid_2, predicted_valid_2)"
      ]
    },
    {
      "cell_type": "markdown",
      "metadata": {
        "id": "8PlFlc6XbE8F"
      },
      "source": [
        "**Вывод**\n",
        "По заданию необходимо оставить лишь те регионы, в которых вероятность убытков меньше 2.5%. По полученным данным такой риск есть только у второго региона."
      ]
    },
    {
      "cell_type": "markdown",
      "metadata": {
        "id": "jNclTYsnbE8F"
      },
      "source": [
        "## Вывод"
      ]
    },
    {
      "cell_type": "markdown",
      "metadata": {
        "id": "mdGZoxuWbE8F"
      },
      "source": [
        "В данном проекте рассматривались пробы нефти в трёх регионах: в каждом 10 000 месторождений, где измерили качество нефти и объём её запасов. Было необходимо построить модель машинного обучения, которая поможет определить регион, где добыча принесёт наибольшую прибыль.\n",
        "\n",
        "3 предоставленных файла содержат данные по 10 000 пробам нефти, каждый из которых описывается 5 признаками (4 количественных и 1 категориальных). Пропущенных значений не было обнаружено. Данные не подвергались предварительной обработке.\n",
        "\n",
        "Данные были разбиты на обучающие и тестовые выборки, были обучены модели с помощью линейного регрессии и произведена их оценка, найдены средние предсказанные значение и RMSE.\n",
        "\n",
        "Был определен необходимиый минимум сырья в каждой из 200 выбранных скважин. Он больше, чем среднее значение, которое было предсказано выше, но предсказанное количество делилось между 25 000 точками. Таким образом, отбор меньшего количества точек с наибольшим предсказанным объемом продукта обоснован.\n",
        "\n",
        "\n",
        "\n",
        "Средняя прибыль в регионе №1:  377125174 руб.\n",
        "2,5%-квантиль: -136550085 руб.\n",
        "97,5%-квантиль: 907783094 руб.\n",
        "Риск убытка: 7.4%\n",
        "\n",
        "Средняя прибыль в регионе №2: 451340621  руб.\n",
        "2,5%-квантиль: 79500067 руб.\n",
        "97,5%-квантиль: 837299294 руб.\n",
        "Риск убытка: 1.0%\n",
        "\n",
        "Средняя прибыль в регионе №3:398475090 руб.\n",
        "2,5%-квантиль: -150166734 руб.\n",
        "97,5%-квантиль: 918929361 руб.\n",
        "Риск убытка: 7.4%\n",
        "\n",
        "По предварительному условию необходимо оставить лишь те регионы, в которых вероятность убытков меньше 2.5%. По полученным данным такой риск есть только у второго региона."
      ]
    },
    {
      "cell_type": "code",
      "execution_count": null,
      "metadata": {
        "id": "EAjkKLAdbE8H"
      },
      "outputs": [],
      "source": []
    }
  ],
  "metadata": {
    "ExecuteTimeLog": [
      {
        "duration": 399,
        "start_time": "2022-12-27T18:15:57.986Z"
      },
      {
        "duration": 69,
        "start_time": "2022-12-27T18:15:59.293Z"
      },
      {
        "duration": 1888,
        "start_time": "2022-12-27T18:16:15.181Z"
      },
      {
        "duration": 31,
        "start_time": "2022-12-27T18:17:43.926Z"
      },
      {
        "duration": 32,
        "start_time": "2022-12-27T18:17:50.280Z"
      },
      {
        "duration": 21,
        "start_time": "2022-12-27T18:18:25.739Z"
      },
      {
        "duration": 22,
        "start_time": "2022-12-27T18:18:27.760Z"
      },
      {
        "duration": 766,
        "start_time": "2022-12-27T18:19:38.124Z"
      },
      {
        "duration": 395,
        "start_time": "2022-12-27T18:19:58.297Z"
      },
      {
        "duration": 441,
        "start_time": "2022-12-27T18:20:17.275Z"
      },
      {
        "duration": 118,
        "start_time": "2022-12-27T18:30:40.385Z"
      },
      {
        "duration": 28,
        "start_time": "2022-12-27T18:30:56.592Z"
      },
      {
        "duration": 757,
        "start_time": "2022-12-27T18:31:02.033Z"
      },
      {
        "duration": 76,
        "start_time": "2022-12-27T18:31:06.038Z"
      },
      {
        "duration": 68,
        "start_time": "2022-12-27T18:32:32.143Z"
      },
      {
        "duration": 21,
        "start_time": "2022-12-27T18:32:38.246Z"
      },
      {
        "duration": 3,
        "start_time": "2022-12-27T18:33:23.081Z"
      },
      {
        "duration": 47,
        "start_time": "2022-12-27T18:36:43.767Z"
      },
      {
        "duration": 1204,
        "start_time": "2023-01-05T07:22:51.693Z"
      },
      {
        "duration": 776,
        "start_time": "2023-01-05T07:22:52.899Z"
      },
      {
        "duration": 822,
        "start_time": "2023-01-05T07:22:53.677Z"
      },
      {
        "duration": 390,
        "start_time": "2023-01-05T07:22:54.502Z"
      },
      {
        "duration": 391,
        "start_time": "2023-01-05T07:22:54.893Z"
      },
      {
        "duration": 162,
        "start_time": "2023-01-05T07:22:55.286Z"
      },
      {
        "duration": 3,
        "start_time": "2023-01-05T07:22:55.450Z"
      },
      {
        "duration": 115,
        "start_time": "2023-01-05T07:23:02.269Z"
      },
      {
        "duration": 3,
        "start_time": "2023-01-05T07:24:50.683Z"
      },
      {
        "duration": 15,
        "start_time": "2023-01-05T07:24:52.847Z"
      },
      {
        "duration": 4,
        "start_time": "2023-01-05T07:31:59.510Z"
      },
      {
        "duration": 15,
        "start_time": "2023-01-05T07:32:30.114Z"
      },
      {
        "duration": 3,
        "start_time": "2023-01-05T07:33:42.898Z"
      },
      {
        "duration": 46,
        "start_time": "2023-01-05T07:33:44.240Z"
      },
      {
        "duration": 12,
        "start_time": "2023-01-05T07:37:14.631Z"
      },
      {
        "duration": 8,
        "start_time": "2023-01-05T07:37:20.622Z"
      },
      {
        "duration": 19,
        "start_time": "2023-01-05T07:39:26.473Z"
      },
      {
        "duration": 10,
        "start_time": "2023-01-05T07:40:33.012Z"
      },
      {
        "duration": 3,
        "start_time": "2023-01-05T07:40:46.175Z"
      },
      {
        "duration": 16,
        "start_time": "2023-01-05T07:40:52.125Z"
      },
      {
        "duration": 7,
        "start_time": "2023-01-05T07:42:32.125Z"
      },
      {
        "duration": 18,
        "start_time": "2023-01-05T07:43:01.206Z"
      },
      {
        "duration": 18,
        "start_time": "2023-01-05T07:43:17.991Z"
      },
      {
        "duration": 1009,
        "start_time": "2023-01-08T10:01:17.564Z"
      },
      {
        "duration": 1508,
        "start_time": "2023-01-08T10:01:18.575Z"
      },
      {
        "duration": 741,
        "start_time": "2023-01-08T10:01:20.084Z"
      },
      {
        "duration": 332,
        "start_time": "2023-01-08T10:01:20.827Z"
      },
      {
        "duration": 303,
        "start_time": "2023-01-08T10:01:21.161Z"
      },
      {
        "duration": 128,
        "start_time": "2023-01-08T10:01:21.465Z"
      },
      {
        "duration": 3,
        "start_time": "2023-01-08T10:01:21.594Z"
      },
      {
        "duration": 119,
        "start_time": "2023-01-08T10:01:21.598Z"
      },
      {
        "duration": 195,
        "start_time": "2023-01-08T10:01:21.718Z"
      },
      {
        "duration": 4,
        "start_time": "2023-01-08T10:01:25.053Z"
      },
      {
        "duration": 4,
        "start_time": "2023-01-08T10:02:27.411Z"
      },
      {
        "duration": 2,
        "start_time": "2023-01-08T14:16:34.469Z"
      },
      {
        "duration": 8,
        "start_time": "2023-01-08T17:19:11.433Z"
      },
      {
        "duration": 7,
        "start_time": "2023-01-08T17:20:04.618Z"
      },
      {
        "duration": 3,
        "start_time": "2023-01-08T17:23:02.205Z"
      },
      {
        "duration": 4,
        "start_time": "2023-01-08T17:25:26.301Z"
      },
      {
        "duration": 71,
        "start_time": "2023-01-08T17:29:07.169Z"
      },
      {
        "duration": 70,
        "start_time": "2023-01-08T17:29:12.644Z"
      },
      {
        "duration": 69,
        "start_time": "2023-01-08T17:37:28.981Z"
      },
      {
        "duration": 4,
        "start_time": "2023-01-08T17:37:33.973Z"
      },
      {
        "duration": 102,
        "start_time": "2023-01-08T17:38:21.467Z"
      },
      {
        "duration": 4,
        "start_time": "2023-01-08T17:38:34.772Z"
      },
      {
        "duration": 4,
        "start_time": "2023-01-08T17:38:38.866Z"
      },
      {
        "duration": 19,
        "start_time": "2023-01-08T17:38:40.238Z"
      },
      {
        "duration": 9,
        "start_time": "2023-01-08T17:39:04.117Z"
      },
      {
        "duration": 6,
        "start_time": "2023-01-08T17:39:06.498Z"
      },
      {
        "duration": 4,
        "start_time": "2023-01-08T17:39:17.653Z"
      },
      {
        "duration": 4,
        "start_time": "2023-01-08T17:39:20.051Z"
      },
      {
        "duration": 1038,
        "start_time": "2023-01-08T17:39:23.064Z"
      },
      {
        "duration": 1123,
        "start_time": "2023-01-09T05:10:32.456Z"
      },
      {
        "duration": 791,
        "start_time": "2023-01-09T05:10:33.581Z"
      },
      {
        "duration": 824,
        "start_time": "2023-01-09T05:10:34.374Z"
      },
      {
        "duration": 419,
        "start_time": "2023-01-09T05:10:35.560Z"
      },
      {
        "duration": 360,
        "start_time": "2023-01-09T05:10:36.825Z"
      },
      {
        "duration": 175,
        "start_time": "2023-01-09T05:10:40.894Z"
      },
      {
        "duration": 2,
        "start_time": "2023-01-09T05:10:43.079Z"
      },
      {
        "duration": 117,
        "start_time": "2023-01-09T05:10:43.965Z"
      },
      {
        "duration": 84,
        "start_time": "2023-01-09T05:10:46.095Z"
      },
      {
        "duration": 5,
        "start_time": "2023-01-09T05:10:49.795Z"
      },
      {
        "duration": 4,
        "start_time": "2023-01-09T05:10:53.491Z"
      },
      {
        "duration": 5,
        "start_time": "2023-01-09T05:10:58.371Z"
      },
      {
        "duration": 4,
        "start_time": "2023-01-09T05:11:05.975Z"
      },
      {
        "duration": 5,
        "start_time": "2023-01-09T05:11:08.309Z"
      },
      {
        "duration": 111,
        "start_time": "2023-01-09T05:11:10.053Z"
      },
      {
        "duration": 3,
        "start_time": "2023-01-09T05:11:23.672Z"
      },
      {
        "duration": 5,
        "start_time": "2023-01-09T05:11:25.937Z"
      },
      {
        "duration": 2876,
        "start_time": "2023-01-09T05:11:27.097Z"
      },
      {
        "duration": 4,
        "start_time": "2023-01-09T05:11:45.078Z"
      },
      {
        "duration": 5,
        "start_time": "2023-01-09T05:11:47.136Z"
      },
      {
        "duration": 1124,
        "start_time": "2023-01-09T05:11:53.753Z"
      },
      {
        "duration": 5,
        "start_time": "2023-01-09T05:17:49.140Z"
      },
      {
        "duration": 1142,
        "start_time": "2023-01-09T05:17:50.538Z"
      },
      {
        "duration": 5,
        "start_time": "2023-01-09T05:18:01.821Z"
      },
      {
        "duration": 1133,
        "start_time": "2023-01-09T05:18:03.380Z"
      },
      {
        "duration": 5,
        "start_time": "2023-01-09T05:18:19.608Z"
      },
      {
        "duration": 1153,
        "start_time": "2023-01-09T05:18:20.639Z"
      },
      {
        "duration": 1112,
        "start_time": "2023-01-09T05:18:58.960Z"
      },
      {
        "duration": 1125,
        "start_time": "2023-01-09T05:19:01.799Z"
      },
      {
        "duration": 6,
        "start_time": "2023-01-09T05:58:16.266Z"
      },
      {
        "duration": 81,
        "start_time": "2023-01-09T05:59:38.698Z"
      },
      {
        "duration": 10,
        "start_time": "2023-01-09T10:24:24.022Z"
      },
      {
        "duration": 32,
        "start_time": "2023-01-09T10:24:25.580Z"
      },
      {
        "duration": 5,
        "start_time": "2023-01-09T10:24:45.299Z"
      },
      {
        "duration": 420,
        "start_time": "2023-01-09T10:24:45.307Z"
      },
      {
        "duration": 392,
        "start_time": "2023-01-09T10:24:45.729Z"
      },
      {
        "duration": 374,
        "start_time": "2023-01-09T10:24:46.123Z"
      },
      {
        "duration": 380,
        "start_time": "2023-01-09T10:24:46.499Z"
      },
      {
        "duration": 82,
        "start_time": "2023-01-09T10:24:46.881Z"
      },
      {
        "duration": 3,
        "start_time": "2023-01-09T10:24:46.977Z"
      },
      {
        "duration": 32,
        "start_time": "2023-01-09T10:24:46.982Z"
      },
      {
        "duration": 67,
        "start_time": "2023-01-09T10:24:47.016Z"
      },
      {
        "duration": 92,
        "start_time": "2023-01-09T10:24:47.087Z"
      },
      {
        "duration": 11,
        "start_time": "2023-01-09T10:24:47.181Z"
      },
      {
        "duration": 6,
        "start_time": "2023-01-09T10:24:47.194Z"
      },
      {
        "duration": 9,
        "start_time": "2023-01-09T10:24:47.201Z"
      },
      {
        "duration": 5,
        "start_time": "2023-01-09T10:25:19.000Z"
      },
      {
        "duration": 1118,
        "start_time": "2023-01-09T10:25:19.815Z"
      },
      {
        "duration": 1182,
        "start_time": "2023-01-09T10:25:57.914Z"
      },
      {
        "duration": 1152,
        "start_time": "2023-01-09T10:26:00.611Z"
      },
      {
        "duration": 6,
        "start_time": "2023-01-09T10:27:01.529Z"
      },
      {
        "duration": 1114,
        "start_time": "2023-01-09T10:27:02.558Z"
      },
      {
        "duration": 6,
        "start_time": "2023-01-09T10:27:38.840Z"
      },
      {
        "duration": 1121,
        "start_time": "2023-01-09T10:27:41.103Z"
      },
      {
        "duration": 1131,
        "start_time": "2023-01-09T10:28:12.104Z"
      },
      {
        "duration": 1135,
        "start_time": "2023-01-09T10:28:15.694Z"
      },
      {
        "duration": 1206,
        "start_time": "2023-01-09T10:45:45.140Z"
      },
      {
        "duration": 1157,
        "start_time": "2023-01-09T10:45:49.797Z"
      },
      {
        "duration": 5,
        "start_time": "2023-01-09T10:48:22.026Z"
      },
      {
        "duration": 1221,
        "start_time": "2023-01-09T10:48:23.192Z"
      },
      {
        "duration": 5,
        "start_time": "2023-01-09T10:48:54.633Z"
      },
      {
        "duration": 1130,
        "start_time": "2023-01-09T10:48:55.825Z"
      },
      {
        "duration": 9,
        "start_time": "2023-01-09T12:58:42.544Z"
      },
      {
        "duration": 1235,
        "start_time": "2023-01-09T12:58:43.898Z"
      },
      {
        "duration": 1217,
        "start_time": "2023-01-09T12:58:46.945Z"
      },
      {
        "duration": 1192,
        "start_time": "2023-01-09T12:58:49.998Z"
      }
    ],
    "kernelspec": {
      "display_name": "Python 3 (ipykernel)",
      "language": "python",
      "name": "python3"
    },
    "language_info": {
      "codemirror_mode": {
        "name": "ipython",
        "version": 3
      },
      "file_extension": ".py",
      "mimetype": "text/x-python",
      "name": "python",
      "nbconvert_exporter": "python",
      "pygments_lexer": "ipython3",
      "version": "3.9.5"
    },
    "toc": {
      "base_numbering": 1,
      "nav_menu": {
        "height": "146px",
        "width": "216px"
      },
      "number_sections": true,
      "sideBar": true,
      "skip_h1_title": true,
      "title_cell": "Table of Contents",
      "title_sidebar": "Contents",
      "toc_cell": false,
      "toc_position": {},
      "toc_section_display": true,
      "toc_window_display": false
    },
    "colab": {
      "provenance": []
    }
  },
  "nbformat": 4,
  "nbformat_minor": 0
}